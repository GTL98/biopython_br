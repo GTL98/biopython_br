{
 "cells": [
  {
   "cell_type": "markdown",
   "metadata": {},
   "source": [
    "# Capítulo 4 - Objetos de anotação de sequência"
   ]
  },
  {
   "cell_type": "markdown",
   "metadata": {},
   "source": [
    "No Capítulo 3 (https://github.com/GTL98/biopython_br/tree/main/Cap%203%20-%20Objetos%20de%20Sequ%C3%AAncia) foi introduzida as classes de sequência. \"Acima\" das classes **Seq** está a classe de Registro de Sequência, ou **SeqRecord**, definida pelo módulo `Bio.SeqRecord`. Essa classe tem ferramentas de nível superior como identificadores e recursos (como os objetos **SeqFeature**) associados a sequência e usado ao longo da interface de entrada/saída do módulo `Bio.SeqIO` (mais detalhes no Capítulo 5: ***link do capítulo 5***).\n",
    "\n",
    "Se você trabalhará somente com arquivos FASTA, você provavelmente pulará essa parte por agora. Mas se por outro lado você usar arquivos de sequências com ricas anotações, como GenBank ou EMBL, as informações a seguir são de suma importância.\n",
    "\n",
    "Esse capítulo deverá explicar muitas coisas que os objetos **SeqRecord** e **SeqFeature** podem fazer. Você também está convidado a ler documentação online do objeto **SeqRecord** (https://biopython.org/docs/1.79/api/Bio.SeqRecord.html) e do objeto **SeqFeature** (https://biopython.org/docs/1.79/api/Bio.SeqFeature.html).\n",
    "\n",
    "Caso tenha alguma dúvida, basta chamar o método **help** do Python:"
   ]
  },
  {
   "cell_type": "code",
   "execution_count": 1,
   "metadata": {
    "scrolled": true
   },
   "outputs": [
    {
     "name": "stdout",
     "output_type": "stream",
     "text": [
      "Help on class SeqRecord in module Bio.SeqRecord:\n",
      "\n",
      "class SeqRecord(builtins.object)\n",
      " |  SeqRecord(seq, id='<unknown id>', name='<unknown name>', description='<unknown description>', dbxrefs=None, features=None, annotations=None, letter_annotations=None)\n",
      " |  \n",
      " |  A SeqRecord object holds a sequence and information about it.\n",
      " |  \n",
      " |  Main attributes:\n",
      " |   - id          - Identifier such as a locus tag (string)\n",
      " |   - seq         - The sequence itself (Seq object or similar)\n",
      " |  \n",
      " |  Additional attributes:\n",
      " |   - name        - Sequence name, e.g. gene name (string)\n",
      " |   - description - Additional text (string)\n",
      " |   - dbxrefs     - List of database cross references (list of strings)\n",
      " |   - features    - Any (sub)features defined (list of SeqFeature objects)\n",
      " |   - annotations - Further information about the whole sequence (dictionary).\n",
      " |     Most entries are strings, or lists of strings.\n",
      " |   - letter_annotations - Per letter/symbol annotation (restricted\n",
      " |     dictionary). This holds Python sequences (lists, strings\n",
      " |     or tuples) whose length matches that of the sequence.\n",
      " |     A typical use would be to hold a list of integers\n",
      " |     representing sequencing quality scores, or a string\n",
      " |     representing the secondary structure.\n",
      " |  \n",
      " |  You will typically use Bio.SeqIO to read in sequences from files as\n",
      " |  SeqRecord objects.  However, you may want to create your own SeqRecord\n",
      " |  objects directly (see the __init__ method for further details):\n",
      " |  \n",
      " |  >>> from Bio.Seq import Seq\n",
      " |  >>> from Bio.SeqRecord import SeqRecord\n",
      " |  >>> record = SeqRecord(Seq(\"MKQHKAMIVALIVICITAVVAALVTRKDLCEVHIRTGQTEVAVF\"),\n",
      " |  ...                    id=\"YP_025292.1\", name=\"HokC\",\n",
      " |  ...                    description=\"toxic membrane protein\")\n",
      " |  >>> print(record)\n",
      " |  ID: YP_025292.1\n",
      " |  Name: HokC\n",
      " |  Description: toxic membrane protein\n",
      " |  Number of features: 0\n",
      " |  Seq('MKQHKAMIVALIVICITAVVAALVTRKDLCEVHIRTGQTEVAVF')\n",
      " |  \n",
      " |  If you want to save SeqRecord objects to a sequence file, use Bio.SeqIO\n",
      " |  for this.  For the special case where you want the SeqRecord turned into\n",
      " |  a string in a particular file format there is a format method which uses\n",
      " |  Bio.SeqIO internally:\n",
      " |  \n",
      " |  >>> print(record.format(\"fasta\"))\n",
      " |  >YP_025292.1 toxic membrane protein\n",
      " |  MKQHKAMIVALIVICITAVVAALVTRKDLCEVHIRTGQTEVAVF\n",
      " |  <BLANKLINE>\n",
      " |  \n",
      " |  You can also do things like slicing a SeqRecord, checking its length, etc\n",
      " |  \n",
      " |  >>> len(record)\n",
      " |  44\n",
      " |  >>> edited = record[:10] + record[11:]\n",
      " |  >>> print(edited.seq)\n",
      " |  MKQHKAMIVAIVICITAVVAALVTRKDLCEVHIRTGQTEVAVF\n",
      " |  >>> print(record.seq)\n",
      " |  MKQHKAMIVALIVICITAVVAALVTRKDLCEVHIRTGQTEVAVF\n",
      " |  \n",
      " |  Methods defined here:\n",
      " |  \n",
      " |  __add__(self, other)\n",
      " |      Add another sequence or string to this sequence.\n",
      " |      \n",
      " |      The other sequence can be a SeqRecord object, a Seq object (or\n",
      " |      similar, e.g. a MutableSeq) or a plain Python string. If you add\n",
      " |      a plain string or a Seq (like) object, the new SeqRecord will simply\n",
      " |      have this appended to the existing data. However, any per letter\n",
      " |      annotation will be lost:\n",
      " |      \n",
      " |      >>> from Bio import SeqIO\n",
      " |      >>> record = SeqIO.read(\"Quality/solexa_faked.fastq\", \"fastq-solexa\")\n",
      " |      >>> print(\"%s %s\" % (record.id, record.seq))\n",
      " |      slxa_0001_1_0001_01 ACGTACGTACGTACGTACGTACGTACGTACGTACGTACGTNNNNNN\n",
      " |      >>> print(list(record.letter_annotations))\n",
      " |      ['solexa_quality']\n",
      " |      \n",
      " |      >>> new = record + \"ACT\"\n",
      " |      >>> print(\"%s %s\" % (new.id, new.seq))\n",
      " |      slxa_0001_1_0001_01 ACGTACGTACGTACGTACGTACGTACGTACGTACGTACGTNNNNNNACT\n",
      " |      >>> print(list(new.letter_annotations))\n",
      " |      []\n",
      " |      \n",
      " |      The new record will attempt to combine the annotation, but for any\n",
      " |      ambiguities (e.g. different names) it defaults to omitting that\n",
      " |      annotation.\n",
      " |      \n",
      " |      >>> from Bio import SeqIO\n",
      " |      >>> with open(\"GenBank/pBAD30.gb\") as handle:\n",
      " |      ...     plasmid = SeqIO.read(handle, \"gb\")\n",
      " |      >>> print(\"%s %i\" % (plasmid.id, len(plasmid)))\n",
      " |      pBAD30 4923\n",
      " |      \n",
      " |      Now let's cut the plasmid into two pieces, and join them back up the\n",
      " |      other way round (i.e. shift the starting point on this plasmid, have\n",
      " |      a look at the annotated features in the original file to see why this\n",
      " |      particular split point might make sense):\n",
      " |      \n",
      " |      >>> left = plasmid[:3765]\n",
      " |      >>> right = plasmid[3765:]\n",
      " |      >>> new = right + left\n",
      " |      >>> print(\"%s %i\" % (new.id, len(new)))\n",
      " |      pBAD30 4923\n",
      " |      >>> str(new.seq) == str(right.seq + left.seq)\n",
      " |      True\n",
      " |      >>> len(new.features) == len(left.features) + len(right.features)\n",
      " |      True\n",
      " |      \n",
      " |      When we add the left and right SeqRecord objects, their annotation\n",
      " |      is all consistent, so it is all conserved in the new SeqRecord:\n",
      " |      \n",
      " |      >>> new.id == left.id == right.id == plasmid.id\n",
      " |      True\n",
      " |      >>> new.name == left.name == right.name == plasmid.name\n",
      " |      True\n",
      " |      >>> new.description == plasmid.description\n",
      " |      True\n",
      " |      >>> new.annotations == left.annotations == right.annotations\n",
      " |      True\n",
      " |      >>> new.letter_annotations == plasmid.letter_annotations\n",
      " |      True\n",
      " |      >>> new.dbxrefs == left.dbxrefs == right.dbxrefs\n",
      " |      True\n",
      " |      \n",
      " |      However, we should point out that when we sliced the SeqRecord,\n",
      " |      any annotations dictionary or dbxrefs list entries were lost.\n",
      " |      You can explicitly copy them like this:\n",
      " |      \n",
      " |      >>> new.annotations = plasmid.annotations.copy()\n",
      " |      >>> new.dbxrefs = plasmid.dbxrefs[:]\n",
      " |  \n",
      " |  __bool__(self)\n",
      " |      Boolean value of an instance of this class (True).\n",
      " |      \n",
      " |      This behaviour is for backwards compatibility, since until the\n",
      " |      __len__ method was added, a SeqRecord always evaluated as True.\n",
      " |      \n",
      " |      Note that in comparison, a Seq object will evaluate to False if it\n",
      " |      has a zero length sequence.\n",
      " |      \n",
      " |      WARNING: The SeqRecord may in future evaluate to False when its\n",
      " |      sequence is of zero length (in order to better match the Seq\n",
      " |      object behaviour)!\n",
      " |  \n",
      " |  __contains__(self, char)\n",
      " |      Implement the 'in' keyword, searches the sequence.\n",
      " |      \n",
      " |      e.g.\n",
      " |      \n",
      " |      >>> from Bio import SeqIO\n",
      " |      >>> record = SeqIO.read(\"Fasta/sweetpea.nu\", \"fasta\")\n",
      " |      >>> \"GAATTC\" in record\n",
      " |      False\n",
      " |      >>> \"AAA\" in record\n",
      " |      True\n",
      " |      \n",
      " |      This essentially acts as a proxy for using \"in\" on the sequence:\n",
      " |      \n",
      " |      >>> \"GAATTC\" in record.seq\n",
      " |      False\n",
      " |      >>> \"AAA\" in record.seq\n",
      " |      True\n",
      " |      \n",
      " |      Note that you can also use Seq objects as the query,\n",
      " |      \n",
      " |      >>> from Bio.Seq import Seq\n",
      " |      >>> Seq(\"AAA\") in record\n",
      " |      True\n",
      " |      \n",
      " |      See also the Seq object's __contains__ method.\n",
      " |  \n",
      " |  __eq__(self, other)\n",
      " |      Define the equal-to operand (not implemented).\n",
      " |  \n",
      " |  __format__(self, format_spec)\n",
      " |      Return the record as a string in the specified file format.\n",
      " |      \n",
      " |      This method supports the Python format() function and f-strings.\n",
      " |      The format_spec should be a lower case string supported by\n",
      " |      Bio.SeqIO as a text output file format. Requesting a binary file\n",
      " |      format raises a ValueError. e.g.\n",
      " |      \n",
      " |      >>> from Bio.Seq import Seq\n",
      " |      >>> from Bio.SeqRecord import SeqRecord\n",
      " |      >>> record = SeqRecord(Seq(\"MKQHKAMIVALIVICITAVVAALVTRKDLCEVHIRTGQTEVAVF\"),\n",
      " |      ...                    id=\"YP_025292.1\", name=\"HokC\",\n",
      " |      ...                    description=\"toxic membrane protein\")\n",
      " |      ...\n",
      " |      >>> format(record, \"fasta\")\n",
      " |      '>YP_025292.1 toxic membrane protein\\nMKQHKAMIVALIVICITAVVAALVTRKDLCEVHIRTGQTEVAVF\\n'\n",
      " |      >>> print(f\"Here is {record.id} in FASTA format:\\n{record:fasta}\")\n",
      " |      Here is YP_025292.1 in FASTA format:\n",
      " |      >YP_025292.1 toxic membrane protein\n",
      " |      MKQHKAMIVALIVICITAVVAALVTRKDLCEVHIRTGQTEVAVF\n",
      " |      <BLANKLINE>\n",
      " |      \n",
      " |      See also the SeqRecord's format() method.\n",
      " |  \n",
      " |  __ge__(self, other)\n",
      " |      Define the greater-than-or-equal-to operand (not implemented).\n",
      " |  \n",
      " |  __getitem__(self, index)\n",
      " |      Return a sub-sequence or an individual letter.\n",
      " |      \n",
      " |      Slicing, e.g. my_record[5:10], returns a new SeqRecord for\n",
      " |      that sub-sequence with some annotation preserved as follows:\n",
      " |      \n",
      " |      * The name, id and description are kept as-is.\n",
      " |      * Any per-letter-annotations are sliced to match the requested\n",
      " |        sub-sequence.\n",
      " |      * Unless a stride is used, all those features which fall fully\n",
      " |        within the subsequence are included (with their locations\n",
      " |        adjusted accordingly). If you want to preserve any truncated\n",
      " |        features (e.g. GenBank/EMBL source features), you must\n",
      " |        explicitly add them to the new SeqRecord yourself.\n",
      " |      * With the exception of any molecule type, the annotations\n",
      " |        dictionary and the dbxrefs list are not used for the new\n",
      " |        SeqRecord, as in general they may not apply to the\n",
      " |        subsequence. If you want to preserve them, you must explicitly\n",
      " |        copy them to the new SeqRecord yourself.\n",
      " |      \n",
      " |      Using an integer index, e.g. my_record[5] is shorthand for\n",
      " |      extracting that letter from the sequence, my_record.seq[5].\n",
      " |      \n",
      " |      For example, consider this short protein and its secondary\n",
      " |      structure as encoded by the PDB (e.g. H for alpha helices),\n",
      " |      plus a simple feature for its histidine self phosphorylation\n",
      " |      site:\n",
      " |      \n",
      " |      >>> from Bio.Seq import Seq\n",
      " |      >>> from Bio.SeqRecord import SeqRecord\n",
      " |      >>> from Bio.SeqFeature import SeqFeature, FeatureLocation\n",
      " |      >>> rec = SeqRecord(Seq(\"MAAGVKQLADDRTLLMAGVSHDLRTPLTRIRLAT\"\n",
      " |      ...                     \"EMMSEQDGYLAESINKDIEECNAIIEQFIDYLR\"),\n",
      " |      ...                 id=\"1JOY\", name=\"EnvZ\",\n",
      " |      ...                 description=\"Homodimeric domain of EnvZ from E. coli\")\n",
      " |      >>> rec.letter_annotations[\"secondary_structure\"] = \"  S  SSSSSSHHHHHTTTHHHHHHHHHHHHHHHHHHHHHHTHHHHHHHHHHHHHHHHHHHHHTT  \"\n",
      " |      >>> rec.features.append(SeqFeature(FeatureLocation(20, 21),\n",
      " |      ...                     type = \"Site\"))\n",
      " |      \n",
      " |      Now let's have a quick look at the full record,\n",
      " |      \n",
      " |      >>> print(rec)\n",
      " |      ID: 1JOY\n",
      " |      Name: EnvZ\n",
      " |      Description: Homodimeric domain of EnvZ from E. coli\n",
      " |      Number of features: 1\n",
      " |      Per letter annotation for: secondary_structure\n",
      " |      Seq('MAAGVKQLADDRTLLMAGVSHDLRTPLTRIRLATEMMSEQDGYLAESINKDIEE...YLR')\n",
      " |      >>> rec.letter_annotations[\"secondary_structure\"]\n",
      " |      '  S  SSSSSSHHHHHTTTHHHHHHHHHHHHHHHHHHHHHHTHHHHHHHHHHHHHHHHHHHHHTT  '\n",
      " |      >>> print(rec.features[0].location)\n",
      " |      [20:21]\n",
      " |      \n",
      " |      Now let's take a sub sequence, here chosen as the first (fractured)\n",
      " |      alpha helix which includes the histidine phosphorylation site:\n",
      " |      \n",
      " |      >>> sub = rec[11:41]\n",
      " |      >>> print(sub)\n",
      " |      ID: 1JOY\n",
      " |      Name: EnvZ\n",
      " |      Description: Homodimeric domain of EnvZ from E. coli\n",
      " |      Number of features: 1\n",
      " |      Per letter annotation for: secondary_structure\n",
      " |      Seq('RTLLMAGVSHDLRTPLTRIRLATEMMSEQD')\n",
      " |      >>> sub.letter_annotations[\"secondary_structure\"]\n",
      " |      'HHHHHTTTHHHHHHHHHHHHHHHHHHHHHH'\n",
      " |      >>> print(sub.features[0].location)\n",
      " |      [9:10]\n",
      " |      \n",
      " |      You can also of course omit the start or end values, for\n",
      " |      example to get the first ten letters only:\n",
      " |      \n",
      " |      >>> print(rec[:10])\n",
      " |      ID: 1JOY\n",
      " |      Name: EnvZ\n",
      " |      Description: Homodimeric domain of EnvZ from E. coli\n",
      " |      Number of features: 0\n",
      " |      Per letter annotation for: secondary_structure\n",
      " |      Seq('MAAGVKQLAD')\n",
      " |      \n",
      " |      Or for the last ten letters:\n",
      " |      \n",
      " |      >>> print(rec[-10:])\n",
      " |      ID: 1JOY\n",
      " |      Name: EnvZ\n",
      " |      Description: Homodimeric domain of EnvZ from E. coli\n",
      " |      Number of features: 0\n",
      " |      Per letter annotation for: secondary_structure\n",
      " |      Seq('IIEQFIDYLR')\n",
      " |      \n",
      " |      If you omit both, then you get a copy of the original record (although\n",
      " |      lacking the annotations and dbxrefs):\n",
      " |      \n",
      " |      >>> print(rec[:])\n",
      " |      ID: 1JOY\n",
      " |      Name: EnvZ\n",
      " |      Description: Homodimeric domain of EnvZ from E. coli\n",
      " |      Number of features: 1\n",
      " |      Per letter annotation for: secondary_structure\n",
      " |      Seq('MAAGVKQLADDRTLLMAGVSHDLRTPLTRIRLATEMMSEQDGYLAESINKDIEE...YLR')\n",
      " |      \n",
      " |      Finally, indexing with a simple integer is shorthand for pulling out\n",
      " |      that letter from the sequence directly:\n",
      " |      \n",
      " |      >>> rec[5]\n",
      " |      'K'\n",
      " |      >>> rec.seq[5]\n",
      " |      'K'\n",
      " |  \n",
      " |  __gt__(self, other)\n",
      " |      Define the greater-than operand (not implemented).\n",
      " |  \n",
      " |  __init__(self, seq, id='<unknown id>', name='<unknown name>', description='<unknown description>', dbxrefs=None, features=None, annotations=None, letter_annotations=None)\n",
      " |      Create a SeqRecord.\n",
      " |      \n",
      " |      Arguments:\n",
      " |       - seq         - Sequence, required (Seq or MutableSeq)\n",
      " |       - id          - Sequence identifier, recommended (string)\n",
      " |       - name        - Sequence name, optional (string)\n",
      " |       - description - Sequence description, optional (string)\n",
      " |       - dbxrefs     - Database cross references, optional (list of strings)\n",
      " |       - features    - Any (sub)features, optional (list of SeqFeature objects)\n",
      " |       - annotations - Dictionary of annotations for the whole sequence\n",
      " |       - letter_annotations - Dictionary of per-letter-annotations, values\n",
      " |         should be strings, list or tuples of the same length as the full\n",
      " |         sequence.\n",
      " |      \n",
      " |      You will typically use Bio.SeqIO to read in sequences from files as\n",
      " |      SeqRecord objects.  However, you may want to create your own SeqRecord\n",
      " |      objects directly.\n",
      " |      \n",
      " |      Note that while an id is optional, we strongly recommend you supply a\n",
      " |      unique id string for each record.  This is especially important\n",
      " |      if you wish to write your sequences to a file.\n",
      " |      \n",
      " |      You can create a 'blank' SeqRecord object, and then populate the\n",
      " |      attributes later.\n",
      " |  \n",
      " |  __iter__(self)\n",
      " |      Iterate over the letters in the sequence.\n",
      " |      \n",
      " |      For example, using Bio.SeqIO to read in a protein FASTA file:\n",
      " |      \n",
      " |      >>> from Bio import SeqIO\n",
      " |      >>> record = SeqIO.read(\"Fasta/loveliesbleeding.pro\", \"fasta\")\n",
      " |      >>> for amino in record:\n",
      " |      ...     print(amino)\n",
      " |      ...     if amino == \"L\": break\n",
      " |      X\n",
      " |      A\n",
      " |      G\n",
      " |      L\n",
      " |      >>> print(record.seq[3])\n",
      " |      L\n",
      " |      \n",
      " |      This is just a shortcut for iterating over the sequence directly:\n",
      " |      \n",
      " |      >>> for amino in record.seq:\n",
      " |      ...     print(amino)\n",
      " |      ...     if amino == \"L\": break\n",
      " |      X\n",
      " |      A\n",
      " |      G\n",
      " |      L\n",
      " |      >>> print(record.seq[3])\n",
      " |      L\n",
      " |      \n",
      " |      Note that this does not facilitate iteration together with any\n",
      " |      per-letter-annotation.  However, you can achieve that using the\n",
      " |      python zip function on the record (or its sequence) and the relevant\n",
      " |      per-letter-annotation:\n",
      " |      \n",
      " |      >>> from Bio import SeqIO\n",
      " |      >>> rec = SeqIO.read(\"Quality/solexa_faked.fastq\", \"fastq-solexa\")\n",
      " |      >>> print(\"%s %s\" % (rec.id, rec.seq))\n",
      " |      slxa_0001_1_0001_01 ACGTACGTACGTACGTACGTACGTACGTACGTACGTACGTNNNNNN\n",
      " |      >>> print(list(rec.letter_annotations))\n",
      " |      ['solexa_quality']\n",
      " |      >>> for nuc, qual in zip(rec, rec.letter_annotations[\"solexa_quality\"]):\n",
      " |      ...     if qual > 35:\n",
      " |      ...         print(\"%s %i\" % (nuc, qual))\n",
      " |      A 40\n",
      " |      C 39\n",
      " |      G 38\n",
      " |      T 37\n",
      " |      A 36\n",
      " |      \n",
      " |      You may agree that using zip(rec.seq, ...) is more explicit than using\n",
      " |      zip(rec, ...) as shown above.\n",
      " |  \n",
      " |  __le___(self, other)\n",
      " |      Define the less-than-or-equal-to operand (not implemented).\n",
      " |  \n",
      " |  __len__(self)\n",
      " |      Return the length of the sequence.\n",
      " |      \n",
      " |      For example, using Bio.SeqIO to read in a FASTA nucleotide file:\n",
      " |      \n",
      " |      >>> from Bio import SeqIO\n",
      " |      >>> record = SeqIO.read(\"Fasta/sweetpea.nu\", \"fasta\")\n",
      " |      >>> len(record)\n",
      " |      309\n",
      " |      >>> len(record.seq)\n",
      " |      309\n",
      " |  \n",
      " |  __lt__(self, other)\n",
      " |      Define the less-than operand (not implemented).\n",
      " |  \n",
      " |  __ne__(self, other)\n",
      " |      Define the not-equal-to operand (not implemented).\n",
      " |  \n",
      " |  __radd__(self, other)\n",
      " |      Add another sequence or string to this sequence (from the left).\n",
      " |      \n",
      " |      This method handles adding a Seq object (or similar, e.g. MutableSeq)\n",
      " |      or a plain Python string (on the left) to a SeqRecord (on the right).\n",
      " |      See the __add__ method for more details, but for example:\n",
      " |      \n",
      " |      >>> from Bio import SeqIO\n",
      " |      >>> record = SeqIO.read(\"Quality/solexa_faked.fastq\", \"fastq-solexa\")\n",
      " |      >>> print(\"%s %s\" % (record.id, record.seq))\n",
      " |      slxa_0001_1_0001_01 ACGTACGTACGTACGTACGTACGTACGTACGTACGTACGTNNNNNN\n",
      " |      >>> print(list(record.letter_annotations))\n",
      " |      ['solexa_quality']\n",
      " |      \n",
      " |      >>> new = \"ACT\" + record\n",
      " |      >>> print(\"%s %s\" % (new.id, new.seq))\n",
      " |      slxa_0001_1_0001_01 ACTACGTACGTACGTACGTACGTACGTACGTACGTACGTACGTNNNNNN\n",
      " |      >>> print(list(new.letter_annotations))\n",
      " |      []\n",
      " |  \n",
      " |  __repr__(self)\n",
      " |      Return a concise summary of the record for debugging (string).\n",
      " |      \n",
      " |      The python built in function repr works by calling the object's ___repr__\n",
      " |      method.  e.g.\n",
      " |      \n",
      " |      >>> from Bio.Seq import Seq\n",
      " |      >>> from Bio.SeqRecord import SeqRecord\n",
      " |      >>> rec = SeqRecord(Seq(\"MASRGVNKVILVGNLGQDPEVRYMPNGGAVANITLATSESWRDKAT\"\n",
      " |      ...                     \"GEMKEQTEWHRVVLFGKLAEVASEYLRKGSQVYIEGQLRTRKWTDQ\"\n",
      " |      ...                     \"SGQDRYTTEVVVNVGGTMQMLGGRQGGGAPAGGNIGGGQPQGGWGQ\"\n",
      " |      ...                     \"PQQPQGGNQFSGGAQSRPQQSAPAAPSNEPPMDFDDDIPF\"),\n",
      " |      ...                 id=\"NP_418483.1\", name=\"b4059\",\n",
      " |      ...                 description=\"ssDNA-binding protein\",\n",
      " |      ...                 dbxrefs=[\"ASAP:13298\", \"GI:16131885\", \"GeneID:948570\"])\n",
      " |      >>> print(repr(rec))\n",
      " |      SeqRecord(seq=Seq('MASRGVNKVILVGNLGQDPEVRYMPNGGAVANITLATSESWRDKATGEMKEQTE...IPF'), id='NP_418483.1', name='b4059', description='ssDNA-binding protein', dbxrefs=['ASAP:13298', 'GI:16131885', 'GeneID:948570'])\n",
      " |      \n",
      " |      At the python prompt you can also use this shorthand:\n",
      " |      \n",
      " |      >>> rec\n",
      " |      SeqRecord(seq=Seq('MASRGVNKVILVGNLGQDPEVRYMPNGGAVANITLATSESWRDKATGEMKEQTE...IPF'), id='NP_418483.1', name='b4059', description='ssDNA-binding protein', dbxrefs=['ASAP:13298', 'GI:16131885', 'GeneID:948570'])\n",
      " |      \n",
      " |      Note that long sequences are shown truncated. Also note that any\n",
      " |      annotations, letter_annotations and features are not shown (as they\n",
      " |      would lead to a very long string).\n",
      " |  \n",
      " |  __str__(self)\n",
      " |      Return a human readable summary of the record and its annotation (string).\n",
      " |      \n",
      " |      The python built in function str works by calling the object's ___str__\n",
      " |      method.  e.g.\n",
      " |      \n",
      " |      >>> from Bio.Seq import Seq\n",
      " |      >>> from Bio.SeqRecord import SeqRecord\n",
      " |      >>> record = SeqRecord(Seq(\"MKQHKAMIVALIVICITAVVAALVTRKDLCEVHIRTGQTEVAVF\"),\n",
      " |      ...                    id=\"YP_025292.1\", name=\"HokC\",\n",
      " |      ...                    description=\"toxic membrane protein, small\")\n",
      " |      >>> print(str(record))\n",
      " |      ID: YP_025292.1\n",
      " |      Name: HokC\n",
      " |      Description: toxic membrane protein, small\n",
      " |      Number of features: 0\n",
      " |      Seq('MKQHKAMIVALIVICITAVVAALVTRKDLCEVHIRTGQTEVAVF')\n",
      " |      \n",
      " |      In this example you don't actually need to call str explicity, as the\n",
      " |      print command does this automatically:\n",
      " |      \n",
      " |      >>> print(record)\n",
      " |      ID: YP_025292.1\n",
      " |      Name: HokC\n",
      " |      Description: toxic membrane protein, small\n",
      " |      Number of features: 0\n",
      " |      Seq('MKQHKAMIVALIVICITAVVAALVTRKDLCEVHIRTGQTEVAVF')\n",
      " |      \n",
      " |      Note that long sequences are shown truncated.\n",
      " |  \n",
      " |  format(self, format)\n",
      " |      Return the record as a string in the specified file format.\n",
      " |      \n",
      " |      The format should be a lower case string supported as an output\n",
      " |      format by Bio.SeqIO, which is used to turn the SeqRecord into a\n",
      " |      string.  e.g.\n",
      " |      \n",
      " |      >>> from Bio.Seq import Seq\n",
      " |      >>> from Bio.SeqRecord import SeqRecord\n",
      " |      >>> record = SeqRecord(Seq(\"MKQHKAMIVALIVICITAVVAALVTRKDLCEVHIRTGQTEVAVF\"),\n",
      " |      ...                    id=\"YP_025292.1\", name=\"HokC\",\n",
      " |      ...                    description=\"toxic membrane protein\")\n",
      " |      >>> record.format(\"fasta\")\n",
      " |      '>YP_025292.1 toxic membrane protein\\nMKQHKAMIVALIVICITAVVAALVTRKDLCEVHIRTGQTEVAVF\\n'\n",
      " |      >>> print(record.format(\"fasta\"))\n",
      " |      >YP_025292.1 toxic membrane protein\n",
      " |      MKQHKAMIVALIVICITAVVAALVTRKDLCEVHIRTGQTEVAVF\n",
      " |      <BLANKLINE>\n",
      " |      \n",
      " |      The Python print function automatically appends a new line, meaning\n",
      " |      in this example a blank line is shown.  If you look at the string\n",
      " |      representation you can see there is a trailing new line (shown as\n",
      " |      slash n) which is important when writing to a file or if\n",
      " |      concatenating multiple sequence strings together.\n",
      " |      \n",
      " |      Note that this method will NOT work on every possible file format\n",
      " |      supported by Bio.SeqIO (e.g. some are for multiple sequences only,\n",
      " |      and binary formats are not supported).\n",
      " |  \n",
      " |  lower(self)\n",
      " |      Return a copy of the record with a lower case sequence.\n",
      " |      \n",
      " |      All the annotation is preserved unchanged. e.g.\n",
      " |      \n",
      " |      >>> from Bio import SeqIO\n",
      " |      >>> record = SeqIO.read(\"Fasta/aster.pro\", \"fasta\")\n",
      " |      >>> print(record.format(\"fasta\"))\n",
      " |      >gi|3298468|dbj|BAA31520.1| SAMIPF\n",
      " |      GGHVNPAVTFGAFVGGNITLLRGIVYIIAQLLGSTVACLLLKFVTNDMAVGVFSLSAGVG\n",
      " |      VTNALVFEIVMTFGLVYTVYATAIDPKKGSLGTIAPIAIGFIVGANI\n",
      " |      <BLANKLINE>\n",
      " |      >>> print(record.lower().format(\"fasta\"))\n",
      " |      >gi|3298468|dbj|BAA31520.1| SAMIPF\n",
      " |      gghvnpavtfgafvggnitllrgivyiiaqllgstvaclllkfvtndmavgvfslsagvg\n",
      " |      vtnalvfeivmtfglvytvyataidpkkgslgtiapiaigfivgani\n",
      " |      <BLANKLINE>\n",
      " |      \n",
      " |      To take a more annotation rich example,\n",
      " |      \n",
      " |      >>> from Bio import SeqIO\n",
      " |      >>> old = SeqIO.read(\"EMBL/TRBG361.embl\", \"embl\")\n",
      " |      >>> len(old.features)\n",
      " |      3\n",
      " |      >>> new = old.lower()\n",
      " |      >>> len(old.features) == len(new.features)\n",
      " |      True\n",
      " |      >>> old.annotations[\"organism\"] == new.annotations[\"organism\"]\n",
      " |      True\n",
      " |      >>> old.dbxrefs == new.dbxrefs\n",
      " |      True\n",
      " |  \n",
      " |  reverse_complement(self, id=False, name=False, description=False, features=True, annotations=False, letter_annotations=True, dbxrefs=False)\n",
      " |      Return new SeqRecord with reverse complement sequence.\n",
      " |      \n",
      " |      By default the new record does NOT preserve the sequence identifier,\n",
      " |      name, description, general annotation or database cross-references -\n",
      " |      these are unlikely to apply to the reversed sequence.\n",
      " |      \n",
      " |      You can specify the returned record's id, name and description as\n",
      " |      strings, or True to keep that of the parent, or False for a default.\n",
      " |      \n",
      " |      You can specify the returned record's features with a list of\n",
      " |      SeqFeature objects, or True to keep that of the parent, or False to\n",
      " |      omit them. The default is to keep the original features (with the\n",
      " |      strand and locations adjusted).\n",
      " |      \n",
      " |      You can also specify both the returned record's annotations and\n",
      " |      letter_annotations as dictionaries, True to keep that of the parent,\n",
      " |      or False to omit them. The default is to keep the original\n",
      " |      annotations (with the letter annotations reversed).\n",
      " |      \n",
      " |      To show what happens to the pre-letter annotations, consider an\n",
      " |      example Solexa variant FASTQ file with a single entry, which we'll\n",
      " |      read in as a SeqRecord:\n",
      " |      \n",
      " |      >>> from Bio import SeqIO\n",
      " |      >>> record = SeqIO.read(\"Quality/solexa_faked.fastq\", \"fastq-solexa\")\n",
      " |      >>> print(\"%s %s\" % (record.id, record.seq))\n",
      " |      slxa_0001_1_0001_01 ACGTACGTACGTACGTACGTACGTACGTACGTACGTACGTNNNNNN\n",
      " |      >>> print(list(record.letter_annotations))\n",
      " |      ['solexa_quality']\n",
      " |      >>> print(record.letter_annotations[\"solexa_quality\"])\n",
      " |      [40, 39, 38, 37, 36, 35, 34, 33, 32, 31, 30, 29, 28, 27, 26, 25, 24, 23, 22, 21, 20, 19, 18, 17, 16, 15, 14, 13, 12, 11, 10, 9, 8, 7, 6, 5, 4, 3, 2, 1, 0, -1, -2, -3, -4, -5]\n",
      " |      \n",
      " |      Now take the reverse complement, here we explicitly give a new\n",
      " |      identifier (the old identifier with a suffix):\n",
      " |      \n",
      " |      >>> rc_record = record.reverse_complement(id=record.id + \"_rc\")\n",
      " |      >>> print(\"%s %s\" % (rc_record.id, rc_record.seq))\n",
      " |      slxa_0001_1_0001_01_rc NNNNNNACGTACGTACGTACGTACGTACGTACGTACGTACGTACGT\n",
      " |      \n",
      " |      Notice that the per-letter-annotations have also been reversed,\n",
      " |      although this may not be appropriate for all cases.\n",
      " |      \n",
      " |      >>> print(rc_record.letter_annotations[\"solexa_quality\"])\n",
      " |      [-5, -4, -3, -2, -1, 0, 1, 2, 3, 4, 5, 6, 7, 8, 9, 10, 11, 12, 13, 14, 15, 16, 17, 18, 19, 20, 21, 22, 23, 24, 25, 26, 27, 28, 29, 30, 31, 32, 33, 34, 35, 36, 37, 38, 39, 40]\n",
      " |      \n",
      " |      Now for the features, we need a different example. Parsing a GenBank\n",
      " |      file is probably the easiest way to get an nice example with features\n",
      " |      in it...\n",
      " |      \n",
      " |      >>> from Bio import SeqIO\n",
      " |      >>> with open(\"GenBank/pBAD30.gb\") as handle:\n",
      " |      ...     plasmid = SeqIO.read(handle, \"gb\")\n",
      " |      >>> print(\"%s %i\" % (plasmid.id, len(plasmid)))\n",
      " |      pBAD30 4923\n",
      " |      >>> plasmid.seq\n",
      " |      Seq('GCTAGCGGAGTGTATACTGGCTTACTATGTTGGCACTGATGAGGGTGTCAGTGA...ATG')\n",
      " |      >>> len(plasmid.features)\n",
      " |      13\n",
      " |      \n",
      " |      Now, let's take the reverse complement of this whole plasmid:\n",
      " |      \n",
      " |      >>> rc_plasmid = plasmid.reverse_complement(id=plasmid.id+\"_rc\")\n",
      " |      >>> print(\"%s %i\" % (rc_plasmid.id, len(rc_plasmid)))\n",
      " |      pBAD30_rc 4923\n",
      " |      >>> rc_plasmid.seq\n",
      " |      Seq('CATGGGCAAATATTATACGCAAGGCGACAAGGTGCTGATGCCGCTGGCGATTCA...AGC')\n",
      " |      >>> len(rc_plasmid.features)\n",
      " |      13\n",
      " |      \n",
      " |      Let's compare the first CDS feature - it has gone from being the\n",
      " |      second feature (index 1) to the second last feature (index -2), its\n",
      " |      strand has changed, and the location switched round.\n",
      " |      \n",
      " |      >>> print(plasmid.features[1])\n",
      " |      type: CDS\n",
      " |      location: [1081:1960](-)\n",
      " |      qualifiers:\n",
      " |          Key: label, Value: ['araC']\n",
      " |          Key: note, Value: ['araC regulator of the arabinose BAD promoter']\n",
      " |          Key: vntifkey, Value: ['4']\n",
      " |      <BLANKLINE>\n",
      " |      >>> print(rc_plasmid.features[-2])\n",
      " |      type: CDS\n",
      " |      location: [2963:3842](+)\n",
      " |      qualifiers:\n",
      " |          Key: label, Value: ['araC']\n",
      " |          Key: note, Value: ['araC regulator of the arabinose BAD promoter']\n",
      " |          Key: vntifkey, Value: ['4']\n",
      " |      <BLANKLINE>\n",
      " |      \n",
      " |      You can check this new location, based on the length of the plasmid:\n",
      " |      \n",
      " |      >>> len(plasmid) - 1081\n",
      " |      3842\n",
      " |      >>> len(plasmid) - 1960\n",
      " |      2963\n",
      " |      \n",
      " |      Note that if the SeqFeature annotation includes any strand specific\n",
      " |      information (e.g. base changes for a SNP), this information is not\n",
      " |      amended, and would need correction after the reverse complement.\n",
      " |      \n",
      " |      Note trying to reverse complement a protein SeqRecord raises an\n",
      " |      exception:\n",
      " |      \n",
      " |      >>> from Bio.Seq import Seq\n",
      " |      >>> from Bio.SeqRecord import SeqRecord\n",
      " |      >>> protein_rec = SeqRecord(Seq(\"MAIVMGR\"), id=\"Test\",\n",
      " |      ...                         annotations={\"molecule_type\": \"protein\"})\n",
      " |      >>> protein_rec.reverse_complement()\n",
      " |      Traceback (most recent call last):\n",
      " |         ...\n",
      " |      ValueError: Proteins do not have complements!\n",
      " |      \n",
      " |      If you have RNA without any U bases, it must be annotated as RNA\n",
      " |      otherwise it will be treated as DNA by default with A mapped to T:\n",
      " |      \n",
      " |      >>> from Bio.Seq import Seq\n",
      " |      >>> from Bio.SeqRecord import SeqRecord\n",
      " |      >>> rna1 = SeqRecord(Seq(\"ACG\"), id=\"Test\")\n",
      " |      >>> rna2 = SeqRecord(Seq(\"ACG\"), id=\"Test\", annotations={\"molecule_type\": \"RNA\"})\n",
      " |      >>> print(rna1.reverse_complement(id=\"RC\", description=\"unk\").format(\"fasta\"))\n",
      " |      >RC unk\n",
      " |      CGT\n",
      " |      <BLANKLINE>\n",
      " |      >>> print(rna2.reverse_complement(id=\"RC\", description=\"RNA\").format(\"fasta\"))\n",
      " |      >RC RNA\n",
      " |      CGU\n",
      " |      <BLANKLINE>\n",
      " |      \n",
      " |      Also note you can reverse complement a SeqRecord using a MutableSeq:\n",
      " |      \n",
      " |      >>> from Bio.Seq import MutableSeq\n",
      " |      >>> from Bio.SeqRecord import SeqRecord\n",
      " |      >>> rec = SeqRecord(MutableSeq(\"ACGT\"), id=\"Test\")\n",
      " |      >>> rec.seq[0] = \"T\"\n",
      " |      >>> print(\"%s %s\" % (rec.id, rec.seq))\n",
      " |      Test TCGT\n",
      " |      >>> rc = rec.reverse_complement(id=True)\n",
      " |      >>> print(\"%s %s\" % (rc.id, rc.seq))\n",
      " |      Test ACGA\n",
      " |  \n",
      " |  translate(self, table='Standard', stop_symbol='*', to_stop=False, cds=False, gap=None, id=False, name=False, description=False, features=False, annotations=False, letter_annotations=False, dbxrefs=False)\n",
      " |      Return new SeqRecord with translated sequence.\n",
      " |      \n",
      " |      This calls the record's .seq.translate() method (which describes\n",
      " |      the translation related arguments, like table for the genetic code),\n",
      " |      \n",
      " |      By default the new record does NOT preserve the sequence identifier,\n",
      " |      name, description, general annotation or database cross-references -\n",
      " |      these are unlikely to apply to the translated sequence.\n",
      " |      \n",
      " |      You can specify the returned record's id, name and description as\n",
      " |      strings, or True to keep that of the parent, or False for a default.\n",
      " |      \n",
      " |      You can specify the returned record's features with a list of\n",
      " |      SeqFeature objects, or False (default) to omit them.\n",
      " |      \n",
      " |      You can also specify both the returned record's annotations and\n",
      " |      letter_annotations as dictionaries, True to keep that of the parent\n",
      " |      (annotations only), or False (default) to omit them.\n",
      " |      \n",
      " |      e.g. Loading a FASTA gene and translating it,\n",
      " |      \n",
      " |      >>> from Bio import SeqIO\n",
      " |      >>> gene_record = SeqIO.read(\"Fasta/sweetpea.nu\", \"fasta\")\n",
      " |      >>> print(gene_record.format(\"fasta\"))\n",
      " |      >gi|3176602|gb|U78617.1|LOU78617 Lathyrus odoratus phytochrome A (PHYA) gene, partial cds\n",
      " |      CAGGCTGCGCGGTTTCTATTTATGAAGAACAAGGTCCGTATGATAGTTGATTGTCATGCA\n",
      " |      AAACATGTGAAGGTTCTTCAAGACGAAAAACTCCCATTTGATTTGACTCTGTGCGGTTCG\n",
      " |      ACCTTAAGAGCTCCACATAGTTGCCATTTGCAGTACATGGCTAACATGGATTCAATTGCT\n",
      " |      TCATTGGTTATGGCAGTGGTCGTCAATGACAGCGATGAAGATGGAGATAGCCGTGACGCA\n",
      " |      GTTCTACCACAAAAGAAAAAGAGACTTTGGGGTTTGGTAGTTTGTCATAACACTACTCCG\n",
      " |      AGGTTTGTT\n",
      " |      <BLANKLINE>\n",
      " |      \n",
      " |      And now translating the record, specifying the new ID and description:\n",
      " |      \n",
      " |      >>> protein_record = gene_record.translate(table=11,\n",
      " |      ...                                        id=\"phya\",\n",
      " |      ...                                        description=\"translation\")\n",
      " |      >>> print(protein_record.format(\"fasta\"))\n",
      " |      >phya translation\n",
      " |      QAARFLFMKNKVRMIVDCHAKHVKVLQDEKLPFDLTLCGSTLRAPHSCHLQYMANMDSIA\n",
      " |      SLVMAVVVNDSDEDGDSRDAVLPQKKKRLWGLVVCHNTTPRFV\n",
      " |      <BLANKLINE>\n",
      " |  \n",
      " |  upper(self)\n",
      " |      Return a copy of the record with an upper case sequence.\n",
      " |      \n",
      " |      All the annotation is preserved unchanged. e.g.\n",
      " |      \n",
      " |      >>> from Bio.Seq import Seq\n",
      " |      >>> from Bio.SeqRecord import SeqRecord\n",
      " |      >>> record = SeqRecord(Seq(\"acgtACGT\"), id=\"Test\",\n",
      " |      ...                    description = \"Made up for this example\")\n",
      " |      >>> record.letter_annotations[\"phred_quality\"] = [1, 2, 3, 4, 5, 6, 7, 8]\n",
      " |      >>> print(record.upper().format(\"fastq\"))\n",
      " |      @Test Made up for this example\n",
      " |      ACGTACGT\n",
      " |      +\n",
      " |      \"#$%&'()\n",
      " |      <BLANKLINE>\n",
      " |      \n",
      " |      Naturally, there is a matching lower method:\n",
      " |      \n",
      " |      >>> print(record.lower().format(\"fastq\"))\n",
      " |      @Test Made up for this example\n",
      " |      acgtacgt\n",
      " |      +\n",
      " |      \"#$%&'()\n",
      " |      <BLANKLINE>\n",
      " |  \n",
      " |  ----------------------------------------------------------------------\n",
      " |  Data descriptors defined here:\n",
      " |  \n",
      " |  __dict__\n",
      " |      dictionary for instance variables (if defined)\n",
      " |  \n",
      " |  __weakref__\n",
      " |      list of weak references to the object (if defined)\n",
      " |  \n",
      " |  letter_annotations\n",
      " |      Dictionary of per-letter-annotation for the sequence.\n",
      " |      \n",
      " |      For example, this can hold quality scores used in FASTQ or QUAL files.\n",
      " |      Consider this example using Bio.SeqIO to read in an example Solexa\n",
      " |      variant FASTQ file as a SeqRecord:\n",
      " |      \n",
      " |      >>> from Bio import SeqIO\n",
      " |      >>> record = SeqIO.read(\"Quality/solexa_faked.fastq\", \"fastq-solexa\")\n",
      " |      >>> print(\"%s %s\" % (record.id, record.seq))\n",
      " |      slxa_0001_1_0001_01 ACGTACGTACGTACGTACGTACGTACGTACGTACGTACGTNNNNNN\n",
      " |      >>> print(list(record.letter_annotations))\n",
      " |      ['solexa_quality']\n",
      " |      >>> print(record.letter_annotations[\"solexa_quality\"])\n",
      " |      [40, 39, 38, 37, 36, 35, 34, 33, 32, 31, 30, 29, 28, 27, 26, 25, 24, 23, 22, 21, 20, 19, 18, 17, 16, 15, 14, 13, 12, 11, 10, 9, 8, 7, 6, 5, 4, 3, 2, 1, 0, -1, -2, -3, -4, -5]\n",
      " |      \n",
      " |      The letter_annotations get sliced automatically if you slice the\n",
      " |      parent SeqRecord, for example taking the last ten bases:\n",
      " |      \n",
      " |      >>> sub_record = record[-10:]\n",
      " |      >>> print(\"%s %s\" % (sub_record.id, sub_record.seq))\n",
      " |      slxa_0001_1_0001_01 ACGTNNNNNN\n",
      " |      >>> print(sub_record.letter_annotations[\"solexa_quality\"])\n",
      " |      [4, 3, 2, 1, 0, -1, -2, -3, -4, -5]\n",
      " |      \n",
      " |      Any python sequence (i.e. list, tuple or string) can be recorded in\n",
      " |      the SeqRecord's letter_annotations dictionary as long as the length\n",
      " |      matches that of the SeqRecord's sequence.  e.g.\n",
      " |      \n",
      " |      >>> len(sub_record.letter_annotations)\n",
      " |      1\n",
      " |      >>> sub_record.letter_annotations[\"dummy\"] = \"abcdefghij\"\n",
      " |      >>> len(sub_record.letter_annotations)\n",
      " |      2\n",
      " |      \n",
      " |      You can delete entries from the letter_annotations dictionary as usual:\n",
      " |      \n",
      " |      >>> del sub_record.letter_annotations[\"solexa_quality\"]\n",
      " |      >>> sub_record.letter_annotations\n",
      " |      {'dummy': 'abcdefghij'}\n",
      " |      \n",
      " |      You can completely clear the dictionary easily as follows:\n",
      " |      \n",
      " |      >>> sub_record.letter_annotations = {}\n",
      " |      >>> sub_record.letter_annotations\n",
      " |      {}\n",
      " |      \n",
      " |      Note that if replacing the record's sequence with a sequence of a\n",
      " |      different length you must first clear the letter_annotations dict.\n",
      " |  \n",
      " |  seq\n",
      " |      The sequence itself, as a Seq or MutableSeq object.\n",
      " |  \n",
      " |  ----------------------------------------------------------------------\n",
      " |  Data and other attributes defined here:\n",
      " |  \n",
      " |  __hash__ = None\n",
      "\n"
     ]
    }
   ],
   "source": [
    "from Bio.SeqRecord import SeqRecord\n",
    "help(SeqRecord)"
   ]
  },
  {
   "cell_type": "markdown",
   "metadata": {},
   "source": [
    "## 4.1 O objeto SeqRecord"
   ]
  },
  {
   "cell_type": "markdown",
   "metadata": {},
   "source": [
    "A classe **SeqRecord** é definida pelo módulo `Bio.SeqRecord`. Essa classe possui ferramentas de alto nível, como os identificadores e recursos (ver o Capítulo 3: https://github.com/GTL98/biopython_br/tree/main/Cap%203%20-%20Objetos%20de%20Sequ%C3%AAncia) e é o tipo básico de dado para as sequência de entrada/saída do módulo `Bio.SeqIO` (ver o Capítulo 5: ***link do capítulo 5***).\n",
    "\n",
    "A classe **SeqRecord** é bem simples e fornece as seguintes informações como atributos:\n",
    "- **.seq**: A sequência por si própria, geralmente um objeto **Seq**;\n",
    "\n",
    "\n",
    "- **.id**: A identificação primária da sequência (uma string). Na maioria dos casos é um número de acesso;\n",
    "\n",
    "\n",
    "- **.name**: O nome/identificação \"comum\" da sequência (uma string). Em alguns casos é o mesmo que o número de acesso, mas também pode ser o nome de um clone. Pode ser análogo a identificação LOCUS em arquivos GenBank;\n",
    "\n",
    "\n",
    "- **.description**: Uma descrição ou o nome da sequência que o humano consiga ler (uma string);\n",
    "\n",
    "\n",
    "- **.letter_annotations**: Guarda as anotações por letra usando um restrito dicionário de informações adicionais sobre as letras na sequência. As chaves são o nome das informações e as informações são os valores (i.e. uma tupla, uma lista ou uma string), com o mesmo tamanho da sequência. Esse atributo é frequentemente usado para pontuações de qualidade (ver a **Seção 20.1.6** no Capítulo 20: ***link do capítulo 20***), ou informações da estrutura secundária (e.g. arquivos de alinhamento Stockholm/PFAM);\n",
    "\n",
    "\n",
    "- **.annotations**: Um dicionário com informações adicionais da sequência. As chaves são o nome da informação e o valor é a informação. Isso permite a adição de informações \"não relacionadas\" à sequência;\n",
    "\n",
    "\n",
    "- **.features**: Uma lista de objetos **SeqFeatures** com mais informações relacionadas sobre as características presentes na sequência (e.g. domínios em uma proteína ou posição dos genes em um genoma). A estrutura dos recursos da sequência serão melhores detalhadas na **Seção 4.3** e;\n",
    "\n",
    "\n",
    "- **.dbxrefs**: Uma lista de referências cruzadas de bancos de dados como strings."
   ]
  },
  {
   "cell_type": "markdown",
   "metadata": {},
   "source": [
    "## 4.2 Criando o SeqRecord"
   ]
  },
  {
   "cell_type": "markdown",
   "metadata": {},
   "source": [
    "Usar o objeto **SeqRecord** não é muito complicado, uma vez que as informações são apresentadas como atributos da classe. Normalmente você não precisará criar um objeto **SeqRecord** \"na mão\", mas usará o módulo `Bio.SeqIO` para ler o arquivo de sequência para você (ver os exemplos do Capítulo 5: ***link do capítulo 5***). Entretanto, criar um objeto **SeqRecord** é bem simples:"
   ]
  },
  {
   "cell_type": "markdown",
   "metadata": {},
   "source": [
    "### 4.2.1 Objetos SeqRecord do zero"
   ]
  },
  {
   "cell_type": "markdown",
   "metadata": {},
   "source": [
    "Para criar o mínimo necessário do objeto **SeqRecord**, você precisa somente de um objeto **Seq**:"
   ]
  },
  {
   "cell_type": "code",
   "execution_count": 2,
   "metadata": {},
   "outputs": [],
   "source": [
    "from Bio.Seq import Seq\n",
    "simples_seq = Seq('GATC')"
   ]
  },
  {
   "cell_type": "code",
   "execution_count": 3,
   "metadata": {},
   "outputs": [],
   "source": [
    "from Bio.SeqRecord import SeqRecord\n",
    "simples_seq_r = SeqRecord(simples_seq)"
   ]
  },
  {
   "cell_type": "markdown",
   "metadata": {},
   "source": [
    "Além disso, você pode informar a identificação, nome e descrição para a função de inicialização. Caso contrário, esas informações serão desconhecidas e podem ser modificadas posteriormente:"
   ]
  },
  {
   "cell_type": "code",
   "execution_count": 4,
   "metadata": {},
   "outputs": [
    {
     "data": {
      "text/plain": [
       "'<unknown id>'"
      ]
     },
     "execution_count": 4,
     "metadata": {},
     "output_type": "execute_result"
    }
   ],
   "source": [
    "simples_seq_r.id"
   ]
  },
  {
   "cell_type": "code",
   "execution_count": 5,
   "metadata": {},
   "outputs": [],
   "source": [
    "simples_seq_r.id = 'AC12345'\n",
    "simples_seq_r.description = 'Sequência que eu gostaria de escrever um artigo'"
   ]
  },
  {
   "cell_type": "code",
   "execution_count": 6,
   "metadata": {},
   "outputs": [
    {
     "name": "stdout",
     "output_type": "stream",
     "text": [
      "Sequência que eu gostaria de escrever um artigo\n"
     ]
    }
   ],
   "source": [
    "print(simples_seq_r.description)"
   ]
  },
  {
   "cell_type": "code",
   "execution_count": 7,
   "metadata": {},
   "outputs": [
    {
     "data": {
      "text/plain": [
       "Seq('GATC')"
      ]
     },
     "execution_count": 7,
     "metadata": {},
     "output_type": "execute_result"
    }
   ],
   "source": [
    "simples_seq_r.seq"
   ]
  },
  {
   "cell_type": "markdown",
   "metadata": {},
   "source": [
    "Incluir a identificação da sequência é vital se você estiver querendo exportar o objeto **SeqRecord** em um arquivo. Você deve incluir a identificação quando estiver criando o objeto **SeqRecord**:"
   ]
  },
  {
   "cell_type": "code",
   "execution_count": 8,
   "metadata": {},
   "outputs": [],
   "source": [
    "from Bio.Seq import Seq\n",
    "simples_seq = Seq('GATC')"
   ]
  },
  {
   "cell_type": "code",
   "execution_count": 9,
   "metadata": {},
   "outputs": [],
   "source": [
    "from Bio.SeqRecord import SeqRecord\n",
    "simples_seq_r = SeqRecord(simples_seq, id='AC12345')"
   ]
  },
  {
   "cell_type": "markdown",
   "metadata": {},
   "source": [
    "Como mencionado mais acima, o objeto **SeqRecord** possui o atributo **annotations** como um dicionário. Ele é usado para qualquer anotação que não se encaixe nos outros atributos mais específicos. Adicinar anotações é fácil e envolve apenas saber como adicionar informações em um dicionário Python:"
   ]
  },
  {
   "cell_type": "code",
   "execution_count": 10,
   "metadata": {},
   "outputs": [],
   "source": [
    "simples_seq_r.annotations['evidence'] = 'Nenhuma. Acabei de inventar.'"
   ]
  },
  {
   "cell_type": "code",
   "execution_count": 11,
   "metadata": {},
   "outputs": [
    {
     "name": "stdout",
     "output_type": "stream",
     "text": [
      "{'evidence': 'Nenhuma. Acabei de inventar.'}\n"
     ]
    }
   ],
   "source": [
    "print(simples_seq_r.annotations)"
   ]
  },
  {
   "cell_type": "code",
   "execution_count": 12,
   "metadata": {},
   "outputs": [
    {
     "name": "stdout",
     "output_type": "stream",
     "text": [
      "Nenhuma. Acabei de inventar.\n"
     ]
    }
   ],
   "source": [
    "print(simples_seq_r.annotations['evidence'])"
   ]
  },
  {
   "cell_type": "markdown",
   "metadata": {},
   "source": [
    "Trabalhar com anotações por letra segue a mesma lógica. **letter_annotations** é um dicionário Python onde a chave é o nome da informação e o valor é a informação, mas sempre respeitando o tamanho da sequência; nesse exemplo o tamanho é de 4 pares de base, então deverá ter 4 valores de informação:"
   ]
  },
  {
   "cell_type": "code",
   "execution_count": 13,
   "metadata": {},
   "outputs": [],
   "source": [
    "simples_seq_r.letter_annotations['phred_quality'] = [40, 40, 38, 30]"
   ]
  },
  {
   "cell_type": "code",
   "execution_count": 14,
   "metadata": {},
   "outputs": [
    {
     "name": "stdout",
     "output_type": "stream",
     "text": [
      "{'phred_quality': [40, 40, 38, 30]}\n"
     ]
    }
   ],
   "source": [
    "print(simples_seq_r.letter_annotations)"
   ]
  },
  {
   "cell_type": "code",
   "execution_count": 15,
   "metadata": {},
   "outputs": [
    {
     "name": "stdout",
     "output_type": "stream",
     "text": [
      "[40, 40, 38, 30]\n"
     ]
    }
   ],
   "source": [
    "print(simples_seq_r.letter_annotations['phred_quality'])"
   ]
  },
  {
   "cell_type": "markdown",
   "metadata": {},
   "source": [
    "Os atributos **dbxrefs** e **features** são uma lista Python e deverão ser usados para armazenar stings e objetos **SeqFeature** (discutidos mais a frente nesse capítulo), respectivamente."
   ]
  },
  {
   "cell_type": "markdown",
   "metadata": {},
   "source": [
    "### 4.2.2 Objetos SeqRecord de arquivos FASTA"
   ]
  },
  {
   "attachments": {
    "image.png": {
     "image/png": "[encoded data removed]"
    }
   },
   "cell_type": "markdown",
   "metadata": {},
   "source": [
    "Para essa seção, usaremos um arquivo FASTA que contém o a sequência completa do plasmídeo pPCP1 da bactéria *Yersinia pestis biovar Microtus*, podendo ser baixado pelo NCBI (https://www.ncbi.nlm.nih.gov/nuccore/NC_005816.1) ou no diretório deste mesmo documento no GitHub.\n",
    "\n",
    "O arquivo deve começar da seguinte maneira (você pode notar que há somente um registro presente, uma única linha após o sinal de maior (>)):\n",
    "\n",
    "![image.png](attachment:image.png) ...\n",
    "\n",
    "Se precisar, volte ao Capítulo 2 (https://github.com/GTL98/biopython_br/tree/main/Cap%202%20-%20O%20que%20podemos%20fazer%20com%20o%20Biopython) e veja como funciona o `Bio.SeqIO.parse(...)` e o loop para percorrer todos os registros em um arquivo como os objetos **SeqRecords**. O módulo `Bio.SeqIO` possui uma função irmã para uso em arquivos que possuem somente uma linha de registro, como esse que estamos vendo agora:"
   ]
  },
  {
   "cell_type": "code",
   "execution_count": 16,
   "metadata": {},
   "outputs": [],
   "source": [
    "from Bio import SeqIO\n",
    "registro = SeqIO.read('NC_005816.1.fna', 'fasta')"
   ]
  },
  {
   "cell_type": "code",
   "execution_count": 17,
   "metadata": {},
   "outputs": [
    {
     "data": {
      "text/plain": [
       "SeqRecord(seq=Seq('TGTAACGAACGGTGCAATAGTGATCCACACCCAACGCCTGAAATCAGATCCAGG...CTG'), id='NC_005816.1', name='NC_005816.1', description='NC_005816.1 Yersinia pestis biovar Microtus str. 91001 plasmid pPCP1, complete sequence', dbxrefs=[])"
      ]
     },
     "execution_count": 17,
     "metadata": {},
     "output_type": "execute_result"
    }
   ],
   "source": [
    "registro"
   ]
  },
  {
   "cell_type": "markdown",
   "metadata": {},
   "source": [
    "Agora, vamos olhar os atributos chaves individualmente do objeto **SeqRecord** (começando com o atributo **seq** que retornará um objeto **Seq**):"
   ]
  },
  {
   "cell_type": "code",
   "execution_count": 18,
   "metadata": {},
   "outputs": [
    {
     "data": {
      "text/plain": [
       "Seq('TGTAACGAACGGTGCAATAGTGATCCACACCCAACGCCTGAAATCAGATCCAGG...CTG')"
      ]
     },
     "execution_count": 18,
     "metadata": {},
     "output_type": "execute_result"
    }
   ],
   "source": [
    "registro.seq"
   ]
  },
  {
   "cell_type": "markdown",
   "metadata": {},
   "source": [
    "Os identificadores e descrição:"
   ]
  },
  {
   "cell_type": "code",
   "execution_count": 19,
   "metadata": {},
   "outputs": [
    {
     "data": {
      "text/plain": [
       "'NC_005816.1'"
      ]
     },
     "execution_count": 19,
     "metadata": {},
     "output_type": "execute_result"
    }
   ],
   "source": [
    "registro.id"
   ]
  },
  {
   "cell_type": "code",
   "execution_count": 20,
   "metadata": {},
   "outputs": [
    {
     "data": {
      "text/plain": [
       "'NC_005816.1'"
      ]
     },
     "execution_count": 20,
     "metadata": {},
     "output_type": "execute_result"
    }
   ],
   "source": [
    "registro.name"
   ]
  },
  {
   "cell_type": "code",
   "execution_count": 21,
   "metadata": {},
   "outputs": [
    {
     "data": {
      "text/plain": [
       "'NC_005816.1 Yersinia pestis biovar Microtus str. 91001 plasmid pPCP1, complete sequence'"
      ]
     },
     "execution_count": 21,
     "metadata": {},
     "output_type": "execute_result"
    }
   ],
   "source": [
    "registro.description"
   ]
  },
  {
   "cell_type": "markdown",
   "metadata": {},
   "source": [
    "Observe nenhum dos outros atributos de anotação são preenchidos ao ler um arquivo FASTA:"
   ]
  },
  {
   "cell_type": "code",
   "execution_count": 22,
   "metadata": {},
   "outputs": [
    {
     "data": {
      "text/plain": [
       "[]"
      ]
     },
     "execution_count": 22,
     "metadata": {},
     "output_type": "execute_result"
    }
   ],
   "source": [
    "registro.dbxrefs"
   ]
  },
  {
   "cell_type": "code",
   "execution_count": 23,
   "metadata": {},
   "outputs": [
    {
     "data": {
      "text/plain": [
       "{}"
      ]
     },
     "execution_count": 23,
     "metadata": {},
     "output_type": "execute_result"
    }
   ],
   "source": [
    "registro.annotations"
   ]
  },
  {
   "cell_type": "code",
   "execution_count": 24,
   "metadata": {},
   "outputs": [
    {
     "data": {
      "text/plain": [
       "{}"
      ]
     },
     "execution_count": 24,
     "metadata": {},
     "output_type": "execute_result"
    }
   ],
   "source": [
    "registro.letter_annotations"
   ]
  },
  {
   "cell_type": "code",
   "execution_count": 25,
   "metadata": {},
   "outputs": [
    {
     "data": {
      "text/plain": [
       "[]"
      ]
     },
     "execution_count": 25,
     "metadata": {},
     "output_type": "execute_result"
    }
   ],
   "source": [
    "registro.features"
   ]
  },
  {
   "cell_type": "markdown",
   "metadata": {},
   "source": [
    "Nesse nosso exemplo, o arquivo FASTA veio do NCBI; que por sua vez possui um conjunto de convenções bem estabelecidas para formatar as linhas de um arquivo FASTA. Porém, os arquivos FASTA de outras fontes variam, o que não torna possível generalizá-lo."
   ]
  },
  {
   "cell_type": "markdown",
   "metadata": {},
   "source": [
    "### 4.2.3 Objetos SeqRecord de arquivos GenBank"
   ]
  },
  {
   "attachments": {
    "image.png": {
     "image/png": "[encoded data removed]"
    }
   },
   "cell_type": "markdown",
   "metadata": {},
   "source": [
    "Na seção anterior, nós vimos a sequência completa do plasmídeo pPCP1 da bactéria *Yersinia pestis biovar Microtus* no formato FASTA, mas agora veremos essa mesma sequência em um arquivo GenBank. De novo, esse arquivo pode ser encontrado online no NCBI (https://www.ncbi.nlm.nih.gov/nuccore/NC_005816.1) ou no mesmo diretório desse documento no GitHub.\n",
    "\n",
    "O arquivo contém um único registro (i.e. uma linha LOCUS) e começa assim:\n",
    "\n",
    "![image.png](attachment:image.png)\n",
    "\n",
    "(Desculpe a qualidade de visualização, é que o meu editor de texto não consege formatar as informações de uma maneira bonita).\n",
    "\n",
    "Novamente, nós usaremos o módulo `Bio.SeqIO` para ler o arquivo. O código é idêntico ao usado com o arquivo FASTA:"
   ]
  },
  {
   "cell_type": "code",
   "execution_count": 26,
   "metadata": {},
   "outputs": [],
   "source": [
    "from Bio import SeqIO\n",
    "registro = SeqIO.read('NC_005816.1.gb', 'genbank')"
   ]
  },
  {
   "cell_type": "code",
   "execution_count": 27,
   "metadata": {},
   "outputs": [
    {
     "data": {
      "text/plain": [
       "SeqRecord(seq=Seq('TGTAACGAACGGTGCAATAGTGATCCACACCCAACGCCTGAAATCAGATCCAGG...CTG'), id='NC_005816.1', name='NC_005816', description='Yersinia pestis biovar Microtus str. 91001 plasmid pPCP1, complete sequence', dbxrefs=['BioProject:PRJNA224116', 'BioSample:SAMN02602970', 'Assembly:GCF_000007885.1'])"
      ]
     },
     "execution_count": 27,
     "metadata": {},
     "output_type": "execute_result"
    }
   ],
   "source": [
    "registro"
   ]
  },
  {
   "cell_type": "code",
   "execution_count": 28,
   "metadata": {},
   "outputs": [
    {
     "data": {
      "text/plain": [
       "Seq('TGTAACGAACGGTGCAATAGTGATCCACACCCAACGCCTGAAATCAGATCCAGG...CTG')"
      ]
     },
     "execution_count": 28,
     "metadata": {},
     "output_type": "execute_result"
    }
   ],
   "source": [
    "registro.seq"
   ]
  },
  {
   "cell_type": "markdown",
   "metadata": {},
   "source": [
    "O argumento **name** vem da linha LOCUS, enquanto o argumento **id** inclui o sufixo da versão. A descrição vem da linha DEFINITION:"
   ]
  },
  {
   "cell_type": "code",
   "execution_count": 29,
   "metadata": {},
   "outputs": [
    {
     "data": {
      "text/plain": [
       "'NC_005816.1'"
      ]
     },
     "execution_count": 29,
     "metadata": {},
     "output_type": "execute_result"
    }
   ],
   "source": [
    "registro.id"
   ]
  },
  {
   "cell_type": "code",
   "execution_count": 30,
   "metadata": {},
   "outputs": [
    {
     "data": {
      "text/plain": [
       "'NC_005816'"
      ]
     },
     "execution_count": 30,
     "metadata": {},
     "output_type": "execute_result"
    }
   ],
   "source": [
    "registro.name"
   ]
  },
  {
   "cell_type": "code",
   "execution_count": 31,
   "metadata": {},
   "outputs": [
    {
     "data": {
      "text/plain": [
       "'Yersinia pestis biovar Microtus str. 91001 plasmid pPCP1, complete sequence'"
      ]
     },
     "execution_count": 31,
     "metadata": {},
     "output_type": "execute_result"
    }
   ],
   "source": [
    "registro.description"
   ]
  },
  {
   "cell_type": "markdown",
   "metadata": {},
   "source": [
    "Assim como o arquivo FASTA, o arquivo GenBank não vem com anotações por letra:"
   ]
  },
  {
   "cell_type": "code",
   "execution_count": 32,
   "metadata": {},
   "outputs": [
    {
     "data": {
      "text/plain": [
       "{}"
      ]
     },
     "execution_count": 32,
     "metadata": {},
     "output_type": "execute_result"
    }
   ],
   "source": [
    "registro.letter_annotations"
   ]
  },
  {
   "cell_type": "markdown",
   "metadata": {},
   "source": [
    "Muitas informações estão registradas no argumento **annotations**, por exemplo:"
   ]
  },
  {
   "cell_type": "code",
   "execution_count": 33,
   "metadata": {},
   "outputs": [
    {
     "data": {
      "text/plain": [
       "13"
      ]
     },
     "execution_count": 33,
     "metadata": {},
     "output_type": "execute_result"
    }
   ],
   "source": [
    "len(registro.annotations)"
   ]
  },
  {
   "cell_type": "code",
   "execution_count": 34,
   "metadata": {},
   "outputs": [
    {
     "data": {
      "text/plain": [
       "'Yersinia pestis biovar Microtus str. 91001'"
      ]
     },
     "execution_count": 34,
     "metadata": {},
     "output_type": "execute_result"
    }
   ],
   "source": [
    "registro.annotations['source']"
   ]
  },
  {
   "cell_type": "markdown",
   "metadata": {},
   "source": [
    "O argumento **dbxrefs**:"
   ]
  },
  {
   "cell_type": "code",
   "execution_count": 35,
   "metadata": {},
   "outputs": [
    {
     "data": {
      "text/plain": [
       "['BioProject:PRJNA224116',\n",
       " 'BioSample:SAMN02602970',\n",
       " 'Assembly:GCF_000007885.1']"
      ]
     },
     "execution_count": 35,
     "metadata": {},
     "output_type": "execute_result"
    }
   ],
   "source": [
    "registro.dbxrefs"
   ]
  },
  {
   "cell_type": "markdown",
   "metadata": {},
   "source": [
    "Por último, mas não menos importante (se não o mais interessante), são as entradas da tabela de recursos (e.g. características da CDS ou dos genes) que possuem os registros como objetos **SeqFeature** no argumento **features**:"
   ]
  },
  {
   "cell_type": "code",
   "execution_count": 36,
   "metadata": {},
   "outputs": [
    {
     "data": {
      "text/plain": [
       "19"
      ]
     },
     "execution_count": 36,
     "metadata": {},
     "output_type": "execute_result"
    }
   ],
   "source": [
    "len(registro.features)"
   ]
  },
  {
   "cell_type": "markdown",
   "metadata": {},
   "source": [
    "Falaremos do objeto **SeqFeature** na próxima seção."
   ]
  },
  {
   "cell_type": "markdown",
   "metadata": {},
   "source": [
    "## 4.3 Objetos de característica, localização e posição"
   ]
  },
  {
   "cell_type": "markdown",
   "metadata": {},
   "source": [
    "### 4.3.1 Objetos SeqFeature"
   ]
  },
  {
   "cell_type": "markdown",
   "metadata": {},
   "source": [
    "As características das sequências são essenciais para descrevê-las. Depois de você analisar além da sequência em si, você necessita alguma maneira de organizar e obter um resumo fácil das informações conhecidas dessa sequência. Enquanto provavelmente é impossível desenvolver uma classe de recurso que generalize bem, a classe **SeqFeature** do Bipython tenta encapsular o máximo de informação possível da sequência. Essa classe foi desenhada com base nas tabelas de recursos do GenBank e EMBL, então caso você entenda como elas funcionam, você certamente terá mais facilidade em compreender a estrutura das classe do Biopython.\n",
    "\n",
    "A ideia por trás o objeto **SeqFeature** é descrever uma região em uma determinada sequência pai, normalmente um objeto **SeqRecord**. A região é descrita com um objeto de localização, geralmente um intervalo entre duas posições (ver a **Seção 4.3.2**).\n",
    "\n",
    "A classe **SeqFeature** possui alguns atributos, vamos olhar o que cada um faz agora e depois veremos como usá-los em exemplos da vida real. Os atributos de **SeqFeatures** são:\n",
    "\n",
    "- **.type**: É uma descrição textual do tipo da característica (como 'CDS' ou 'gene');\n",
    "\n",
    "\n",
    "- **.location**: A localização de um objeto **SeqFeature** na sequência que você está lidando. **SeqFeature** delega mais funcionalidades para o local selecionado, e inclui alguns atributos para analisar as propriedades da região selecionada:\n",
    "    - **.ref**: Abreviação para **.location.ref**. Qualquer sequência de referência (diferente) à qual o local está se referindo. Geralmente tem valor *None*;\n",
    "    - **.ref_db**: Abreviação para **.location.ref_db**. Especifíca o banco de dados o identificador usado em **.ref**. Geralmente tem o valor *None* e;\n",
    "    - **.strand**: Abreviação para **.location.strand**. A fita na sequência em que a característica está localizada. Para uma sequência de fita dupla, pode ser o valor 1 para a fita superior, -1 para a inferior, 0 se a fita é importante mas desconhecida e *None* se isso não tem importância. O valor *None* é usado para proteínas o sequências de fita simples.\n",
    "    \n",
    "\n",
    "- **.qualifiers**: É um dicionário Python com informações adicionais sobre o recurso. A chave do dicionário é a descrição da característica em uma palavra e o valor é a informação dessa característica. Por exemplo, uma chave bem comum é a \"evidence\" e o valor é \"(comptational (non-experimental)\". Esse é apenas uma maneira de permitir que a pessoa que esteja olhando esse recurso saiba que ainda não foram feitos testes laboratoriais. Observe que o outro valor será uma lista de strings (onde há uma única string no exemplo). Isso é um reflexo das tabelas de características dos arquivos GenBank e EMBL e;\n",
    "\n",
    "\n",
    "- **.sub_features**: Esse argumento é usaod para representar características que são complicadas de localizar, como 'joins' em arquivos GenBank e EMBL. Esse argumento foi descontinuado com a introdução do objeto **CompundLocation**, então podemos ignorá-lo."
   ]
  },
  {
   "cell_type": "markdown",
   "metadata": {},
   "source": [
    "### 4.3.2 Posições e localizações"
   ]
  },
  {
   "cell_type": "markdown",
   "metadata": {},
   "source": [
    "A ideia por trás da classe **SeqFeature** é descrever uma região da sequência pai, para isso nós usamos o objeto de localização, normalmente descrevendo o intervalo entre duas posições. Para deixar mais claro as terminologias, usaremos:\n",
    "\n",
    "- **posição**: Refere-se a posição na sequência, que pode ser confuso ou não. Por exemplo: 5, 20, <100 e >200 são todas posições e;\n",
    "\n",
    "\n",
    "- **localização**: A locarlização é uma região da sequência limitada por algumas posições. Por exemplo: 5..20 (i.e. 5 até 20) é uma localização.\n",
    "\n",
    "E sim, no começo é meio confuso e você certamente retornará aqui para esclarecer as dúvidas."
   ]
  },
  {
   "cell_type": "markdown",
   "metadata": {},
   "source": [
    "#### 4.3.2.1 Objeto FeatureLocation"
   ]
  },
  {
   "cell_type": "markdown",
   "metadata": {},
   "source": [
    "A não ser que você trabalhe com sequências genéticas de eucariotos, as localizações de **SeqFeature** são bem simples: você deve começar com um ponto de partida e chegada e uma fita. Isso é basicamente o que o objeto **FeatureLocation** faz.\n",
    "\n",
    "No mundo real, com certeza, as coisas podem ser um pouco mais complicadas. Primeiro, nós devemos lidar com os locais compostos formados por várias regiões. Segundo, as posições próprias posições podem ser confusas (sem exatidão)."
   ]
  },
  {
   "cell_type": "markdown",
   "metadata": {},
   "source": [
    "#### 4.3.2.2 Objeto CompoundLocation"
   ]
  },
  {
   "cell_type": "markdown",
   "metadata": {},
   "source": [
    "Na versão 1.62 do Biopython foi introduzdo o **CompoundLocation** como parte para reestruturar como os locais complexos compostos por várias regiões são representados. Seu principal uso é em locais 'join' em arquivos GenBank e EMBL."
   ]
  },
  {
   "cell_type": "markdown",
   "metadata": {},
   "source": [
    "#### 4.3.2.3 Posições confusas"
   ]
  },
  {
   "cell_type": "markdown",
   "metadata": {},
   "source": [
    "Até agora nós usamos posições simples. Uma complicação de lidar com as caracterísicas dos locais está na própia posição. Na biologia, muitas vezes as coisas não são totalmente certas. Por exemplo, você quer fazer um experimento com primers e descobre qe o começo da transcrição do mRNA ocorre em um dos dois sítios. Isso é ma informação sem função útil, mas complicação vem na hora de representar essa posição. Para nos ajudar com isso, temos o conceito de posições confusas. Basicamente há diversos tipode de posições confusas, logo o Biopython dispõede 5 classes para lidar com isso:\n",
    "\n",
    "- **ExactPosition**: Como o nome sgere, essa classe representa a posição que é especificada como exata ao longo da sequência. É representada por um número e você consegue esse valor olhando o atributo **position** do objeto;\n",
    "\n",
    "\n",
    "- **BeforePosition**: Essa classe representa a posição confusa que ocorre antes do sítio especificado. Na notação de arquivos GenBank e EMBL, essa representaão é algo como '<13', siginificando que a posição real está abaixo de 13. Para obter o valor superior ao especificado, olhe o atributo **position** do objeto;\n",
    "\n",
    "\n",
    "- **AfterPosition**: Ao contrário da **BeforePosition**, esta classe representa a posição que ocorre após o sítio especificado. É representado em arquivos GenBank como '>13', e igaul ao **BeforePositio**, você obtém o valor limite olhando o atributo **position** do objeto;\n",
    "\n",
    "\n",
    "- **WithinPosition**: Ocasionalmente usado em localizações dos arquivos GenBank e EMBL, esta classe modela uma posição que ocorre entre dois nucleotídeos especificados. Na notação do GenBank e EMBL, isso seria representado como '(1.5)', ou seja, a posição está entre 1 e 5. Para obter a infomação nessa classe, você tem que olhar para dois atributos. O atributo **position** especiica o limite inferior do intervalo que estamos procurando, que no nosso exemplo é 1. O atributo **extension** especifica o limite superior do intervalo, que no caso será o 4. Então, o **object.position** é o limite inferior e o **object.position + object.extension** é o limite superior;\n",
    "\n",
    "\n",
    "- **OneOfPosition**: Ocasionalmente em localizações dos arquivos GenBank e EMBL, esta classe lida com uma posição onde há vários valores possíveis. Por exemplo, você pode usar se o códon de inicío não está claro e possui dois candidatos para essa vaga. Alternativamente, pode ser tratado explicitamente como duas caraterísticas genéticas relacionadas e;\n",
    "\n",
    "\n",
    "- **UnknownPosition**: Essa classe lida com uma posição de localização desconhecida. Isso não é usado em arquivos do GenBank e EMBL, mas corresponde ao caractere \"?\" usado no UniProt."
   ]
  },
  {
   "cell_type": "markdown",
   "metadata": {},
   "source": [
    "Abaixo segue um exemplo de localização com os pontos confusos:"
   ]
  },
  {
   "cell_type": "code",
   "execution_count": 37,
   "metadata": {},
   "outputs": [],
   "source": [
    "from Bio import SeqFeature\n",
    "posicao_comeco = SeqFeature.AfterPosition(5)\n",
    "posicao_final = SeqFeature.BetweenPosition(9, left=8, right=9)\n",
    "minha_localizacao = SeqFeature.FeatureLocation(posicao_comeco, posicao_final)"
   ]
  },
  {
   "cell_type": "markdown",
   "metadata": {},
   "source": [
    "Observe que os dedatlhes da localizações confusas mudaram na versão 1.59 do Biopython, em particlar as classes **BetweenPosition** e **WithinPosition** onde devemos deixar explícito a posição usada para o fatiamento. Para a posição inicial geralmente é usado um valor no parâmetro **left**, enquanto para o final o valor vai no parâmetro **right** (sempre um valor maior do que o que vai no **left**).\n",
    "\n",
    "Se você quiser mostrar o objeto **FeatureLocation**, basta chamá-lo dentro de um **print**:"
   ]
  },
  {
   "cell_type": "code",
   "execution_count": 38,
   "metadata": {},
   "outputs": [
    {
     "name": "stdout",
     "output_type": "stream",
     "text": [
      "[>5:(8^9)]\n"
     ]
    }
   ],
   "source": [
    "print(minha_localizacao)"
   ]
  },
  {
   "cell_type": "markdown",
   "metadata": {},
   "source": [
    "Você pode acessar a posição inicial e final usando os astributos **start** e **end**, respectivamente, na localização:"
   ]
  },
  {
   "cell_type": "code",
   "execution_count": 39,
   "metadata": {},
   "outputs": [
    {
     "data": {
      "text/plain": [
       "AfterPosition(5)"
      ]
     },
     "execution_count": 39,
     "metadata": {},
     "output_type": "execute_result"
    }
   ],
   "source": [
    "minha_localizacao.start"
   ]
  },
  {
   "cell_type": "code",
   "execution_count": 40,
   "metadata": {},
   "outputs": [
    {
     "name": "stdout",
     "output_type": "stream",
     "text": [
      ">5\n"
     ]
    }
   ],
   "source": [
    "print(minha_localizacao.start)"
   ]
  },
  {
   "cell_type": "code",
   "execution_count": 41,
   "metadata": {},
   "outputs": [
    {
     "data": {
      "text/plain": [
       "BetweenPosition(9, left=8, right=9)"
      ]
     },
     "execution_count": 41,
     "metadata": {},
     "output_type": "execute_result"
    }
   ],
   "source": [
    "minha_localizacao.end"
   ]
  },
  {
   "cell_type": "code",
   "execution_count": 42,
   "metadata": {},
   "outputs": [
    {
     "name": "stdout",
     "output_type": "stream",
     "text": [
      "(8^9)\n"
     ]
    }
   ],
   "source": [
    "print(minha_localizacao.end)"
   ]
  },
  {
   "cell_type": "markdown",
   "metadata": {},
   "source": [
    "Se você não quiser que retorne uma posição confusa mas sim somente os números, pode usar a classe **int**:"
   ]
  },
  {
   "cell_type": "code",
   "execution_count": 43,
   "metadata": {},
   "outputs": [
    {
     "data": {
      "text/plain": [
       "5"
      ]
     },
     "execution_count": 43,
     "metadata": {},
     "output_type": "execute_result"
    }
   ],
   "source": [
    "int(minha_localizacao.start)"
   ]
  },
  {
   "cell_type": "code",
   "execution_count": 44,
   "metadata": {},
   "outputs": [
    {
     "data": {
      "text/plain": [
       "9"
      ]
     },
     "execution_count": 44,
     "metadata": {},
     "output_type": "execute_result"
    }
   ],
   "source": [
    "int(minha_localizacao.end)"
   ]
  },
  {
   "cell_type": "markdown",
   "metadata": {},
   "source": [
    "Para a compatibilidade com as versões mais antigas do Biopython, você pode usar os argumentos **nofuzzy_start** e **nofuzzy_end** para as localizações serem retornadas como inteiros:"
   ]
  },
  {
   "cell_type": "code",
   "execution_count": 45,
   "metadata": {},
   "outputs": [
    {
     "data": {
      "text/plain": [
       "5"
      ]
     },
     "execution_count": 45,
     "metadata": {},
     "output_type": "execute_result"
    }
   ],
   "source": [
    "minha_localizacao.nofuzzy_start"
   ]
  },
  {
   "cell_type": "code",
   "execution_count": 46,
   "metadata": {},
   "outputs": [
    {
     "data": {
      "text/plain": [
       "9"
      ]
     },
     "execution_count": 46,
     "metadata": {},
     "output_type": "execute_result"
    }
   ],
   "source": [
    "minha_localizacao.nofuzzy_end"
   ]
  },
  {
   "cell_type": "markdown",
   "metadata": {},
   "source": [
    "Observe que isso apenas retorna a posição das localizações.\n",
    "\n",
    "De maneira análoga, é fácil criar uma posição sem se importar com as posições confusas. Você pode apenas passar em números para o **FeaturePosition** e será retornado os objetos **ExactPosition**:"
   ]
  },
  {
   "cell_type": "code",
   "execution_count": 47,
   "metadata": {},
   "outputs": [],
   "source": [
    "posicao_exata = SeqFeature.FeatureLocation(5, 9)"
   ]
  },
  {
   "cell_type": "code",
   "execution_count": 48,
   "metadata": {},
   "outputs": [
    {
     "name": "stdout",
     "output_type": "stream",
     "text": [
      "[5:9]\n"
     ]
    }
   ],
   "source": [
    "print(posicao_exata)"
   ]
  },
  {
   "cell_type": "code",
   "execution_count": 49,
   "metadata": {},
   "outputs": [
    {
     "data": {
      "text/plain": [
       "ExactPosition(5)"
      ]
     },
     "execution_count": 49,
     "metadata": {},
     "output_type": "execute_result"
    }
   ],
   "source": [
    "posicao_exata.start"
   ]
  },
  {
   "cell_type": "code",
   "execution_count": 50,
   "metadata": {},
   "outputs": [
    {
     "data": {
      "text/plain": [
       "5"
      ]
     },
     "execution_count": 50,
     "metadata": {},
     "output_type": "execute_result"
    }
   ],
   "source": [
    "int(posicao_exata.start)"
   ]
  },
  {
   "cell_type": "code",
   "execution_count": 51,
   "metadata": {},
   "outputs": [
    {
     "data": {
      "text/plain": [
       "5"
      ]
     },
     "execution_count": 51,
     "metadata": {},
     "output_type": "execute_result"
    }
   ],
   "source": [
    "posicao_exata.nofuzzy_start"
   ]
  },
  {
   "cell_type": "markdown",
   "metadata": {},
   "source": [
    "Essa é a maior parte das questões essênciais sobre as posições confusas em Biopython. Esse mecanismo foi desenhado para lidar de uma maneira não muito complicada em comparação com as posições exatas."
   ]
  },
  {
   "cell_type": "markdown",
   "metadata": {},
   "source": [
    "#### 4.3.2.4 Teste de localização"
   ]
  },
  {
   "cell_type": "markdown",
   "metadata": {},
   "source": [
    "Você pode usar a palavra reservada **in** com o **SeqFeature** ou a localização do objeto para ver se uma base/resíduo para uma coordenada pai está presente no recurso/localização ou não.\n",
    "\n",
    "Por exemplo, vamos supor que você tem um SNP de interesse e gostaria de saber as características desse SNP. Vamos supor que esse SNP esteja na posição 4350 (lembre-se que o Python começa a contar a partir do 0). Abaixo está uma maneira simples de solução usando a força bruta, onde é checado todas as características em um loop:"
   ]
  },
  {
   "cell_type": "code",
   "execution_count": 52,
   "metadata": {},
   "outputs": [
    {
     "name": "stdout",
     "output_type": "stream",
     "text": [
      "source ['taxon:229193']\n",
      "gene None\n",
      "CDS None\n"
     ]
    }
   ],
   "source": [
    "from Bio import SeqIO\n",
    "meu_snp = 4390\n",
    "registro = SeqIO.read('NC_005816.1.gb', 'genbank')\n",
    "for caracteristica in registro.features:\n",
    "    if meu_snp in caracteristica:\n",
    "        print(caracteristica.type, caracteristica.qualifiers.get('db_xref'))"
   ]
  },
  {
   "cell_type": "markdown",
   "metadata": {},
   "source": [
    "### 4.3.3 Sequência descrita por uma característica ou localização"
   ]
  },
  {
   "cell_type": "markdown",
   "metadata": {},
   "source": [
    "**pag 40**"
   ]
  }
 ],
 "metadata": {
  "kernelspec": {
   "display_name": "Python 3",
   "language": "python",
   "name": "python3"
  },
  "language_info": {
   "codemirror_mode": {
    "name": "ipython",
    "version": 3
   },
   "file_extension": ".py",
   "mimetype": "text/x-python",
   "name": "python",
   "nbconvert_exporter": "python",
   "pygments_lexer": "ipython3",
   "version": "3.8.5"
  }
 },
 "nbformat": 4,
 "nbformat_minor": 4
}
