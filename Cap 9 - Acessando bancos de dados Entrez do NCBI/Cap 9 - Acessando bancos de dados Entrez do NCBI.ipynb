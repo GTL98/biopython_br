{
 "cells": [
  {
   "cell_type": "markdown",
   "metadata": {},
   "source": [
    "# Capítulo 9 - Acessando bancos de dados Entrez do NCBI"
   ]
  },
  {
   "cell_type": "markdown",
   "metadata": {},
   "source": [
    "Entrez (https://www.ncbi.nlm.nih.gov/Web/Search/entrezfs.html) é um sistema de recuperação de dados que fornece aos usuários acesso aos bancos de dados do NCBI, tais como PubMed, GenBank, GEO e muitos outros. Você pode acessar o Entrez a partir da internet de modo manual ou usar o módulo `Bio.Entrez` do Biopython. Usando o Entrez como script, você pode, por exemplo, fazer pesquisas no PubMed ou baixar registros do GenBank.\n",
    "\n",
    "O módulo `Bio.Entrez` faz uso do *Entrez Programming Utilities* (também conhecido como EUtils), consitindo em oito ferramentas que são descritas em detalhes na página do NCBI: https://www.ncbi.nlm.nih.gov/books/NBK25501/. Cada uma dessas ferramentas corresponde a uma função do módulo `Bio.Entrez` no Python, como descrito nas seções desse capítulo. Esse módulo grante que a URL correta seja usada nas pesquisas, e que as diretrizes responsáveis pelo acesso aos dados do NCBI sejam seguidas.\n",
    "\n",
    "A saída retornada pelo EUtils geralamente é em um arquivo XML. Para analisar tal saída, você tem algumas opções:\n",
    "\n",
    "1. Usar o analisador do `Bio.Entrez` para analisar a saída XML em um objeto Python;\n",
    "\n",
    "2. Usar um dos analisadores XML disponível na biblioteca padrão do Python ou;\n",
    "\n",
    "3. Ler a saída XML como texto bruto e analisá-lo por pesquisa e manipulação de string.\n",
    "\n",
    "Veja a documentação do Python para os analisadores de XML em suas bibliotecas nativas (https://docs.python.org/pt-br/3.10/library/xml.html). Discutiremos aqui o analisador presente no Biopython com o módulo `Bio.Entrez`. Esse analisador pode ser usado para analisar os dados fornecidos por do Entrez por meio da programação, mas pode ser usado também para analisar dados em XML do NCBI Entrez que estão armazenados em um arquivo. Nesse último caso, o arquivo XML dele ser aberto em modo binário (e.g. **open('meu_arquivo.xml', 'rb')**) para que o analisador do XML no `Bio.Entrez` trabalhe corretamente.\n",
    "\n",
    "O NCBI usa arquivos DTD (em inglês, *Document Type Definition*) para descrever a estrutura da informação contida em arquivos XML. Muitos dos arquivos DTD usados pelo NCBI estão incluídos no Biopython. O analisador `Bio.Entrez` faz uso dos arquivos DTD quando analisa um arquivo XML retornado pelo NCBI Entrez.\n",
    "\n",
    "Ocasionalmente, você pode descobrir que o arquivo DTD associado com um arquivo XML específico está faltando no Biopython. Em particlar, isso acontece quando o NCBI atualiza os arquivos DTD. Se isso acontecer, **Entrez.read** mostrará uma mensagem de aviso com o nome e a URL do arquivo DTD faltante. O analisador procederá para o acesso do arquivo DTD faltante via internet, permitindo a análise do arquivo XML. Porém, o analisador é muito mais rápido se o arquivo DTD estiver disponível localmente. Para isso, baixe o arquivo DTD da URL mostrada na mensagem de aviso e coloque no diretório **...site-packages/Bio/Entrez/DTDs**, onde contém os outros arquivos DTD. Se você não tiver acesso a esse diretório, você pode colocar o arquivo DTD no diretório **~/.biopython/Bio/Entrez/DTDs**, onde o **~** representa o seu diretório principal. Uma vez que esse diretório é lido antes do primeiro, você também pode colocar versões recentes dos arquivos DTD se os presentes no primeiro diretório estiverem desatualizados. De modo alternativo, se você instalou o Biopython da fonte, pode adicionar o arquivo DTD ao diretório **Bio/Entrez/DTDs** do código fonte e reinstalar o Biopython. Isso instalará o novo arquivo DTD no local correto junto com os outros arquivos DTD.\n",
    "\n",
    "O EUtils também pode gerar saídas em outros formatos, tais como arquivos FASTA ou GenBank para banco de dados de sequência, ou formato MedLine para o banco de dados de literatura; discutido na **Seção 9.13**.\n",
    "\n",
    "As funções presentes no `Bio.Entrez` para acesso via programação ao Entrez também retorna os dados em formato binário ou em texto, dependendo do tipo de requisição do dado. Em muitos casos, essas funções retornam o dado em formato de texto, decodificando o dado obtido de NCBI Entrez para strings Python, assumindo que a codificação seja a UTF-8. Todavia, dados em XML são retornados no formato binário. A razão para isso é que a codificação é especificada no próprio documento XML, o que indica que você não saberá o tipo correto de codificação até que comece a análise do arquivo. Portanto, o analisador do `Bio.Entrez` aceita os dados em formato binário, extrai a codificação do XML e usa isso pra decodificar todo o texto presente no documento XML para strings Python, garantindo que todo o texto (em particular, idiomas além do Inglês) seja interpretado corretamente. Essa também é a razão do porque você deve abrir um arquivo XML no modo binário quando você quiser usar o analisador do `Bio.Entrez`."
   ]
  },
  {
   "cell_type": "markdown",
   "metadata": {},
   "source": [
    "## 9.1 Diretrizes do Entrez"
   ]
  },
  {
   "cell_type": "markdown",
   "metadata": {},
   "source": [
    "Antes de usarmos o Biopython para acessar os recursos online do NCBI, vamos ver o que temos no Requisitos do usuário Entrez do NCBI (https://www.ncbi.nlm.nih.gov/books/NBK25497/). Se o NCBI achar que você está abusando dos seus sistemas, ele poderá e banirá o seu acesso!\n",
    "\n",
    "Parafraseando:\n",
    "\n",
    "- Para qualquer série com mais de 100 requisiões, faça isso nos finais de semana ou fora dos horários de pico dos EUA. Depende de você obedecer;\n",
    "\n",
    "- Use o endereço web https://eutils.ncbi.nlm.nih.gov (cai na página do livro sobre o Entrez), não o endereço online do NCBI. O Biopython usa esse endereço web;\n",
    "\n",
    "- Se você estiver usando uma chave API, você pode fazer até 10 consultas por segundo, caso contrário são no máximo 3 consultas por segundo. Isso é aplicado automaticamente pelo Biopython. Inclua o argumento **api_key='MinhaChaveAPI'** ou configure como uma variável do módulo:"
   ]
  },
  {
   "cell_type": "code",
   "execution_count": null,
   "metadata": {},
   "outputs": [],
   "source": [
    "from Bio import Entrez\n",
    "# Não rodar essa célula, pois altera a API e os exemplos não funcionam\n",
    "Entrez.api_key = 'MinhaChaveAPI'"
   ]
  },
  {
   "cell_type": "markdown",
   "metadata": {},
   "source": [
    "- Use o parâmetro opcional de email para que o NCBI entre em contato com você caso surja algum problema. Você também pode definir explicitamente como um parâmetro com cada chamada para Entrez, ou você pode configurar um email global:"
   ]
  },
  {
   "cell_type": "code",
   "execution_count": null,
   "metadata": {},
   "outputs": [],
   "source": [
    "from Bio import Entrez\n",
    "# Não rodar essa célula, pois altera a API e os exemplos não funcionam\n",
    "Entrez.email = 'teste@example.com'"
   ]
  },
  {
   "cell_type": "markdown",
   "metadata": {},
   "source": [
    "- `Bio.Entrez` então usará esse endereço de email com cada chamada do Entrez. O domímio **example.com** é um domínio de endereço reservado especialmente para documentação (RFC 2606). Por favor, **NÃO USE** um email aleatório, é melhor não informar um email nesse caso. Em caso de uso excessivo, o NCBI tentará contatar o usuário do email fornecido antes de bloquear o acesso às utilidades do Enrtez;\n",
    "\n",
    "- Se você estiver usando o Biopython dentro de um pacote de software mario, use o parâmetro da ferramenta para especificar isso. Você pode definir explicitamente o nome da ferramenta como um parâmetro com cada chamada do Entrez, ou configurar o nome da ferramenta de modo global:"
   ]
  },
  {
   "cell_type": "code",
   "execution_count": null,
   "metadata": {},
   "outputs": [],
   "source": [
    "from Bio import Entrez\n",
    "# Não rodar essa célula, pois altera a API e os exemplos não funcionam\n",
    "Entrez.tool = 'MeuScriptLocal'"
   ]
  },
  {
   "cell_type": "markdown",
   "metadata": {},
   "source": [
    "- O parâmetro da ferramenta será o padrão Biopython e;\n",
    "\n",
    "- Para grandes consultas o NCBI também recomenda o uso de seu recurso de histórico de seção (a string do cookie da seção WebEnv, veja a **Seção 9.16**). Isso é apenas um pouco mais complicado, mas não impossível.\n",
    "\n",
    "Para concluir, seja sensato com seus níveis de uso. Se você pretende baixar muitos dados, considere outras opções. Por exemplo, se você quer acessar facilmente os genes humanos, considere buscar cada cromossomo pelo FTP como um arquivo GenBank e importe os importe para o seu banco de dados BioSQL (veja a **Seção 20.5** no Capítulo 20: ***link do capítulo 20***)."
   ]
  },
  {
   "cell_type": "markdown",
   "metadata": {},
   "source": [
    "## 9.2 EInfo: Obtendo informações sobre os bancos de dados Entrez"
   ]
  },
  {
   "cell_type": "markdown",
   "metadata": {},
   "source": [
    "EInfo fornece contagem de termos de índice, última atualização e links disponíveis para cada banco de dados do NCBI. Além disso, você pode usar o EInfo para obter uma lista com todos os nomes do banco de dados acessíveis através do Entrez utilities:"
   ]
  },
  {
   "cell_type": "code",
   "execution_count": 1,
   "metadata": {},
   "outputs": [],
   "source": [
    "from Bio import Entrez\n",
    "Entrez.email = 'teste@example.com'\n",
    "identificador = Entrez.einfo()\n",
    "resultado = identificador.read()\n",
    "identificador.close()"
   ]
  },
  {
   "cell_type": "markdown",
   "metadata": {},
   "source": [
    "A variável **resultado** contém agora uma lista dos bancos de dados em formato XML:"
   ]
  },
  {
   "cell_type": "code",
   "execution_count": 2,
   "metadata": {
    "scrolled": true
   },
   "outputs": [
    {
     "name": "stdout",
     "output_type": "stream",
     "text": [
      "b'<?xml version=\"1.0\" encoding=\"UTF-8\" ?>\\n<!DOCTYPE eInfoResult PUBLIC \"-//NLM//DTD einfo 20190110//EN\" \"https://eutils.ncbi.nlm.nih.gov/eutils/dtd/20190110/einfo.dtd\">\\n<eInfoResult>\\n<DbList>\\n\\n\\t<DbName>pubmed</DbName>\\n\\t<DbName>protein</DbName>\\n\\t<DbName>nuccore</DbName>\\n\\t<DbName>ipg</DbName>\\n\\t<DbName>nucleotide</DbName>\\n\\t<DbName>structure</DbName>\\n\\t<DbName>genome</DbName>\\n\\t<DbName>annotinfo</DbName>\\n\\t<DbName>assembly</DbName>\\n\\t<DbName>bioproject</DbName>\\n\\t<DbName>biosample</DbName>\\n\\t<DbName>blastdbinfo</DbName>\\n\\t<DbName>books</DbName>\\n\\t<DbName>cdd</DbName>\\n\\t<DbName>clinvar</DbName>\\n\\t<DbName>gap</DbName>\\n\\t<DbName>gapplus</DbName>\\n\\t<DbName>grasp</DbName>\\n\\t<DbName>dbvar</DbName>\\n\\t<DbName>gene</DbName>\\n\\t<DbName>gds</DbName>\\n\\t<DbName>geoprofiles</DbName>\\n\\t<DbName>homologene</DbName>\\n\\t<DbName>medgen</DbName>\\n\\t<DbName>mesh</DbName>\\n\\t<DbName>ncbisearch</DbName>\\n\\t<DbName>nlmcatalog</DbName>\\n\\t<DbName>omim</DbName>\\n\\t<DbName>orgtrack</DbName>\\n\\t<DbName>pmc</DbName>\\n\\t<DbName>popset</DbName>\\n\\t<DbName>proteinclusters</DbName>\\n\\t<DbName>pcassay</DbName>\\n\\t<DbName>protfam</DbName>\\n\\t<DbName>biosystems</DbName>\\n\\t<DbName>pccompound</DbName>\\n\\t<DbName>pcsubstance</DbName>\\n\\t<DbName>seqannot</DbName>\\n\\t<DbName>snp</DbName>\\n\\t<DbName>sra</DbName>\\n\\t<DbName>taxonomy</DbName>\\n\\t<DbName>biocollections</DbName>\\n\\t<DbName>gtr</DbName>\\n</DbList>\\n\\n</eInfoResult>\\n'\n"
     ]
    }
   ],
   "source": [
    "print(resultado)"
   ]
  },
  {
   "cell_type": "markdown",
   "metadata": {},
   "source": [
    "Uma vez que esse arquivo XML é bastante simples, podemos extrair as informações usando uma busca por strings. Usando o analisador do `Bio.Entrez`, podemos analisar diretamente o arquivo XML como um objeto Python:"
   ]
  },
  {
   "cell_type": "code",
   "execution_count": 3,
   "metadata": {},
   "outputs": [],
   "source": [
    "from Bio import Entrez\n",
    "identificador = Entrez.einfo()\n",
    "registro = Entrez.read(identificador)"
   ]
  },
  {
   "cell_type": "markdown",
   "metadata": {},
   "source": [
    "Agora **registro** é um dicionário com exatamente uma chave:"
   ]
  },
  {
   "cell_type": "code",
   "execution_count": 4,
   "metadata": {},
   "outputs": [
    {
     "data": {
      "text/plain": [
       "dict_keys(['DbList'])"
      ]
     },
     "execution_count": 4,
     "metadata": {},
     "output_type": "execute_result"
    }
   ],
   "source": [
    "registro.keys()"
   ]
  },
  {
   "cell_type": "markdown",
   "metadata": {},
   "source": [
    "Os valores armazenados nessa chave é uma lista dos nomes dos bancos de dados mostrados no XML acima:"
   ]
  },
  {
   "cell_type": "code",
   "execution_count": 5,
   "metadata": {},
   "outputs": [
    {
     "data": {
      "text/plain": [
       "['pubmed', 'protein', 'nuccore', 'ipg', 'nucleotide', 'structure', 'genome', 'annotinfo', 'assembly', 'bioproject', 'biosample', 'blastdbinfo', 'books', 'cdd', 'clinvar', 'gap', 'gapplus', 'grasp', 'dbvar', 'gene', 'gds', 'geoprofiles', 'homologene', 'medgen', 'mesh', 'ncbisearch', 'nlmcatalog', 'omim', 'orgtrack', 'pmc', 'popset', 'proteinclusters', 'pcassay', 'protfam', 'biosystems', 'pccompound', 'pcsubstance', 'seqannot', 'snp', 'sra', 'taxonomy', 'biocollections', 'gtr']"
      ]
     },
     "execution_count": 5,
     "metadata": {},
     "output_type": "execute_result"
    }
   ],
   "source": [
    "registro['DbList']"
   ]
  },
  {
   "cell_type": "markdown",
   "metadata": {},
   "source": [
    "Para cada um desses banco de dados, podemos usar o EInfo novamente para obter mais informações:"
   ]
  },
  {
   "cell_type": "code",
   "execution_count": 6,
   "metadata": {},
   "outputs": [
    {
     "data": {
      "text/plain": [
       "'PubMed bibliographic record'"
      ]
     },
     "execution_count": 6,
     "metadata": {},
     "output_type": "execute_result"
    }
   ],
   "source": [
    "from Bio import Entrez\n",
    "Entrez.email = 'teste@example.com'\n",
    "identificador = Entrez.einfo(db='pubmed')\n",
    "registro = Entrez.read(identificador)\n",
    "registro['DbInfo']['Description']"
   ]
  },
  {
   "cell_type": "code",
   "execution_count": 7,
   "metadata": {},
   "outputs": [
    {
     "data": {
      "text/plain": [
       "'33385939'"
      ]
     },
     "execution_count": 7,
     "metadata": {},
     "output_type": "execute_result"
    }
   ],
   "source": [
    "registro['DbInfo']['Count']"
   ]
  },
  {
   "cell_type": "code",
   "execution_count": 8,
   "metadata": {},
   "outputs": [
    {
     "data": {
      "text/plain": [
       "'2021/11/30 14:37'"
      ]
     },
     "execution_count": 8,
     "metadata": {},
     "output_type": "execute_result"
    }
   ],
   "source": [
    "registro['DbInfo']['LastUpdate']"
   ]
  },
  {
   "cell_type": "markdown",
   "metadata": {},
   "source": [
    "Tente usar **registro['DbInfo'].keys()** para acessar as outras informações presentes nesse registro:"
   ]
  },
  {
   "cell_type": "code",
   "execution_count": 9,
   "metadata": {},
   "outputs": [
    {
     "data": {
      "text/plain": [
       "dict_keys(['DbName', 'MenuName', 'Description', 'DbBuild', 'Count', 'LastUpdate', 'FieldList', 'LinkList'])"
      ]
     },
     "execution_count": 9,
     "metadata": {},
     "output_type": "execute_result"
    }
   ],
   "source": [
    "registro['DbInfo'].keys()"
   ]
  },
  {
   "cell_type": "markdown",
   "metadata": {},
   "source": [
    "Um dos mais úteis é uma lista de possíveis pesquisas para usar como o ESearch:"
   ]
  },
  {
   "cell_type": "code",
   "execution_count": 10,
   "metadata": {
    "scrolled": true
   },
   "outputs": [
    {
     "name": "stdout",
     "output_type": "stream",
     "text": [
      "ALL, All Fields, All terms from all searchable fields\n",
      "UID, UID, Unique number assigned to publication\n",
      "FILT, Filter, Limits the records\n",
      "TITL, Title, Words in title of publication\n",
      "WORD, Text Word, Free text associated with publication\n",
      "MESH, MeSH Terms, Medical Subject Headings assigned to publication\n",
      "MAJR, MeSH Major Topic, MeSH terms of major importance to publication\n",
      "AUTH, Author, Author(s) of publication\n",
      "JOUR, Journal, Journal abbreviation of publication\n",
      "AFFL, Affiliation, Author's institutional affiliation and address\n",
      "ECNO, EC/RN Number, EC number for enzyme or CAS registry number\n",
      "SUBS, Supplementary Concept, CAS chemical name or MEDLINE Substance Name\n",
      "PDAT, Date - Publication, Date of publication\n",
      "EDAT, Date - Entrez, Date publication first accessible through Entrez\n",
      "VOL, Volume, Volume number of publication\n",
      "PAGE, Pagination, Page number(s) of publication\n",
      "PTYP, Publication Type, Type of publication (e.g., review)\n",
      "LANG, Language, Language of publication\n",
      "ISS, Issue, Issue number of publication\n",
      "SUBH, MeSH Subheading, Additional specificity for MeSH term\n",
      "SI, Secondary Source ID, Cross-reference from publication to other databases\n",
      "MHDA, Date - MeSH, Date publication was indexed with MeSH terms\n",
      "TIAB, Title/Abstract, Free text associated with Abstract/Title\n",
      "OTRM, Other Term, Other terms associated with publication\n",
      "INVR, Investigator, Investigator\n",
      "COLN, Author - Corporate, Corporate Author of publication\n",
      "CNTY, Place of Publication, Country of publication\n",
      "PAPX, Pharmacological Action, MeSH pharmacological action pre-explosions\n",
      "GRNT, Grant Number, NIH Grant Numbers\n",
      "MDAT, Date - Modification, Date of last modification\n",
      "CDAT, Date - Completion, Date of completion\n",
      "PID, Publisher ID, Publisher ID\n",
      "FAUT, Author - First, First Author of publication\n",
      "FULL, Author - Full, Full Author Name(s) of publication\n",
      "FINV, Investigator - Full, Full name of investigator\n",
      "TT, Transliterated Title, Words in transliterated title of publication\n",
      "LAUT, Author - Last, Last Author of publication\n",
      "PPDT, Print Publication Date, Date of print publication\n",
      "EPDT, Electronic Publication Date, Date of Electronic publication\n",
      "LID, Location ID, ELocation ID\n",
      "CRDT, Date - Create, Date publication first accessible through Entrez\n",
      "BOOK, Book, ID of the book that contains the document\n",
      "ED, Editor, Section's Editor\n",
      "ISBN, ISBN, ISBN\n",
      "PUBN, Publisher, Publisher's name\n",
      "AUCL, Author Cluster ID, Author Cluster ID\n",
      "EID, Extended PMID, Extended PMID\n",
      "DSO, DSO, Additional text from the summary\n",
      "AUID, Author - Identifier, Author Identifier\n",
      "PS, Subject - Personal Name, Personal Name as Subject\n",
      "COIS, Conflict of Interest Statements, Conflict of Interest Statements\n"
     ]
    }
   ],
   "source": [
    "for campo in registro['DbInfo']['FieldList']:\n",
    "    print('%(Name)s, %(FullName)s, %(Description)s'%campo)"
   ]
  },
  {
   "cell_type": "markdown",
   "metadata": {},
   "source": [
    "Essa é uma longa lista, mas indiretamente isso diz a você que para o banco de dados do PubMed, você pode fazer coisas como **Jones[AUTH]** para pesquisar o autor, ou **Sanger[AFFL]** para restringir os autores ao Wellcome Sanger Institute. Isso pode ser muito útil, especialmente e você não estiver familiarizado com um banco de dados em particular."
   ]
  },
  {
   "cell_type": "markdown",
   "metadata": {},
   "source": [
    "## 9.3 ESearch: Pesquisando os bancos de dados de Entrez"
   ]
  },
  {
   "cell_type": "markdown",
   "metadata": {},
   "source": [
    "Para pesquisar em qualquer banco de dados, usaremos o `Bio.Entrez.esearch()`. Por exemplo, vamos procurar no PubMed publicações que incluem o Biopython em seu título:"
   ]
  },
  {
   "cell_type": "code",
   "execution_count": 11,
   "metadata": {},
   "outputs": [
    {
     "data": {
      "text/plain": [
       "True"
      ]
     },
     "execution_count": 11,
     "metadata": {},
     "output_type": "execute_result"
    }
   ],
   "source": [
    "from Bio import Entrez\n",
    "Entrez.email = 'teste@example.com'\n",
    "identificador = Entrez.esearch(db='pubmed', term='biopython[title]', retmax='40')\n",
    "registro = Entrez.read(identificador)\n",
    "'19304878' in registro['IdList']"
   ]
  },
  {
   "cell_type": "code",
   "execution_count": 12,
   "metadata": {},
   "outputs": [
    {
     "name": "stdout",
     "output_type": "stream",
     "text": [
      "['34434786', '22909249', '19304878']\n"
     ]
    }
   ],
   "source": [
    "print(registro['IdList'])"
   ]
  },
  {
   "cell_type": "markdown",
   "metadata": {},
   "source": [
    "Nessa saída, vemos os IDs do PubMed (se tiver curiodidade, procure esses IDs no PubMed para ver do que se trata), que pode ser revuperado pelo EFetch (veja a **Seção 9.6**).\n",
    "\n",
    "Você também pode usar o ESearch para fazer pesquisas no GenBank. Faremos uma rápida pesquisa no gene *matK* das orquídeas *Cypripedioideae* (veja a **Seção 9.2** sobre o EInfo para descobrir quais campos você pode pesquisar em cada banco de dados Entrez):"
   ]
  },
  {
   "cell_type": "code",
   "execution_count": 13,
   "metadata": {},
   "outputs": [
    {
     "data": {
      "text/plain": [
       "'585'"
      ]
     },
     "execution_count": 13,
     "metadata": {},
     "output_type": "execute_result"
    }
   ],
   "source": [
    "from Bio import Entrez\n",
    "identificador = Entrez.esearch(db='nucleotide', term='Cypripedioideae[Orgn] AND matK[Gene]', idtype='acc')\n",
    "registro = Entrez.read(identificador)\n",
    "registro['Count']"
   ]
  },
  {
   "cell_type": "code",
   "execution_count": 14,
   "metadata": {},
   "outputs": [
    {
     "data": {
      "text/plain": [
       "['NC_058834.1', 'NC_058833.1', 'NC_058832.1', 'OK120861.1', 'OK120860.1', 'NC_058212.1', 'NC_058211.1', 'NC_058210.1', 'NC_058209.1', 'NC_058208.1', 'NC_058207.1', 'NC_058206.1', 'MN315109.1', 'MN315108.1', 'MN315107.1', 'MN315106.1', 'MN315105.1', 'NC_056912.1', 'MZ150831.1', 'MZ150830.1']"
      ]
     },
     "execution_count": 14,
     "metadata": {},
     "output_type": "execute_result"
    }
   ],
   "source": [
    "registro['IdList']"
   ]
  },
  {
   "cell_type": "markdown",
   "metadata": {},
   "source": [
    "Cada um dos IDs (NC_058834.1, NC_058833.1, NC_058832.1) é um identificador do GenBank (Número de acesso). Veja a **Seção 9.6** para mais informações de como baixar os registros do GenBank.\n",
    "\n",
    "Observe que ao invés de um nome de espécie como **Cypripedioideae[Orgn]**, você pode restringir a pesquisa usando um identificador taxonômico do NCBI, que no caso poderia ser **txid158330[Orgn]**. Esse modo de pesquisa não estão devidamente documentado na página web de ajuda de ESearch. Muitas vezes, você pode deduzir a formatação do termo de pesquisa brincando com a interface da web do Entrez. Por exemplo, incluir o termo **complete[prop]** na pesquisa de genoma restringe a pesquisa apenas para genomas completos.\n",
    "\n",
    "Como exemplo final, vamos obter uma lista de títulos de periódicos computacionais:"
   ]
  },
  {
   "cell_type": "code",
   "execution_count": 15,
   "metadata": {},
   "outputs": [
    {
     "name": "stdout",
     "output_type": "stream",
     "text": [
      "Foram encontrados 187 periódicos computacionais.\n"
     ]
    }
   ],
   "source": [
    "from Bio import Entrez\n",
    "identificador = Entrez.esearch(db='nlmcatalog', term='computational[Journal]', retmax='20')\n",
    "registro = Entrez.read(identificador)\n",
    "num_counts = registro['Count']\n",
    "print(f'Foram encontrados {num_counts} periódicos computacionais.')"
   ]
  },
  {
   "cell_type": "code",
   "execution_count": 16,
   "metadata": {},
   "outputs": [
    {
     "name": "stdout",
     "output_type": "stream",
     "text": [
      "Os primeiros 20 periódicos são:\n",
      "['101775476', '101775136', '468912', '468839', '467370', '101775780', '101774751', '466063', '101768752', '101765300', '101759185', '101752828', '464655', '101768811', '101755127', '101753951', '101753371', '101740904', '101737789', '101736625']\n"
     ]
    }
   ],
   "source": [
    "primeiros_periodicos = registro['IdList']\n",
    "print(f'Os primeiros 20 periódicos são:\\n{primeiros_periodicos}')"
   ]
  },
  {
   "cell_type": "markdown",
   "metadata": {},
   "source": [
    "Novamente, você pode usar o EFetch para obter mais informações de cada um desses periódicos.\n",
    "\n",
    "ESearch possi muitas opções úteis, veja a página wweb para mais informações: https://www.ncbi.nlm.nih.gov/books/NBK25499/#chapter4.ESearch."
   ]
  },
  {
   "cell_type": "markdown",
   "metadata": {},
   "source": [
    "## 9.4 Epost: Enviando uma lista de identificadores"
   ]
  },
  {
   "cell_type": "markdown",
   "metadata": {},
   "source": [
    "EPost envia uma lista de UIs para uso em estratégias de pesquisa subsequentes; veja a página de ajuda online do EPost para mais informações (https://www.ncbi.nlm.nih.gov/books/NBK25499/#chapter4.EPost). Essa ferramenta está disponível no Biopython pelo módulo `Bio.Entrez.epost()`.\n",
    "\n",
    "Para dar um exemplo de quão essa função é útil, suponha que você tenha uma longa lista de IDs e quer baixá-las usando o EFetch (talvez as sequências, ou citações, ou qualquer informação). Quando você faz uma requisição com o EFetch com a sua lista de IDs, banco de dados, etc, tudo é transformado em uma longa URL que pe mandada para o servidor. Se a sua lista de IDs é longa, essa URL será longa e URLs longas podem quebrar.\n",
    "\n",
    "Ao invés disso, você pode separar em duas etapas; primeiro enviando a lista de IDs usando o EPost (isso usa um 'HTML post' internamente, ao invés de um 'HTML get', contornando assim o problema da URL longa).\n",
    "Com o suporte de histórico, você pode consultar uma longa lista de IDs e baixar os dados associados com o EFetch.\n",
    "\n",
    "Vejamos um exemplo simples para entender como o EPost funciona, enviando alguns identificadores PubMed:"
   ]
  },
  {
   "cell_type": "code",
   "execution_count": 17,
   "metadata": {},
   "outputs": [
    {
     "name": "stdout",
     "output_type": "stream",
     "text": [
      "b'<?xml version=\"1.0\" encoding=\"UTF-8\" ?>\\n<!DOCTYPE ePostResult PUBLIC \"-//NLM//DTD epost 20090526//EN\" \"https://eutils.ncbi.nlm.nih.gov/eutils/dtd/20090526/epost.dtd\"><ePostResult>\\n\\t<QueryKey>1</QueryKey>\\n\\t<WebEnv>MCID_61a7d13c31a0a8799a1add54</WebEnv>\\n</ePostResult>\\n'\n"
     ]
    }
   ],
   "source": [
    "from Bio import Entrez\n",
    "Entrez.email = 'teste@example.com'\n",
    "lista_ids = ['19304878', '18606172', '16403221', '16377612', '14871861', '14630660']\n",
    "print(Entrez.epost('pubmed', id=','.join(lista_ids)).read())"
   ]
  },
  {
   "cell_type": "markdown",
   "metadata": {},
   "source": [
    "O XML retornado inclui duas strings importantes: **QueryKey** e **WebEnv** que juntas definem o nosso histórico da seção. Você pode extrair esses valores para usar em outra chamada do Entrez, como no EFetch:"
   ]
  },
  {
   "cell_type": "code",
   "execution_count": 18,
   "metadata": {},
   "outputs": [],
   "source": [
    "from Bio import Entrez\n",
    "Entrez.email = 'teste@example.com'\n",
    "lista_ids = ['19304878', '18606172', '16403221', '16377612', '14871861', '14630660']\n",
    "resultados_pesquisa = Entrez.read(Entrez.epost('pubmed', id=','.join(lista_ids)))\n",
    "webenv = resultados_pesquisa['WebEnv']\n",
    "query_key = resultados_pesquisa['QueryKey']"
   ]
  },
  {
   "cell_type": "code",
   "execution_count": 19,
   "metadata": {},
   "outputs": [
    {
     "data": {
      "text/plain": [
       "'MCID_61a7d13de2ebbf4b9114316b'"
      ]
     },
     "execution_count": 19,
     "metadata": {},
     "output_type": "execute_result"
    }
   ],
   "source": [
    "webenv"
   ]
  },
  {
   "cell_type": "code",
   "execution_count": 20,
   "metadata": {},
   "outputs": [
    {
     "data": {
      "text/plain": [
       "'1'"
      ]
     },
     "execution_count": 20,
     "metadata": {},
     "output_type": "execute_result"
    }
   ],
   "source": [
    "query_key"
   ]
  },
  {
   "cell_type": "markdown",
   "metadata": {},
   "source": [
    "Veja a **Seção 9.16** para saber como usar o recurso de histórico."
   ]
  },
  {
   "cell_type": "markdown",
   "metadata": {},
   "source": [
    "## 9.5 ESummary: Recuperando resumos de IDs primários"
   ]
  },
  {
   "cell_type": "markdown",
   "metadata": {},
   "source": [
    "ESummary recupera resumos de documentos de uma lista de IDs primários (veja a página web de ajuda do ESummary para mais informações: https://www.ncbi.nlm.nih.gov/books/NBK25499/#chapter4.ESummary). No Biopython, o ESummary está disponível pelo módulo `Bio.Entrez.esummary()`. Usando o resultado de pesquisa acima, podemos, por exemplo, descobrir mais sobre o periódico de ID 101660833:"
   ]
  },
  {
   "cell_type": "code",
   "execution_count": 21,
   "metadata": {},
   "outputs": [
    {
     "name": "stdout",
     "output_type": "stream",
     "text": [
      "Informação do periódico\n",
      "ID: 101660833\n",
      "Título: IEEE transactions on computational imaging.\n"
     ]
    }
   ],
   "source": [
    "from Bio import Entrez\n",
    "Entrez.email = 'teste@example.com'\n",
    "identificador = Entrez.esummary(db='nlmcatalog', id='101660833')\n",
    "registro = Entrez.read(identificador)\n",
    "info = registro[0]['TitleMainList'][0]\n",
    "id_periodico = registro[0]['Id']\n",
    "titulo_periodico = info['Title']\n",
    "print(f'''Informação do periódico\n",
    "ID: {id_periodico}\n",
    "Título: {titulo_periodico}''')"
   ]
  },
  {
   "cell_type": "markdown",
   "metadata": {},
   "source": [
    "## 9.6 EFetch: Baixando registros completos do Entrez"
   ]
  },
  {
   "cell_type": "markdown",
   "metadata": {},
   "source": [
    "EFetch é usando quando você quer recuperar um registro completo do Entrez. Isso cobre várioas bancos de dados possíveis, como descrito na página online de ajuda do EFetch: https://www.ncbi.nlm.nih.gov/books/NBK3837/.\n",
    "\n",
    "Para a maioria dos seus bancos de dados, o NCBI suporta vários tipos de arquivos. Requisitar um formato específico de arquivo do Entrez usando o `Bio.Entrez.efetch()`, requer que os argumentos opcionais **rettype** e/ou **retmode** sejam especificados. As diferentes combinações são descritas para cada tipo de banco de dados nas páginas lincadas à página do EFetch no NCBI: https://www.ncbi.nlm.nih.gov/books/NBK25499/#chapter4.EFetch.\n",
    "\n",
    "Um uso comum é baixar sequências no formato FASTA ou GenBank/GenPept como textos, que podem ser analisados com o `Bio.SeqIO` (veja a **Seção 5.3.1** para mais informações no Capítulo 5: https://github.com/GTL98/biopython_br/tree/main/Cap%205%20-%20Sequ%C3%AAncias%20Input_Output). Usaremos os mesmo dados dos exemplos acima. Podemos baixar o registro EU490707 do GenBank usando o `Bio.Entrez.efetch()`:"
   ]
  },
  {
   "cell_type": "code",
   "execution_count": 22,
   "metadata": {
    "scrolled": true
   },
   "outputs": [
    {
     "name": "stdout",
     "output_type": "stream",
     "text": [
      "LOCUS       EU490707                1302 bp    DNA     linear   PLN 26-JUL-2016\n",
      "DEFINITION  Selenipedium aequinoctiale maturase K (matK) gene, partial cds;\n",
      "            chloroplast.\n",
      "ACCESSION   EU490707\n",
      "VERSION     EU490707.1\n",
      "KEYWORDS    .\n",
      "SOURCE      chloroplast Selenipedium aequinoctiale\n",
      "  ORGANISM  Selenipedium aequinoctiale\n",
      "            Eukaryota; Viridiplantae; Streptophyta; Embryophyta; Tracheophyta;\n",
      "            Spermatophyta; Magnoliopsida; Liliopsida; Asparagales; Orchidaceae;\n",
      "            Cypripedioideae; Selenipedium.\n",
      "REFERENCE   1  (bases 1 to 1302)\n",
      "  AUTHORS   Neubig,K.M., Whitten,W.M., Carlsward,B.S., Blanco,M.A., Endara,L.,\n",
      "            Williams,N.H. and Moore,M.\n",
      "  TITLE     Phylogenetic utility of ycf1 in orchids: a plastid gene more\n",
      "            variable than matK\n",
      "  JOURNAL   Plant Syst. Evol. 277 (1-2), 75-84 (2009)\n",
      "REFERENCE   2  (bases 1 to 1302)\n",
      "  AUTHORS   Neubig,K.M., Whitten,W.M., Carlsward,B.S., Blanco,M.A.,\n",
      "            Endara,C.L., Williams,N.H. and Moore,M.J.\n",
      "  TITLE     Direct Submission\n",
      "  JOURNAL   Submitted (14-FEB-2008) Department of Botany, University of\n",
      "            Florida, 220 Bartram Hall, Gainesville, FL 32611-8526, USA\n",
      "FEATURES             Location/Qualifiers\n",
      "     source          1..1302\n",
      "                     /organism=\"Selenipedium aequinoctiale\"\n",
      "                     /organelle=\"plastid:chloroplast\"\n",
      "                     /mol_type=\"genomic DNA\"\n",
      "                     /specimen_voucher=\"FLAS:Blanco 2475\"\n",
      "                     /db_xref=\"taxon:256374\"\n",
      "     gene            <1..>1302\n",
      "                     /gene=\"matK\"\n",
      "     CDS             <1..>1302\n",
      "                     /gene=\"matK\"\n",
      "                     /codon_start=1\n",
      "                     /transl_table=11\n",
      "                     /product=\"maturase K\"\n",
      "                     /protein_id=\"ACC99456.1\"\n",
      "                     /translation=\"IFYEPVEIFGYDNKSSLVLVKRLITRMYQQNFLISSVNDSNQKG\n",
      "                     FWGHKHFFSSHFSSQMVSEGFGVILEIPFSSQLVSSLEEKKIPKYQNLRSIHSIFPFL\n",
      "                     EDKFLHLNYVSDLLIPHPIHLEILVQILQCRIKDVPSLHLLRLLFHEYHNLNSLITSK\n",
      "                     KFIYAFSKRKKRFLWLLYNSYVYECEYLFQFLRKQSSYLRSTSSGVFLERTHLYVKIE\n",
      "                     HLLVVCCNSFQRILCFLKDPFMHYVRYQGKAILASKGTLILMKKWKFHLVNFWQSYFH\n",
      "                     FWSQPYRIHIKQLSNYSFSFLGYFSSVLENHLVVRNQMLENSFIINLLTKKFDTIAPV\n",
      "                     ISLIGSLSKAQFCTVLGHPISKPIWTDFSDSDILDRFCRICRNLCRYHSGSSKKQVLY\n",
      "                     RIKYILRLSCARTLARKHKSTVRTFMRRLGSGLLEEFFMEEE\"\n",
      "ORIGIN      \n",
      "        1 attttttacg aacctgtgga aatttttggt tatgacaata aatctagttt agtacttgtg\n",
      "       61 aaacgtttaa ttactcgaat gtatcaacag aattttttga tttcttcggt taatgattct\n",
      "      121 aaccaaaaag gattttgggg gcacaagcat tttttttctt ctcatttttc ttctcaaatg\n",
      "      181 gtatcagaag gttttggagt cattctggaa attccattct cgtcgcaatt agtatcttct\n",
      "      241 cttgaagaaa aaaaaatacc aaaatatcag aatttacgat ctattcattc aatatttccc\n",
      "      301 tttttagaag acaaattttt acatttgaat tatgtgtcag atctactaat accccatccc\n",
      "      361 atccatctgg aaatcttggt tcaaatcctt caatgccgga tcaaggatgt tccttctttg\n",
      "      421 catttattgc gattgctttt ccacgaatat cataatttga atagtctcat tacttcaaag\n",
      "      481 aaattcattt acgccttttc aaaaagaaag aaaagattcc tttggttact atataattct\n",
      "      541 tatgtatatg aatgcgaata tctattccag tttcttcgta aacagtcttc ttatttacga\n",
      "      601 tcaacatctt ctggagtctt tcttgagcga acacatttat atgtaaaaat agaacatctt\n",
      "      661 ctagtagtgt gttgtaattc ttttcagagg atcctatgct ttctcaagga tcctttcatg\n",
      "      721 cattatgttc gatatcaagg aaaagcaatt ctggcttcaa agggaactct tattctgatg\n",
      "      781 aagaaatgga aatttcatct tgtgaatttt tggcaatctt attttcactt ttggtctcaa\n",
      "      841 ccgtatagga ttcatataaa gcaattatcc aactattcct tctcttttct ggggtatttt\n",
      "      901 tcaagtgtac tagaaaatca tttggtagta agaaatcaaa tgctagagaa ttcatttata\n",
      "      961 ataaatcttc tgactaagaa attcgatacc atagccccag ttatttctct tattggatca\n",
      "     1021 ttgtcgaaag ctcaattttg tactgtattg ggtcatccta ttagtaaacc gatctggacc\n",
      "     1081 gatttctcgg attctgatat tcttgatcga ttttgccgga tatgtagaaa tctttgtcgt\n",
      "     1141 tatcacagcg gatcctcaaa aaaacaggtt ttgtatcgta taaaatatat acttcgactt\n",
      "     1201 tcgtgtgcta gaactttggc acggaaacat aaaagtacag tacgcacttt tatgcgaaga\n",
      "     1261 ttaggttcgg gattattaga agaattcttt atggaagaag aa\n",
      "//\n",
      "\n",
      "\n"
     ]
    }
   ],
   "source": [
    "from Bio import Entrez\n",
    "Entrez.email = 'teste@example.com'\n",
    "identificador = Entrez.efetch(db='nucleotide', id='EU490707', rettype='gb', retmode='text')\n",
    "print(identificador.read())"
   ]
  },
  {
   "attachments": {
    "show_gi_ncbi.png": {
     "image/png": "[encoded data removed]"
    }
   },
   "cell_type": "markdown",
   "metadata": {},
   "source": [
    "Vale ressaltar que a partir de Outubro de 2016 os identificadores GI foram descontinados em favor dos números de acesso. Caso você queira baixar manualmente o arquivo, basta selecionar a opção 'show GI', como mostrado na figura abaixo:\n",
    "\n",
    "![show_gi_ncbi.png](attachment:show_gi_ncbi.png)\n",
    "\n",
    "Você pode continuar buscando sequências baseadas no GI, mas as novas sequências não possuem mais esse identificador. Ao invés disso, você deve informar o 'Accession number' como feito no exemplo.\n",
    "\n",
    "Os argumento **rettype='gb'** e **retmode='text'** permite que baixemos esse registro no formato GenBank.\n",
    "\n",
    "Note que até o Outono de 2009, a API do Entrez EFetch permitia que você usasse 'genbank' como o tipo retornado, porém, o NCBI insiste que você use o tipo de retorno oficial como 'gb' ou 'gbwithparts' (ou 'gp' para proteínas) como descrito online. Observe também que até Fevereiro de 2012, a API do Entrez EFetch retornava como padrão um texto, agora o padrão é XML.\n",
    "\n",
    "De modo alternativo, você pode, por exemplo, usar o argumento **rettype='fasta'** para obter a saída em formato FASTA. Lembre-se que os formatos disponíveis dependem de qual banco de dados você está fazendo o download.\n",
    "\n",
    "Se você buscar o registro em um dor formatos aceitos pelo `Bio.SeqIO` (veja o Capítulo 5: https://github.com/GTL98/biopython_br/tree/main/Cap%205%20-%20Sequ%C3%AAncias%20Input_Output), você pode analisar diretamente em um objeto **SeqRecord**:"
   ]
  },
  {
   "cell_type": "code",
   "execution_count": 23,
   "metadata": {},
   "outputs": [
    {
     "name": "stdout",
     "output_type": "stream",
     "text": [
      "EU490707.1\n"
     ]
    }
   ],
   "source": [
    "from Bio import SeqIO\n",
    "from Bio import Entrez\n",
    "Entrez.email = 'teste@example.com'\n",
    "identificador = Entrez.efetch(db='nucleotide', id='EU490707', rettype='gb', retmode='text')\n",
    "registro = SeqIO.read(identificador, 'gb')\n",
    "identificador.close()\n",
    "print(registro.id)"
   ]
  },
  {
   "cell_type": "code",
   "execution_count": 24,
   "metadata": {},
   "outputs": [
    {
     "name": "stdout",
     "output_type": "stream",
     "text": [
      "EU490707\n"
     ]
    }
   ],
   "source": [
    "print(registro.name)"
   ]
  },
  {
   "cell_type": "code",
   "execution_count": 25,
   "metadata": {},
   "outputs": [
    {
     "name": "stdout",
     "output_type": "stream",
     "text": [
      "Selenipedium aequinoctiale maturase K (matK) gene, partial cds; chloroplast\n"
     ]
    }
   ],
   "source": [
    "print(registro.description)"
   ]
  },
  {
   "cell_type": "code",
   "execution_count": 26,
   "metadata": {},
   "outputs": [
    {
     "name": "stdout",
     "output_type": "stream",
     "text": [
      "3\n"
     ]
    }
   ],
   "source": [
    "print(len(registro.features))"
   ]
  },
  {
   "cell_type": "code",
   "execution_count": 27,
   "metadata": {},
   "outputs": [
    {
     "data": {
      "text/plain": [
       "Seq('ATTTTTTACGAACCTGTGGAAATTTTTGGTTATGACAATAAATCTAGTTTAGTA...GAA')"
      ]
     },
     "execution_count": 27,
     "metadata": {},
     "output_type": "execute_result"
    }
   ],
   "source": [
    "registro.seq"
   ]
  },
  {
   "cell_type": "markdown",
   "metadata": {},
   "source": [
    "Observe que a maneira mais comum seria salvar os dados da sequência em um arquivo local e aí sim analisá-lo com o `Bio.SeqIO`. Isso pode evitar que você baixe novamente o mesmo arquivo repetidas vezes enqunto trabalha em seu código e coloca menos carga nos servidores do NCBI. Por exemplo:"
   ]
  },
  {
   "cell_type": "code",
   "execution_count": 28,
   "metadata": {},
   "outputs": [
    {
     "name": "stdout",
     "output_type": "stream",
     "text": [
      "Analisando...\n",
      "ID: EU490707.1\n",
      "Name: EU490707\n",
      "Description: Selenipedium aequinoctiale maturase K (matK) gene, partial cds; chloroplast\n",
      "Number of features: 3\n",
      "/molecule_type=DNA\n",
      "/topology=linear\n",
      "/data_file_division=PLN\n",
      "/date=26-JUL-2016\n",
      "/accessions=['EU490707']\n",
      "/sequence_version=1\n",
      "/keywords=['']\n",
      "/source=chloroplast Selenipedium aequinoctiale\n",
      "/organism=Selenipedium aequinoctiale\n",
      "/taxonomy=['Eukaryota', 'Viridiplantae', 'Streptophyta', 'Embryophyta', 'Tracheophyta', 'Spermatophyta', 'Magnoliopsida', 'Liliopsida', 'Asparagales', 'Orchidaceae', 'Cypripedioideae', 'Selenipedium']\n",
      "/references=[Reference(title='Phylogenetic utility of ycf1 in orchids: a plastid gene more variable than matK', ...), Reference(title='Direct Submission', ...)]\n",
      "Seq('ATTTTTTACGAACCTGTGGAAATTTTTGGTTATGACAATAAATCTAGTTTAGTA...GAA')\n"
     ]
    }
   ],
   "source": [
    "import os\n",
    "from Bio import SeqIO\n",
    "from Bio import Entrez\n",
    "Entrez.email = 'teste@example.com'\n",
    "nome_arquivo = 'EU490707.gbk'\n",
    "if not os.path.isfile(nome_arquivo):\n",
    "    # Baixando...\n",
    "    identificador_net = Entrez.efetch(\n",
    "    db='nucleotide', id='EU490707', rettype='gb', retmode='text'\n",
    "    )\n",
    "    identificador_saida = open(nome_arquivo, 'w')\n",
    "    identificador_saida.write(identificador_net.read())\n",
    "    identificador_saida.close()\n",
    "    identificador_net.close()\n",
    "    print('Salvo!')\n",
    "print('Analisando...')\n",
    "registro = SeqIO.read(nome_arquivo, 'gb')\n",
    "print(registro)"
   ]
  },
  {
   "cell_type": "markdown",
   "metadata": {},
   "source": [
    "Para obter o formato XML, que você pode usar o `Bio.Entrez.read()` para analisar, use **retmode='xml'**:"
   ]
  },
  {
   "cell_type": "code",
   "execution_count": 29,
   "metadata": {},
   "outputs": [
    {
     "data": {
      "text/plain": [
       "'Selenipedium aequinoctiale maturase K (matK) gene, partial cds; chloroplast'"
      ]
     },
     "execution_count": 29,
     "metadata": {},
     "output_type": "execute_result"
    }
   ],
   "source": [
    "from Bio import Entrez\n",
    "Entrez.email = 'teste@example.com'\n",
    "identificador = Entrez.efetch(db='nucleotide', id='EU490707', retmode='xml')\n",
    "registro = Entrez.read(identificador)\n",
    "identificador.close()\n",
    "registro[0]['GBSeq_definition']"
   ]
  },
  {
   "cell_type": "code",
   "execution_count": 30,
   "metadata": {},
   "outputs": [
    {
     "data": {
      "text/plain": [
       "'chloroplast Selenipedium aequinoctiale'"
      ]
     },
     "execution_count": 30,
     "metadata": {},
     "output_type": "execute_result"
    }
   ],
   "source": [
    "registro[0]['GBSeq_source']"
   ]
  },
  {
   "cell_type": "markdown",
   "metadata": {},
   "source": [
    "Então, isso tratava de sequências. Por exemplo, para análises de formatos específicos de outros banco de dados (e.g. o formato **MEDLINE** usado no PubMed), veja a **Seção 9.13**.\n",
    "\n",
    "Se você deseja realizar uma pesquisa com o `Bio.Entrez.esearch()` e baixar os registros com o `Bio.Entrez.efetch()`, você deveria usar a recuso de histótico do WebEnv (veja a **Seção 9.16**)."
   ]
  },
  {
   "cell_type": "markdown",
   "metadata": {},
   "source": [
    "## 9.7 ELink: Procurando por itens relacionados no NCBI Entrez"
   ]
  },
  {
   "cell_type": "markdown",
   "metadata": {},
   "source": [
    "ELink, disponível no Biopython pelo módulo `Bio.Entrez.elink()`, pode ser usado para encontrar itens relacionados nos banco de dados NCBI Entrez. Por exemplo, você pode usá-lo para encontrar entradas de nucleotídeos para uma entrada no banco de dados de genes, e outras coisas legais.\n",
    "\n",
    "Vamos usar o ELink para encontrar artigos relacionados ao Biopython em *Bioinformatics* em 2009. O ID do PubMed do artigo é 19304878:"
   ]
  },
  {
   "cell_type": "code",
   "execution_count": 31,
   "metadata": {},
   "outputs": [],
   "source": [
    "from Bio import Entrez\n",
    "Entrez.email = 'teste@example.com'\n",
    "pmid = '19304878'\n",
    "registro = Entrez.read(Entrez.elink(dbfrom='pubmed', id=pmid))"
   ]
  },
  {
   "cell_type": "markdown",
   "metadata": {},
   "source": [
    "a variável **registro** consiste de uma lista Python, uma para cada base de dados que pesquisamos. Uma vez que especificamos apenas o ID do PubMed para pesquisa, **registro** contém somente um item. Esse item é um dicionário contendo as informações sobre o nosso termo de pesquisa, bem como todos os itens relacionados que foram encontrados:"
   ]
  },
  {
   "cell_type": "code",
   "execution_count": 32,
   "metadata": {},
   "outputs": [
    {
     "data": {
      "text/plain": [
       "'pubmed'"
      ]
     },
     "execution_count": 32,
     "metadata": {},
     "output_type": "execute_result"
    }
   ],
   "source": [
    "registro[0]['DbFrom']"
   ]
  },
  {
   "cell_type": "code",
   "execution_count": 33,
   "metadata": {},
   "outputs": [
    {
     "data": {
      "text/plain": [
       "['19304878']"
      ]
     },
     "execution_count": 33,
     "metadata": {},
     "output_type": "execute_result"
    }
   ],
   "source": [
    "registro[0]['IdList']"
   ]
  },
  {
   "cell_type": "markdown",
   "metadata": {},
   "source": [
    "A chave **'LinkSetDb'** contém os resultados da pesquisa armazenados como uma lista, consistindo de um item para cada alvo do banco de dados. Em nossos resultados de pesquisa, encontramos apenas hits no banco de dados do PubMed (embora subdividido em categorias):"
   ]
  },
  {
   "cell_type": "code",
   "execution_count": 34,
   "metadata": {},
   "outputs": [
    {
     "data": {
      "text/plain": [
       "8"
      ]
     },
     "execution_count": 34,
     "metadata": {},
     "output_type": "execute_result"
    }
   ],
   "source": [
    "len(registro[0]['LinkSetDb'])"
   ]
  },
  {
   "cell_type": "markdown",
   "metadata": {},
   "source": [
    "Os números exatos devem aumentar com o tempo:"
   ]
  },
  {
   "cell_type": "code",
   "execution_count": 35,
   "metadata": {},
   "outputs": [
    {
     "name": "stdout",
     "output_type": "stream",
     "text": [
      "Hoje: 01/12/2021 as 14:57\n",
      "\n",
      "\n",
      "pubmed pubmed_pubmed 168\n",
      "pubmed pubmed_pubmed_alsoviewed 21\n",
      "pubmed pubmed_pubmed_citedin 1332\n",
      "pubmed pubmed_pubmed_combined 6\n",
      "pubmed pubmed_pubmed_five 6\n",
      "pubmed pubmed_pubmed_refs 17\n",
      "pubmed pubmed_pubmed_reviews 15\n",
      "pubmed pubmed_pubmed_reviews_five 8\n"
     ]
    }
   ],
   "source": [
    "print('Hoje: 01/12/2021 as 14:57')\n",
    "print('\\n')\n",
    "for link_set_db in registro[0]['LinkSetDb']:\n",
    "    print(link_set_db['DbTo'], link_set_db['LinkName'], len(link_set_db['Link']))"
   ]
  },
  {
   "cell_type": "markdown",
   "metadata": {},
   "source": [
    "Os atuais resultados de pesquisa estão armazenados na chave **'Link'**. Vamos ver o primeiro resultado de pesquisa:"
   ]
  },
  {
   "cell_type": "code",
   "execution_count": 36,
   "metadata": {},
   "outputs": [
    {
     "data": {
      "text/plain": [
       "{'Id': '19304878'}"
      ]
     },
     "execution_count": 36,
     "metadata": {},
     "output_type": "execute_result"
    }
   ],
   "source": [
    "registro[0]['LinkSetDb'][0]['Link'][0]"
   ]
  },
  {
   "cell_type": "markdown",
   "metadata": {},
   "source": [
    "Esse artigo que procuramos, o que não nos ajuda muito. Então vamos dar uma olhada no segundo resultado de pesquisa:"
   ]
  },
  {
   "cell_type": "code",
   "execution_count": 37,
   "metadata": {},
   "outputs": [
    {
     "data": {
      "text/plain": [
       "{'Id': '14630660'}"
      ]
     },
     "execution_count": 37,
     "metadata": {},
     "output_type": "execute_result"
    }
   ],
   "source": [
    "registro[0]['LinkSetDb'][0]['Link'][1]"
   ]
  },
  {
   "cell_type": "markdown",
   "metadata": {},
   "source": [
    "Esse artigo, com o ID do PubMed de 14630660, é sobre o analisador Biopython PDB. Podemos usar um loop para mostrar todos os IDs da pesquisa no banco de dados do PubMed:"
   ]
  },
  {
   "cell_type": "code",
   "execution_count": 38,
   "metadata": {},
   "outputs": [
    {
     "name": "stdout",
     "output_type": "stream",
     "text": [
      "19304878\n",
      "14630660\n",
      "22909249\n",
      "20739307\n",
      "31278684\n",
      "23023984\n",
      "25273102\n",
      "18689808\n",
      "23842806\n",
      "20847218\n",
      "18251993\n",
      "20733063\n",
      "19628504\n",
      "15572471\n",
      "22399473\n",
      "31310539\n",
      "20823319\n",
      "12368254\n",
      "29253085\n",
      "20421198\n",
      "30285630\n",
      "24064416\n",
      "25236461\n",
      "22332238\n",
      "32637988\n",
      "16377612\n",
      "18238804\n",
      "14512356\n",
      "22581176\n",
      "22302572\n",
      "12230038\n",
      "25661541\n",
      "15096277\n",
      "21216774\n",
      "15723693\n",
      "32044951\n",
      "23633579\n",
      "18593718\n",
      "15130828\n",
      "17237069\n",
      "21352538\n",
      "28407033\n",
      "24463182\n",
      "33341884\n",
      "29641230\n",
      "20973958\n",
      "19181685\n",
      "17441614\n",
      "28302053\n",
      "26030926\n",
      "23456039\n",
      "29048466\n",
      "32960970\n",
      "22815363\n",
      "18227118\n",
      "22368248\n",
      "17101041\n",
      "20591906\n",
      "17384428\n",
      "16539535\n",
      "20334363\n",
      "22824207\n",
      "18252737\n",
      "17316423\n",
      "20375454\n",
      "14751976\n",
      "16257987\n",
      "23479348\n",
      "31650686\n",
      "14871861\n",
      "32407511\n",
      "25677125\n",
      "15969769\n",
      "25414366\n",
      "32935829\n",
      "27493193\n",
      "21949271\n",
      "22500002\n",
      "17237072\n",
      "26446134\n",
      "24885957\n",
      "27153673\n",
      "24503186\n",
      "29236954\n",
      "22276101\n",
      "17537750\n",
      "26394715\n",
      "15059834\n",
      "19773334\n",
      "30735498\n",
      "30235322\n",
      "19106120\n",
      "19460889\n",
      "22877863\n",
      "26079347\n",
      "29558112\n",
      "15980554\n",
      "28333216\n",
      "20537149\n",
      "19698094\n",
      "23292976\n",
      "21385461\n",
      "21210978\n",
      "24564380\n",
      "22556367\n",
      "21798964\n",
      "22396485\n",
      "20015970\n",
      "21210984\n",
      "22595207\n",
      "33594436\n",
      "23071651\n",
      "24903418\n",
      "21737439\n",
      "24894501\n",
      "24929426\n",
      "19417059\n",
      "20542914\n",
      "23956303\n",
      "24078714\n",
      "23355290\n",
      "21685053\n",
      "34282326\n",
      "21715385\n",
      "34101722\n",
      "22813356\n",
      "24068901\n",
      "21982300\n",
      "21529350\n",
      "22565567\n",
      "24600386\n",
      "22889332\n",
      "20375445\n",
      "23220574\n",
      "23516352\n",
      "22024252\n",
      "33822884\n",
      "20616382\n",
      "24618462\n",
      "24045775\n",
      "21210977\n",
      "23574738\n",
      "34358287\n",
      "25328913\n",
      "25150250\n",
      "20798181\n",
      "21458441\n",
      "33961033\n",
      "22943297\n",
      "22844241\n",
      "21984743\n",
      "23786315\n",
      "20041221\n",
      "25091065\n",
      "25126069\n",
      "34762641\n",
      "19607723\n",
      "23587224\n",
      "20924230\n",
      "23633576\n",
      "24267035\n",
      "34153038\n",
      "24924300\n",
      "21716279\n",
      "22479120\n",
      "33991167\n",
      "24086295\n",
      "25132841\n"
     ]
    }
   ],
   "source": [
    "for link in registro[0]['LinkSetDb'][0]['Link']:\n",
    "    print(link['Id'])"
   ]
  },
  {
   "cell_type": "markdown",
   "metadata": {},
   "source": [
    "Isso foi muito legal, mas se você estiver interessado em saber as citações do, o ELink consegue fazer isso. Veja a **Seção 9.16.3** para mais detalhes.\n",
    "\n",
    "Em caso de dúvidas, visite a página web de ajuda do ELink: https://www.ncbi.nlm.nih.gov/books/NBK25499/#chapter4.ELink. Há uma subpágina inteira apenas para os nomes dos link (https://eutils.ncbi.nlm.nih.gov/corehtml/query/static/entrezlinks.html), descrevendo como diferentes bancos de dados podem ter referências cruzadas."
   ]
  },
  {
   "cell_type": "markdown",
   "metadata": {},
   "source": [
    "## 9.8 EGQuery: Consulta Global - conta para termos de pesquisa"
   ]
  },
  {
   "cell_type": "markdown",
   "metadata": {},
   "source": [
    "EGQuery fornece conta para um termo de pesquisa em cada base de dados Entrez (i.e. uma consulta global). Isso é particularmente útil para descobrir quantos itens seus termos de pesquisa encontrarão em cada banco de dados sem realmente realizar muitas pesquisas separadas com o ESearch (veja o exemplo da **Seção 9.15.2**).\n",
    "\n",
    "Nesse exemplo, usaremos o módulo `Bio.Entrez.egquery()` para obter a contagem de 'Biopython':"
   ]
  },
  {
   "cell_type": "code",
   "execution_count": 39,
   "metadata": {
    "scrolled": true
   },
   "outputs": [
    {
     "name": "stdout",
     "output_type": "stream",
     "text": [
      "pubmed 36\n",
      "pmc 2152\n",
      "mesh 0\n",
      "books 2\n",
      "pubmedhealth Error\n",
      "omim 0\n",
      "ncbisearch 1\n",
      "nuccore 2\n",
      "nucgss 0\n",
      "nucest 0\n",
      "protein 0\n",
      "genome 0\n",
      "structure 0\n",
      "taxonomy 0\n",
      "snp 0\n",
      "dbvar 0\n",
      "gene 0\n",
      "sra 1\n",
      "biosystems 0\n",
      "unigene 0\n",
      "cdd 0\n",
      "clone 0\n",
      "popset 0\n",
      "geoprofiles 0\n",
      "gds 17\n",
      "homologene 0\n",
      "pccompound 0\n",
      "pcsubstance 0\n",
      "pcassay 0\n",
      "nlmcatalog 0\n",
      "probe 0\n",
      "gap 0\n",
      "proteinclusters 0\n",
      "bioproject 1\n",
      "biosample 0\n",
      "biocollections 0\n"
     ]
    }
   ],
   "source": [
    "from Bio import Entrez\n",
    "Entrez.email = 'teste@example.com'\n",
    "identificador = Entrez.egquery(term='biopython')\n",
    "registro = Entrez.read(identificador)\n",
    "for linha in registro['eGQueryResult']:\n",
    "    print(linha['DbName'], linha['Count'])"
   ]
  },
  {
   "cell_type": "markdown",
   "metadata": {},
   "source": [
    "Veja a página web de ajuda em caso de dúvidas: https://www.ncbi.nlm.nih.gov/books/NBK25499/#chapter4.EGQuery"
   ]
  },
  {
   "cell_type": "markdown",
   "metadata": {},
   "source": [
    "## 9.9 ESpell: Obtenção de sugestões de ortografia"
   ]
  },
  {
   "cell_type": "markdown",
   "metadata": {},
   "source": [
    "ESpell recupera sugestões de ortografia. Nesse exemplo, usaremos o `Bio.Entrez.espell()` para obter a ortografia correta de 'Biopython':"
   ]
  },
  {
   "cell_type": "code",
   "execution_count": 40,
   "metadata": {},
   "outputs": [
    {
     "data": {
      "text/plain": [
       "'biopythooon'"
      ]
     },
     "execution_count": 40,
     "metadata": {},
     "output_type": "execute_result"
    }
   ],
   "source": [
    "from Bio import Entrez\n",
    "Entrez.email = 'teste@example.com'\n",
    "identificador = Entrez.espell(term='biopythooon')\n",
    "registro = Entrez.read(identificador)\n",
    "registro['Query']"
   ]
  },
  {
   "cell_type": "code",
   "execution_count": 41,
   "metadata": {},
   "outputs": [
    {
     "data": {
      "text/plain": [
       "'biopython'"
      ]
     },
     "execution_count": 41,
     "metadata": {},
     "output_type": "execute_result"
    }
   ],
   "source": [
    "registro['CorrectedQuery']"
   ]
  },
  {
   "cell_type": "markdown",
   "metadata": {},
   "source": [
    "Veja a página online de ajuda se precisar: https://www.ncbi.nlm.nih.gov/books/NBK25499/#chapter4.ESpell. O principal uso disso é para ferramentas com GUIs que fornecem automaticamente sugestões para os termos de pesquisa."
   ]
  },
  {
   "cell_type": "markdown",
   "metadata": {},
   "source": [
    "## 9.10 Analisando grandes arquivos Entrez XML"
   ]
  },
  {
   "cell_type": "markdown",
   "metadata": {},
   "source": [
    "A fução **Entrez.read()** lê as entradas de arquivos XML retornado pelo Entrez em um único objeto Python, que é mantido na memória. Para analisar arquivos Entrez XML muito grandes para a memória, você pode usar a função **Entrez.parse()**. Essa é uma função geradora que lê os registros um por um em um arquivo XML. Essa função é apenas útil se o arquivo XML reflete um objeto de lista Python, em outras palavras, se **Entrez.read()** em um computador com recursos de memória infinita retornaria uma lista Python.\n",
    "\n",
    "Por exemplo, você pode baixar todo o banco de dados Entrez Gene de um organismo em um arquivo do site ftp do NCBI. Esses arquivos são consideravelmente grandes. Como um exemplo, no dia 4 de Setembro de 2009, o arquivo **Homo_spiens.ags.gz** continha o banco de dados Entrez Gene do hmano, com um tamanho de 116576 kB. Esse arquivo, que está no formato **ANS**, pode ser convertido com o programa **gene2xml**:\n",
    "\n",
    "- $ gene2xml -b T -i Homo_sapiens.ags -o Homo_sapiens.xml\n",
    "\n",
    "O resultado é um arquixo XML de 6.1 GB! Usando o **Entrez.read()** pode gerar o erro **MemoryError** em muitos computadores.\n",
    "\n",
    "O arquivo XML **Homo_sapiens.xml** consiste em uma lista de registro de genes Entrez, cada correspondência sendo um gene Entrez no humano. **Entrez.parse()** recupera esses registros de genes um por um. Você pode mostrá-los ou armazenar as informações relevantes de cada registro iterando sobre os registros. Por exemplo, o código abaixo itera sobre os registros de genes Entrez e mostra o número do gene e seu nome. Por motivos poder computacional, não executarei o código, mas deixarei ele montado como exemplo:"
   ]
  },
  {
   "cell_type": "code",
   "execution_count": null,
   "metadata": {},
   "outputs": [],
   "source": [
    "from Bio import Entrez\n",
    "Entrez.email = 'teste@example.com'\n",
    "identificador = open('Homo_sapiens.xml', 'b')\n",
    "registros = Entrez.parse(identificador)\n",
    "for registro in registros:\n",
    "    status = registro['Entrezgene_track-info']['Gene-track']['Gene-track_status']\n",
    "    if status.attributes['value'] == 'discontinued':\n",
    "        continue\n",
    "    id_gene = registro['Entrezgene_track-info']['Gene-track']['Gene-track_geneid']\n",
    "    nome_gene = registro['Entrezgene_gene']['Gene-ref']['Gene-ref_locus']\n",
    "    print(id_gene, nome_gene)"
   ]
  },
  {
   "attachments": {
    "saida_homo_sapiens_xml.png": {
     "image/png": "[encoded data removed]"
    }
   },
   "cell_type": "markdown",
   "metadata": {},
   "source": [
    "A saída é algo parecido com isso:\n",
    "\n",
    "![saida_homo_sapiens_xml.png](attachment:saida_homo_sapiens_xml.png)"
   ]
  },
  {
   "cell_type": "markdown",
   "metadata": {},
   "source": [
    "## 9.11 Caracteres de escape HTML"
   ]
  },
  {
   "cell_type": "markdown",
   "metadata": {},
   "source": [
    "Resgitros PubMed podem conter tags HTML que indicam e.g. subscripts, superscripts ou texto em itálico, bem como símbolos matemáticos via MathML. Por padrão, o analisador `Bio.Entrez` trata todo o texto como texto plano sem marcações; por exemplo, o framento '*P* < 0.05' em um abstract de um registro PubMed é codificado como:\n",
    "\n",
    "- < i >P< /i > &l t; 0.05\n",
    "\n",
    "Em um XML retornado pelo Entrez, é convertido para uma string Python pelo analisador `Bio.Entrez`:\n",
    "\n",
    "- '< i >P< /i > < 0.05'\n",
    "\n",
    "Embora isso seja mais legível para um ser humano, não é um HTML válido devido ao sinal de menor (<) e faz o processamento posterior do texto e.g. por um analisador de HTML impraticável. Para garantir que todas as strings retornadas pelo analisador são um HTML válido, chame **Entrez.read()** ou **Entrez.parse()** com o argumento **escape** configurado como *True*:\n",
    "\n",
    "- registro = Enrtez.read(identificador, escape=True)\n",
    "\n",
    "O analisador recolocará todos os caracteres não permitidos em HTML por seu equivalente com escape de HTML; no exemplo acima, o analisador geraria um HTML válido. Por padrão, **escape** é *False*:\n",
    "\n",
    "- '< i > P < /i > &l t; 0.05'"
   ]
  },
  {
   "cell_type": "markdown",
   "metadata": {},
   "source": [
    "## 9.12 Manipulação de erros"
   ]
  },
  {
   "cell_type": "markdown",
   "metadata": {},
   "source": [
    "Três coisas podem levar o analisador ao erro com um arquivo XML:\n",
    "\n",
    "1. O arquivo pode não estar no formato XML;\n",
    "\n",
    "2. O arquivo pode fechar prematuramente ou ser corrompido por outra forma e;\n",
    "\n",
    "3. O arquivo pode se XML correto, mas contém itens que não são representados no DTD associado.\n",
    "\n",
    "O primeiro caso ocorre quando, por exemplo, você tenta analisar um arquivo FASTA no lugar de um XML:"
   ]
  },
  {
   "cell_type": "code",
   "execution_count": 42,
   "metadata": {},
   "outputs": [
    {
     "ename": "NotXMLError",
     "evalue": "Failed to parse the XML data (syntax error: line 1, column 0). Please make sure that the input data are in XML format.",
     "output_type": "error",
     "traceback": [
      "\u001b[1;31m---------------------------------------------------------------------------\u001b[0m",
      "\u001b[1;31mNotXMLError\u001b[0m                               Traceback (most recent call last)",
      "\u001b[1;32m<ipython-input-42-38f143f690eb>\u001b[0m in \u001b[0;36m<module>\u001b[1;34m\u001b[0m\n\u001b[0;32m      1\u001b[0m \u001b[1;32mfrom\u001b[0m \u001b[0mBio\u001b[0m \u001b[1;32mimport\u001b[0m \u001b[0mEntrez\u001b[0m\u001b[1;33m\u001b[0m\u001b[1;33m\u001b[0m\u001b[0m\n\u001b[0;32m      2\u001b[0m \u001b[0midentificador\u001b[0m \u001b[1;33m=\u001b[0m \u001b[0mopen\u001b[0m\u001b[1;33m(\u001b[0m\u001b[1;34m'NC_005816.1.fna'\u001b[0m\u001b[1;33m,\u001b[0m \u001b[1;34m'rb'\u001b[0m\u001b[1;33m)\u001b[0m  \u001b[1;31m# um arquivo FASTA\u001b[0m\u001b[1;33m\u001b[0m\u001b[1;33m\u001b[0m\u001b[0m\n\u001b[1;32m----> 3\u001b[1;33m \u001b[0mregistro\u001b[0m \u001b[1;33m=\u001b[0m \u001b[0mEntrez\u001b[0m\u001b[1;33m.\u001b[0m\u001b[0mread\u001b[0m\u001b[1;33m(\u001b[0m\u001b[0midentificador\u001b[0m\u001b[1;33m)\u001b[0m\u001b[1;33m\u001b[0m\u001b[1;33m\u001b[0m\u001b[0m\n\u001b[0m",
      "\u001b[1;32mD:\\Jupyter\\lib\\site-packages\\Bio\\Entrez\\__init__.py\u001b[0m in \u001b[0;36mread\u001b[1;34m(handle, validate, escape)\u001b[0m\n\u001b[0;32m    506\u001b[0m \u001b[1;33m\u001b[0m\u001b[0m\n\u001b[0;32m    507\u001b[0m     \u001b[0mhandler\u001b[0m \u001b[1;33m=\u001b[0m \u001b[0mDataHandler\u001b[0m\u001b[1;33m(\u001b[0m\u001b[0mvalidate\u001b[0m\u001b[1;33m,\u001b[0m \u001b[0mescape\u001b[0m\u001b[1;33m)\u001b[0m\u001b[1;33m\u001b[0m\u001b[1;33m\u001b[0m\u001b[0m\n\u001b[1;32m--> 508\u001b[1;33m     \u001b[0mrecord\u001b[0m \u001b[1;33m=\u001b[0m \u001b[0mhandler\u001b[0m\u001b[1;33m.\u001b[0m\u001b[0mread\u001b[0m\u001b[1;33m(\u001b[0m\u001b[0mhandle\u001b[0m\u001b[1;33m)\u001b[0m\u001b[1;33m\u001b[0m\u001b[1;33m\u001b[0m\u001b[0m\n\u001b[0m\u001b[0;32m    509\u001b[0m     \u001b[1;32mreturn\u001b[0m \u001b[0mrecord\u001b[0m\u001b[1;33m\u001b[0m\u001b[1;33m\u001b[0m\u001b[0m\n\u001b[0;32m    510\u001b[0m \u001b[1;33m\u001b[0m\u001b[0m\n",
      "\u001b[1;32mD:\\Jupyter\\lib\\site-packages\\Bio\\Entrez\\Parser.py\u001b[0m in \u001b[0;36mread\u001b[1;34m(self, handle)\u001b[0m\n\u001b[0;32m    343\u001b[0m                 \u001b[1;31m# We have not seen the initial <!xml declaration, so probably\u001b[0m\u001b[1;33m\u001b[0m\u001b[1;33m\u001b[0m\u001b[1;33m\u001b[0m\u001b[0m\n\u001b[0;32m    344\u001b[0m                 \u001b[1;31m# the input data is not in XML format.\u001b[0m\u001b[1;33m\u001b[0m\u001b[1;33m\u001b[0m\u001b[1;33m\u001b[0m\u001b[0m\n\u001b[1;32m--> 345\u001b[1;33m                 \u001b[1;32mraise\u001b[0m \u001b[0mNotXMLError\u001b[0m\u001b[1;33m(\u001b[0m\u001b[0me\u001b[0m\u001b[1;33m)\u001b[0m \u001b[1;32mfrom\u001b[0m \u001b[1;32mNone\u001b[0m\u001b[1;33m\u001b[0m\u001b[1;33m\u001b[0m\u001b[0m\n\u001b[0m\u001b[0;32m    346\u001b[0m         \u001b[1;32mtry\u001b[0m\u001b[1;33m:\u001b[0m\u001b[1;33m\u001b[0m\u001b[1;33m\u001b[0m\u001b[0m\n\u001b[0;32m    347\u001b[0m             \u001b[1;32mreturn\u001b[0m \u001b[0mself\u001b[0m\u001b[1;33m.\u001b[0m\u001b[0mrecord\u001b[0m\u001b[1;33m\u001b[0m\u001b[1;33m\u001b[0m\u001b[0m\n",
      "\u001b[1;31mNotXMLError\u001b[0m: Failed to parse the XML data (syntax error: line 1, column 0). Please make sure that the input data are in XML format."
     ]
    }
   ],
   "source": [
    "from Bio import Entrez\n",
    "identificador = open('NC_005816.1.fna', 'rb')  # um arquivo FASTA\n",
    "registro = Entrez.read(identificador)"
   ]
  },
  {
   "cell_type": "markdown",
   "metadata": {},
   "source": [
    "Aqui, o analisador não encontra a tag **<?xml...** com a qual um arquivo XML deve começar e, portanto, decide (corretamente) que o arquivo não está no formato XML.\n",
    "\n",
    "Quando o seu arquivo é um XML mas está corrompido (e.g. fechado prematuramente), o analisador retornará o erro **CorruptedXMLError**. Aqui está um exemplo de um arquivo XML fechado prematuramente:"
   ]
  },
  {
   "cell_type": "code",
   "execution_count": 43,
   "metadata": {},
   "outputs": [
    {
     "ename": "CorruptedXMLError",
     "evalue": "Failed to parse the XML data (no element found: line 16, column 0). Please make sure that the input data are not corrupted.",
     "output_type": "error",
     "traceback": [
      "\u001b[1;31m---------------------------------------------------------------------------\u001b[0m",
      "\u001b[1;31mCorruptedXMLError\u001b[0m                         Traceback (most recent call last)",
      "\u001b[1;32m<ipython-input-43-2c9e02151e24>\u001b[0m in \u001b[0;36m<module>\u001b[1;34m\u001b[0m\n\u001b[0;32m      2\u001b[0m \u001b[0mEntrez\u001b[0m\u001b[1;33m.\u001b[0m\u001b[0memail\u001b[0m \u001b[1;33m=\u001b[0m \u001b[1;34m'teste@example.com'\u001b[0m\u001b[1;33m\u001b[0m\u001b[1;33m\u001b[0m\u001b[0m\n\u001b[0;32m      3\u001b[0m \u001b[0midentificador\u001b[0m \u001b[1;33m=\u001b[0m \u001b[0mopen\u001b[0m\u001b[1;33m(\u001b[0m\u001b[1;34m'einfo_corrompido.xml'\u001b[0m\u001b[1;33m,\u001b[0m \u001b[1;34m'rb'\u001b[0m\u001b[1;33m)\u001b[0m\u001b[1;33m\u001b[0m\u001b[1;33m\u001b[0m\u001b[0m\n\u001b[1;32m----> 4\u001b[1;33m \u001b[0mEntrez\u001b[0m\u001b[1;33m.\u001b[0m\u001b[0mread\u001b[0m\u001b[1;33m(\u001b[0m\u001b[0midentificador\u001b[0m\u001b[1;33m)\u001b[0m\u001b[1;33m\u001b[0m\u001b[1;33m\u001b[0m\u001b[0m\n\u001b[0m",
      "\u001b[1;32mD:\\Jupyter\\lib\\site-packages\\Bio\\Entrez\\__init__.py\u001b[0m in \u001b[0;36mread\u001b[1;34m(handle, validate, escape)\u001b[0m\n\u001b[0;32m    506\u001b[0m \u001b[1;33m\u001b[0m\u001b[0m\n\u001b[0;32m    507\u001b[0m     \u001b[0mhandler\u001b[0m \u001b[1;33m=\u001b[0m \u001b[0mDataHandler\u001b[0m\u001b[1;33m(\u001b[0m\u001b[0mvalidate\u001b[0m\u001b[1;33m,\u001b[0m \u001b[0mescape\u001b[0m\u001b[1;33m)\u001b[0m\u001b[1;33m\u001b[0m\u001b[1;33m\u001b[0m\u001b[0m\n\u001b[1;32m--> 508\u001b[1;33m     \u001b[0mrecord\u001b[0m \u001b[1;33m=\u001b[0m \u001b[0mhandler\u001b[0m\u001b[1;33m.\u001b[0m\u001b[0mread\u001b[0m\u001b[1;33m(\u001b[0m\u001b[0mhandle\u001b[0m\u001b[1;33m)\u001b[0m\u001b[1;33m\u001b[0m\u001b[1;33m\u001b[0m\u001b[0m\n\u001b[0m\u001b[0;32m    509\u001b[0m     \u001b[1;32mreturn\u001b[0m \u001b[0mrecord\u001b[0m\u001b[1;33m\u001b[0m\u001b[1;33m\u001b[0m\u001b[0m\n\u001b[0;32m    510\u001b[0m \u001b[1;33m\u001b[0m\u001b[0m\n",
      "\u001b[1;32mD:\\Jupyter\\lib\\site-packages\\Bio\\Entrez\\Parser.py\u001b[0m in \u001b[0;36mread\u001b[1;34m(self, handle)\u001b[0m\n\u001b[0;32m    339\u001b[0m                 \u001b[1;31m# we are parsing XML data. Most likely, the XML file is\u001b[0m\u001b[1;33m\u001b[0m\u001b[1;33m\u001b[0m\u001b[1;33m\u001b[0m\u001b[0m\n\u001b[0;32m    340\u001b[0m                 \u001b[1;31m# corrupted.\u001b[0m\u001b[1;33m\u001b[0m\u001b[1;33m\u001b[0m\u001b[1;33m\u001b[0m\u001b[0m\n\u001b[1;32m--> 341\u001b[1;33m                 \u001b[1;32mraise\u001b[0m \u001b[0mCorruptedXMLError\u001b[0m\u001b[1;33m(\u001b[0m\u001b[0me\u001b[0m\u001b[1;33m)\u001b[0m \u001b[1;32mfrom\u001b[0m \u001b[1;32mNone\u001b[0m\u001b[1;33m\u001b[0m\u001b[1;33m\u001b[0m\u001b[0m\n\u001b[0m\u001b[0;32m    342\u001b[0m             \u001b[1;32melse\u001b[0m\u001b[1;33m:\u001b[0m\u001b[1;33m\u001b[0m\u001b[1;33m\u001b[0m\u001b[0m\n\u001b[0;32m    343\u001b[0m                 \u001b[1;31m# We have not seen the initial <!xml declaration, so probably\u001b[0m\u001b[1;33m\u001b[0m\u001b[1;33m\u001b[0m\u001b[1;33m\u001b[0m\u001b[0m\n",
      "\u001b[1;31mCorruptedXMLError\u001b[0m: Failed to parse the XML data (no element found: line 16, column 0). Please make sure that the input data are not corrupted."
     ]
    }
   ],
   "source": [
    "from Bio import Entrez\n",
    "Entrez.email = 'teste@example.com'\n",
    "identificador = open('einfo_corrompido.xml', 'rb')\n",
    "Entrez.read(identificador)"
   ]
  },
  {
   "cell_type": "markdown",
   "metadata": {},
   "source": [
    "Note que a mensagem de erro te informa em qual ponto do arquivo XML o erro foi detectado.\n",
    "\n",
    "O terceiro tipo de erro que pode acontecer é se o arquivo XML contiver tags que não têm uma descrição correspondente no arquivo DTD. Dentro deste arquivo, por alguma razão existe a tag **< DocsumList >** (e muitas outras) que não estão listadas no arquivo **eInfo_020511.dtd**, que é especificado na segunda linha como o DTD para este arquivo XML. Por padrão, o analisador parará e retornará o erro **ValidationError** se não conseguir encontrar alguma tag no DTD. Nesse exemplo temos um arquivo XML com essa característica:"
   ]
  },
  {
   "cell_type": "code",
   "execution_count": 44,
   "metadata": {},
   "outputs": [
    {
     "ename": "ValidationError",
     "evalue": "Failed to find tag 'DocsumList' in the DTD. To skip all tags that are not represented in the DTD, please call Bio.Entrez.read or Bio.Entrez.parse with validate=False.",
     "output_type": "error",
     "traceback": [
      "\u001b[1;31m---------------------------------------------------------------------------\u001b[0m",
      "\u001b[1;31mValidationError\u001b[0m                           Traceback (most recent call last)",
      "\u001b[1;32m<ipython-input-44-8326a01622d1>\u001b[0m in \u001b[0;36m<module>\u001b[1;34m\u001b[0m\n\u001b[0;32m      2\u001b[0m \u001b[0mEntrez\u001b[0m\u001b[1;33m.\u001b[0m\u001b[0memail\u001b[0m \u001b[1;33m=\u001b[0m \u001b[1;34m'teste@example.com'\u001b[0m\u001b[1;33m\u001b[0m\u001b[1;33m\u001b[0m\u001b[0m\n\u001b[0;32m      3\u001b[0m \u001b[0midentificador\u001b[0m \u001b[1;33m=\u001b[0m \u001b[0mopen\u001b[0m\u001b[1;33m(\u001b[0m\u001b[1;34m'einfo_incongruente.xml'\u001b[0m\u001b[1;33m,\u001b[0m \u001b[1;34m'rb'\u001b[0m\u001b[1;33m)\u001b[0m\u001b[1;33m\u001b[0m\u001b[1;33m\u001b[0m\u001b[0m\n\u001b[1;32m----> 4\u001b[1;33m \u001b[0mregistro\u001b[0m \u001b[1;33m=\u001b[0m \u001b[0mEntrez\u001b[0m\u001b[1;33m.\u001b[0m\u001b[0mread\u001b[0m\u001b[1;33m(\u001b[0m\u001b[0midentificador\u001b[0m\u001b[1;33m)\u001b[0m\u001b[1;33m\u001b[0m\u001b[1;33m\u001b[0m\u001b[0m\n\u001b[0m",
      "\u001b[1;32mD:\\Jupyter\\lib\\site-packages\\Bio\\Entrez\\__init__.py\u001b[0m in \u001b[0;36mread\u001b[1;34m(handle, validate, escape)\u001b[0m\n\u001b[0;32m    506\u001b[0m \u001b[1;33m\u001b[0m\u001b[0m\n\u001b[0;32m    507\u001b[0m     \u001b[0mhandler\u001b[0m \u001b[1;33m=\u001b[0m \u001b[0mDataHandler\u001b[0m\u001b[1;33m(\u001b[0m\u001b[0mvalidate\u001b[0m\u001b[1;33m,\u001b[0m \u001b[0mescape\u001b[0m\u001b[1;33m)\u001b[0m\u001b[1;33m\u001b[0m\u001b[1;33m\u001b[0m\u001b[0m\n\u001b[1;32m--> 508\u001b[1;33m     \u001b[0mrecord\u001b[0m \u001b[1;33m=\u001b[0m \u001b[0mhandler\u001b[0m\u001b[1;33m.\u001b[0m\u001b[0mread\u001b[0m\u001b[1;33m(\u001b[0m\u001b[0mhandle\u001b[0m\u001b[1;33m)\u001b[0m\u001b[1;33m\u001b[0m\u001b[1;33m\u001b[0m\u001b[0m\n\u001b[0m\u001b[0;32m    509\u001b[0m     \u001b[1;32mreturn\u001b[0m \u001b[0mrecord\u001b[0m\u001b[1;33m\u001b[0m\u001b[1;33m\u001b[0m\u001b[0m\n\u001b[0;32m    510\u001b[0m \u001b[1;33m\u001b[0m\u001b[0m\n",
      "\u001b[1;32mD:\\Jupyter\\lib\\site-packages\\Bio\\Entrez\\Parser.py\u001b[0m in \u001b[0;36mread\u001b[1;34m(self, handle)\u001b[0m\n\u001b[0;32m    333\u001b[0m             \u001b[1;32mraise\u001b[0m \u001b[0mTypeError\u001b[0m\u001b[1;33m(\u001b[0m\u001b[1;34m\"file should be opened in binary mode\"\u001b[0m\u001b[1;33m)\u001b[0m\u001b[1;33m\u001b[0m\u001b[1;33m\u001b[0m\u001b[0m\n\u001b[0;32m    334\u001b[0m         \u001b[1;32mtry\u001b[0m\u001b[1;33m:\u001b[0m\u001b[1;33m\u001b[0m\u001b[1;33m\u001b[0m\u001b[0m\n\u001b[1;32m--> 335\u001b[1;33m             \u001b[0mself\u001b[0m\u001b[1;33m.\u001b[0m\u001b[0mparser\u001b[0m\u001b[1;33m.\u001b[0m\u001b[0mParseFile\u001b[0m\u001b[1;33m(\u001b[0m\u001b[0mhandle\u001b[0m\u001b[1;33m)\u001b[0m\u001b[1;33m\u001b[0m\u001b[1;33m\u001b[0m\u001b[0m\n\u001b[0m\u001b[0;32m    336\u001b[0m         \u001b[1;32mexcept\u001b[0m \u001b[0mexpat\u001b[0m\u001b[1;33m.\u001b[0m\u001b[0mExpatError\u001b[0m \u001b[1;32mas\u001b[0m \u001b[0me\u001b[0m\u001b[1;33m:\u001b[0m\u001b[1;33m\u001b[0m\u001b[1;33m\u001b[0m\u001b[0m\n\u001b[0;32m    337\u001b[0m             \u001b[1;32mif\u001b[0m \u001b[0mself\u001b[0m\u001b[1;33m.\u001b[0m\u001b[0mparser\u001b[0m\u001b[1;33m.\u001b[0m\u001b[0mStartElementHandler\u001b[0m\u001b[1;33m:\u001b[0m\u001b[1;33m\u001b[0m\u001b[1;33m\u001b[0m\u001b[0m\n",
      "\u001b[1;32mc:\\ci\\python_1599185818579\\work\\modules\\pyexpat.c\u001b[0m in \u001b[0;36mStartElement\u001b[1;34m()\u001b[0m\n",
      "\u001b[1;32mD:\\Jupyter\\lib\\site-packages\\Bio\\Entrez\\Parser.py\u001b[0m in \u001b[0;36mstartElementHandler\u001b[1;34m(self, tag, attrs)\u001b[0m\n\u001b[0;32m    614\u001b[0m             \u001b[1;31m# Element not found in DTD\u001b[0m\u001b[1;33m\u001b[0m\u001b[1;33m\u001b[0m\u001b[1;33m\u001b[0m\u001b[0m\n\u001b[0;32m    615\u001b[0m             \u001b[1;32mif\u001b[0m \u001b[0mself\u001b[0m\u001b[1;33m.\u001b[0m\u001b[0mvalidating\u001b[0m\u001b[1;33m:\u001b[0m\u001b[1;33m\u001b[0m\u001b[1;33m\u001b[0m\u001b[0m\n\u001b[1;32m--> 616\u001b[1;33m                 \u001b[1;32mraise\u001b[0m \u001b[0mValidationError\u001b[0m\u001b[1;33m(\u001b[0m\u001b[0mtag\u001b[0m\u001b[1;33m)\u001b[0m\u001b[1;33m\u001b[0m\u001b[1;33m\u001b[0m\u001b[0m\n\u001b[0m\u001b[0;32m    617\u001b[0m             \u001b[1;32melse\u001b[0m\u001b[1;33m:\u001b[0m\u001b[1;33m\u001b[0m\u001b[1;33m\u001b[0m\u001b[0m\n\u001b[0;32m    618\u001b[0m                 \u001b[1;31m# this will not be stored in the record\u001b[0m\u001b[1;33m\u001b[0m\u001b[1;33m\u001b[0m\u001b[1;33m\u001b[0m\u001b[0m\n",
      "\u001b[1;31mValidationError\u001b[0m: Failed to find tag 'DocsumList' in the DTD. To skip all tags that are not represented in the DTD, please call Bio.Entrez.read or Bio.Entrez.parse with validate=False."
     ]
    }
   ],
   "source": [
    "from Bio import Entrez\n",
    "Entrez.email = 'teste@example.com'\n",
    "identificador = open('einfo_incongruente.xml', 'rb')\n",
    "registro = Entrez.read(identificador)"
   ]
  },
  {
   "cell_type": "markdown",
   "metadata": {},
   "source": [
    "De modo opcional, você pode instruir ao analisador para pular tais tags ao invés de retornar o erro **ValidationError**. Isso pode ser feito chamando as funções **read** ou **parse** com o argumento **validate** configurado como *False*:"
   ]
  },
  {
   "cell_type": "code",
   "execution_count": 45,
   "metadata": {},
   "outputs": [],
   "source": [
    "from Bio import Entrez\n",
    "Entrez.email = 'teste@example.com'\n",
    "identificador = open('einfo_incongruente.xml', 'rb')\n",
    "registro = Entrez.read(identificador, validate=False)\n",
    "identificador.close()"
   ]
  },
  {
   "cell_type": "markdown",
   "metadata": {},
   "source": [
    "Obviamente, as informações contidas nas tags XML que não estão no DTD não estão presentes no registro retornado pelo **Entrez.read()**."
   ]
  },
  {
   "cell_type": "markdown",
   "metadata": {},
   "source": [
    "## 9.13 Analisadores especiais"
   ]
  },
  {
   "cell_type": "markdown",
   "metadata": {},
   "source": [
    "**pag 166**"
   ]
  }
 ],
 "metadata": {
  "kernelspec": {
   "display_name": "Python 3",
   "language": "python",
   "name": "python3"
  },
  "language_info": {
   "codemirror_mode": {
    "name": "ipython",
    "version": 3
   },
   "file_extension": ".py",
   "mimetype": "text/x-python",
   "name": "python",
   "nbconvert_exporter": "python",
   "pygments_lexer": "ipython3",
   "version": "3.8.5"
  }
 },
 "nbformat": 4,
 "nbformat_minor": 4
}
