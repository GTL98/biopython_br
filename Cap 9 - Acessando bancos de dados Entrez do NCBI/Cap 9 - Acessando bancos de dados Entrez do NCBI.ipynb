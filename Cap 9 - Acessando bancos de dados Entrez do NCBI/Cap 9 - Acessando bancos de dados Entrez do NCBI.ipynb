{
 "cells": [
  {
   "cell_type": "markdown",
   "metadata": {},
   "source": [
    "# Capítulo 9 - Acessando bancos de dados Entrez do NCBI"
   ]
  },
  {
   "cell_type": "markdown",
   "metadata": {},
   "source": [
    "Entrez (https://www.ncbi.nlm.nih.gov/Web/Search/entrezfs.html) é um sistema de recuperação de dados que fornece aos usuários acesso aos bancos de dados do NCBI, tais como PubMed, GenBank, GEO e muitos outros. Você pode acessar o Entrez a partir da internet de modo manual ou usar o módulo `Bio.Entrez` do Biopython. Usando o Entrez como script, você pode, por exemplo, fazer pesquisas no PubMed ou baixar registros do GenBank.\n",
    "\n",
    "O módulo `Bio.Entrez` faz uso do *Entrez Programming Utilities* (também conhecido como EUtils), consitindo em oito ferramentas que são descritas em detalhes na página do NCBI: https://www.ncbi.nlm.nih.gov/books/NBK25501/. Cada uma dessas ferramentas corresponde a uma função do módulo `Bio.Entrez` no Python, como descrito nas seções desse capítulo. Esse módulo grante que a URL correta seja usada nas pesquisas, e que as diretrizes responsáveis pelo acesso aos dados do NCBI sejam seguidas.\n",
    "\n",
    "A saída retornada pelo EUtils geralamente é em um arquivo XML. Para analisar tal saída, você tem algumas opções:\n",
    "\n",
    "1. Usar o analisador do `Bio.Entrez` para analisar a saída XML em um objeto Python;\n",
    "\n",
    "2. Usar um dos analisadores XML disponível na biblioteca padrão do Python ou;\n",
    "\n",
    "3. Ler a saída XML como texto bruto e analisá-lo por pesquisa e manipulação de string.\n",
    "\n",
    "Veja a documentação do Python para os analisadores de XML em suas bibliotecas nativas (https://docs.python.org/pt-br/3.10/library/xml.html). Discutiremos aqui o analisador presente no Biopython com o módulo `Bio.Entrez`. Esse analisador pode ser usado para analisar os dados fornecidos por do Entrez por meio da programação, mas pode ser usado também para analisar dados em XML do NCBI Entrez que estão armazenados em um arquivo. Nesse último caso, o arquivo XML dele ser aberto em modo binário (e.g. **open('meu_arquivo.xml', 'rb')**) para que o analisador do XML no `Bio.Entrez` trabalhe corretamente.\n",
    "\n",
    "O NCBI usa arquivos DTD (em inglês, *Document Type Definition*) para descrever a estrutura da informação contida em arquivos XML. Muitos dos arquivos DTD usados pelo NCBI estão incluídos no Biopython. O analisador `Bio.Entrez` faz uso dos arquivos DTD quando analisa um arquivo XML retornado pelo NCBI Entrez.\n",
    "\n",
    "Ocasionalmente, você pode descobrir que o arquivo DTD associado com um arquivo XML específico está faltando no Biopython. Em particlar, isso acontece quando o NCBI atualiza os arquivos DTD. Se isso acontecer, **Entrez.read** mostrará uma mensagem de aviso com o nome e a URL do arquivo DTD faltante. O analisador procederá para o acesso do arquivo DTD faltante via internet, permitindo a análise do arquivo XML. Porém, o analisador é muito mais rápido se o arquivo DTD estiver disponível localmente. Para isso, baixe o arquivo DTD da URL mostrada na mensagem de aviso e coloque no diretório **...site-packages/Bio/Entrez/DTDs**, onde contém os outros arquivos DTD. Se você não tiver acesso a esse diretório, você pode colocar o arquivo DTD no diretório **~/.biopython/Bio/Entrez/DTDs**, onde o **~** representa o seu diretório principal. Uma vez que esse diretório é lido antes do primeiro, você também pode colocar versões recentes dos arquivos DTD se os presentes no primeiro diretório estiverem desatualizados. De modo alternativo, se você instalou o Biopython da fonte, pode adicionar o arquivo DTD ao diretório **Bio/Entrez/DTDs** do código fonte e reinstalar o Biopython. Isso instalará o novo arquivo DTD no local correto junto com os outros arquivos DTD.\n",
    "\n",
    "O EUtils também pode gerar saídas em outros formatos, tais como arquivos FASTA ou GenBank para banco de dados de sequência, ou formato MedLine para o banco de dados de literatura; discutido na **Seção 9.13**.\n",
    "\n",
    "As funções presentes no `Bio.Entrez` para acesso via programação ao Entrez também retorna os dados em formato binário ou em texto, dependendo do tipo de requisição do dado. Em muitos casos, essas funções retornam o dado em formato de texto, decodificando o dado obtido de NCBI Entrez para strings Python, assumindo que a codificação seja a UTF-8. Todavia, dados em XML são retornados no formato binário. A razão para isso é que a codificação é especificada no próprio documento XML, o que indica que você não saberá o tipo correto de codificação até que comece a análise do arquivo. Portanto, o analisador do `Bio.Entrez` aceita os dados em formato binário, extrai a codificação do XML e usa isso pra decodificar todo o texto presente no documento XML para strings Python, garantindo que todo o texto (em particular, idiomas além do Inglês) seja interpretado corretamente. Essa também é a razão do porque você deve abrir um arquivo XML no modo binário quando você quiser usar o analisador do `Bio.Entrez`."
   ]
  },
  {
   "cell_type": "markdown",
   "metadata": {},
   "source": [
    "## 9.1 Diretrizes do Entrez"
   ]
  },
  {
   "cell_type": "markdown",
   "metadata": {},
   "source": [
    "Antes de usarmos o Biopython para acessar os recursos online do NCBI, vamos ver o que temos no Requisitos do usuário Entrez do NCBI (https://www.ncbi.nlm.nih.gov/books/NBK25497/). Se o NCBI achar que você está abusando dos seus sistemas, ele poderá e banirá o seu acesso!\n",
    "\n",
    "Parafraseando:\n",
    "\n",
    "- Para qualquer série com mais de 100 requisiões, faça isso nos finais de semana ou fora dos horários de pico dos EUA. Depende de você obedecer;\n",
    "\n",
    "- Use o endereço web https://eutils.ncbi.nlm.nih.gov (cai na página do livro sobre o Entrez), não o endereço online do NCBI. O Biopython usa esse endereço web;\n",
    "\n",
    "- Se você estiver usando uma chave API, você pode fazer até 10 consultas por segundo, caso contrário são no máximo 3 consultas por segundo. Isso é aplicado automaticamente pelo Biopython. Inclua o argumento **api_key='MinhaChaveAPI'** ou configure como uma variável do módulo:"
   ]
  },
  {
   "cell_type": "markdown",
   "metadata": {},
   "source": [
    "from Bio import Entrez\n",
    "# Não rodar essa célula, pois altera a API e os exemplos não funcionam\n",
    "Entrez.api_key = 'MinhaChaveAPI'"
   ]
  },
  {
   "cell_type": "markdown",
   "metadata": {},
   "source": [
    "- Use o parâmetro opcional de email para que o NCBI entre em contato com você caso surja algum problema. Você também pode definir explicitamente como um parâmetro com cada chamada para Entrez, ou você pode configurar um email global:"
   ]
  },
  {
   "cell_type": "markdown",
   "metadata": {},
   "source": [
    "from Bio import Entrez\n",
    "# Não rodar essa célula, pois altera a API e os exemplos não funcionam\n",
    "Entrez.email = 'teste@example.com'"
   ]
  },
  {
   "cell_type": "markdown",
   "metadata": {},
   "source": [
    "- `Bio.Entrez` então usará esse endereço de email com cada chamada do Entrez. O domímio **example.com** é um domínio de endereço reservado especialmente para documentação (RFC 2606). Por favor, **NÃO USE** um email aleatório, é melhor não informar um email nesse caso. Em caso de uso excessivo, o NCBI tentará contatar o usuário do email fornecido antes de bloquear o acesso às utilidades do Enrtez;\n",
    "\n",
    "- Se você estiver usando o Biopython dentro de um pacote de software mario, use o parâmetro da ferramenta para especificar isso. Você pode definir explicitamente o nome da ferramenta como um parâmetro com cada chamada do Entrez, ou configurar o nome da ferramenta de modo global:"
   ]
  },
  {
   "cell_type": "markdown",
   "metadata": {},
   "source": [
    "from Bio import Entrez\n",
    "# Não rodar essa célula, pois altera a API e os exemplos não funcionam\n",
    "Entrez.tool = 'MeuScriptLocal'"
   ]
  },
  {
   "cell_type": "markdown",
   "metadata": {},
   "source": [
    "- O parâmetro da ferramenta será o padrão Biopython e;\n",
    "\n",
    "- Para grandes consultas o NCBI também recomenda o uso de seu recurso de histórico de seção (a string do cookie da seção WebEnv, veja a **Seção 9.16**). Isso é apenas um pouco mais complicado, mas não impossível.\n",
    "\n",
    "Para concluir, seja sensato com seus níveis de uso. Se você pretende baixar muitos dados, considere outras opções. Por exemplo, se você quer acessar facilmente os genes humanos, considere buscar cada cromossomo pelo FTP como um arquivo GenBank e importe os importe para o seu banco de dados BioSQL (veja a **Seção 20.5** no Capítulo 20: ***link do capítulo 20***)."
   ]
  },
  {
   "cell_type": "markdown",
   "metadata": {},
   "source": [
    "## 9.2 EInfo: Obtendo informações sobre os bancos de dados Entrez"
   ]
  },
  {
   "cell_type": "markdown",
   "metadata": {},
   "source": [
    "EInfo fornece contagem de termos de índice, última atualização e links disponíveis para cada banco de dados do NCBI. Além disso, você pode usar o EInfo para obter uma lista com todos os nomes do banco de dados acessíveis através do Entrez utilities:"
   ]
  },
  {
   "cell_type": "code",
   "execution_count": 1,
   "metadata": {},
   "outputs": [],
   "source": [
    "from Bio import Entrez\n",
    "Entrez.email = 'teste@example.com'\n",
    "identificador = Entrez.einfo()\n",
    "resultado = identificador.read()\n",
    "identificador.close()"
   ]
  },
  {
   "cell_type": "markdown",
   "metadata": {},
   "source": [
    "A variável **resultado** contém agora uma lista dos bancos de dados em formato XML:"
   ]
  },
  {
   "cell_type": "code",
   "execution_count": 2,
   "metadata": {
    "scrolled": true
   },
   "outputs": [
    {
     "name": "stdout",
     "output_type": "stream",
     "text": [
      "b'<?xml version=\"1.0\" encoding=\"UTF-8\" ?>\\n<!DOCTYPE eInfoResult PUBLIC \"-//NLM//DTD einfo 20190110//EN\" \"https://eutils.ncbi.nlm.nih.gov/eutils/dtd/20190110/einfo.dtd\">\\n<eInfoResult>\\n<DbList>\\n\\n\\t<DbName>pubmed</DbName>\\n\\t<DbName>protein</DbName>\\n\\t<DbName>nuccore</DbName>\\n\\t<DbName>ipg</DbName>\\n\\t<DbName>nucleotide</DbName>\\n\\t<DbName>structure</DbName>\\n\\t<DbName>genome</DbName>\\n\\t<DbName>annotinfo</DbName>\\n\\t<DbName>assembly</DbName>\\n\\t<DbName>bioproject</DbName>\\n\\t<DbName>biosample</DbName>\\n\\t<DbName>blastdbinfo</DbName>\\n\\t<DbName>books</DbName>\\n\\t<DbName>cdd</DbName>\\n\\t<DbName>clinvar</DbName>\\n\\t<DbName>gap</DbName>\\n\\t<DbName>gapplus</DbName>\\n\\t<DbName>grasp</DbName>\\n\\t<DbName>dbvar</DbName>\\n\\t<DbName>gene</DbName>\\n\\t<DbName>gds</DbName>\\n\\t<DbName>geoprofiles</DbName>\\n\\t<DbName>homologene</DbName>\\n\\t<DbName>medgen</DbName>\\n\\t<DbName>mesh</DbName>\\n\\t<DbName>ncbisearch</DbName>\\n\\t<DbName>nlmcatalog</DbName>\\n\\t<DbName>omim</DbName>\\n\\t<DbName>orgtrack</DbName>\\n\\t<DbName>pmc</DbName>\\n\\t<DbName>popset</DbName>\\n\\t<DbName>proteinclusters</DbName>\\n\\t<DbName>pcassay</DbName>\\n\\t<DbName>protfam</DbName>\\n\\t<DbName>biosystems</DbName>\\n\\t<DbName>pccompound</DbName>\\n\\t<DbName>pcsubstance</DbName>\\n\\t<DbName>seqannot</DbName>\\n\\t<DbName>snp</DbName>\\n\\t<DbName>sra</DbName>\\n\\t<DbName>taxonomy</DbName>\\n\\t<DbName>biocollections</DbName>\\n\\t<DbName>gtr</DbName>\\n</DbList>\\n\\n</eInfoResult>\\n'\n"
     ]
    }
   ],
   "source": [
    "print(resultado)"
   ]
  },
  {
   "cell_type": "markdown",
   "metadata": {},
   "source": [
    "Uma vez que esse arquivo XML é bastante simples, podemos extrair as informações usando uma busca por strings. Usando o analisador do `Bio.Entrez`, podemos analisar diretamente o arquivo XML como um objeto Python:"
   ]
  },
  {
   "cell_type": "code",
   "execution_count": 3,
   "metadata": {},
   "outputs": [],
   "source": [
    "from Bio import Entrez\n",
    "identificador = Entrez.einfo()\n",
    "registro = Entrez.read(identificador)"
   ]
  },
  {
   "cell_type": "markdown",
   "metadata": {},
   "source": [
    "Agora **registro** é um dicionário com exatamente uma chave:"
   ]
  },
  {
   "cell_type": "code",
   "execution_count": 4,
   "metadata": {},
   "outputs": [
    {
     "data": {
      "text/plain": [
       "dict_keys(['DbList'])"
      ]
     },
     "execution_count": 4,
     "metadata": {},
     "output_type": "execute_result"
    }
   ],
   "source": [
    "registro.keys()"
   ]
  },
  {
   "cell_type": "markdown",
   "metadata": {},
   "source": [
    "Os valores armazenados nessa chave é uma lista dos nomes dos bancos de dados mostrados no XML acima:"
   ]
  },
  {
   "cell_type": "code",
   "execution_count": 5,
   "metadata": {},
   "outputs": [
    {
     "data": {
      "text/plain": [
       "['pubmed', 'protein', 'nuccore', 'ipg', 'nucleotide', 'structure', 'genome', 'annotinfo', 'assembly', 'bioproject', 'biosample', 'blastdbinfo', 'books', 'cdd', 'clinvar', 'gap', 'gapplus', 'grasp', 'dbvar', 'gene', 'gds', 'geoprofiles', 'homologene', 'medgen', 'mesh', 'ncbisearch', 'nlmcatalog', 'omim', 'orgtrack', 'pmc', 'popset', 'proteinclusters', 'pcassay', 'protfam', 'biosystems', 'pccompound', 'pcsubstance', 'seqannot', 'snp', 'sra', 'taxonomy', 'biocollections', 'gtr']"
      ]
     },
     "execution_count": 5,
     "metadata": {},
     "output_type": "execute_result"
    }
   ],
   "source": [
    "registro['DbList']"
   ]
  },
  {
   "cell_type": "markdown",
   "metadata": {},
   "source": [
    "Para cada um desses banco de dados, podemos usar o EInfo novamente para obter mais informações:"
   ]
  },
  {
   "cell_type": "code",
   "execution_count": 6,
   "metadata": {},
   "outputs": [
    {
     "data": {
      "text/plain": [
       "'PubMed bibliographic record'"
      ]
     },
     "execution_count": 6,
     "metadata": {},
     "output_type": "execute_result"
    }
   ],
   "source": [
    "from Bio import Entrez\n",
    "Entrez.email = 'teste@example.com'\n",
    "identificador = Entrez.einfo(db='pubmed')\n",
    "registro = Entrez.read(identificador)\n",
    "registro['DbInfo']['Description']"
   ]
  },
  {
   "cell_type": "code",
   "execution_count": 7,
   "metadata": {},
   "outputs": [
    {
     "data": {
      "text/plain": [
       "'33393970'"
      ]
     },
     "execution_count": 7,
     "metadata": {},
     "output_type": "execute_result"
    }
   ],
   "source": [
    "registro['DbInfo']['Count']"
   ]
  },
  {
   "cell_type": "code",
   "execution_count": 8,
   "metadata": {},
   "outputs": [
    {
     "data": {
      "text/plain": [
       "'2021/12/02 14:40'"
      ]
     },
     "execution_count": 8,
     "metadata": {},
     "output_type": "execute_result"
    }
   ],
   "source": [
    "registro['DbInfo']['LastUpdate']"
   ]
  },
  {
   "cell_type": "markdown",
   "metadata": {},
   "source": [
    "Tente usar **registro['DbInfo'].keys()** para acessar as outras informações presentes nesse registro:"
   ]
  },
  {
   "cell_type": "code",
   "execution_count": 9,
   "metadata": {},
   "outputs": [
    {
     "data": {
      "text/plain": [
       "dict_keys(['DbName', 'MenuName', 'Description', 'DbBuild', 'Count', 'LastUpdate', 'FieldList', 'LinkList'])"
      ]
     },
     "execution_count": 9,
     "metadata": {},
     "output_type": "execute_result"
    }
   ],
   "source": [
    "registro['DbInfo'].keys()"
   ]
  },
  {
   "cell_type": "markdown",
   "metadata": {},
   "source": [
    "Um dos mais úteis é uma lista de possíveis pesquisas para usar como o ESearch:"
   ]
  },
  {
   "cell_type": "code",
   "execution_count": 10,
   "metadata": {
    "scrolled": true
   },
   "outputs": [
    {
     "name": "stdout",
     "output_type": "stream",
     "text": [
      "ALL, All Fields, All terms from all searchable fields\n",
      "UID, UID, Unique number assigned to publication\n",
      "FILT, Filter, Limits the records\n",
      "TITL, Title, Words in title of publication\n",
      "WORD, Text Word, Free text associated with publication\n",
      "MESH, MeSH Terms, Medical Subject Headings assigned to publication\n",
      "MAJR, MeSH Major Topic, MeSH terms of major importance to publication\n",
      "AUTH, Author, Author(s) of publication\n",
      "JOUR, Journal, Journal abbreviation of publication\n",
      "AFFL, Affiliation, Author's institutional affiliation and address\n",
      "ECNO, EC/RN Number, EC number for enzyme or CAS registry number\n",
      "SUBS, Supplementary Concept, CAS chemical name or MEDLINE Substance Name\n",
      "PDAT, Date - Publication, Date of publication\n",
      "EDAT, Date - Entrez, Date publication first accessible through Entrez\n",
      "VOL, Volume, Volume number of publication\n",
      "PAGE, Pagination, Page number(s) of publication\n",
      "PTYP, Publication Type, Type of publication (e.g., review)\n",
      "LANG, Language, Language of publication\n",
      "ISS, Issue, Issue number of publication\n",
      "SUBH, MeSH Subheading, Additional specificity for MeSH term\n",
      "SI, Secondary Source ID, Cross-reference from publication to other databases\n",
      "MHDA, Date - MeSH, Date publication was indexed with MeSH terms\n",
      "TIAB, Title/Abstract, Free text associated with Abstract/Title\n",
      "OTRM, Other Term, Other terms associated with publication\n",
      "INVR, Investigator, Investigator\n",
      "COLN, Author - Corporate, Corporate Author of publication\n",
      "CNTY, Place of Publication, Country of publication\n",
      "PAPX, Pharmacological Action, MeSH pharmacological action pre-explosions\n",
      "GRNT, Grant Number, NIH Grant Numbers\n",
      "MDAT, Date - Modification, Date of last modification\n",
      "CDAT, Date - Completion, Date of completion\n",
      "PID, Publisher ID, Publisher ID\n",
      "FAUT, Author - First, First Author of publication\n",
      "FULL, Author - Full, Full Author Name(s) of publication\n",
      "FINV, Investigator - Full, Full name of investigator\n",
      "TT, Transliterated Title, Words in transliterated title of publication\n",
      "LAUT, Author - Last, Last Author of publication\n",
      "PPDT, Print Publication Date, Date of print publication\n",
      "EPDT, Electronic Publication Date, Date of Electronic publication\n",
      "LID, Location ID, ELocation ID\n",
      "CRDT, Date - Create, Date publication first accessible through Entrez\n",
      "BOOK, Book, ID of the book that contains the document\n",
      "ED, Editor, Section's Editor\n",
      "ISBN, ISBN, ISBN\n",
      "PUBN, Publisher, Publisher's name\n",
      "AUCL, Author Cluster ID, Author Cluster ID\n",
      "EID, Extended PMID, Extended PMID\n",
      "DSO, DSO, Additional text from the summary\n",
      "AUID, Author - Identifier, Author Identifier\n",
      "PS, Subject - Personal Name, Personal Name as Subject\n",
      "COIS, Conflict of Interest Statements, Conflict of Interest Statements\n"
     ]
    }
   ],
   "source": [
    "for campo in registro['DbInfo']['FieldList']:\n",
    "    print('%(Name)s, %(FullName)s, %(Description)s'%campo)"
   ]
  },
  {
   "cell_type": "markdown",
   "metadata": {},
   "source": [
    "Essa é uma longa lista, mas indiretamente isso diz a você que para o banco de dados do PubMed, você pode fazer coisas como **Jones[AUTH]** para pesquisar o autor, ou **Sanger[AFFL]** para restringir os autores ao Wellcome Sanger Institute. Isso pode ser muito útil, especialmente e você não estiver familiarizado com um banco de dados em particular."
   ]
  },
  {
   "cell_type": "markdown",
   "metadata": {},
   "source": [
    "## 9.3 ESearch: Pesquisando os bancos de dados de Entrez"
   ]
  },
  {
   "cell_type": "markdown",
   "metadata": {},
   "source": [
    "Para pesquisar em qualquer banco de dados, usaremos o `Bio.Entrez.esearch()`. Por exemplo, vamos procurar no PubMed publicações que incluem o Biopython em seu título:"
   ]
  },
  {
   "cell_type": "code",
   "execution_count": 11,
   "metadata": {},
   "outputs": [
    {
     "data": {
      "text/plain": [
       "True"
      ]
     },
     "execution_count": 11,
     "metadata": {},
     "output_type": "execute_result"
    }
   ],
   "source": [
    "from Bio import Entrez\n",
    "Entrez.email = 'teste@example.com'\n",
    "identificador = Entrez.esearch(db='pubmed', term='biopython[title]', retmax=40)\n",
    "registro = Entrez.read(identificador)\n",
    "'19304878' in registro['IdList']"
   ]
  },
  {
   "cell_type": "code",
   "execution_count": 12,
   "metadata": {},
   "outputs": [
    {
     "name": "stdout",
     "output_type": "stream",
     "text": [
      "['34434786', '22909249', '19304878']\n"
     ]
    }
   ],
   "source": [
    "print(registro['IdList'])"
   ]
  },
  {
   "cell_type": "markdown",
   "metadata": {},
   "source": [
    "Nessa saída, vemos os IDs do PubMed (se tiver curiodidade, procure esses IDs no PubMed para ver do que se trata), que pode ser revuperado pelo EFetch (veja a **Seção 9.6**).\n",
    "\n",
    "Você também pode usar o ESearch para fazer pesquisas no GenBank. Faremos uma rápida pesquisa no gene *matK* das orquídeas *Cypripedioideae* (veja a **Seção 9.2** sobre o EInfo para descobrir quais campos você pode pesquisar em cada banco de dados Entrez):"
   ]
  },
  {
   "cell_type": "code",
   "execution_count": 13,
   "metadata": {},
   "outputs": [
    {
     "data": {
      "text/plain": [
       "'585'"
      ]
     },
     "execution_count": 13,
     "metadata": {},
     "output_type": "execute_result"
    }
   ],
   "source": [
    "from Bio import Entrez\n",
    "identificador = Entrez.esearch(db='nucleotide', term='Cypripedioideae[Orgn] AND matK[Gene]', idtype='acc')\n",
    "registro = Entrez.read(identificador)\n",
    "registro['Count']"
   ]
  },
  {
   "cell_type": "code",
   "execution_count": 14,
   "metadata": {},
   "outputs": [
    {
     "data": {
      "text/plain": [
       "['NC_058834.1', 'NC_058833.1', 'NC_058832.1', 'OK120861.1', 'OK120860.1', 'NC_058212.1', 'NC_058211.1', 'NC_058210.1', 'NC_058209.1', 'NC_058208.1', 'NC_058207.1', 'NC_058206.1', 'MN315109.1', 'MN315108.1', 'MN315107.1', 'MN315106.1', 'MN315105.1', 'NC_056912.1', 'MZ150831.1', 'MZ150830.1']"
      ]
     },
     "execution_count": 14,
     "metadata": {},
     "output_type": "execute_result"
    }
   ],
   "source": [
    "registro['IdList']"
   ]
  },
  {
   "cell_type": "markdown",
   "metadata": {},
   "source": [
    "Cada um dos IDs (NC_058834.1, NC_058833.1, NC_058832.1) é um identificador do GenBank (Número de acesso). Veja a **Seção 9.6** para mais informações de como baixar os registros do GenBank.\n",
    "\n",
    "Observe que ao invés de um nome de espécie como **Cypripedioideae[Orgn]**, você pode restringir a pesquisa usando um identificador taxonômico do NCBI, que no caso poderia ser **txid158330[Orgn]**. Esse modo de pesquisa não estão devidamente documentado na página web de ajuda de ESearch. Muitas vezes, você pode deduzir a formatação do termo de pesquisa brincando com a interface da web do Entrez. Por exemplo, incluir o termo **complete[prop]** na pesquisa de genoma restringe a pesquisa apenas para genomas completos.\n",
    "\n",
    "Como exemplo final, vamos obter uma lista de títulos de periódicos computacionais:"
   ]
  },
  {
   "cell_type": "code",
   "execution_count": 15,
   "metadata": {},
   "outputs": [
    {
     "name": "stdout",
     "output_type": "stream",
     "text": [
      "Foram encontrados 187 periódicos computacionais.\n"
     ]
    }
   ],
   "source": [
    "from Bio import Entrez\n",
    "identificador = Entrez.esearch(db='nlmcatalog', term='computational[Journal]', retmax=20)\n",
    "registro = Entrez.read(identificador)\n",
    "num_counts = registro['Count']\n",
    "print(f'Foram encontrados {num_counts} periódicos computacionais.')"
   ]
  },
  {
   "cell_type": "code",
   "execution_count": 16,
   "metadata": {},
   "outputs": [
    {
     "name": "stdout",
     "output_type": "stream",
     "text": [
      "Os primeiros 20 periódicos são:\n",
      "['101775476', '101775136', '468912', '468839', '467370', '101775780', '101774751', '466063', '101768752', '101765300', '101759185', '101752828', '464655', '101768811', '101755127', '101753951', '101753371', '101740904', '101737789', '101736625']\n"
     ]
    }
   ],
   "source": [
    "primeiros_periodicos = registro['IdList']\n",
    "print(f'Os primeiros 20 periódicos são:\\n{primeiros_periodicos}')"
   ]
  },
  {
   "cell_type": "markdown",
   "metadata": {},
   "source": [
    "Novamente, você pode usar o EFetch para obter mais informações de cada um desses periódicos.\n",
    "\n",
    "ESearch possi muitas opções úteis, veja a página wweb para mais informações: https://www.ncbi.nlm.nih.gov/books/NBK25499/#chapter4.ESearch."
   ]
  },
  {
   "cell_type": "markdown",
   "metadata": {},
   "source": [
    "## 9.4 Epost: Enviando uma lista de identificadores"
   ]
  },
  {
   "cell_type": "markdown",
   "metadata": {},
   "source": [
    "EPost envia uma lista de UIs para uso em estratégias de pesquisa subsequentes; veja a página de ajuda online do EPost para mais informações (https://www.ncbi.nlm.nih.gov/books/NBK25499/#chapter4.EPost). Essa ferramenta está disponível no Biopython pelo módulo `Bio.Entrez.epost()`.\n",
    "\n",
    "Para dar um exemplo de quão essa função é útil, suponha que você tenha uma longa lista de IDs e quer baixá-las usando o EFetch (talvez as sequências, ou citações, ou qualquer informação). Quando você faz uma requisição com o EFetch com a sua lista de IDs, banco de dados, etc, tudo é transformado em uma longa URL que pe mandada para o servidor. Se a sua lista de IDs é longa, essa URL será longa e URLs longas podem quebrar.\n",
    "\n",
    "Ao invés disso, você pode separar em duas etapas; primeiro enviando a lista de IDs usando o EPost (isso usa um 'HTML post' internamente, ao invés de um 'HTML get', contornando assim o problema da URL longa).\n",
    "Com o suporte de histórico, você pode consultar uma longa lista de IDs e baixar os dados associados com o EFetch.\n",
    "\n",
    "Vejamos um exemplo simples para entender como o EPost funciona, enviando alguns identificadores PubMed:"
   ]
  },
  {
   "cell_type": "code",
   "execution_count": 17,
   "metadata": {},
   "outputs": [
    {
     "name": "stdout",
     "output_type": "stream",
     "text": [
      "b'<?xml version=\"1.0\" encoding=\"UTF-8\" ?>\\n<!DOCTYPE ePostResult PUBLIC \"-//NLM//DTD epost 20090526//EN\" \"https://eutils.ncbi.nlm.nih.gov/eutils/dtd/20090526/epost.dtd\"><ePostResult>\\n\\t<QueryKey>1</QueryKey>\\n\\t<WebEnv>MCID_61aa1c5ebef2171d610bdb25</WebEnv>\\n</ePostResult>\\n'\n"
     ]
    }
   ],
   "source": [
    "from Bio import Entrez\n",
    "Entrez.email = 'teste@example.com'\n",
    "lista_ids = ['19304878', '18606172', '16403221', '16377612', '14871861', '14630660']\n",
    "print(Entrez.epost('pubmed', id=','.join(lista_ids)).read())"
   ]
  },
  {
   "cell_type": "markdown",
   "metadata": {},
   "source": [
    "O XML retornado inclui duas strings importantes: **QueryKey** e **WebEnv** que juntas definem o nosso histórico da seção. Você pode extrair esses valores para usar em outra chamada do Entrez, como no EFetch:"
   ]
  },
  {
   "cell_type": "code",
   "execution_count": 18,
   "metadata": {},
   "outputs": [],
   "source": [
    "from Bio import Entrez\n",
    "Entrez.email = 'teste@example.com'\n",
    "lista_ids = ['19304878', '18606172', '16403221', '16377612', '14871861', '14630660']\n",
    "resultados_pesquisa = Entrez.read(Entrez.epost('pubmed', id=','.join(lista_ids)))\n",
    "webenv = resultados_pesquisa['WebEnv']\n",
    "query_key = resultados_pesquisa['QueryKey']"
   ]
  },
  {
   "cell_type": "code",
   "execution_count": 19,
   "metadata": {},
   "outputs": [
    {
     "data": {
      "text/plain": [
       "'MCID_61aa1c5f616c476f992d9931'"
      ]
     },
     "execution_count": 19,
     "metadata": {},
     "output_type": "execute_result"
    }
   ],
   "source": [
    "webenv"
   ]
  },
  {
   "cell_type": "code",
   "execution_count": 20,
   "metadata": {},
   "outputs": [
    {
     "data": {
      "text/plain": [
       "'1'"
      ]
     },
     "execution_count": 20,
     "metadata": {},
     "output_type": "execute_result"
    }
   ],
   "source": [
    "query_key"
   ]
  },
  {
   "cell_type": "markdown",
   "metadata": {},
   "source": [
    "Veja a **Seção 9.16** para saber como usar o recurso de histórico."
   ]
  },
  {
   "cell_type": "markdown",
   "metadata": {},
   "source": [
    "## 9.5 ESummary: Recuperando resumos de IDs primários"
   ]
  },
  {
   "cell_type": "markdown",
   "metadata": {},
   "source": [
    "ESummary recupera resumos de documentos de uma lista de IDs primários (veja a página web de ajuda do ESummary para mais informações: https://www.ncbi.nlm.nih.gov/books/NBK25499/#chapter4.ESummary). No Biopython, o ESummary está disponível pelo módulo `Bio.Entrez.esummary()`. Usando o resultado de pesquisa acima, podemos, por exemplo, descobrir mais sobre o periódico de ID 101660833:"
   ]
  },
  {
   "cell_type": "code",
   "execution_count": 21,
   "metadata": {},
   "outputs": [
    {
     "name": "stdout",
     "output_type": "stream",
     "text": [
      "Informação do periódico\n",
      "ID: 101660833\n",
      "Título: IEEE transactions on computational imaging.\n"
     ]
    }
   ],
   "source": [
    "from Bio import Entrez\n",
    "Entrez.email = 'teste@example.com'\n",
    "identificador = Entrez.esummary(db='nlmcatalog', id='101660833')\n",
    "registro = Entrez.read(identificador)\n",
    "info = registro[0]['TitleMainList'][0]\n",
    "id_periodico = registro[0]['Id']\n",
    "titulo_periodico = info['Title']\n",
    "print(f'''Informação do periódico\n",
    "ID: {id_periodico}\n",
    "Título: {titulo_periodico}''')"
   ]
  },
  {
   "cell_type": "markdown",
   "metadata": {},
   "source": [
    "## 9.6 EFetch: Baixando registros completos do Entrez"
   ]
  },
  {
   "cell_type": "markdown",
   "metadata": {},
   "source": [
    "EFetch é usando quando você quer recuperar um registro completo do Entrez. Isso cobre várioas bancos de dados possíveis, como descrito na página online de ajuda do EFetch: https://www.ncbi.nlm.nih.gov/books/NBK3837/.\n",
    "\n",
    "Para a maioria dos seus bancos de dados, o NCBI suporta vários tipos de arquivos. Requisitar um formato específico de arquivo do Entrez usando o `Bio.Entrez.efetch()`, requer que os argumentos opcionais **rettype** e/ou **retmode** sejam especificados. As diferentes combinações são descritas para cada tipo de banco de dados nas páginas lincadas à página do EFetch no NCBI: https://www.ncbi.nlm.nih.gov/books/NBK25499/#chapter4.EFetch.\n",
    "\n",
    "Um uso comum é baixar sequências no formato FASTA ou GenBank/GenPept como textos, que podem ser analisados com o `Bio.SeqIO` (veja a **Seção 5.3.1** para mais informações no Capítulo 5: https://github.com/GTL98/biopython_br/tree/main/Cap%205%20-%20Sequ%C3%AAncias%20Input_Output). Usaremos os mesmo dados dos exemplos acima. Podemos baixar o registro EU490707 do GenBank usando o `Bio.Entrez.efetch()`:"
   ]
  },
  {
   "cell_type": "code",
   "execution_count": 22,
   "metadata": {
    "scrolled": true
   },
   "outputs": [
    {
     "name": "stdout",
     "output_type": "stream",
     "text": [
      "LOCUS       EU490707                1302 bp    DNA     linear   PLN 26-JUL-2016\n",
      "DEFINITION  Selenipedium aequinoctiale maturase K (matK) gene, partial cds;\n",
      "            chloroplast.\n",
      "ACCESSION   EU490707\n",
      "VERSION     EU490707.1\n",
      "KEYWORDS    .\n",
      "SOURCE      chloroplast Selenipedium aequinoctiale\n",
      "  ORGANISM  Selenipedium aequinoctiale\n",
      "            Eukaryota; Viridiplantae; Streptophyta; Embryophyta; Tracheophyta;\n",
      "            Spermatophyta; Magnoliopsida; Liliopsida; Asparagales; Orchidaceae;\n",
      "            Cypripedioideae; Selenipedium.\n",
      "REFERENCE   1  (bases 1 to 1302)\n",
      "  AUTHORS   Neubig,K.M., Whitten,W.M., Carlsward,B.S., Blanco,M.A., Endara,L.,\n",
      "            Williams,N.H. and Moore,M.\n",
      "  TITLE     Phylogenetic utility of ycf1 in orchids: a plastid gene more\n",
      "            variable than matK\n",
      "  JOURNAL   Plant Syst. Evol. 277 (1-2), 75-84 (2009)\n",
      "REFERENCE   2  (bases 1 to 1302)\n",
      "  AUTHORS   Neubig,K.M., Whitten,W.M., Carlsward,B.S., Blanco,M.A.,\n",
      "            Endara,C.L., Williams,N.H. and Moore,M.J.\n",
      "  TITLE     Direct Submission\n",
      "  JOURNAL   Submitted (14-FEB-2008) Department of Botany, University of\n",
      "            Florida, 220 Bartram Hall, Gainesville, FL 32611-8526, USA\n",
      "FEATURES             Location/Qualifiers\n",
      "     source          1..1302\n",
      "                     /organism=\"Selenipedium aequinoctiale\"\n",
      "                     /organelle=\"plastid:chloroplast\"\n",
      "                     /mol_type=\"genomic DNA\"\n",
      "                     /specimen_voucher=\"FLAS:Blanco 2475\"\n",
      "                     /db_xref=\"taxon:256374\"\n",
      "     gene            <1..>1302\n",
      "                     /gene=\"matK\"\n",
      "     CDS             <1..>1302\n",
      "                     /gene=\"matK\"\n",
      "                     /codon_start=1\n",
      "                     /transl_table=11\n",
      "                     /product=\"maturase K\"\n",
      "                     /protein_id=\"ACC99456.1\"\n",
      "                     /translation=\"IFYEPVEIFGYDNKSSLVLVKRLITRMYQQNFLISSVNDSNQKG\n",
      "                     FWGHKHFFSSHFSSQMVSEGFGVILEIPFSSQLVSSLEEKKIPKYQNLRSIHSIFPFL\n",
      "                     EDKFLHLNYVSDLLIPHPIHLEILVQILQCRIKDVPSLHLLRLLFHEYHNLNSLITSK\n",
      "                     KFIYAFSKRKKRFLWLLYNSYVYECEYLFQFLRKQSSYLRSTSSGVFLERTHLYVKIE\n",
      "                     HLLVVCCNSFQRILCFLKDPFMHYVRYQGKAILASKGTLILMKKWKFHLVNFWQSYFH\n",
      "                     FWSQPYRIHIKQLSNYSFSFLGYFSSVLENHLVVRNQMLENSFIINLLTKKFDTIAPV\n",
      "                     ISLIGSLSKAQFCTVLGHPISKPIWTDFSDSDILDRFCRICRNLCRYHSGSSKKQVLY\n",
      "                     RIKYILRLSCARTLARKHKSTVRTFMRRLGSGLLEEFFMEEE\"\n",
      "ORIGIN      \n",
      "        1 attttttacg aacctgtgga aatttttggt tatgacaata aatctagttt agtacttgtg\n",
      "       61 aaacgtttaa ttactcgaat gtatcaacag aattttttga tttcttcggt taatgattct\n",
      "      121 aaccaaaaag gattttgggg gcacaagcat tttttttctt ctcatttttc ttctcaaatg\n",
      "      181 gtatcagaag gttttggagt cattctggaa attccattct cgtcgcaatt agtatcttct\n",
      "      241 cttgaagaaa aaaaaatacc aaaatatcag aatttacgat ctattcattc aatatttccc\n",
      "      301 tttttagaag acaaattttt acatttgaat tatgtgtcag atctactaat accccatccc\n",
      "      361 atccatctgg aaatcttggt tcaaatcctt caatgccgga tcaaggatgt tccttctttg\n",
      "      421 catttattgc gattgctttt ccacgaatat cataatttga atagtctcat tacttcaaag\n",
      "      481 aaattcattt acgccttttc aaaaagaaag aaaagattcc tttggttact atataattct\n",
      "      541 tatgtatatg aatgcgaata tctattccag tttcttcgta aacagtcttc ttatttacga\n",
      "      601 tcaacatctt ctggagtctt tcttgagcga acacatttat atgtaaaaat agaacatctt\n",
      "      661 ctagtagtgt gttgtaattc ttttcagagg atcctatgct ttctcaagga tcctttcatg\n",
      "      721 cattatgttc gatatcaagg aaaagcaatt ctggcttcaa agggaactct tattctgatg\n",
      "      781 aagaaatgga aatttcatct tgtgaatttt tggcaatctt attttcactt ttggtctcaa\n",
      "      841 ccgtatagga ttcatataaa gcaattatcc aactattcct tctcttttct ggggtatttt\n",
      "      901 tcaagtgtac tagaaaatca tttggtagta agaaatcaaa tgctagagaa ttcatttata\n",
      "      961 ataaatcttc tgactaagaa attcgatacc atagccccag ttatttctct tattggatca\n",
      "     1021 ttgtcgaaag ctcaattttg tactgtattg ggtcatccta ttagtaaacc gatctggacc\n",
      "     1081 gatttctcgg attctgatat tcttgatcga ttttgccgga tatgtagaaa tctttgtcgt\n",
      "     1141 tatcacagcg gatcctcaaa aaaacaggtt ttgtatcgta taaaatatat acttcgactt\n",
      "     1201 tcgtgtgcta gaactttggc acggaaacat aaaagtacag tacgcacttt tatgcgaaga\n",
      "     1261 ttaggttcgg gattattaga agaattcttt atggaagaag aa\n",
      "//\n",
      "\n",
      "\n"
     ]
    }
   ],
   "source": [
    "from Bio import Entrez\n",
    "Entrez.email = 'teste@example.com'\n",
    "identificador = Entrez.efetch(db='nucleotide', id='EU490707', rettype='gb', retmode='text')\n",
    "print(identificador.read())"
   ]
  },
  {
   "attachments": {
    "show_gi_ncbi.png": {
     "image/png": "[encoded data removed]"
    }
   },
   "cell_type": "markdown",
   "metadata": {},
   "source": [
    "Vale ressaltar que a partir de Outubro de 2016 os identificadores GI foram descontinados em favor dos números de acesso. Caso você queira baixar manualmente o arquivo, basta selecionar a opção 'show GI', como mostrado na figura abaixo:\n",
    "\n",
    "![show_gi_ncbi.png](attachment:show_gi_ncbi.png)\n",
    "\n",
    "Você pode continuar buscando sequências baseadas no GI, mas as novas sequências não possuem mais esse identificador. Ao invés disso, você deve informar o 'Accession number' como feito no exemplo.\n",
    "\n",
    "Os argumento **rettype='gb'** e **retmode='text'** permite que baixemos esse registro no formato GenBank.\n",
    "\n",
    "Note que até o Outono de 2009, a API do Entrez EFetch permitia que você usasse 'genbank' como o tipo retornado, porém, o NCBI insiste que você use o tipo de retorno oficial como 'gb' ou 'gbwithparts' (ou 'gp' para proteínas) como descrito online. Observe também que até Fevereiro de 2012, a API do Entrez EFetch retornava como padrão um texto, agora o padrão é XML.\n",
    "\n",
    "De modo alternativo, você pode, por exemplo, usar o argumento **rettype='fasta'** para obter a saída em formato FASTA. Lembre-se que os formatos disponíveis dependem de qual banco de dados você está fazendo o download.\n",
    "\n",
    "Se você buscar o registro em um dor formatos aceitos pelo `Bio.SeqIO` (veja o Capítulo 5: https://github.com/GTL98/biopython_br/tree/main/Cap%205%20-%20Sequ%C3%AAncias%20Input_Output), você pode analisar diretamente em um objeto **SeqRecord**:"
   ]
  },
  {
   "cell_type": "code",
   "execution_count": 23,
   "metadata": {},
   "outputs": [
    {
     "name": "stdout",
     "output_type": "stream",
     "text": [
      "EU490707.1\n"
     ]
    }
   ],
   "source": [
    "from Bio import SeqIO\n",
    "from Bio import Entrez\n",
    "Entrez.email = 'teste@example.com'\n",
    "identificador = Entrez.efetch(db='nucleotide', id='EU490707', rettype='gb', retmode='text')\n",
    "registro = SeqIO.read(identificador, 'gb')\n",
    "identificador.close()\n",
    "print(registro.id)"
   ]
  },
  {
   "cell_type": "code",
   "execution_count": 24,
   "metadata": {},
   "outputs": [
    {
     "name": "stdout",
     "output_type": "stream",
     "text": [
      "EU490707\n"
     ]
    }
   ],
   "source": [
    "print(registro.name)"
   ]
  },
  {
   "cell_type": "code",
   "execution_count": 25,
   "metadata": {},
   "outputs": [
    {
     "name": "stdout",
     "output_type": "stream",
     "text": [
      "Selenipedium aequinoctiale maturase K (matK) gene, partial cds; chloroplast\n"
     ]
    }
   ],
   "source": [
    "print(registro.description)"
   ]
  },
  {
   "cell_type": "code",
   "execution_count": 26,
   "metadata": {},
   "outputs": [
    {
     "name": "stdout",
     "output_type": "stream",
     "text": [
      "3\n"
     ]
    }
   ],
   "source": [
    "print(len(registro.features))"
   ]
  },
  {
   "cell_type": "code",
   "execution_count": 27,
   "metadata": {},
   "outputs": [
    {
     "data": {
      "text/plain": [
       "Seq('ATTTTTTACGAACCTGTGGAAATTTTTGGTTATGACAATAAATCTAGTTTAGTA...GAA')"
      ]
     },
     "execution_count": 27,
     "metadata": {},
     "output_type": "execute_result"
    }
   ],
   "source": [
    "registro.seq"
   ]
  },
  {
   "cell_type": "markdown",
   "metadata": {},
   "source": [
    "Observe que a maneira mais comum seria salvar os dados da sequência em um arquivo local e aí sim analisá-lo com o `Bio.SeqIO`. Isso pode evitar que você baixe novamente o mesmo arquivo repetidas vezes enqunto trabalha em seu código e coloca menos carga nos servidores do NCBI. Por exemplo:"
   ]
  },
  {
   "cell_type": "code",
   "execution_count": 28,
   "metadata": {},
   "outputs": [
    {
     "name": "stdout",
     "output_type": "stream",
     "text": [
      "Analisando...\n",
      "ID: EU490707.1\n",
      "Name: EU490707\n",
      "Description: Selenipedium aequinoctiale maturase K (matK) gene, partial cds; chloroplast\n",
      "Number of features: 3\n",
      "/molecule_type=DNA\n",
      "/topology=linear\n",
      "/data_file_division=PLN\n",
      "/date=26-JUL-2016\n",
      "/accessions=['EU490707']\n",
      "/sequence_version=1\n",
      "/keywords=['']\n",
      "/source=chloroplast Selenipedium aequinoctiale\n",
      "/organism=Selenipedium aequinoctiale\n",
      "/taxonomy=['Eukaryota', 'Viridiplantae', 'Streptophyta', 'Embryophyta', 'Tracheophyta', 'Spermatophyta', 'Magnoliopsida', 'Liliopsida', 'Asparagales', 'Orchidaceae', 'Cypripedioideae', 'Selenipedium']\n",
      "/references=[Reference(title='Phylogenetic utility of ycf1 in orchids: a plastid gene more variable than matK', ...), Reference(title='Direct Submission', ...)]\n",
      "Seq('ATTTTTTACGAACCTGTGGAAATTTTTGGTTATGACAATAAATCTAGTTTAGTA...GAA')\n"
     ]
    }
   ],
   "source": [
    "import os\n",
    "from Bio import SeqIO\n",
    "from Bio import Entrez\n",
    "Entrez.email = 'teste@example.com'\n",
    "nome_arquivo = 'EU490707.gbk'\n",
    "if not os.path.isfile(nome_arquivo):\n",
    "    # Baixando...\n",
    "    identificador_net = Entrez.efetch(\n",
    "    db='nucleotide', id='EU490707', rettype='gb', retmode='text'\n",
    "    )\n",
    "    identificador_saida = open(nome_arquivo, 'w')\n",
    "    identificador_saida.write(identificador_net.read())\n",
    "    identificador_saida.close()\n",
    "    identificador_net.close()\n",
    "    print('Salvo!')\n",
    "print('Analisando...')\n",
    "registro = SeqIO.read(nome_arquivo, 'gb')\n",
    "print(registro)"
   ]
  },
  {
   "cell_type": "markdown",
   "metadata": {},
   "source": [
    "Para obter o formato XML, que você pode usar o `Bio.Entrez.read()` para analisar, use **retmode='xml'**:"
   ]
  },
  {
   "cell_type": "code",
   "execution_count": 29,
   "metadata": {},
   "outputs": [
    {
     "data": {
      "text/plain": [
       "'Selenipedium aequinoctiale maturase K (matK) gene, partial cds; chloroplast'"
      ]
     },
     "execution_count": 29,
     "metadata": {},
     "output_type": "execute_result"
    }
   ],
   "source": [
    "from Bio import Entrez\n",
    "Entrez.email = 'teste@example.com'\n",
    "identificador = Entrez.efetch(db='nucleotide', id='EU490707', retmode='xml')\n",
    "registro = Entrez.read(identificador)\n",
    "identificador.close()\n",
    "registro[0]['GBSeq_definition']"
   ]
  },
  {
   "cell_type": "code",
   "execution_count": 30,
   "metadata": {},
   "outputs": [
    {
     "data": {
      "text/plain": [
       "'chloroplast Selenipedium aequinoctiale'"
      ]
     },
     "execution_count": 30,
     "metadata": {},
     "output_type": "execute_result"
    }
   ],
   "source": [
    "registro[0]['GBSeq_source']"
   ]
  },
  {
   "cell_type": "markdown",
   "metadata": {},
   "source": [
    "Então, isso tratava de sequências. Por exemplo, para análises de formatos específicos de outros banco de dados (e.g. o formato **MEDLINE** usado no PubMed), veja a **Seção 9.13**.\n",
    "\n",
    "Se você deseja realizar uma pesquisa com o `Bio.Entrez.esearch()` e baixar os registros com o `Bio.Entrez.efetch()`, você deveria usar a recuso de histótico do WebEnv (veja a **Seção 9.16**)."
   ]
  },
  {
   "cell_type": "markdown",
   "metadata": {},
   "source": [
    "## 9.7 ELink: Procurando por itens relacionados no NCBI Entrez"
   ]
  },
  {
   "cell_type": "markdown",
   "metadata": {},
   "source": [
    "ELink, disponível no Biopython pelo módulo `Bio.Entrez.elink()`, pode ser usado para encontrar itens relacionados nos banco de dados NCBI Entrez. Por exemplo, você pode usá-lo para encontrar entradas de nucleotídeos para uma entrada no banco de dados de genes, e outras coisas legais.\n",
    "\n",
    "Vamos usar o ELink para encontrar artigos relacionados ao Biopython em *Bioinformatics* em 2009. O ID do PubMed do artigo é 19304878:"
   ]
  },
  {
   "cell_type": "code",
   "execution_count": 31,
   "metadata": {},
   "outputs": [],
   "source": [
    "from Bio import Entrez\n",
    "Entrez.email = 'teste@example.com'\n",
    "pmid = '19304878'\n",
    "registro = Entrez.read(Entrez.elink(dbfrom='pubmed', id=pmid))"
   ]
  },
  {
   "cell_type": "markdown",
   "metadata": {},
   "source": [
    "a variável **registro** consiste de uma lista Python, uma para cada base de dados que pesquisamos. Uma vez que especificamos apenas o ID do PubMed para pesquisa, **registro** contém somente um item. Esse item é um dicionário contendo as informações sobre o nosso termo de pesquisa, bem como todos os itens relacionados que foram encontrados:"
   ]
  },
  {
   "cell_type": "code",
   "execution_count": 32,
   "metadata": {},
   "outputs": [
    {
     "data": {
      "text/plain": [
       "'pubmed'"
      ]
     },
     "execution_count": 32,
     "metadata": {},
     "output_type": "execute_result"
    }
   ],
   "source": [
    "registro[0]['DbFrom']"
   ]
  },
  {
   "cell_type": "code",
   "execution_count": 33,
   "metadata": {},
   "outputs": [
    {
     "data": {
      "text/plain": [
       "['19304878']"
      ]
     },
     "execution_count": 33,
     "metadata": {},
     "output_type": "execute_result"
    }
   ],
   "source": [
    "registro[0]['IdList']"
   ]
  },
  {
   "cell_type": "markdown",
   "metadata": {},
   "source": [
    "A chave **'LinkSetDb'** contém os resultados da pesquisa armazenados como uma lista, consistindo de um item para cada alvo do banco de dados. Em nossos resultados de pesquisa, encontramos apenas hits no banco de dados do PubMed (embora subdividido em categorias):"
   ]
  },
  {
   "cell_type": "code",
   "execution_count": 34,
   "metadata": {},
   "outputs": [
    {
     "data": {
      "text/plain": [
       "8"
      ]
     },
     "execution_count": 34,
     "metadata": {},
     "output_type": "execute_result"
    }
   ],
   "source": [
    "len(registro[0]['LinkSetDb'])"
   ]
  },
  {
   "cell_type": "markdown",
   "metadata": {},
   "source": [
    "Os números exatos devem aumentar com o tempo:"
   ]
  },
  {
   "cell_type": "code",
   "execution_count": 35,
   "metadata": {},
   "outputs": [
    {
     "name": "stdout",
     "output_type": "stream",
     "text": [
      "Hoje: 01/12/2021 as 14:57\n",
      "\n",
      "\n",
      "pubmed pubmed_pubmed 168\n",
      "pubmed pubmed_pubmed_alsoviewed 22\n",
      "pubmed pubmed_pubmed_citedin 1332\n",
      "pubmed pubmed_pubmed_combined 6\n",
      "pubmed pubmed_pubmed_five 6\n",
      "pubmed pubmed_pubmed_refs 17\n",
      "pubmed pubmed_pubmed_reviews 15\n",
      "pubmed pubmed_pubmed_reviews_five 8\n"
     ]
    }
   ],
   "source": [
    "print('Hoje: 01/12/2021 as 14:57')\n",
    "print('\\n')\n",
    "for link_set_db in registro[0]['LinkSetDb']:\n",
    "    print(link_set_db['DbTo'], link_set_db['LinkName'], len(link_set_db['Link']))"
   ]
  },
  {
   "cell_type": "markdown",
   "metadata": {},
   "source": [
    "Os atuais resultados de pesquisa estão armazenados na chave **'Link'**. Vamos ver o primeiro resultado de pesquisa:"
   ]
  },
  {
   "cell_type": "code",
   "execution_count": 36,
   "metadata": {},
   "outputs": [
    {
     "data": {
      "text/plain": [
       "{'Id': '19304878'}"
      ]
     },
     "execution_count": 36,
     "metadata": {},
     "output_type": "execute_result"
    }
   ],
   "source": [
    "registro[0]['LinkSetDb'][0]['Link'][0]"
   ]
  },
  {
   "cell_type": "markdown",
   "metadata": {},
   "source": [
    "Esse artigo que procuramos, o que não nos ajuda muito. Então vamos dar uma olhada no segundo resultado de pesquisa:"
   ]
  },
  {
   "cell_type": "code",
   "execution_count": 37,
   "metadata": {},
   "outputs": [
    {
     "data": {
      "text/plain": [
       "{'Id': '14630660'}"
      ]
     },
     "execution_count": 37,
     "metadata": {},
     "output_type": "execute_result"
    }
   ],
   "source": [
    "registro[0]['LinkSetDb'][0]['Link'][1]"
   ]
  },
  {
   "cell_type": "markdown",
   "metadata": {},
   "source": [
    "Esse artigo, com o ID do PubMed de 14630660, é sobre o analisador Biopython PDB. Podemos usar um loop para mostrar todos os IDs da pesquisa no banco de dados do PubMed:"
   ]
  },
  {
   "cell_type": "code",
   "execution_count": 38,
   "metadata": {},
   "outputs": [
    {
     "name": "stdout",
     "output_type": "stream",
     "text": [
      "19304878\n",
      "14630660\n",
      "22909249\n",
      "20739307\n",
      "31278684\n",
      "23023984\n",
      "25273102\n",
      "18689808\n",
      "23842806\n",
      "20847218\n",
      "18251993\n",
      "20733063\n",
      "19628504\n",
      "15572471\n",
      "22399473\n",
      "31310539\n",
      "20823319\n",
      "12368254\n",
      "29253085\n",
      "20421198\n",
      "30285630\n",
      "24064416\n",
      "25236461\n",
      "22332238\n",
      "32637988\n",
      "16377612\n",
      "18238804\n",
      "14512356\n",
      "22581176\n",
      "22302572\n",
      "12230038\n",
      "25661541\n",
      "15096277\n",
      "21216774\n",
      "15723693\n",
      "32044951\n",
      "23633579\n",
      "18593718\n",
      "15130828\n",
      "17237069\n",
      "21352538\n",
      "28407033\n",
      "24463182\n",
      "33341884\n",
      "29641230\n",
      "20973958\n",
      "19181685\n",
      "17441614\n",
      "28302053\n",
      "26030926\n",
      "23456039\n",
      "29048466\n",
      "32960970\n",
      "22815363\n",
      "18227118\n",
      "22368248\n",
      "17101041\n",
      "20591906\n",
      "17384428\n",
      "16539535\n",
      "20334363\n",
      "22824207\n",
      "18252737\n",
      "17316423\n",
      "20375454\n",
      "14751976\n",
      "16257987\n",
      "23479348\n",
      "31650686\n",
      "14871861\n",
      "32407511\n",
      "25677125\n",
      "15969769\n",
      "25414366\n",
      "32935829\n",
      "27493193\n",
      "21949271\n",
      "22500002\n",
      "17237072\n",
      "26446134\n",
      "24885957\n",
      "27153673\n",
      "24503186\n",
      "29236954\n",
      "22276101\n",
      "17537750\n",
      "26394715\n",
      "15059834\n",
      "19773334\n",
      "30735498\n",
      "30235322\n",
      "19106120\n",
      "19460889\n",
      "22877863\n",
      "26079347\n",
      "29558112\n",
      "15980554\n",
      "28333216\n",
      "20537149\n",
      "19698094\n",
      "23292976\n",
      "21385461\n",
      "21210978\n",
      "24564380\n",
      "22556367\n",
      "21798964\n",
      "22396485\n",
      "20015970\n",
      "21210984\n",
      "22595207\n",
      "33594436\n",
      "23071651\n",
      "24903418\n",
      "21737439\n",
      "24894501\n",
      "24929426\n",
      "19417059\n",
      "20542914\n",
      "23956303\n",
      "24078714\n",
      "23355290\n",
      "21685053\n",
      "34282326\n",
      "21715385\n",
      "34101722\n",
      "22813356\n",
      "24068901\n",
      "21982300\n",
      "21529350\n",
      "22565567\n",
      "24600386\n",
      "22889332\n",
      "20375445\n",
      "23220574\n",
      "23516352\n",
      "22024252\n",
      "33822884\n",
      "20616382\n",
      "24618462\n",
      "24045775\n",
      "21210977\n",
      "23574738\n",
      "34358287\n",
      "25328913\n",
      "25150250\n",
      "20798181\n",
      "21458441\n",
      "33961033\n",
      "22943297\n",
      "22844241\n",
      "21984743\n",
      "23786315\n",
      "20041221\n",
      "25091065\n",
      "25126069\n",
      "34762641\n",
      "19607723\n",
      "23587224\n",
      "20924230\n",
      "23633576\n",
      "24267035\n",
      "34153038\n",
      "24924300\n",
      "21716279\n",
      "22479120\n",
      "33991167\n",
      "24086295\n",
      "25132841\n"
     ]
    }
   ],
   "source": [
    "for link in registro[0]['LinkSetDb'][0]['Link']:\n",
    "    print(link['Id'])"
   ]
  },
  {
   "cell_type": "markdown",
   "metadata": {},
   "source": [
    "Isso foi muito legal, mas se você estiver interessado em saber as citações do, o ELink consegue fazer isso. Veja a **Seção 9.16.3** para mais detalhes.\n",
    "\n",
    "Em caso de dúvidas, visite a página web de ajuda do ELink: https://www.ncbi.nlm.nih.gov/books/NBK25499/#chapter4.ELink. Há uma subpágina inteira apenas para os nomes dos link (https://eutils.ncbi.nlm.nih.gov/corehtml/query/static/entrezlinks.html), descrevendo como diferentes bancos de dados podem ter referências cruzadas."
   ]
  },
  {
   "cell_type": "markdown",
   "metadata": {},
   "source": [
    "## 9.8 EGQuery: Consulta Global - conta para termos de pesquisa"
   ]
  },
  {
   "cell_type": "markdown",
   "metadata": {},
   "source": [
    "EGQuery fornece conta para um termo de pesquisa em cada base de dados Entrez (i.e. uma consulta global). Isso é particularmente útil para descobrir quantos itens seus termos de pesquisa encontrarão em cada banco de dados sem realmente realizar muitas pesquisas separadas com o ESearch (veja o exemplo da **Seção 9.15.2**).\n",
    "\n",
    "Nesse exemplo, usaremos o módulo `Bio.Entrez.egquery()` para obter a contagem de 'Biopython':"
   ]
  },
  {
   "cell_type": "code",
   "execution_count": 39,
   "metadata": {
    "scrolled": true
   },
   "outputs": [
    {
     "name": "stdout",
     "output_type": "stream",
     "text": [
      "pubmed 36\n",
      "pmc 2155\n",
      "mesh 0\n",
      "books 2\n",
      "pubmedhealth Error\n",
      "omim 0\n",
      "ncbisearch 1\n",
      "nuccore 2\n",
      "nucgss 0\n",
      "nucest 0\n",
      "protein 0\n",
      "genome 0\n",
      "structure 0\n",
      "taxonomy 0\n",
      "snp 0\n",
      "dbvar 0\n",
      "gene 0\n",
      "sra 1\n",
      "biosystems 0\n",
      "unigene 0\n",
      "cdd 0\n",
      "clone 0\n",
      "popset 0\n",
      "geoprofiles 0\n",
      "gds 17\n",
      "homologene 0\n",
      "pccompound 0\n",
      "pcsubstance 0\n",
      "pcassay 0\n",
      "nlmcatalog 0\n",
      "probe 0\n",
      "gap 0\n",
      "proteinclusters 0\n",
      "bioproject 1\n",
      "biosample 0\n",
      "biocollections 0\n"
     ]
    }
   ],
   "source": [
    "from Bio import Entrez\n",
    "Entrez.email = 'teste@example.com'\n",
    "identificador = Entrez.egquery(term='biopython')\n",
    "registro = Entrez.read(identificador)\n",
    "for linha in registro['eGQueryResult']:\n",
    "    print(linha['DbName'], linha['Count'])"
   ]
  },
  {
   "cell_type": "markdown",
   "metadata": {},
   "source": [
    "Veja a página web de ajuda em caso de dúvidas: https://www.ncbi.nlm.nih.gov/books/NBK25499/#chapter4.EGQuery"
   ]
  },
  {
   "cell_type": "markdown",
   "metadata": {},
   "source": [
    "## 9.9 ESpell: Obtenção de sugestões de ortografia"
   ]
  },
  {
   "cell_type": "markdown",
   "metadata": {},
   "source": [
    "ESpell recupera sugestões de ortografia. Nesse exemplo, usaremos o `Bio.Entrez.espell()` para obter a ortografia correta de 'Biopython':"
   ]
  },
  {
   "cell_type": "code",
   "execution_count": 40,
   "metadata": {},
   "outputs": [
    {
     "data": {
      "text/plain": [
       "'biopythooon'"
      ]
     },
     "execution_count": 40,
     "metadata": {},
     "output_type": "execute_result"
    }
   ],
   "source": [
    "from Bio import Entrez\n",
    "Entrez.email = 'teste@example.com'\n",
    "identificador = Entrez.espell(term='biopythooon')\n",
    "registro = Entrez.read(identificador)\n",
    "registro['Query']"
   ]
  },
  {
   "cell_type": "code",
   "execution_count": 41,
   "metadata": {},
   "outputs": [
    {
     "data": {
      "text/plain": [
       "'biopython'"
      ]
     },
     "execution_count": 41,
     "metadata": {},
     "output_type": "execute_result"
    }
   ],
   "source": [
    "registro['CorrectedQuery']"
   ]
  },
  {
   "cell_type": "markdown",
   "metadata": {},
   "source": [
    "Veja a página online de ajuda se precisar: https://www.ncbi.nlm.nih.gov/books/NBK25499/#chapter4.ESpell. O principal uso disso é para ferramentas com GUIs que fornecem automaticamente sugestões para os termos de pesquisa."
   ]
  },
  {
   "cell_type": "markdown",
   "metadata": {},
   "source": [
    "## 9.10 Analisando grandes arquivos Entrez XML"
   ]
  },
  {
   "cell_type": "markdown",
   "metadata": {},
   "source": [
    "A fução **Entrez.read()** lê as entradas de arquivos XML retornado pelo Entrez em um único objeto Python, que é mantido na memória. Para analisar arquivos Entrez XML muito grandes para a memória, você pode usar a função **Entrez.parse()**. Essa é uma função geradora que lê os registros um por um em um arquivo XML. Essa função é apenas útil se o arquivo XML reflete um objeto de lista Python, em outras palavras, se **Entrez.read()** em um computador com recursos de memória infinita retornaria uma lista Python.\n",
    "\n",
    "Por exemplo, você pode baixar todo o banco de dados Entrez Gene de um organismo em um arquivo do site ftp do NCBI. Esses arquivos são consideravelmente grandes. Como um exemplo, no dia 4 de Setembro de 2009, o arquivo **Homo_spiens.ags.gz** continha o banco de dados Entrez Gene do hmano, com um tamanho de 116576 kB. Esse arquivo, que está no formato **ANS**, pode ser convertido com o programa **gene2xml**:\n",
    "\n",
    "- $ gene2xml -b T -i Homo_sapiens.ags -o Homo_sapiens.xml\n",
    "\n",
    "O resultado é um arquixo XML de 6.1 GB! Usando o **Entrez.read()** pode gerar o erro **MemoryError** em muitos computadores.\n",
    "\n",
    "O arquivo XML **Homo_sapiens.xml** consiste em uma lista de registro de genes Entrez, cada correspondência sendo um gene Entrez no humano. **Entrez.parse()** recupera esses registros de genes um por um. Você pode mostrá-los ou armazenar as informações relevantes de cada registro iterando sobre os registros. Por exemplo, o código abaixo itera sobre os registros de genes Entrez e mostra o número do gene e seu nome. Por motivos poder computacional, não executarei o código, mas deixarei ele montado como exemplo:"
   ]
  },
  {
   "cell_type": "markdown",
   "metadata": {},
   "source": [
    "from Bio import Entrez\n",
    "Entrez.email = 'teste@example.com'\n",
    "identificador = open('Homo_sapiens.xml', 'b')\n",
    "registros = Entrez.parse(identificador)\n",
    "for registro in registros:\n",
    "    status = registro['Entrezgene_track-info']['Gene-track']['Gene-track_status']\n",
    "    if status.attributes['value'] == 'discontinued':\n",
    "        continue\n",
    "    id_gene = registro['Entrezgene_track-info']['Gene-track']['Gene-track_geneid']\n",
    "    nome_gene = registro['Entrezgene_gene']['Gene-ref']['Gene-ref_locus']\n",
    "    print(id_gene, nome_gene)"
   ]
  },
  {
   "attachments": {
    "saida_homo_sapiens_xml.png": {
     "image/png": "[encoded data removed]"
    }
   },
   "cell_type": "markdown",
   "metadata": {},
   "source": [
    "A saída é algo parecido com isso:\n",
    "\n",
    "![saida_homo_sapiens_xml.png](attachment:saida_homo_sapiens_xml.png)"
   ]
  },
  {
   "cell_type": "markdown",
   "metadata": {},
   "source": [
    "## 9.11 Caracteres de escape HTML"
   ]
  },
  {
   "cell_type": "markdown",
   "metadata": {},
   "source": [
    "Resgitros PubMed podem conter tags HTML que indicam e.g. subscripts, superscripts ou texto em itálico, bem como símbolos matemáticos via MathML. Por padrão, o analisador `Bio.Entrez` trata todo o texto como texto plano sem marcações; por exemplo, o framento '*P* < 0.05' em um abstract de um registro PubMed é codificado como:\n",
    "\n",
    "- < i >P< /i > &l t; 0.05\n",
    "\n",
    "Em um XML retornado pelo Entrez, é convertido para uma string Python pelo analisador `Bio.Entrez`:\n",
    "\n",
    "- '< i >P< /i > < 0.05'\n",
    "\n",
    "Embora isso seja mais legível para um ser humano, não é um HTML válido devido ao sinal de menor (<) e faz o processamento posterior do texto e.g. por um analisador de HTML impraticável. Para garantir que todas as strings retornadas pelo analisador são um HTML válido, chame **Entrez.read()** ou **Entrez.parse()** com o argumento **escape** configurado como *True*:\n",
    "\n",
    "- registro = Enrtez.read(identificador, escape=True)\n",
    "\n",
    "O analisador recolocará todos os caracteres não permitidos em HTML por seu equivalente com escape de HTML; no exemplo acima, o analisador geraria um HTML válido. Por padrão, **escape** é *False*:\n",
    "\n",
    "- '< i > P < /i > &l t; 0.05'"
   ]
  },
  {
   "cell_type": "markdown",
   "metadata": {},
   "source": [
    "## 9.12 Manipulação de erros"
   ]
  },
  {
   "cell_type": "markdown",
   "metadata": {},
   "source": [
    "Três coisas podem levar o analisador ao erro com um arquivo XML:\n",
    "\n",
    "1. O arquivo pode não estar no formato XML;\n",
    "\n",
    "2. O arquivo pode fechar prematuramente ou ser corrompido por outra forma e;\n",
    "\n",
    "3. O arquivo pode se XML correto, mas contém itens que não são representados no DTD associado.\n",
    "\n",
    "O primeiro caso ocorre quando, por exemplo, você tenta analisar um arquivo FASTA no lugar de um XML:"
   ]
  },
  {
   "cell_type": "code",
   "execution_count": 42,
   "metadata": {
    "scrolled": true
   },
   "outputs": [
    {
     "ename": "NotXMLError",
     "evalue": "Failed to parse the XML data (syntax error: line 1, column 0). Please make sure that the input data are in XML format.",
     "output_type": "error",
     "traceback": [
      "\u001b[1;31m---------------------------------------------------------------------------\u001b[0m",
      "\u001b[1;31mNotXMLError\u001b[0m                               Traceback (most recent call last)",
      "\u001b[1;32m<ipython-input-42-38f143f690eb>\u001b[0m in \u001b[0;36m<module>\u001b[1;34m\u001b[0m\n\u001b[0;32m      1\u001b[0m \u001b[1;32mfrom\u001b[0m \u001b[0mBio\u001b[0m \u001b[1;32mimport\u001b[0m \u001b[0mEntrez\u001b[0m\u001b[1;33m\u001b[0m\u001b[1;33m\u001b[0m\u001b[0m\n\u001b[0;32m      2\u001b[0m \u001b[0midentificador\u001b[0m \u001b[1;33m=\u001b[0m \u001b[0mopen\u001b[0m\u001b[1;33m(\u001b[0m\u001b[1;34m'NC_005816.1.fna'\u001b[0m\u001b[1;33m,\u001b[0m \u001b[1;34m'rb'\u001b[0m\u001b[1;33m)\u001b[0m  \u001b[1;31m# um arquivo FASTA\u001b[0m\u001b[1;33m\u001b[0m\u001b[1;33m\u001b[0m\u001b[0m\n\u001b[1;32m----> 3\u001b[1;33m \u001b[0mregistro\u001b[0m \u001b[1;33m=\u001b[0m \u001b[0mEntrez\u001b[0m\u001b[1;33m.\u001b[0m\u001b[0mread\u001b[0m\u001b[1;33m(\u001b[0m\u001b[0midentificador\u001b[0m\u001b[1;33m)\u001b[0m\u001b[1;33m\u001b[0m\u001b[1;33m\u001b[0m\u001b[0m\n\u001b[0m",
      "\u001b[1;32mD:\\Jupyter\\lib\\site-packages\\Bio\\Entrez\\__init__.py\u001b[0m in \u001b[0;36mread\u001b[1;34m(handle, validate, escape)\u001b[0m\n\u001b[0;32m    506\u001b[0m \u001b[1;33m\u001b[0m\u001b[0m\n\u001b[0;32m    507\u001b[0m     \u001b[0mhandler\u001b[0m \u001b[1;33m=\u001b[0m \u001b[0mDataHandler\u001b[0m\u001b[1;33m(\u001b[0m\u001b[0mvalidate\u001b[0m\u001b[1;33m,\u001b[0m \u001b[0mescape\u001b[0m\u001b[1;33m)\u001b[0m\u001b[1;33m\u001b[0m\u001b[1;33m\u001b[0m\u001b[0m\n\u001b[1;32m--> 508\u001b[1;33m     \u001b[0mrecord\u001b[0m \u001b[1;33m=\u001b[0m \u001b[0mhandler\u001b[0m\u001b[1;33m.\u001b[0m\u001b[0mread\u001b[0m\u001b[1;33m(\u001b[0m\u001b[0mhandle\u001b[0m\u001b[1;33m)\u001b[0m\u001b[1;33m\u001b[0m\u001b[1;33m\u001b[0m\u001b[0m\n\u001b[0m\u001b[0;32m    509\u001b[0m     \u001b[1;32mreturn\u001b[0m \u001b[0mrecord\u001b[0m\u001b[1;33m\u001b[0m\u001b[1;33m\u001b[0m\u001b[0m\n\u001b[0;32m    510\u001b[0m \u001b[1;33m\u001b[0m\u001b[0m\n",
      "\u001b[1;32mD:\\Jupyter\\lib\\site-packages\\Bio\\Entrez\\Parser.py\u001b[0m in \u001b[0;36mread\u001b[1;34m(self, handle)\u001b[0m\n\u001b[0;32m    343\u001b[0m                 \u001b[1;31m# We have not seen the initial <!xml declaration, so probably\u001b[0m\u001b[1;33m\u001b[0m\u001b[1;33m\u001b[0m\u001b[1;33m\u001b[0m\u001b[0m\n\u001b[0;32m    344\u001b[0m                 \u001b[1;31m# the input data is not in XML format.\u001b[0m\u001b[1;33m\u001b[0m\u001b[1;33m\u001b[0m\u001b[1;33m\u001b[0m\u001b[0m\n\u001b[1;32m--> 345\u001b[1;33m                 \u001b[1;32mraise\u001b[0m \u001b[0mNotXMLError\u001b[0m\u001b[1;33m(\u001b[0m\u001b[0me\u001b[0m\u001b[1;33m)\u001b[0m \u001b[1;32mfrom\u001b[0m \u001b[1;32mNone\u001b[0m\u001b[1;33m\u001b[0m\u001b[1;33m\u001b[0m\u001b[0m\n\u001b[0m\u001b[0;32m    346\u001b[0m         \u001b[1;32mtry\u001b[0m\u001b[1;33m:\u001b[0m\u001b[1;33m\u001b[0m\u001b[1;33m\u001b[0m\u001b[0m\n\u001b[0;32m    347\u001b[0m             \u001b[1;32mreturn\u001b[0m \u001b[0mself\u001b[0m\u001b[1;33m.\u001b[0m\u001b[0mrecord\u001b[0m\u001b[1;33m\u001b[0m\u001b[1;33m\u001b[0m\u001b[0m\n",
      "\u001b[1;31mNotXMLError\u001b[0m: Failed to parse the XML data (syntax error: line 1, column 0). Please make sure that the input data are in XML format."
     ]
    }
   ],
   "source": [
    "from Bio import Entrez\n",
    "identificador = open('NC_005816.1.fna', 'rb')  # um arquivo FASTA\n",
    "registro = Entrez.read(identificador)"
   ]
  },
  {
   "cell_type": "markdown",
   "metadata": {},
   "source": [
    "Aqui, o analisador não encontra a tag **<?xml...** com a qual um arquivo XML deve começar e, portanto, decide (corretamente) que o arquivo não está no formato XML.\n",
    "\n",
    "Quando o seu arquivo é um XML mas está corrompido (e.g. fechado prematuramente), o analisador retornará o erro **CorruptedXMLError**. Aqui está um exemplo de um arquivo XML fechado prematuramente:"
   ]
  },
  {
   "cell_type": "code",
   "execution_count": 43,
   "metadata": {
    "scrolled": true
   },
   "outputs": [
    {
     "ename": "CorruptedXMLError",
     "evalue": "Failed to parse the XML data (no element found: line 16, column 0). Please make sure that the input data are not corrupted.",
     "output_type": "error",
     "traceback": [
      "\u001b[1;31m---------------------------------------------------------------------------\u001b[0m",
      "\u001b[1;31mCorruptedXMLError\u001b[0m                         Traceback (most recent call last)",
      "\u001b[1;32m<ipython-input-43-2c9e02151e24>\u001b[0m in \u001b[0;36m<module>\u001b[1;34m\u001b[0m\n\u001b[0;32m      2\u001b[0m \u001b[0mEntrez\u001b[0m\u001b[1;33m.\u001b[0m\u001b[0memail\u001b[0m \u001b[1;33m=\u001b[0m \u001b[1;34m'teste@example.com'\u001b[0m\u001b[1;33m\u001b[0m\u001b[1;33m\u001b[0m\u001b[0m\n\u001b[0;32m      3\u001b[0m \u001b[0midentificador\u001b[0m \u001b[1;33m=\u001b[0m \u001b[0mopen\u001b[0m\u001b[1;33m(\u001b[0m\u001b[1;34m'einfo_corrompido.xml'\u001b[0m\u001b[1;33m,\u001b[0m \u001b[1;34m'rb'\u001b[0m\u001b[1;33m)\u001b[0m\u001b[1;33m\u001b[0m\u001b[1;33m\u001b[0m\u001b[0m\n\u001b[1;32m----> 4\u001b[1;33m \u001b[0mEntrez\u001b[0m\u001b[1;33m.\u001b[0m\u001b[0mread\u001b[0m\u001b[1;33m(\u001b[0m\u001b[0midentificador\u001b[0m\u001b[1;33m)\u001b[0m\u001b[1;33m\u001b[0m\u001b[1;33m\u001b[0m\u001b[0m\n\u001b[0m",
      "\u001b[1;32mD:\\Jupyter\\lib\\site-packages\\Bio\\Entrez\\__init__.py\u001b[0m in \u001b[0;36mread\u001b[1;34m(handle, validate, escape)\u001b[0m\n\u001b[0;32m    506\u001b[0m \u001b[1;33m\u001b[0m\u001b[0m\n\u001b[0;32m    507\u001b[0m     \u001b[0mhandler\u001b[0m \u001b[1;33m=\u001b[0m \u001b[0mDataHandler\u001b[0m\u001b[1;33m(\u001b[0m\u001b[0mvalidate\u001b[0m\u001b[1;33m,\u001b[0m \u001b[0mescape\u001b[0m\u001b[1;33m)\u001b[0m\u001b[1;33m\u001b[0m\u001b[1;33m\u001b[0m\u001b[0m\n\u001b[1;32m--> 508\u001b[1;33m     \u001b[0mrecord\u001b[0m \u001b[1;33m=\u001b[0m \u001b[0mhandler\u001b[0m\u001b[1;33m.\u001b[0m\u001b[0mread\u001b[0m\u001b[1;33m(\u001b[0m\u001b[0mhandle\u001b[0m\u001b[1;33m)\u001b[0m\u001b[1;33m\u001b[0m\u001b[1;33m\u001b[0m\u001b[0m\n\u001b[0m\u001b[0;32m    509\u001b[0m     \u001b[1;32mreturn\u001b[0m \u001b[0mrecord\u001b[0m\u001b[1;33m\u001b[0m\u001b[1;33m\u001b[0m\u001b[0m\n\u001b[0;32m    510\u001b[0m \u001b[1;33m\u001b[0m\u001b[0m\n",
      "\u001b[1;32mD:\\Jupyter\\lib\\site-packages\\Bio\\Entrez\\Parser.py\u001b[0m in \u001b[0;36mread\u001b[1;34m(self, handle)\u001b[0m\n\u001b[0;32m    339\u001b[0m                 \u001b[1;31m# we are parsing XML data. Most likely, the XML file is\u001b[0m\u001b[1;33m\u001b[0m\u001b[1;33m\u001b[0m\u001b[1;33m\u001b[0m\u001b[0m\n\u001b[0;32m    340\u001b[0m                 \u001b[1;31m# corrupted.\u001b[0m\u001b[1;33m\u001b[0m\u001b[1;33m\u001b[0m\u001b[1;33m\u001b[0m\u001b[0m\n\u001b[1;32m--> 341\u001b[1;33m                 \u001b[1;32mraise\u001b[0m \u001b[0mCorruptedXMLError\u001b[0m\u001b[1;33m(\u001b[0m\u001b[0me\u001b[0m\u001b[1;33m)\u001b[0m \u001b[1;32mfrom\u001b[0m \u001b[1;32mNone\u001b[0m\u001b[1;33m\u001b[0m\u001b[1;33m\u001b[0m\u001b[0m\n\u001b[0m\u001b[0;32m    342\u001b[0m             \u001b[1;32melse\u001b[0m\u001b[1;33m:\u001b[0m\u001b[1;33m\u001b[0m\u001b[1;33m\u001b[0m\u001b[0m\n\u001b[0;32m    343\u001b[0m                 \u001b[1;31m# We have not seen the initial <!xml declaration, so probably\u001b[0m\u001b[1;33m\u001b[0m\u001b[1;33m\u001b[0m\u001b[1;33m\u001b[0m\u001b[0m\n",
      "\u001b[1;31mCorruptedXMLError\u001b[0m: Failed to parse the XML data (no element found: line 16, column 0). Please make sure that the input data are not corrupted."
     ]
    }
   ],
   "source": [
    "from Bio import Entrez\n",
    "Entrez.email = 'teste@example.com'\n",
    "identificador = open('einfo_corrompido.xml', 'rb')\n",
    "Entrez.read(identificador)"
   ]
  },
  {
   "cell_type": "markdown",
   "metadata": {},
   "source": [
    "Note que a mensagem de erro te informa em qual ponto do arquivo XML o erro foi detectado.\n",
    "\n",
    "O terceiro tipo de erro que pode acontecer é se o arquivo XML contiver tags que não têm uma descrição correspondente no arquivo DTD. Dentro deste arquivo, por alguma razão existe a tag **< DocsumList >** (e muitas outras) que não estão listadas no arquivo **eInfo_020511.dtd**, que é especificado na segunda linha como o DTD para este arquivo XML. Por padrão, o analisador parará e retornará o erro **ValidationError** se não conseguir encontrar alguma tag no DTD. Nesse exemplo temos um arquivo XML com essa característica:"
   ]
  },
  {
   "cell_type": "code",
   "execution_count": 44,
   "metadata": {
    "scrolled": true
   },
   "outputs": [
    {
     "ename": "ValidationError",
     "evalue": "Failed to find tag 'DocsumList' in the DTD. To skip all tags that are not represented in the DTD, please call Bio.Entrez.read or Bio.Entrez.parse with validate=False.",
     "output_type": "error",
     "traceback": [
      "\u001b[1;31m---------------------------------------------------------------------------\u001b[0m",
      "\u001b[1;31mValidationError\u001b[0m                           Traceback (most recent call last)",
      "\u001b[1;32m<ipython-input-44-8326a01622d1>\u001b[0m in \u001b[0;36m<module>\u001b[1;34m\u001b[0m\n\u001b[0;32m      2\u001b[0m \u001b[0mEntrez\u001b[0m\u001b[1;33m.\u001b[0m\u001b[0memail\u001b[0m \u001b[1;33m=\u001b[0m \u001b[1;34m'teste@example.com'\u001b[0m\u001b[1;33m\u001b[0m\u001b[1;33m\u001b[0m\u001b[0m\n\u001b[0;32m      3\u001b[0m \u001b[0midentificador\u001b[0m \u001b[1;33m=\u001b[0m \u001b[0mopen\u001b[0m\u001b[1;33m(\u001b[0m\u001b[1;34m'einfo_incongruente.xml'\u001b[0m\u001b[1;33m,\u001b[0m \u001b[1;34m'rb'\u001b[0m\u001b[1;33m)\u001b[0m\u001b[1;33m\u001b[0m\u001b[1;33m\u001b[0m\u001b[0m\n\u001b[1;32m----> 4\u001b[1;33m \u001b[0mregistro\u001b[0m \u001b[1;33m=\u001b[0m \u001b[0mEntrez\u001b[0m\u001b[1;33m.\u001b[0m\u001b[0mread\u001b[0m\u001b[1;33m(\u001b[0m\u001b[0midentificador\u001b[0m\u001b[1;33m)\u001b[0m\u001b[1;33m\u001b[0m\u001b[1;33m\u001b[0m\u001b[0m\n\u001b[0m",
      "\u001b[1;32mD:\\Jupyter\\lib\\site-packages\\Bio\\Entrez\\__init__.py\u001b[0m in \u001b[0;36mread\u001b[1;34m(handle, validate, escape)\u001b[0m\n\u001b[0;32m    506\u001b[0m \u001b[1;33m\u001b[0m\u001b[0m\n\u001b[0;32m    507\u001b[0m     \u001b[0mhandler\u001b[0m \u001b[1;33m=\u001b[0m \u001b[0mDataHandler\u001b[0m\u001b[1;33m(\u001b[0m\u001b[0mvalidate\u001b[0m\u001b[1;33m,\u001b[0m \u001b[0mescape\u001b[0m\u001b[1;33m)\u001b[0m\u001b[1;33m\u001b[0m\u001b[1;33m\u001b[0m\u001b[0m\n\u001b[1;32m--> 508\u001b[1;33m     \u001b[0mrecord\u001b[0m \u001b[1;33m=\u001b[0m \u001b[0mhandler\u001b[0m\u001b[1;33m.\u001b[0m\u001b[0mread\u001b[0m\u001b[1;33m(\u001b[0m\u001b[0mhandle\u001b[0m\u001b[1;33m)\u001b[0m\u001b[1;33m\u001b[0m\u001b[1;33m\u001b[0m\u001b[0m\n\u001b[0m\u001b[0;32m    509\u001b[0m     \u001b[1;32mreturn\u001b[0m \u001b[0mrecord\u001b[0m\u001b[1;33m\u001b[0m\u001b[1;33m\u001b[0m\u001b[0m\n\u001b[0;32m    510\u001b[0m \u001b[1;33m\u001b[0m\u001b[0m\n",
      "\u001b[1;32mD:\\Jupyter\\lib\\site-packages\\Bio\\Entrez\\Parser.py\u001b[0m in \u001b[0;36mread\u001b[1;34m(self, handle)\u001b[0m\n\u001b[0;32m    333\u001b[0m             \u001b[1;32mraise\u001b[0m \u001b[0mTypeError\u001b[0m\u001b[1;33m(\u001b[0m\u001b[1;34m\"file should be opened in binary mode\"\u001b[0m\u001b[1;33m)\u001b[0m\u001b[1;33m\u001b[0m\u001b[1;33m\u001b[0m\u001b[0m\n\u001b[0;32m    334\u001b[0m         \u001b[1;32mtry\u001b[0m\u001b[1;33m:\u001b[0m\u001b[1;33m\u001b[0m\u001b[1;33m\u001b[0m\u001b[0m\n\u001b[1;32m--> 335\u001b[1;33m             \u001b[0mself\u001b[0m\u001b[1;33m.\u001b[0m\u001b[0mparser\u001b[0m\u001b[1;33m.\u001b[0m\u001b[0mParseFile\u001b[0m\u001b[1;33m(\u001b[0m\u001b[0mhandle\u001b[0m\u001b[1;33m)\u001b[0m\u001b[1;33m\u001b[0m\u001b[1;33m\u001b[0m\u001b[0m\n\u001b[0m\u001b[0;32m    336\u001b[0m         \u001b[1;32mexcept\u001b[0m \u001b[0mexpat\u001b[0m\u001b[1;33m.\u001b[0m\u001b[0mExpatError\u001b[0m \u001b[1;32mas\u001b[0m \u001b[0me\u001b[0m\u001b[1;33m:\u001b[0m\u001b[1;33m\u001b[0m\u001b[1;33m\u001b[0m\u001b[0m\n\u001b[0;32m    337\u001b[0m             \u001b[1;32mif\u001b[0m \u001b[0mself\u001b[0m\u001b[1;33m.\u001b[0m\u001b[0mparser\u001b[0m\u001b[1;33m.\u001b[0m\u001b[0mStartElementHandler\u001b[0m\u001b[1;33m:\u001b[0m\u001b[1;33m\u001b[0m\u001b[1;33m\u001b[0m\u001b[0m\n",
      "\u001b[1;32mc:\\ci\\python_1599185818579\\work\\modules\\pyexpat.c\u001b[0m in \u001b[0;36mStartElement\u001b[1;34m()\u001b[0m\n",
      "\u001b[1;32mD:\\Jupyter\\lib\\site-packages\\Bio\\Entrez\\Parser.py\u001b[0m in \u001b[0;36mstartElementHandler\u001b[1;34m(self, tag, attrs)\u001b[0m\n\u001b[0;32m    614\u001b[0m             \u001b[1;31m# Element not found in DTD\u001b[0m\u001b[1;33m\u001b[0m\u001b[1;33m\u001b[0m\u001b[1;33m\u001b[0m\u001b[0m\n\u001b[0;32m    615\u001b[0m             \u001b[1;32mif\u001b[0m \u001b[0mself\u001b[0m\u001b[1;33m.\u001b[0m\u001b[0mvalidating\u001b[0m\u001b[1;33m:\u001b[0m\u001b[1;33m\u001b[0m\u001b[1;33m\u001b[0m\u001b[0m\n\u001b[1;32m--> 616\u001b[1;33m                 \u001b[1;32mraise\u001b[0m \u001b[0mValidationError\u001b[0m\u001b[1;33m(\u001b[0m\u001b[0mtag\u001b[0m\u001b[1;33m)\u001b[0m\u001b[1;33m\u001b[0m\u001b[1;33m\u001b[0m\u001b[0m\n\u001b[0m\u001b[0;32m    617\u001b[0m             \u001b[1;32melse\u001b[0m\u001b[1;33m:\u001b[0m\u001b[1;33m\u001b[0m\u001b[1;33m\u001b[0m\u001b[0m\n\u001b[0;32m    618\u001b[0m                 \u001b[1;31m# this will not be stored in the record\u001b[0m\u001b[1;33m\u001b[0m\u001b[1;33m\u001b[0m\u001b[1;33m\u001b[0m\u001b[0m\n",
      "\u001b[1;31mValidationError\u001b[0m: Failed to find tag 'DocsumList' in the DTD. To skip all tags that are not represented in the DTD, please call Bio.Entrez.read or Bio.Entrez.parse with validate=False."
     ]
    }
   ],
   "source": [
    "from Bio import Entrez\n",
    "Entrez.email = 'teste@example.com'\n",
    "identificador = open('einfo_incongruente.xml', 'rb')\n",
    "registro = Entrez.read(identificador)"
   ]
  },
  {
   "cell_type": "markdown",
   "metadata": {},
   "source": [
    "De modo opcional, você pode instruir ao analisador para pular tais tags ao invés de retornar o erro **ValidationError**. Isso pode ser feito chamando as funções **read** ou **parse** com o argumento **validate** configurado como *False*:"
   ]
  },
  {
   "cell_type": "code",
   "execution_count": 45,
   "metadata": {},
   "outputs": [],
   "source": [
    "from Bio import Entrez\n",
    "Entrez.email = 'teste@example.com'\n",
    "identificador = open('einfo_incongruente.xml', 'rb')\n",
    "registro = Entrez.read(identificador, validate=False)\n",
    "identificador.close()"
   ]
  },
  {
   "cell_type": "markdown",
   "metadata": {},
   "source": [
    "Obviamente, as informações contidas nas tags XML que não estão no DTD não estão presentes no registro retornado pelo **Entrez.read()**."
   ]
  },
  {
   "cell_type": "markdown",
   "metadata": {},
   "source": [
    "## 9.13 Analisadores especiais"
   ]
  },
  {
   "cell_type": "markdown",
   "metadata": {},
   "source": [
    "A função **read** pode analisar (se não todos) a maioria das saídas XML retornadas pelo Entrez. O Entrez normalmente permite que você recupere os registros em outros formatos, que podem ter algumas vantagens quando comparados com o formato XML em termos de legibilidade (ou tamanho de download).\n",
    "\n",
    "Para requisitar um formato de arquivo específico do Entrez usando o `Bio.Entrez.efetch()`, você precisa indicar os argumentos opcionais **rettype** e/ou **retmode**. As diferentes combinações estão descritas para cada banco de dados usados (veja mais em: https://www.ncbi.nlm.nih.gov/books/NBK25499/#chapter4.EFetch).\n",
    "\n",
    "Um caso óbvio é que você pode preferir baixar as sequências de arquivos FASTA ou GenBank/GenPept em formato de texto (que pode ser analisado pelo `Bio.SeqIO`, veja as seções **9.6** e **5.3.1** do Capítulo 5: https://github.com/GTL98/biopython_br/tree/main/Cap%205%20-%20Sequ%C3%AAncias%20Input_Output). Para o banco de dados de literatura, o Biopython contém um analisador para o formato **MEDLINE** usado no PubMed."
   ]
  },
  {
   "cell_type": "markdown",
   "metadata": {},
   "source": [
    "### 9.13.1 Analisando registros Medline"
   ]
  },
  {
   "attachments": {
    "pubmed_medline_1.png": {
     "image/png": "[encoded data removed]"
    }
   },
   "cell_type": "markdown",
   "metadata": {},
   "source": [
    "Você pode encontrar o analisador Medline pelo `Bio.Medline`. Suponha que você queira analisar o arquivo **pubmed_result1.txt** (esse arquivo está no mesmo repositório deste documento), contendo um registro Medline. O arquivo se parece assim:\n",
    "\n",
    "![pubmed_medline_1.png](attachment:pubmed_medline_1.png) **...**\n",
    "\n",
    "Vamos abrir o arquivo e analisá-lo:"
   ]
  },
  {
   "cell_type": "code",
   "execution_count": 46,
   "metadata": {},
   "outputs": [],
   "source": [
    "from Bio import Medline\n",
    "with open('pubmed_result1.txt') as identificador:\n",
    "    registro = Medline.read(identificador)"
   ]
  },
  {
   "cell_type": "markdown",
   "metadata": {},
   "source": [
    "A variável **registro** contém o registro Medline como um dicionário Python:"
   ]
  },
  {
   "cell_type": "code",
   "execution_count": 47,
   "metadata": {},
   "outputs": [
    {
     "data": {
      "text/plain": [
       "'12230038'"
      ]
     },
     "execution_count": 47,
     "metadata": {},
     "output_type": "execute_result"
    }
   ],
   "source": [
    "registro['PMID']"
   ]
  },
  {
   "cell_type": "code",
   "execution_count": 48,
   "metadata": {
    "scrolled": true
   },
   "outputs": [
    {
     "data": {
      "text/plain": [
       "'Bioinformatics research is often difficult to do with commercial software. The Open Source BioPerl, BioPython and Biojava projects provide toolkits with multiple functionality that make it easier to create customised pipelines or analysis. This review briefly compares the quirks of the underlying languages and the functionality, documentation, utility and relative advantages of the Bio counterparts, particularly from the point of view of the beginning biologist programmer.'"
      ]
     },
     "execution_count": 48,
     "metadata": {},
     "output_type": "execute_result"
    }
   ],
   "source": [
    "registro['AB']"
   ]
  },
  {
   "cell_type": "markdown",
   "metadata": {},
   "source": [
    "Os nomes das chaves usadas no registro Medline podem ser bastante obscuros; para um resume use:"
   ]
  },
  {
   "cell_type": "code",
   "execution_count": 49,
   "metadata": {},
   "outputs": [
    {
     "name": "stdout",
     "output_type": "stream",
     "text": [
      "Help on Record in module Bio.Medline object:\n",
      "\n",
      "class Record(builtins.dict)\n",
      " |  A dictionary holding information from a Medline record.\n",
      " |  \n",
      " |  All data are stored under the mnemonic appearing in the Medline\n",
      " |  file. These mnemonics have the following interpretations:\n",
      " |  \n",
      " |  ========= ==============================\n",
      " |  Mnemonic  Description\n",
      " |  --------- ------------------------------\n",
      " |  AB        Abstract\n",
      " |  CI        Copyright Information\n",
      " |  AD        Affiliation\n",
      " |  IRAD      Investigator Affiliation\n",
      " |  AID       Article Identifier\n",
      " |  AU        Author\n",
      " |  FAU       Full Author\n",
      " |  CN        Corporate Author\n",
      " |  DCOM      Date Completed\n",
      " |  DA        Date Created\n",
      " |  LR        Date Last Revised\n",
      " |  DEP       Date of Electronic Publication\n",
      " |  DP        Date of Publication\n",
      " |  EDAT      Entrez Date\n",
      " |  GS        Gene Symbol\n",
      " |  GN        General Note\n",
      " |  GR        Grant Number\n",
      " |  IR        Investigator Name\n",
      " |  FIR       Full Investigator Name\n",
      " |  IS        ISSN\n",
      " |  IP        Issue\n",
      " |  TA        Journal Title Abbreviation\n",
      " |  JT        Journal Title\n",
      " |  LA        Language\n",
      " |  LID       Location Identifier\n",
      " |  MID       Manuscript Identifier\n",
      " |  MHDA      MeSH Date\n",
      " |  MH        MeSH Terms\n",
      " |  JID       NLM Unique ID\n",
      " |  RF        Number of References\n",
      " |  OAB       Other Abstract\n",
      " |  OCI       Other Copyright Information\n",
      " |  OID       Other ID\n",
      " |  OT        Other Term\n",
      " |  OTO       Other Term Owner\n",
      " |  OWN       Owner\n",
      " |  PG        Pagination\n",
      " |  PS        Personal Name as Subject\n",
      " |  FPS       Full Personal Name as Subject\n",
      " |  PL        Place of Publication\n",
      " |  PHST      Publication History Status\n",
      " |  PST       Publication Status\n",
      " |  PT        Publication Type\n",
      " |  PUBM      Publishing Model\n",
      " |  PMC       PubMed Central Identifier\n",
      " |  PMID      PubMed Unique Identifier\n",
      " |  RN        Registry Number/EC Number\n",
      " |  NM        Substance Name\n",
      " |  SI        Secondary Source ID\n",
      " |  SO        Source\n",
      " |  SFM       Space Flight Mission\n",
      " |  STAT      Status\n",
      " |  SB        Subset\n",
      " |  TI        Title\n",
      " |  TT        Transliterated Title\n",
      " |  VI        Volume\n",
      " |  CON       Comment on\n",
      " |  CIN       Comment in\n",
      " |  EIN       Erratum in\n",
      " |  EFR       Erratum for\n",
      " |  CRI       Corrected and Republished in\n",
      " |  CRF       Corrected and Republished from\n",
      " |  PRIN      Partial retraction in\n",
      " |  PROF      Partial retraction of\n",
      " |  RPI       Republished in\n",
      " |  RPF       Republished from\n",
      " |  RIN       Retraction in\n",
      " |  ROF       Retraction of\n",
      " |  UIN       Update in\n",
      " |  UOF       Update of\n",
      " |  SPIN      Summary for patients in\n",
      " |  ORI       Original report in\n",
      " |  ========= ==============================\n",
      " |  \n",
      " |  Method resolution order:\n",
      " |      Record\n",
      " |      builtins.dict\n",
      " |      builtins.object\n",
      " |  \n",
      " |  Data descriptors defined here:\n",
      " |  \n",
      " |  __dict__\n",
      " |      dictionary for instance variables (if defined)\n",
      " |  \n",
      " |  __weakref__\n",
      " |      list of weak references to the object (if defined)\n",
      " |  \n",
      " |  ----------------------------------------------------------------------\n",
      " |  Methods inherited from builtins.dict:\n",
      " |  \n",
      " |  __contains__(self, key, /)\n",
      " |      True if the dictionary has the specified key, else False.\n",
      " |  \n",
      " |  __delitem__(self, key, /)\n",
      " |      Delete self[key].\n",
      " |  \n",
      " |  __eq__(self, value, /)\n",
      " |      Return self==value.\n",
      " |  \n",
      " |  __ge__(self, value, /)\n",
      " |      Return self>=value.\n",
      " |  \n",
      " |  __getattribute__(self, name, /)\n",
      " |      Return getattr(self, name).\n",
      " |  \n",
      " |  __getitem__(...)\n",
      " |      x.__getitem__(y) <==> x[y]\n",
      " |  \n",
      " |  __gt__(self, value, /)\n",
      " |      Return self>value.\n",
      " |  \n",
      " |  __init__(self, /, *args, **kwargs)\n",
      " |      Initialize self.  See help(type(self)) for accurate signature.\n",
      " |  \n",
      " |  __iter__(self, /)\n",
      " |      Implement iter(self).\n",
      " |  \n",
      " |  __le__(self, value, /)\n",
      " |      Return self<=value.\n",
      " |  \n",
      " |  __len__(self, /)\n",
      " |      Return len(self).\n",
      " |  \n",
      " |  __lt__(self, value, /)\n",
      " |      Return self<value.\n",
      " |  \n",
      " |  __ne__(self, value, /)\n",
      " |      Return self!=value.\n",
      " |  \n",
      " |  __repr__(self, /)\n",
      " |      Return repr(self).\n",
      " |  \n",
      " |  __reversed__(self, /)\n",
      " |      Return a reverse iterator over the dict keys.\n",
      " |  \n",
      " |  __setitem__(self, key, value, /)\n",
      " |      Set self[key] to value.\n",
      " |  \n",
      " |  __sizeof__(...)\n",
      " |      D.__sizeof__() -> size of D in memory, in bytes\n",
      " |  \n",
      " |  clear(...)\n",
      " |      D.clear() -> None.  Remove all items from D.\n",
      " |  \n",
      " |  copy(...)\n",
      " |      D.copy() -> a shallow copy of D\n",
      " |  \n",
      " |  get(self, key, default=None, /)\n",
      " |      Return the value for key if key is in the dictionary, else default.\n",
      " |  \n",
      " |  items(...)\n",
      " |      D.items() -> a set-like object providing a view on D's items\n",
      " |  \n",
      " |  keys(...)\n",
      " |      D.keys() -> a set-like object providing a view on D's keys\n",
      " |  \n",
      " |  pop(...)\n",
      " |      D.pop(k[,d]) -> v, remove specified key and return the corresponding value.\n",
      " |      If key is not found, d is returned if given, otherwise KeyError is raised\n",
      " |  \n",
      " |  popitem(self, /)\n",
      " |      Remove and return a (key, value) pair as a 2-tuple.\n",
      " |      \n",
      " |      Pairs are returned in LIFO (last-in, first-out) order.\n",
      " |      Raises KeyError if the dict is empty.\n",
      " |  \n",
      " |  setdefault(self, key, default=None, /)\n",
      " |      Insert key with a value of default if key is not in the dictionary.\n",
      " |      \n",
      " |      Return the value for key if key is in the dictionary, else default.\n",
      " |  \n",
      " |  update(...)\n",
      " |      D.update([E, ]**F) -> None.  Update D from dict/iterable E and F.\n",
      " |      If E is present and has a .keys() method, then does:  for k in E: D[k] = E[k]\n",
      " |      If E is present and lacks a .keys() method, then does:  for k, v in E: D[k] = v\n",
      " |      In either case, this is followed by: for k in F:  D[k] = F[k]\n",
      " |  \n",
      " |  values(...)\n",
      " |      D.values() -> an object providing a view on D's values\n",
      " |  \n",
      " |  ----------------------------------------------------------------------\n",
      " |  Class methods inherited from builtins.dict:\n",
      " |  \n",
      " |  fromkeys(iterable, value=None, /) from builtins.type\n",
      " |      Create a new dictionary with keys from iterable and values set to value.\n",
      " |  \n",
      " |  ----------------------------------------------------------------------\n",
      " |  Static methods inherited from builtins.dict:\n",
      " |  \n",
      " |  __new__(*args, **kwargs) from builtins.type\n",
      " |      Create and return a new object.  See help(type) for accurate signature.\n",
      " |  \n",
      " |  ----------------------------------------------------------------------\n",
      " |  Data and other attributes inherited from builtins.dict:\n",
      " |  \n",
      " |  __hash__ = None\n",
      "\n"
     ]
    }
   ],
   "source": [
    "help(registro)"
   ]
  },
  {
   "cell_type": "markdown",
   "metadata": {},
   "source": [
    "Para analisar um arquivo com múltiplos registros Medline (esse arquivo está no mesmo repositório deste documento), você pode usar a função **parse**:"
   ]
  },
  {
   "cell_type": "code",
   "execution_count": 50,
   "metadata": {},
   "outputs": [
    {
     "name": "stdout",
     "output_type": "stream",
     "text": [
      "A high level interface to SCOP and ASTRAL implemented in python.\n",
      "GenomeDiagram: a python package for the visualization of large-scale genomic data.\n",
      "Open source clustering software.\n",
      "PDB file parser and structure class implemented in Python.\n"
     ]
    }
   ],
   "source": [
    "from Bio import Medline\n",
    "with open('pubmed_result2.txt') as identificador:\n",
    "    for registro in Medline.parse(identificador):\n",
    "        print(registro['TI'])"
   ]
  },
  {
   "cell_type": "markdown",
   "metadata": {},
   "source": [
    "Ao invés de você analisar os registros Medline armazenados em arquivos, você também pode analisar esses registros baixando pelo `Bio.Entrez.efetch()`. Por exemplo, vejamos todos os registros Medline no PubMed que remetem ao Biopython:"
   ]
  },
  {
   "cell_type": "code",
   "execution_count": 51,
   "metadata": {},
   "outputs": [
    {
     "data": {
      "text/plain": [
       "['34735950', '34484417', '34434786', '34189012', '33994075', '33902722', '33809815', '33242467', '32044951', '31762715', '31278684', '31069053', '30013827', '29641230', '28011774', '24929426', '24497503', '24267035', '24194598', '23842806']"
      ]
     },
     "execution_count": 51,
     "metadata": {},
     "output_type": "execute_result"
    }
   ],
   "source": [
    "from Bio import Entrez\n",
    "Entrez.email = 'teste@example.com'\n",
    "identificador = Entrez.esearch(db='pubmed', term='biopython')\n",
    "registro = Entrez.read(identificador)\n",
    "registro['IdList']"
   ]
  },
  {
   "cell_type": "markdown",
   "metadata": {},
   "source": [
    "Usaremos agora o EFetch para baixar esses registros Medline:"
   ]
  },
  {
   "cell_type": "code",
   "execution_count": 52,
   "metadata": {},
   "outputs": [],
   "source": [
    "lista_ids = registro['IdList']\n",
    "identificador = Entrez.efetch(db='pubmed', id=lista_ids, rettype='medline', retmode='text')"
   ]
  },
  {
   "cell_type": "markdown",
   "metadata": {},
   "source": [
    "Aqui, especificamos **rettype='medline'** e **retmode='text'** para obter os registros Medline em forma de texto Medline. Usaremos agora o `Bio.Medline` para analisar esses registros:"
   ]
  },
  {
   "cell_type": "code",
   "execution_count": 53,
   "metadata": {
    "scrolled": true
   },
   "outputs": [
    {
     "name": "stdout",
     "output_type": "stream",
     "text": [
      "['Zelenova M', 'Ivanova A', 'Semyonov S', 'Gankin Y']\n",
      "['Li Y', 'Wang J', 'Li Y', 'Liu C', 'Gong X', 'Zhuang Y', 'Chen L', 'Sun K']\n",
      "['Cornish TC', 'Kricka LJ', 'Park JY']\n",
      "['Purohit S', 'Satapathy SC', 'Sibi Chakkaravarthy S', 'Zhang YD']\n",
      "['Floch A', 'Teletchea S', 'Tournamille C', 'de Brevern AG', 'Pirenne F']\n",
      "['Torkian B', 'Hann S', 'Preisner E', 'Norman RS']\n",
      "['Ochoa R', 'Cossio P']\n",
      "['Kricka LJ', 'Cornish TC', 'Park JY']\n",
      "['Ireland SM', 'Martin ACR']\n",
      "['Chen G', 'Feng Y', 'Sun Z', 'Gao Y', 'Wu C', 'Zhang H', 'Cao J', 'Chen Z', 'Cao J', 'Zhu Y', 'Zhang S']\n",
      "['Bonnal RJP', 'Yates A', 'Goto N', 'Gautier L', 'Willis S', 'Fields C', 'Katayama T', 'Prins P']\n",
      "['Thiel BC', 'Beckmann IK', 'Kerpedjiev P', 'Hofacker IL']\n",
      "['Camiolo S', 'Porceddu A']\n",
      "['Xu Y', 'Luo XC']\n",
      "['Korhonen JH', 'Palin K', 'Taipale J', 'Ukkonen E']\n",
      "['Waldmann J', 'Gerken J', 'Hankeln W', 'Schweer T', 'Glockner FO']\n",
      "['Mielke CJ', 'Mandarino LJ', 'Dinu V']\n",
      "['Gajda MJ']\n",
      "['Mathelier A', 'Zhao X', 'Zhang AW', 'Parcy F', 'Worsley-Hunt R', 'Arenillas DJ', 'Buchman S', 'Chen CY', 'Chou A', 'Ienasescu H', 'Lim J', 'Shyr C', 'Tan G', 'Zhou M', 'Lenhard B', 'Sandelin A', 'Wasserman WW']\n",
      "['Morales HF', 'Giovambattista G']\n"
     ]
    }
   ],
   "source": [
    "from Bio import Medline\n",
    "registros = Medline.parse(identificador)\n",
    "for registro in registros:\n",
    "    print(registro['AU'])"
   ]
  },
  {
   "cell_type": "markdown",
   "metadata": {},
   "source": [
    "Para comparação, vamos ver um exemplo usando o formato XML:"
   ]
  },
  {
   "cell_type": "code",
   "execution_count": 54,
   "metadata": {},
   "outputs": [
    {
     "name": "stdout",
     "output_type": "stream",
     "text": [
      "Analysis of 329,942 SARS-CoV-2 records retrieved from GISAID database.\n",
      "Identification of Immune-Related Genes in Sepsis due to Community-Acquired Pneumonia.\n",
      "A Biopython-based method for comprehensively searching for eponyms in Pubmed.\n",
      "Correlation-Based Analysis of COVID-19 Virus Genome Versus Other Fatal Virus Genomes.\n",
      "A Review of the Literature Organized Into a New Database: RHeference.\n",
      "BLAST-QC: automated analysis of BLAST results.\n",
      "PepFun: Open Source Protocols for Peptide-Related Computational Analysis.\n",
      "Eponyms in clinical chemistry.\n",
      "atomium-a Python structure parser.\n",
      "mRNA and lncRNA Expression Profiling of Radiation-Induced Gastric Injury Reveals Potential Radiation-Responsive Transcription Factors.\n",
      "Sharing Programming Resources Between Bio* Projects.\n",
      "3D based on 2D: Calculating helix angles and stacking patterns using <i>forgi 2.0</i>, an RNA Python library centered on secondary structure elements.\n",
      "corseq: fast and efficient identification of favoured codons from next generation sequencing reads.\n",
      "PyPathway: Python Package for Biological Network Analysis and Visualization.\n",
      "Fast motif matching revisited: high-order PWMs, SNPs and indels.\n",
      "FastaValidator: an open-source Java library to parse and validate FASTA formatted sequences.\n",
      "AMASS: a database for investigating protein structures.\n",
      "HPDB-Haskell library for processing atomic biomolecular structures in Protein Data Bank format.\n",
      "JASPAR 2014: an extensively expanded and updated open-access database of transcription factor binding profiles.\n",
      "BioSmalltalk: a pure object system and library for bioinformatics.\n"
     ]
    }
   ],
   "source": [
    "identificador = Entrez.efetch(db='pubmed', id=lista_ids, rettype='medline', retmode='xml')\n",
    "registros = Entrez.read(identificador)\n",
    "for registro in registros['PubmedArticle']:\n",
    "    print(registro['MedlineCitation']['Article']['ArticleTitle'])"
   ]
  },
  {
   "cell_type": "markdown",
   "metadata": {},
   "source": [
    "Observe que em ambos os exemplos, pela simplicidade combinamos o ESearch com EFetch. Nessa situação, o NCBI espera que você use o histórico, como ilustrado na **Seção 9.16**."
   ]
  },
  {
   "cell_type": "markdown",
   "metadata": {},
   "source": [
    "### 9.13.2 Analisando registros GEO"
   ]
  },
  {
   "cell_type": "markdown",
   "metadata": {},
   "source": [
    "GEO (Gene Expression Omnibus: https://www.ncbi.nlm.nih.gov/geo/) é um repositório de dados de expressão gênica e hibridização de dados array de alto rendimento. O módulo `Bio.Geo` pode ser usado para analisar os dados GEO-formatados.\n",
    "\n",
    "O código abaixo mostra como analisar um arquivo GEO (presente no mesmo repositório deste documento) em um registro e mostrar esse registro:"
   ]
  },
  {
   "cell_type": "code",
   "execution_count": 55,
   "metadata": {},
   "outputs": [
    {
     "name": "stdout",
     "output_type": "stream",
     "text": [
      "GEO Type: SAMPLE\n",
      "GEO Id: GSM804\n",
      "Sample_author: Antoine,M,Snijders\n",
      "\n",
      "Sample_author: Norma,,Nowak\n",
      "\n",
      "Sample_author: Richard,,Segraves\n",
      "\n",
      "Sample_author: Stephanie,,Blackwood\n",
      "\n",
      "Sample_author: Nils,,Brown\n",
      "\n",
      "Sample_author: Jeffery,,Conroy\n",
      "\n",
      "Sample_author: Greg,,Hamilton\n",
      "\n",
      "Sample_author: Anna,K,Hindle\n",
      "\n",
      "Sample_author: Bing,,Huey\n",
      "\n",
      "Sample_author: Karen,,Kimura\n",
      "\n",
      "Sample_author: Sindy,,Law\n",
      "\n",
      "Sample_author: Ken,,Myambo\n",
      "\n",
      "Sample_author: Joel,,Palmer\n",
      "\n",
      "Sample_author: Bauke,,Ylstra\n",
      "\n",
      "Sample_author: Jingzhu,P,Yue\n",
      "\n",
      "Sample_author: Joe,W,Gray\n",
      "\n",
      "Sample_author: Ajay,N,Jain\n",
      "\n",
      "Sample_author: Daniel,,Pinkel\n",
      "\n",
      "Sample_author: Donna,G,Albertson\n",
      "\n",
      "Sample_description: Coriell Cell Repositories cell line <a h\n",
      "ref=\"http://locus.umdnj.edu/nigms/nigms_cgi/display.cgi?GM05296\">GM05296</a>.\n",
      "\n",
      "Sample_description: Fibroblast cell line derived from a 1 mo\n",
      "nth old female with multiple congenital malformations, dysmorphic features, intr\n",
      "auterine growth retardation, heart murmur, cleft palate, equinovarus deformity, \n",
      "microcephaly, coloboma of right iris, clinodactyly, reduced RBC catalase activit\n",
      "y, and 1 copy of catalase gene.\n",
      "\n",
      "Sample_description: Chromosome abnormalities are present.\n",
      "\n",
      "Sample_description: Karyotype is 46,XX,-11,+der(11)inv ins(1\n",
      "1;10)(11pter> 11p13::10q21>10q24::11p13>11qter)mat\n",
      "\n",
      "Sample_organism: Homo sapiens\n",
      "\n",
      "Sample_platform_id: GPL28\n",
      "\n",
      "Sample_pubmed_id: 11687795\n",
      "\n",
      "Sample_series_id: GSE16\n",
      "\n",
      "Sample_status: Public on Feb 12 2002\n",
      "\n",
      "Sample_submission_date: Jan 17 2002\n",
      "\n",
      "Sample_submitter_city: San Francisco,CA,94143,USA\n",
      "\n",
      "Sample_submitter_department: Comprehensive Cancer Center\n",
      "\n",
      "Sample_submitter_email: albertson@cc.ucsf.edu\n",
      "\n",
      "Sample_submitter_institute: University of California San Francisco\n",
      "\n",
      "Sample_submitter_name: Donna,G,Albertson\n",
      "\n",
      "Sample_submitter_phone: 415 502-8463\n",
      "\n",
      "Sample_target_source1: Cell line GM05296\n",
      "\n",
      "Sample_target_source2: normal male reference genomic DNA\n",
      "\n",
      "Sample_title: CGH_Albertson_GM05296-001218\n",
      "\n",
      "Sample_type: dual channel genomic\n",
      "\n",
      "Column Header Definitions\n",
      "    ID_REF: Unique row identifier, genome position o\n",
      "    rder\n",
      "\n",
      "    LINEAR_RATIO: Mean of replicate Cy3/Cy5 ratios\n",
      "\n",
      "    LOG2STDDEV: Standard deviation of VALUE\n",
      "\n",
      "    NO_REPLICATES: Number of replicate spot measurements\n",
      "\n",
      "    VALUE: aka LOG2RATIO, mean of log base 2 of LIN\n",
      "    EAR_RATIO\n",
      "\n",
      "0: ID_REF\tVALUE\tLINEAR_RATIO\tLOG2STDDEV\tNO_REPLICATES\t\n",
      "1: 1\t\t1.047765\t0.011853\t3\t\n",
      "2: 2\t\t\t\t0\t\n",
      "3: 3\t0.008824\t1.006135\t0.00143\t3\t\n",
      "4: 4\t-0.000894\t0.99938\t0.001454\t3\t\n",
      "5: 5\t0.075875\t1.054\t0.003077\t3\t\n",
      "6: 6\t0.017303\t1.012066\t0.005876\t2\t\n",
      "7: 7\t-0.006766\t0.995321\t0.013881\t3\t\n",
      "8: 8\t0.020755\t1.014491\t0.005506\t3\t\n",
      "9: 9\t-0.094938\t0.936313\t0.012662\t3\t\n",
      "10: 10\t-0.054527\t0.96291\t0.01073\t3\t\n",
      "11: 11\t-0.025057\t0.982782\t0.003855\t3\t\n",
      "12: 12\t\t\t\t0\t\n",
      "13: 13\t0.108454\t1.078072\t0.005196\t3\t\n",
      "14: 14\t0.078633\t1.056017\t0.009165\t3\t\n",
      "15: 15\t0.098571\t1.070712\t0.007834\t3\t\n",
      "16: 16\t0.044048\t1.031003\t0.013651\t3\t\n",
      "17: 17\t0.018039\t1.012582\t0.005471\t3\t\n",
      "18: 18\t-0.088807\t0.9403\t0.010571\t3\t\n",
      "19: 19\t0.016349\t1.011397\t0.007113\t3\t\n",
      "20: 20\t0.030977\t1.021704\t0.016798\t3\t\n",
      "\n"
     ]
    }
   ],
   "source": [
    "from Bio import Geo\n",
    "identificador = open('GSE16.txt')\n",
    "registros = Geo.parse(identificador)\n",
    "for registro in registros:\n",
    "    print(registro)"
   ]
  },
  {
   "cell_type": "markdown",
   "metadata": {},
   "source": [
    "Você pode pesquisar pelo banco de dados 'gds' (GEO datasets) com o ESearch:"
   ]
  },
  {
   "cell_type": "code",
   "execution_count": 56,
   "metadata": {},
   "outputs": [
    {
     "data": {
      "text/plain": [
       "'27'"
      ]
     },
     "execution_count": 56,
     "metadata": {},
     "output_type": "execute_result"
    }
   ],
   "source": [
    "from Bio import Entrez\n",
    "Entrez.email = 'teste@example.com'\n",
    "identificador = Entrez.esearch(db='gds', term='GSE16')\n",
    "registro = Entrez.read(identificador)\n",
    "identificador.close()\n",
    "registro['Count']"
   ]
  },
  {
   "cell_type": "code",
   "execution_count": 57,
   "metadata": {},
   "outputs": [
    {
     "data": {
      "text/plain": [
       "['200000016', '100000028', '300000818', '300000817', '300000816', '300000815', '300000814', '300000813', '300000812', '300000811', '300000810', '300000809', '300000808', '300000807', '300000806', '300000805', '300000804', '300000803', '300000802', '300000801']"
      ]
     },
     "execution_count": 57,
     "metadata": {},
     "output_type": "execute_result"
    }
   ],
   "source": [
    "registro['IdList']"
   ]
  },
  {
   "cell_type": "markdown",
   "metadata": {},
   "source": [
    "No site do Entrez, UID '200000016' é o GDS16 enquanto o '100000028' é para a plataforma associada GPL28. Infelizmente, até o presente momento o NCBI não possui suporte para baixar arquivos GEO usando Entrez (não como XML nem como *Simple Omnibus Format in Text* (SOFT)).\n",
    "\n",
    "Contudo, é bem simples baixar os arquivos GEO pelo FTP nos sites https://ftp.ncbi.nlm.nih.gov/ ou https://ftp.ncbi.nih.gov/pub/."
   ]
  },
  {
   "cell_type": "markdown",
   "metadata": {},
   "source": [
    "### 9.13.3 Analisando registros UniGene"
   ]
  },
  {
   "cell_type": "markdown",
   "metadata": {},
   "source": [
    "UniGene é um banco de dados do NCBI de transcriptoma, com cada registro UniGene mostrando o conjunto dos transcritos que estão associados a um gene particular em um organismo específico. Um UniGene comum aparenta ser assim (esse arquivo está no mesmo repositório deste documento):"
   ]
  },
  {
   "attachments": {
    "arquivo_unigene.png": {
     "image/png": "[encoded data removed]"
    }
   },
   "cell_type": "markdown",
   "metadata": {},
   "source": [
    "![arquivo_unigene.png](attachment:arquivo_unigene.png) **...**"
   ]
  },
  {
   "attachments": {
    "arquivo_unigene_continuacao.png": {
     "image/png": "[encoded data removed]"
    }
   },
   "cell_type": "markdown",
   "metadata": {},
   "source": [
    "![arquivo_unigene_continuacao.png](attachment:arquivo_unigene_continuacao.png) **...**"
   ]
  },
  {
   "cell_type": "markdown",
   "metadata": {},
   "source": [
    "Esse registro em particular mostra um conjunto de transcritos (informações essas presentes nas linhas **SEQUENCE**) que são originárias do gene humano NAT2, codificando a proteína N-acetiltransferase. As linhas **PROTISM** mostram as proteínas com siginificatica similaridade com a NAT2, enquanto as linhas **STS** mostram os locais marcados com a sequência correspondente no genoma.\n",
    "\n",
    "Para analisar um arquivo UniGene, use o módulo `Bio.UniGene`:"
   ]
  },
  {
   "cell_type": "code",
   "execution_count": 58,
   "metadata": {},
   "outputs": [],
   "source": [
    "from Bio import UniGene\n",
    "entrada = open('Hs_2.data')\n",
    "registro = UniGene.read(entrada)"
   ]
  },
  {
   "cell_type": "markdown",
   "metadata": {},
   "source": [
    "O retorno de **registro** feito pelo **UniGene.read** é um objeto Python com atributos correspondentes aos campos no registro do UniGene. Por exemplo:"
   ]
  },
  {
   "cell_type": "code",
   "execution_count": 59,
   "metadata": {},
   "outputs": [
    {
     "data": {
      "text/plain": [
       "'Hs.2'"
      ]
     },
     "execution_count": 59,
     "metadata": {},
     "output_type": "execute_result"
    }
   ],
   "source": [
    "registro.ID"
   ]
  },
  {
   "cell_type": "code",
   "execution_count": 60,
   "metadata": {},
   "outputs": [
    {
     "data": {
      "text/plain": [
       "'N-acetyltransferase 2 (arylamine N-acetyltransferase)'"
      ]
     },
     "execution_count": 60,
     "metadata": {},
     "output_type": "execute_result"
    }
   ],
   "source": [
    "registro.title"
   ]
  },
  {
   "cell_type": "markdown",
   "metadata": {},
   "source": [
    "As linhas **EXPRESS** e **RESTR_EXPR** estão armazenadas como uma lista de strings Python:"
   ]
  },
  {
   "cell_type": "code",
   "execution_count": 61,
   "metadata": {},
   "outputs": [
    {
     "data": {
      "text/plain": [
       "['bone',\n",
       " 'connective tissue',\n",
       " 'intestine',\n",
       " 'liver',\n",
       " 'liver tumor',\n",
       " 'normal',\n",
       " 'soft tissue/muscle tissue tumor',\n",
       " 'adult']"
      ]
     },
     "execution_count": 61,
     "metadata": {},
     "output_type": "execute_result"
    }
   ],
   "source": [
    "registro.express"
   ]
  },
  {
   "cell_type": "code",
   "execution_count": 62,
   "metadata": {},
   "outputs": [
    {
     "data": {
      "text/plain": [
       "['adult']"
      ]
     },
     "execution_count": 62,
     "metadata": {},
     "output_type": "execute_result"
    }
   ],
   "source": [
    "registro.restr_expr"
   ]
  },
  {
   "cell_type": "markdown",
   "metadata": {},
   "source": [
    "Objetos especializados são retornados para as linhas **STS**, **PROTISM** e **SEQUENCE**, armazenando as chaves em cada linha como atributo:"
   ]
  },
  {
   "cell_type": "code",
   "execution_count": 63,
   "metadata": {},
   "outputs": [
    {
     "data": {
      "text/plain": [
       "'PMC310725P3'"
      ]
     },
     "execution_count": 63,
     "metadata": {},
     "output_type": "execute_result"
    }
   ],
   "source": [
    "registro.sts[0].acc"
   ]
  },
  {
   "cell_type": "code",
   "execution_count": 64,
   "metadata": {},
   "outputs": [
    {
     "data": {
      "text/plain": [
       "'272646'"
      ]
     },
     "execution_count": 64,
     "metadata": {},
     "output_type": "execute_result"
    }
   ],
   "source": [
    "registro.sts[0].unists"
   ]
  },
  {
   "cell_type": "markdown",
   "metadata": {},
   "source": [
    "E da mesma forma com as linhas **PROTISM** e **SEQUENCE**:"
   ]
  },
  {
   "cell_type": "code",
   "execution_count": 65,
   "metadata": {},
   "outputs": [
    {
     "data": {
      "text/plain": [
       "'10090'"
      ]
     },
     "execution_count": 65,
     "metadata": {},
     "output_type": "execute_result"
    }
   ],
   "source": [
    "registro.protsim[0].org"
   ]
  },
  {
   "cell_type": "code",
   "execution_count": 66,
   "metadata": {},
   "outputs": [
    {
     "data": {
      "text/plain": [
       "'BC067218.1'"
      ]
     },
     "execution_count": 66,
     "metadata": {},
     "output_type": "execute_result"
    }
   ],
   "source": [
    "registro.sequence[0].acc"
   ]
  },
  {
   "cell_type": "markdown",
   "metadata": {},
   "source": [
    "Para analisar um arquivo que possui mais de um registro UniGene, use a função **parse** de `Bio.UniGene`. Arquivo presente no mesmo repositório deste documento:"
   ]
  },
  {
   "cell_type": "code",
   "execution_count": 67,
   "metadata": {},
   "outputs": [
    {
     "name": "stdout",
     "output_type": "stream",
     "text": [
      "Eca.1\n",
      "Eca.2425\n"
     ]
    }
   ],
   "source": [
    "from Bio import UniGene\n",
    "entrada = open('Eca_1_2425.data')\n",
    "registros = UniGene.parse(entrada)\n",
    "for registro in registros:\n",
    "    print(registro.ID)"
   ]
  },
  {
   "cell_type": "markdown",
   "metadata": {},
   "source": [
    "## 9.14 Usando um proxy"
   ]
  },
  {
   "cell_type": "markdown",
   "metadata": {},
   "source": [
    "Geralmente, você não precisa se preocupar sobre usar um proxy, mas se este é um problema na sua rede de internet, aqui é bom saber como lidar com isso. Internamente, `Bio.Entrez` usa a biblioteca padrão do Python `urllib` para acessar os servidores NCBI. Isso verificará uma variável de ambiente chamada **http_proxy** para configurar qualquer proxy simples automaticamente. Infelizmente, esse módulo não suporta o uso de proxies que requerem autenticação.\n",
    "\n",
    "Você pode escolher configurar a variável de ambiente **http_proxy** uma vez (o modo como você fará isso depende do seu sistema operacional). Alternativamente, você pode configurar pelo Python no começo do script, por exemplo (não executarei o código para evitar erros enquanto usamos o Biopython em nosso estudo):\n",
    "\n",
    "- import os\n",
    "- os.environ['http_proxy'] = 'http://proxyhost.example.com:8080'\n",
    "\n",
    "Veja a documentação de `urllib` para mais informações: https://docs.python.org/pt-br/3.10/library/urllib.html."
   ]
  },
  {
   "cell_type": "markdown",
   "metadata": {},
   "source": [
    "## 9.15 Exemplos"
   ]
  },
  {
   "cell_type": "markdown",
   "metadata": {},
   "source": [
    "### 9.15.1 PubMed e Medline"
   ]
  },
  {
   "cell_type": "markdown",
   "metadata": {},
   "source": [
    "Se você é do campo médico ou interessado em questões humanas, e muitas vezes até mesmo se você não for, PubMed (https://pubmed.ncbi.nlm.nih.gov/) é excelente fonte de vários tipos de informações. Então, como as várias coisas que fizemos até aqui, estamos hábeisem pegar insformações de bancos de dados e usar em códigos Python.\n",
    "\n",
    "Nesse exemplo, consultaremos o PubMed para todos os artigos sobre orquídeas. Vamos primeiro saber quantos artigos temos:"
   ]
  },
  {
   "cell_type": "code",
   "execution_count": 68,
   "metadata": {},
   "outputs": [
    {
     "name": "stdout",
     "output_type": "stream",
     "text": [
      "2737\n"
     ]
    }
   ],
   "source": [
    "from Bio import Entrez\n",
    "Entrez.email = 'teste@example.com'\n",
    "identificador = Entrez.egquery(term='orchid')\n",
    "registro = Entrez.read(identificador)\n",
    "for linha in registro['eGQueryResult']:\n",
    "    if linha['DbName'] == 'pubmed':\n",
    "        print(linha['Count'])"
   ]
  },
  {
   "cell_type": "markdown",
   "metadata": {},
   "source": [
    "Agora podemos usar o `Bio.Entrez.efetch()` para baixar os IDs do PubMed dos 2737 artigos:"
   ]
  },
  {
   "cell_type": "code",
   "execution_count": 75,
   "metadata": {},
   "outputs": [],
   "source": [
    "from Bio import Entrez\n",
    "Entrez.email = 'teste@example.com'\n",
    "identificador = Entrez.esearch(db='pubmed', term='orchid', retmax=2737)\n",
    "registro = Entrez.read(identificador)\n",
    "identificador.close()\n",
    "lista_ids = registro['IdList']"
   ]
  },
  {
   "cell_type": "markdown",
   "metadata": {},
   "source": [
    "É retornada uma lista Python contendo todos os IDs do PubMed dos artigos relacionados às orquídeas:"
   ]
  },
  {
   "cell_type": "code",
   "execution_count": 70,
   "metadata": {},
   "outputs": [
    {
     "name": "stdout",
     "output_type": "stream",
     "text": [
      "['34851426', '34850870', '34849043', '34848682', '34834677', '34830045', '34829281', '34821779', '34819778', '34816066']\n"
     ]
    }
   ],
   "source": [
    "print(lista_ids[:10])"
   ]
  },
  {
   "cell_type": "markdown",
   "metadata": {},
   "source": [
    "Agora que os temos, obviamente queremos pegar os registros Medline correspondentes e extrair as suas informações. Aqui, baixaremos os registros Medline no formato de texto e usaremos o `Bio.Medline` para analisálos:"
   ]
  },
  {
   "cell_type": "code",
   "execution_count": 76,
   "metadata": {},
   "outputs": [],
   "source": [
    "from Bio import Medline\n",
    "identificador = Entrez.efetch(db='pubmed', id=lista_ids, rettype='medline', retmode='text')\n",
    "registros = Medline.parse(identificador)"
   ]
  },
  {
   "cell_type": "markdown",
   "metadata": {},
   "source": [
    "NOTA: Como separamos a pesquisa da busca aqui, o NCBI prefere que você tire proveito da ferramenta de histórico nessa situação. Veja a **Seção 9.16** para mais informações.\n",
    "\n",
    "Mantendo em mente que a variável **registros** é um iterador, podemos iterar através do registros apenas uma vez. Se você salvar os registros, você pode convertê-los em uma lista:"
   ]
  },
  {
   "cell_type": "code",
   "execution_count": 77,
   "metadata": {},
   "outputs": [],
   "source": [
    "registros = list(registros)"
   ]
  },
  {
   "cell_type": "markdown",
   "metadata": {},
   "source": [
    "Agora podemos iterar sobre os registros e mostrar as informações sobre cada registro. Para não ficar uma bagunça o nosso estudo, veremos somente o primeiro registro, para isso adicione a palavra reserva **break** ao final do loop:"
   ]
  },
  {
   "cell_type": "code",
   "execution_count": 78,
   "metadata": {},
   "outputs": [],
   "source": [
    "for registro in registros:\n",
    "    print(f'Título: {registro.get(\"TI\", \"?\")}')\n",
    "    print(f'Autores: {registro.get(\"AU\", \"?\")}')\n",
    "    print(f'Fonte: {registro.get(\"SO\", \"?\")}')\n",
    "    break"
   ]
  },
  {
   "cell_type": "markdown",
   "metadata": {},
   "source": [
    "É especialmente interessante olhar a lista de autores, que é retornado como uma lista Python. Isso torna fácil manipular e pesquisar itens com as ferramentas padrões do Python. Por exemplo, podemos passar pelo loop pesquisando um autor específico:"
   ]
  },
  {
   "cell_type": "code",
   "execution_count": 79,
   "metadata": {},
   "outputs": [],
   "source": [
    "autor = 'Sungu Seker S'\n",
    "for registro in registros:\n",
    "    if not 'AU' in registro:\n",
    "        continue\n",
    "    if autor in registro['AU']:\n",
    "        print(f'Autor {autor} encontrado em: {registro[\"SO\"]}')"
   ]
  },
  {
   "cell_type": "markdown",
   "metadata": {},
   "source": [
    "Felizmente, essa seção mostra a você uma ideia do poder e flexibilidade das interfaces do Entrez e Medline e como elas podem ser usadas juntas."
   ]
  },
  {
   "cell_type": "markdown",
   "metadata": {},
   "source": [
    "### 9.15.2 Pesquisando, baixando e analisando registros de Nucleotídeo Entrez"
   ]
  },
  {
   "cell_type": "markdown",
   "metadata": {},
   "source": [
    "Aqui mostraremos um simples exemplo de atuação remota de consulta Query. Na **Seção 2.3** do Capítulo 2 (https://github.com/GTL98/biopython_br/tree/main/Cap%202%20-%20O%20que%20podemos%20fazer%20com%20o%20Biopython), falmos sobre usar o site Entrez NCBI para pesquisar informações no banco de dados de nucleotídeos do NCBI sobre a subfamília de orquídeas *Cypripedioideae*. Agora, veremos como automatizar esse processo usando um código Python. Nesse exemplo, veremos como conectar, pegar os resultados e analisá-los, com o módulo do Entrez fazendo todo o trabalho.\n",
    "\n",
    "Primeiro, use o EGQuery para encontrar o número de resultados que obeteremos antes de realmente baixá-los. EGQuery nos falaeá quantos resultados foram encontrados nos bancos de dados, mas para esse exemplo estamos interessados somente no banco de dados de nucleotídeos:"
   ]
  },
  {
   "cell_type": "code",
   "execution_count": 80,
   "metadata": {},
   "outputs": [
    {
     "name": "stdout",
     "output_type": "stream",
     "text": [
      "6439\n"
     ]
    }
   ],
   "source": [
    "from Bio import Entrez\n",
    "Entrez.email = 'teste@example.com'\n",
    "identificador = Entrez.egquery(term='Cypripedioideae')\n",
    "registro = Entrez.read(identificador)\n",
    "for linha in registro['eGQueryResult']:\n",
    "    if linha ['DbName'] == 'nuccore':\n",
    "        print(linha['Count'])"
   ]
  },
  {
   "cell_type": "markdown",
   "metadata": {},
   "source": [
    "Temos 6439 registros de Nucleotídeo Entrez (em 2008 eram apenas 814 registros!). Se você encontrar um número ridículo de acessos, você pode querer reconsiderar se você deseja baixar todos os registros, o que faremos no próximo passo. Vamos usar o argumento **retmax** para restringir o número máximo de registros resgatados para a quantidade de de registros em 2008:"
   ]
  },
  {
   "cell_type": "code",
   "execution_count": 81,
   "metadata": {},
   "outputs": [],
   "source": [
    "from Bio import Entrez\n",
    "Entrez.email = 'teste@example.com'\n",
    "identificador = Entrez.esearch(db='nucleotide', term='Cypripedioideae', retmax=814, idtype='acc')\n",
    "registro = Entrez.read(identificador)\n",
    "identificador.close()"
   ]
  },
  {
   "cell_type": "markdown",
   "metadata": {},
   "source": [
    "Aqui, **registro** é um dicionário Python contendo a pesquisa dos resultados e algumas informações adicionais. Apenas por curiosidade, veremos o que está armazenado nesse dicionário:"
   ]
  },
  {
   "cell_type": "code",
   "execution_count": 82,
   "metadata": {},
   "outputs": [
    {
     "name": "stdout",
     "output_type": "stream",
     "text": [
      "dict_keys(['Count', 'RetMax', 'RetStart', 'IdList', 'TranslationSet', 'TranslationStack', 'QueryTranslation'])\n"
     ]
    }
   ],
   "source": [
    "print(registro.keys())"
   ]
  },
  {
   "cell_type": "markdown",
   "metadata": {},
   "source": [
    "Vamos checar quantos resultados foram encontrados:"
   ]
  },
  {
   "cell_type": "code",
   "execution_count": 83,
   "metadata": {},
   "outputs": [
    {
     "name": "stdout",
     "output_type": "stream",
     "text": [
      "6439\n"
     ]
    }
   ],
   "source": [
    "print(registro['Count'])"
   ]
  },
  {
   "cell_type": "markdown",
   "metadata": {},
   "source": [
    "Você pode pensar que o valor deveria ser 814, pois esse é o número máximo de registros que solicitamos. Entretanto, **Count** representa o número total de registros disponíveis para pesquisa, não quantos registros solicitamos. Os registros solicitados estão armazenados na chave **IdList**, que aí sim contém o número total de registros solicitados:"
   ]
  },
  {
   "cell_type": "code",
   "execution_count": 84,
   "metadata": {},
   "outputs": [
    {
     "data": {
      "text/plain": [
       "814"
      ]
     },
     "execution_count": 84,
     "metadata": {},
     "output_type": "execute_result"
    }
   ],
   "source": [
    "len(registro['IdList'])"
   ]
  },
  {
   "cell_type": "markdown",
   "metadata": {},
   "source": [
    "Vejamos os 5 primeiros registros:"
   ]
  },
  {
   "cell_type": "code",
   "execution_count": 85,
   "metadata": {},
   "outputs": [
    {
     "data": {
      "text/plain": [
       "['NC_058834.1', 'NC_058833.1', 'NC_058832.1', 'OK120861.1', 'OK120860.1']"
      ]
     },
     "execution_count": 85,
     "metadata": {},
     "output_type": "execute_result"
    }
   ],
   "source": [
    "registro['IdList'][:5]"
   ]
  },
  {
   "cell_type": "markdown",
   "metadata": {},
   "source": [
    "Agora podemos baixar esses registros usando a função **efetch**. Embora você possa baixar esses registros um por um, para reduzir a carga dos servidores do NCBI, é melhor você buscar muitos registros de uma só vez. Todavia, nessa situação você deveria usar o histórico de pesquisa, como mostrado na **Seção 9.16**."
   ]
  },
  {
   "cell_type": "code",
   "execution_count": 86,
   "metadata": {},
   "outputs": [
    {
     "name": "stdout",
     "output_type": "stream",
     "text": [
      "NC_058834.1,NC_058833.1,NC_058832.1,OK120861.1,OK120860.1\n"
     ]
    }
   ],
   "source": [
    "lista_ids = ','.join(registro['IdList'][:5])  # baixaremos somente os 5 primeiros\n",
    "print(lista_ids)"
   ]
  },
  {
   "cell_type": "code",
   "execution_count": 87,
   "metadata": {},
   "outputs": [
    {
     "data": {
      "text/plain": [
       "5"
      ]
     },
     "execution_count": 87,
     "metadata": {},
     "output_type": "execute_result"
    }
   ],
   "source": [
    "identificador = Entrez.efetch(db='nucleotide', id=lista_ids, retmode='xml')\n",
    "registros = Entrez.read(identificador)\n",
    "len(registros)"
   ]
  },
  {
   "cell_type": "markdown",
   "metadata": {},
   "source": [
    "Cada um desses registros corresponde a um registro GenBank:"
   ]
  },
  {
   "cell_type": "code",
   "execution_count": 88,
   "metadata": {},
   "outputs": [
    {
     "name": "stdout",
     "output_type": "stream",
     "text": [
      "dict_keys(['GBSeq_locus', 'GBSeq_length', 'GBSeq_strandedness', 'GBSeq_moltype', 'GBSeq_topology', 'GBSeq_division', 'GBSeq_update-date', 'GBSeq_create-date', 'GBSeq_definition', 'GBSeq_primary-accession', 'GBSeq_accession-version', 'GBSeq_other-seqids', 'GBSeq_project', 'GBSeq_keywords', 'GBSeq_source', 'GBSeq_organism', 'GBSeq_taxonomy', 'GBSeq_references', 'GBSeq_comment', 'GBSeq_feature-table', 'GBSeq_sequence', 'GBSeq_xrefs'])\n"
     ]
    }
   ],
   "source": [
    "print(registros[0].keys())"
   ]
  },
  {
   "cell_type": "code",
   "execution_count": 90,
   "metadata": {},
   "outputs": [
    {
     "name": "stdout",
     "output_type": "stream",
     "text": [
      "NC_058834\n"
     ]
    }
   ],
   "source": [
    "print(registros[0]['GBSeq_primary-accession'])"
   ]
  },
  {
   "cell_type": "code",
   "execution_count": 91,
   "metadata": {},
   "outputs": [
    {
     "name": "stdout",
     "output_type": "stream",
     "text": [
      "['ref|NC_058834.1|', 'gi|2127881387']\n"
     ]
    }
   ],
   "source": [
    "print(registros[0]['GBSeq_other-seqids'])"
   ]
  },
  {
   "cell_type": "code",
   "execution_count": 92,
   "metadata": {},
   "outputs": [
    {
     "name": "stdout",
     "output_type": "stream",
     "text": [
      "Paphiopedilum henryanum chloroplast, complete genome\n"
     ]
    }
   ],
   "source": [
    "print(registros[0]['GBSeq_definition'])"
   ]
  },
  {
   "cell_type": "code",
   "execution_count": 93,
   "metadata": {},
   "outputs": [
    {
     "name": "stdout",
     "output_type": "stream",
     "text": [
      "Paphiopedilum henryanum\n"
     ]
    }
   ],
   "source": [
    "print(registros[0]['GBSeq_organism'])"
   ]
  },
  {
   "cell_type": "markdown",
   "metadata": {},
   "source": [
    "Você pode usar isso para uma rápida pesquisa, mas usaremos em peso na **Seção 9.16**."
   ]
  },
  {
   "cell_type": "markdown",
   "metadata": {},
   "source": [
    "### 9.15.3 Pesquisando, baixando e analisando registros GenBank"
   ]
  },
  {
   "cell_type": "markdown",
   "metadata": {},
   "source": [
    "O formato de registro GenBank é um método muito popular de armazenar informações sobre sequências, características da sequência e outras informações associadas com a sequência. O formato é uma boa maneira de obter informações dos bancos de dados NCBI: https://www.ncbi.nlm.nih.gov/.\n",
    "\n",
    "Nesse exemplo veremos como consultar os bancos de dados NCBI para recuperar os registros pela consulta, e analisá-los usando o `Bio.SeqIO` (algo parecido com que fiezemos na **Seção 5.3.1** do Capítulo 5 (https://github.com/GTL98/biopython_br/tree/main/Cap%205%20-%20Sequ%C3%AAncias%20Input_Output). Para simplificar, esse exemplo *não tira* proveito do recuro histórico WebEnv.\n",
    "\n",
    "Primeiro, queremos fazer uma consulta e encontrar os IDs dos registros que recuperaremos. Faremos uma rápida pesquisa do gênero *Opuntia* (Figo da Índia). Podemos pesquisar e obter os GIs (*GenBank Identifiers*) para todos os registros correspondenter. Veriicaremos quantos registros existem:"
   ]
  },
  {
   "cell_type": "code",
   "execution_count": 94,
   "metadata": {},
   "outputs": [
    {
     "name": "stdout",
     "output_type": "stream",
     "text": [
      "37\n"
     ]
    }
   ],
   "source": [
    "from Bio import Entrez\n",
    "Entrez.email = 'teste@example.com'\n",
    "identificador = Entrez.egquery(term='Opuntia AND rpl16')\n",
    "registro = Entrez.read(identificador)\n",
    "for linha in registro['eGQueryResult']:\n",
    "    if linha['DbName'] == 'nuccore':\n",
    "        print(linha['Count'])"
   ]
  },
  {
   "cell_type": "markdown",
   "metadata": {},
   "source": [
    "Agora baixaremos a lista dos identificadores GenBank:"
   ]
  },
  {
   "cell_type": "code",
   "execution_count": 107,
   "metadata": {},
   "outputs": [
    {
     "data": {
      "text/plain": [
       "['1972904692', '1972904685', '1972904678', '1972904671', '1972904664', '1972904657', '1972904650', '1972904643', '1972904636', '1972904629', '1972904622', '1841709044', '377581039', '330887241', '330887240', '330887239', '330887238', '330887237', '330887236', '330887235']"
      ]
     },
     "execution_count": 107,
     "metadata": {},
     "output_type": "execute_result"
    }
   ],
   "source": [
    "identificador = Entrez.esearch(db='nuccore', term='Opuntia AND rpl16')\n",
    "registro = Entrez.read(identificador)\n",
    "lista_gis = registro['IdList']\n",
    "lista_gis"
   ]
  },
  {
   "cell_type": "markdown",
   "metadata": {},
   "source": [
    "Usaremos esses GIs para baixar os registros do GenBank. Por motivos didáticos, usaremos o primeiro registro para exemplo:"
   ]
  },
  {
   "cell_type": "code",
   "execution_count": 110,
   "metadata": {},
   "outputs": [],
   "source": [
    "identificador = Entrez.efetch(db='nuccore', id=lista_gis[0], rettype='gb', retmode='text')"
   ]
  },
  {
   "cell_type": "markdown",
   "metadata": {},
   "source": [
    "Se você quer olhar o arquivo GenBank bruto, você pode ler a saída do identificador:"
   ]
  },
  {
   "cell_type": "code",
   "execution_count": 111,
   "metadata": {
    "scrolled": true
   },
   "outputs": [
    {
     "name": "stdout",
     "output_type": "stream",
     "text": [
      "LOCUS       MT359377                1541 bp    DNA     linear   PLN 08-FEB-2021\n",
      "DEFINITION  Opuntia rioplatense voucher M.Kohler 287 (ICN) ribosomal protein\n",
      "            L16 (rpl16) gene, complete cds; chloroplast.\n",
      "ACCESSION   MT359377\n",
      "VERSION     MT359377.1\n",
      "KEYWORDS    .\n",
      "SOURCE      chloroplast Opuntia rioplatense\n",
      "  ORGANISM  Opuntia rioplatense\n",
      "            Eukaryota; Viridiplantae; Streptophyta; Embryophyta; Tracheophyta;\n",
      "            Spermatophyta; Magnoliopsida; eudicotyledons; Gunneridae;\n",
      "            Pentapetalae; Caryophyllales; Cactineae; Cactaceae; Opuntioideae;\n",
      "            Opuntia.\n",
      "REFERENCE   1  (bases 1 to 1541)\n",
      "  AUTHORS   Koehler,M., Esser,L.F., Font,F., Souza-Chies,T.T. and Majure,L.C.\n",
      "  TITLE     Beyond endemism, expanding conservation efforts: What can new\n",
      "            distribution records reveal?\n",
      "  JOURNAL   Perspect Plant Ecol Evol Syst 45, 125543 (2020)\n",
      "  REMARK    DOI: 10.1016/j.ppees.2020.125543\n",
      "REFERENCE   2  (bases 1 to 1541)\n",
      "  AUTHORS   Kohler,M. and Majure,L.C.\n",
      "  TITLE     Direct Submission\n",
      "  JOURNAL   Submitted (17-APR-2020) Florida Museum of Natural History, 1659\n",
      "            Museum Rd, Gainesville, FL, USA\n",
      "FEATURES             Location/Qualifiers\n",
      "     source          1..1541\n",
      "                     /organism=\"Opuntia rioplatense\"\n",
      "                     /organelle=\"plastid:chloroplast\"\n",
      "                     /mol_type=\"genomic DNA\"\n",
      "                     /specimen_voucher=\"M.Kohler 287 (ICN)\"\n",
      "                     /db_xref=\"taxon:2796510\"\n",
      "                     /country=\"Uruguay\"\n",
      "     gene            1..1541\n",
      "                     /gene=\"rpl16\"\n",
      "     CDS             join(1..9,1143..1541)\n",
      "                     /gene=\"rpl16\"\n",
      "                     /codon_start=1\n",
      "                     /transl_table=11\n",
      "                     /product=\"ribosomal protein L16\"\n",
      "                     /protein_id=\"QRF71394.1\"\n",
      "                     /translation=\"MLSPKRTRFCKQHRGRMKGISYRGNRICFGRYALQALEPAWITS\n",
      "                     RQIEAGRRAMTRNARRGGKIWVRIFPDKPVTVKSAESRMGSGKGSPRYWVVVVKPGRI\n",
      "                     LYEISGVSENIARRAISIAASKMPVRTQFIISG\"\n",
      "ORIGIN      \n",
      "        1 atgcttagtg tgtgactcgt tggtttttgt tagaattaat acgaaaaaaa agtaagagcc\n",
      "       61 catagtatga agtttgaact aataactata gaactaataa ccaactcatc gcatcacatt\n",
      "      121 atccggatcc aaagaagcag tcaagatagg atattttggt cctatcattg cagcaactga\n",
      "      181 attttttttt tcataaacaa gaaatcaaat gagttgtcaa gcaaaagaaa aaaaaaaaaa\n",
      "      241 aagaaaaata tacattaaag gagggggatg cggataaatg gaaaggcgaa agaaagaaaa\n",
      "      301 aaatgaatct aaatgatata cgattccact atgtaaggtc tttgaatcat atcataaaag\n",
      "      361 acaatgtaat aaagcatgaa tacagattca cacataatta tctgatatga atctattcat\n",
      "      421 agaaaaaaga aaaaagtaag agcctccggc caataaagac taagagggtt ggctcaagaa\n",
      "      481 caaagttcat taagggctcc attgtagaat tcagacctaa tcattaatca agaagcgatg\n",
      "      541 ggaacgatgt aatccatgaa tacagaagat tcaattgaaa aagaatccta atgattcatt\n",
      "      601 gggaaggatg gcggaacgaa ccagagacca attcatctat tctgaaaggt gataaactaa\n",
      "      661 tcctataaaa ctaaaataga tattgaaaga gtaaatattc gcccgcgaaa attccttttt\n",
      "      721 tattaaattg ctcacatttt tttttagcaa tgcaatctaa taaaatatat ctatacaaaa\n",
      "      781 aaatatagac aaactatata tatataatat ttcaaatttc cttatatatc ctaatataaa\n",
      "      841 aatatctaat aaattagatg aatatcaaag aatctattga tttagtgtat tattaaatgt\n",
      "      901 atatcttaat tcaatattat tattctattc atttttatta ttcattttta ttcattttca\n",
      "      961 aatttagaat atattaatct atatattaat ttagaattct attctaattc gaattaaatt\n",
      "     1021 tttaaatatt catattcaat taaaattgaa attttttcat tcgcgaggag ccggatgaga\n",
      "     1081 agaaactctc acgtccggtt ctgtagtaga ggtggaatta agaaaaaacc atcaactata\n",
      "     1141 accccaaaag aaccagattc tgtaaacaac atagaggaag aatgaaggga atatcttatc\n",
      "     1201 gggggaatcg tatttgtttc ggaagatatg ctcttcaggc acttgaacct gcttggatca\n",
      "     1261 cgtctagaca aatagaagca ggtcggcgag caatgacgcg aaatgcacgc cgcggtggaa\n",
      "     1321 aaatatgggt acgtatattt ccagacaaac cagttacagt aaaatctgcg gaaagccgta\n",
      "     1381 tgggttcggg gaaaggatcc ccccgatatt gggtagttgt tgtcaaaccc ggtcgaatac\n",
      "     1441 tttatgaaat aagcggagta tcagaaaata tagcccgaag ggctatctcg atagcggcat\n",
      "     1501 ctaaaatgcc tgtacgaact caattcatta tttcaggata g\n",
      "//\n",
      "\n",
      "\n"
     ]
    }
   ],
   "source": [
    "texto = identificador.read()\n",
    "print(texto)"
   ]
  },
  {
   "cell_type": "markdown",
   "metadata": {},
   "source": [
    "Nesse caso, temos apenas os registros brutos. Para obter os registros de uma forma mais amigável, podemos usar o analisador do `Bio.SeqIO` nos objetos **SeqRecord** do GenBank, incluindo os objetos **SeqFeature** (veja o Capítulo 5 para mais informações: https://github.com/GTL98/biopython_br/tree/main/Cap%205%20-%20Sequ%C3%AAncias%20Input_Output):"
   ]
  },
  {
   "cell_type": "code",
   "execution_count": 114,
   "metadata": {},
   "outputs": [],
   "source": [
    "from Bio import SeqIO\n",
    "identificador = Entrez.efetch(db='nuccore', id=lista_gis, rettype='gb', retmode='text')\n",
    "registros = SeqIO.parse(identificador, 'gb')"
   ]
  },
  {
   "cell_type": "markdown",
   "metadata": {},
   "source": [
    "Agora podemos iterar sobre os registros e olhar as infromações em que estamos interessados:"
   ]
  },
  {
   "cell_type": "code",
   "execution_count": 115,
   "metadata": {
    "scrolled": false
   },
   "outputs": [
    {
     "name": "stdout",
     "output_type": "stream",
     "text": [
      "MT359377, tamanho de 1541 com 3 características\n",
      "MT359373, tamanho de 1537 com 3 características\n",
      "MT359369, tamanho de 1537 com 3 características\n",
      "MT359365, tamanho de 1542 com 3 características\n",
      "MT359361, tamanho de 1536 com 3 características\n",
      "MT359357, tamanho de 1542 com 3 características\n",
      "MT359353, tamanho de 1540 com 3 características\n",
      "MT359349, tamanho de 1540 com 3 características\n",
      "MT359345, tamanho de 1537 com 3 características\n",
      "MT359341, tamanho de 1539 com 3 características\n",
      "MT359337, tamanho de 1540 com 3 características\n",
      "MN114084, tamanho de 150374 com 259 características\n",
      "HQ621368, tamanho de 399 com 3 características\n",
      "HM041482, tamanho de 1197 com 3 características\n",
      "HM041481, tamanho de 1200 com 3 características\n",
      "HM041480, tamanho de 1153 com 3 características\n",
      "HM041479, tamanho de 1197 com 3 características\n",
      "HM041478, tamanho de 1187 com 3 características\n",
      "HM041477, tamanho de 1197 com 3 características\n",
      "HM041476, tamanho de 1205 com 3 características\n"
     ]
    }
   ],
   "source": [
    "for registro in registros:\n",
    "    print(f'{registro.name}, tamanho de {len(registro)} com {len(registro.features)} características')"
   ]
  },
  {
   "cell_type": "markdown",
   "metadata": {},
   "source": [
    "Usar essa funcionalidade de recuperação automatizada de consulta é uma grande vantagem que temos em nossas mãos. Embora o módulo deva obedever o máximo de 3 consultas por segundo, o NCBI tem outra recomendação, como evitar os horários de pico (veja a **Seção 9.1**). Em particular, note que para simplificar, esse exemplo não faz uso do histórico de pesquisa WebEnv. Você deve usar esse recurso para qualquer pesquisa não trivial e trabalho de download.\n",
    "\n",
    "Finalmente, se o plano é repetir as suas análises, ao invés de baixar os arquivos do NCBI e analisá-los imediantamente (como vimos nos exemplos), você deve baixar os registros *apenas* uma vez e salvá-los em seu computador e analisá-los em um arquivo local."
   ]
  },
  {
   "cell_type": "markdown",
   "metadata": {},
   "source": [
    "### 9.15.4 Encontrando a linhagem de um organismo"
   ]
  },
  {
   "cell_type": "markdown",
   "metadata": {},
   "source": [
    "**pag 176**"
   ]
  }
 ],
 "metadata": {
  "kernelspec": {
   "display_name": "Python 3",
   "language": "python",
   "name": "python3"
  },
  "language_info": {
   "codemirror_mode": {
    "name": "ipython",
    "version": 3
   },
   "file_extension": ".py",
   "mimetype": "text/x-python",
   "name": "python",
   "nbconvert_exporter": "python",
   "pygments_lexer": "ipython3",
   "version": "3.8.5"
  }
 },
 "nbformat": 4,
 "nbformat_minor": 4
}
