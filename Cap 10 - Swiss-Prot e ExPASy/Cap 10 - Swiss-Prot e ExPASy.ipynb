{
 "cells": [
  {
   "cell_type": "markdown",
   "metadata": {},
   "source": [
    "# Capítulo 10 - Swiss-Prot e ExPASy"
   ]
  },
  {
   "cell_type": "markdown",
   "metadata": {},
   "source": [
    "## 10.1 Analisando arquivos Swiss-Prot"
   ]
  },
  {
   "cell_type": "markdown",
   "metadata": {},
   "source": [
    "Swiss-Prot (https://web.expasy.org/docs/swiss-prot_guideline.html) é um banco de dados com curadoria feita à mão de sequências proteicas. Biopython podem analisar o 'texto' do formato de arquivo Swiss-Prot, que continua sendo usado para o UniProt Knowledgebase cujo combina Swiss-Prot, TrEMBL e PIR-PSD.\n",
    "\n",
    "Apesar de mantermos o foco na leitura das informações seja possível para um humano, `Bio.SeqIO` pode ler tanto a forma humana como o UniProt XML para anotações de sequências proteicas."
   ]
  },
  {
   "cell_type": "markdown",
   "metadata": {},
   "source": [
    "### 10.1.1 Analisando registros Swiss-Prot"
   ]
  },
  {
   "cell_type": "markdown",
   "metadata": {},
   "source": [
    "Na **Seção 5.3.2** do Capítulo 5 (https://github.com/GTL98/biopython_br/tree/main/Cap%205%20-%20Sequ%C3%AAncias%20Input_Output), descrevemos com extrair informações de sequências de um registro Swiss-Prot como um objeto **SeqRecord**. Alternativamente, você pode armazenar o registro Swiss-Prot em um objeto `Bio.SwissProt.Record`, que guarda a informação completa contida no registro Swiss-Prot. Nessa seção, descreveremos como extrair os objetos `Bio.SwissProt.Record` de arquivos Swiss-Prot.\n",
    "\n",
    "Para analisar um registro Swiss-Prot, vamos identificar esse registro. Temos algumas maneiras de dazer isso, dependendo de onde e como esse registro está armazenado:"
   ]
  },
  {
   "cell_type": "markdown",
   "metadata": {},
   "source": [
    "- Abrir um arquivo Swiss-Prot localmente:"
   ]
  },
  {
   "cell_type": "code",
   "execution_count": null,
   "metadata": {},
   "outputs": [],
   "source": [
    "identificador = open('meu_arquivo_swissprot.dat')"
   ]
  },
  {
   "cell_type": "markdown",
   "metadata": {},
   "source": [
    "- Abrir um Swiss-Prot arquivo gzipado:"
   ]
  },
  {
   "cell_type": "code",
   "execution_count": null,
   "metadata": {},
   "outputs": [],
   "source": [
    "import gzip\n",
    "identificador = gzip.open('meu_arquivo_swissprot.dat.gz', 'rt')"
   ]
  },
  {
   "cell_type": "markdown",
   "metadata": {},
   "source": [
    "- Abrir um arquivo Swiss-Prot a partir da internet (fazer isso antes de chamar a função **read**):"
   ]
  },
  {
   "cell_type": "code",
   "execution_count": null,
   "metadata": {},
   "outputs": [],
   "source": [
    "from urllib.request import urlopen\n",
    "url = 'https://raw.githubusercontent.com/biopython/biopython/master/Tests/SwissProt/F2CXE6.txt'\n",
    "identificador - urlopen(identificador)"
   ]
  },
  {
   "cell_type": "markdown",
   "metadata": {},
   "source": [
    "- Abrir um arquivo Swiss-Prot pela internet do banco de dados ExPASy (veja a **Seção 10.5.1** para mais informações):"
   ]
  },
  {
   "cell_type": "code",
   "execution_count": null,
   "metadata": {},
   "outputs": [],
   "source": [
    "from Bio import ExPASy\n",
    "meus_numeros_acesso = ['O23729', 'O23730', 'O23731']\n",
    "identificador = ExPASy.get_sprot_raw(meus_numeros_acesso)"
   ]
  },
  {
   "cell_type": "markdown",
   "metadata": {},
   "source": [
    "O ponto chave é que para o analisador, pouco importa como o identificador foi criado, contando que aponte para dados no formato Swiss-Prot. O analisador automaticamente decodificará os dados como ASCII (a codificação usada pelo Swiss-Prot) se o identificador for aberto em modo binário.\n",
    "\n",
    "Podemos usar `Bio.SeqIO` como descrito na **Seção 5.3.2** para obter objetos **SeqRecord** de formatos de arquivos agnósticos. Alternativamente, podemos usar `Bio.SwissProt` para obter os objetos `Bio.SwissProt.Record`, que são mais próximos para o formato de arquivo subjacente.\n",
    "\n",
    "Para ler um registro Swiss-Prot de um identificador, use a função **read()**:"
   ]
  },
  {
   "cell_type": "code",
   "execution_count": null,
   "metadata": {},
   "outputs": [],
   "source": [
    "from Bio import SwissProt\n",
    "registro = SwissProt.read(identificador)"
   ]
  },
  {
   "cell_type": "markdown",
   "metadata": {},
   "source": [
    "Essa função deve ser usada se o identificador possuir somente **UM** registro Swiss-Prot. Será retornado o erro **ValueError** se nenhum registro for encontrado, e também se mais de um registro for encontrado.\n",
    "\n",
    "Agora podemos mostrar alguma informação sobre o registro:"
   ]
  },
  {
   "cell_type": "code",
   "execution_count": null,
   "metadata": {},
   "outputs": [],
   "source": [
    "print(registro.description)"
   ]
  },
  {
   "cell_type": "code",
   "execution_count": null,
   "metadata": {},
   "outputs": [],
   "source": [
    "for ref in registro.references:\n",
    "    print(f'Autores: {ref.autores}')\n",
    "    print(f'Título: {ref.title}')\n",
    "    print(registro.organism_classification)\n",
    "    print('\\n')"
   ]
  },
  {
   "cell_type": "markdown",
   "metadata": {},
   "source": [
    "Para analisar um arquivo que contém mais de um registro, usamos a função **parse**. Essa função nos permite iterar sobre os registros do arquivo.\n",
    "\n",
    "Por exemplo, para analisar o banco de dados completo de Swiss-Prot e coletar todas as suas descrições, você pode baixar em um arquivo gzipado (cerca de 600 MB) onde contém um único arquivo de mais ou menos 3 GB de tamanho (http://ftp.expasy.org/databases/uniprot/current_release/knowledgebase/complete/uniprot_sprot.dat.gz).\n",
    "\n",
    "Como mostrado no começo do capítulo, você pode usar a biblioteca `gzip` para abrir e descompactar o arquivo:"
   ]
  },
  {
   "cell_type": "code",
   "execution_count": null,
   "metadata": {},
   "outputs": [],
   "source": [
    "import gzip\n",
    "identificador = gzip.open('uniprot_sprot.dat.gz', 'rt')"
   ]
  },
  {
   "cell_type": "markdown",
   "metadata": {},
   "source": [
    "Todavia, descompactar um arquivo grande leva muito tempo e cada vez que você precisar acessar o arquivo terá de descompavtá-lo. Portanto, se tiver espaço no disco e quiser otimizar suas tarefas, descompacte o arquivo gzipado uma única vez e use o arquivo bruto. Para acessá-lo, basta lê-lo como sempre:"
   ]
  },
  {
   "cell_type": "code",
   "execution_count": null,
   "metadata": {},
   "outputs": [],
   "source": [
    "identificador = open('uniprot_sprot.dat')"
   ]
  },
  {
   "cell_type": "markdown",
   "metadata": {},
   "source": [
    "Até Junho de 2009, o banco de dados completo de Swiss-Prot baixado do ExPASy contém 468851 registros. Uma forma concisa de criar uma lista com as descrições dos registros é com uma *list comprehension*:"
   ]
  },
  {
   "cell_type": "code",
   "execution_count": null,
   "metadata": {},
   "outputs": [],
   "source": [
    "from Bio import SwissProt\n",
    "identificador = open('uniprot_sprot.dat')\n",
    "descricoes = [registro.description for registro in SwissProt.parse(identificador)]\n",
    "len(descricoes)"
   ]
  },
  {
   "cell_type": "code",
   "execution_count": null,
   "metadata": {},
   "outputs": [],
   "source": [
    "descricoes[:5]"
   ]
  },
  {
   "cell_type": "markdown",
   "metadata": {},
   "source": [
    "Ou pode ser usado um loop para iterar os registros:"
   ]
  },
  {
   "cell_type": "code",
   "execution_count": null,
   "metadata": {},
   "outputs": [],
   "source": [
    "from Bio import SwissProt\n",
    "descricoes = []\n",
    "identificador = open('uniprot_sprot.dat')\n",
    "for registro in SwissProt.parse(identificador):\n",
    "    descricoes.append(registro.description)\n",
    "len(descricoes)"
   ]
  },
  {
   "cell_type": "markdown",
   "metadata": {},
   "source": [
    "Devido ao tamanho do arquivo ser muito grande, qualquer uma das duas maneiras leva mais de 10 minutos para ficar pronto, por esse motivo os códigos estão aqui somente como exemplo."
   ]
  },
  {
   "cell_type": "markdown",
   "metadata": {},
   "source": [
    "### 10.1.2 Analisando as palavras-chaves Swiss-Prot e a lista de categorias"
   ]
  },
  {
   "attachments": {
    "exemplo_palavras_chaves_swiss_prot.png": {
     "image/png": "[encoded data removed]"
    }
   },
   "cell_type": "markdown",
   "metadata": {},
   "source": [
    "Swiss-Prot também distribui um arquivo chamado **keywords.txt** que contém uma lista de palavras-chaves e categorias usadas em Swiss-Prot. O arquivo possui as entradas na seguinte forma:\n",
    "\n",
    "![exemplo_palavras_chaves_swiss_prot.png](attachment:exemplo_palavras_chaves_swiss_prot.png) **...**"
   ]
  },
  {
   "attachments": {
    "siglas_swiss_prot.png": {
     "image/png": "[encoded data removed]"
    }
   },
   "cell_type": "markdown",
   "metadata": {},
   "source": [
    "Onde cada sigla tem um significado:\n",
    "\n",
    "![siglas_swiss_prot.png](attachment:siglas_swiss_prot.png)\n",
    "\n",
    "As entradas nesse arquivo podem ser analisadas pela função **parse** do módulo `Bio.SwissProt.KeyWList`. Cada entrada está armazenada como um `Bio.SwissProt.KeyWList.Record`, que é um dicionário Python. O arquivo usado como exemplo está no mesmo repositório que este arquivo:"
   ]
  },
  {
   "cell_type": "code",
   "execution_count": 1,
   "metadata": {},
   "outputs": [
    {
     "name": "stdout",
     "output_type": "stream",
     "text": [
      "2Fe-2S.\n",
      "Protein which contains at least one 2Fe-2S iron-sulfur cluster: 2 iron atoms complexed to 2 inorganic sulfides and 4 sulfur atoms of cysteines from the protein.\n",
      "\n",
      "\n",
      "3D-structure.\n",
      "Protein, or part of a protein, whose three-dimensional structure has been resolved experimentally (for example by X-ray crystallography or NMR spectroscopy) and whose coordinates are available in the PDB database. Can also be used for theoretical models.\n",
      "\n",
      "\n",
      "3Fe-4S.\n",
      "Protein which contains at least one 3Fe-4S iron-sulfur cluster: 3 iron atoms complexed to 4 inorganic sulfides and 3 sulfur atoms of cysteines from the protein. In a number of iron-sulfur proteins, the 4Fe-4S cluster can be reversibly converted by oxidation and loss of one iron ion to a 3Fe-4S cluster.\n",
      "\n",
      "\n"
     ]
    }
   ],
   "source": [
    "from Bio.SwissProt import KeyWList\n",
    "identificador = open('keywlist.txt')\n",
    "registros = KeyWList.parse(identificador)\n",
    "for registro in registros:\n",
    "    print(registro['ID'])\n",
    "    print(registro['DE'])\n",
    "    print('\\n')"
   ]
  },
  {
   "cell_type": "markdown",
   "metadata": {},
   "source": [
    "## 10.2 Analisando registros Prosite"
   ]
  },
  {
   "cell_type": "markdown",
   "metadata": {},
   "source": [
    "Prosite é um banco de dados que contém domínios proteicos, famílias de proteínas, sítos funcionais bem como os padrões e perfis para reconhecê-los. Prosite foi desenvolvido em paralelo com o Swiss-Prot. No Biopython, um registro Prosite é representado pela classe `Bio.ExPASy.Prosite.Record`, cujos membros correspondem aos diferentes campos em um registro Prosite.\n",
    "\n",
    "De modo geral, um arquivo Prosite pode conter mais de um registro Prosite. Por exemplo, todos os registros do Prosite contêm XXXXX registros, que podem ser baixados em um único arquivo pelo site: https://ftp.expasy.org/databases/prosite/prosite.dat.\n",
    "\n",
    "Agora podemos pegar os registros um por um e mostrar algumas de suas informações. Por exemplo, usando o arquivo contendo o banco de dados Prosite completo, encontramos:"
   ]
  },
  {
   "cell_type": "code",
   "execution_count": null,
   "metadata": {},
   "outputs": [],
   "source": [
    "from Bio.ExPASy import Prosite\n",
    "identificador = open('prosite.dat')\n",
    "registros = Prosite.parse(identificador)\n",
    "registro = next(registros)"
   ]
  },
  {
   "cell_type": "code",
   "execution_count": null,
   "metadata": {},
   "outputs": [],
   "source": [
    "registro.accession"
   ]
  },
  {
   "cell_type": "code",
   "execution_count": null,
   "metadata": {},
   "outputs": [],
   "source": [
    "registro.name"
   ]
  },
  {
   "cell_type": "code",
   "execution_count": null,
   "metadata": {},
   "outputs": [],
   "source": [
    "registro.pdoc"
   ]
  },
  {
   "cell_type": "code",
   "execution_count": null,
   "metadata": {},
   "outputs": [],
   "source": [
    "registro = next(registros)"
   ]
  },
  {
   "cell_type": "code",
   "execution_count": null,
   "metadata": {},
   "outputs": [],
   "source": [
    "registro.accession"
   ]
  },
  {
   "cell_type": "code",
   "execution_count": null,
   "metadata": {},
   "outputs": [],
   "source": [
    "registro.name"
   ]
  },
  {
   "cell_type": "code",
   "execution_count": null,
   "metadata": {},
   "outputs": [],
   "source": [
    "registro.pdoc"
   ]
  },
  {
   "cell_type": "code",
   "execution_count": null,
   "metadata": {},
   "outputs": [],
   "source": [
    "registro = next(registros)"
   ]
  },
  {
   "cell_type": "code",
   "execution_count": null,
   "metadata": {},
   "outputs": [],
   "source": [
    "registro.accession"
   ]
  },
  {
   "cell_type": "code",
   "execution_count": null,
   "metadata": {},
   "outputs": [],
   "source": [
    "registro.name"
   ]
  },
  {
   "cell_type": "code",
   "execution_count": null,
   "metadata": {},
   "outputs": [],
   "source": [
    "registro.pdoc"
   ]
  },
  {
   "cell_type": "markdown",
   "metadata": {},
   "source": [
    "E assim por diante. Se você estiver interessado em quantos registros há no documento, você pode fazer o seguinte:"
   ]
  },
  {
   "cell_type": "code",
   "execution_count": null,
   "metadata": {},
   "outputs": [],
   "source": [
    "from Bio.ExPASy import Prosite\n",
    "identificador = open('prosite.dat')\n",
    "registros = Prosite.parse(identificador)\n",
    "n = 0\n",
    "for registro in registros:\n",
    "    n += 1"
   ]
  },
  {
   "cell_type": "markdown",
   "metadata": {},
   "source": [
    "Também há a função **read** que funciona para somente um registro no arquivo, se não existir um registro ou ter mais de um; é retornado o erro **ValueError**."
   ]
  },
  {
   "cell_type": "markdown",
   "metadata": {},
   "source": [
    "## 10.3 Analisando os registros da documentação Prosite"
   ]
  },
  {
   "cell_type": "markdown",
   "metadata": {},
   "source": [
    "No exemplo Prosite acima, a variável **registro.pdoc** possui os números de acesso 'PDOC00001', 'PDOC00004', 'PDOC00005' e assim por diante para referenciar a documentação Prosite. Os registros dessas documentações estão disponíveis no ExPASy como arquivos individuais e também como um arquivo contendo todos os registros de documentação Prosite (https://ftp.expasy.org/databases/prosite/prosite.doc).\n",
    "\n",
    "Podemos usar o analisador presente em `Bio.ExPASy.Prodoc` para analisar os registros da documentação Prosite. Por exemplo, para criar uma lista de todos os números de acesso, você pode usar:"
   ]
  },
  {
   "cell_type": "code",
   "execution_count": null,
   "metadata": {},
   "outputs": [],
   "source": [
    "from Bio.ExPASy import Prodoc\n",
    "identificador = open('prosite.doc')\n",
    "registros = Prodoc.parse(identificador)\n",
    "acessos = [registro.accession for registro in registros]\n",
    "print(acessos[:10])"
   ]
  },
  {
   "cell_type": "markdown",
   "metadata": {},
   "source": [
    "Novamente, a função **read()** pode ser usada desde que haja somente um registro na documentação Prosite."
   ]
  },
  {
   "cell_type": "markdown",
   "metadata": {},
   "source": [
    "## 10.4 Analisando registros de enzimas"
   ]
  },
  {
   "attachments": {
    "exemplo_arquivo_enzima.png": {
     "image/png": "[encoded data removed]"
    }
   },
   "cell_type": "markdown",
   "metadata": {},
   "source": [
    "O banco de dados de enzimas do ExPASy é um repositório de informação de nomenclatura enzimática. Um típico registro enzimatico se parece com isso:\n",
    "\n",
    "![exemplo_arquivo_enzima.png](attachment:exemplo_arquivo_enzima.png)\n",
    "\n",
    "Nesse exemplo, a primeira linha mostra o número EC (*Enzyme Commission*) da lipoproteína lipase (segunda linha). Os nomes alternativos estão nas linha indicadas com AN (*Alternative Names*), \"clearing factor lipase\", \"diacyglycerol lipase\" e diglyceride lipase\" (linhas 3 a 5). A linha que começa com CA mostra a atividade catalítica (*catalytic activity*) dessa enzima. As linhas de comentário começam com CC. A linha PR mostra as referências dos registros na documentação Prosite e as linha DR, nos registros Swiss-Prot. Nenhuma dessas entradas está necessariamente presente em um registro enzimático.\n",
    "\n",
    "No Biopython, um registro enzimático é respresentado pela classe `Bio.ExPASy.Enzyme.Record`. Esse registro deriva de um dicionário Python e possui chaves correspondentes aos códigos usados nos arquivos de enzimas. Para ler o arquivo que possui somente um registro, usaremos a função **read** do módulo `Bio.ExPASy.Enzyme`. O arquivo em questão está no mesmo repositório que este documento:"
   ]
  },
  {
   "cell_type": "code",
   "execution_count": 2,
   "metadata": {},
   "outputs": [],
   "source": [
    "from Bio.ExPASy import Enzyme\n",
    "with open('lipoprotein.txt') as identificador:\n",
    "    registro = Enzyme.read(identificador)"
   ]
  },
  {
   "cell_type": "code",
   "execution_count": 3,
   "metadata": {},
   "outputs": [
    {
     "data": {
      "text/plain": [
       "'3.1.1.34'"
      ]
     },
     "execution_count": 3,
     "metadata": {},
     "output_type": "execute_result"
    }
   ],
   "source": [
    "registro['ID']"
   ]
  },
  {
   "cell_type": "code",
   "execution_count": 4,
   "metadata": {},
   "outputs": [
    {
     "data": {
      "text/plain": [
       "'Lipoprotein lipase.'"
      ]
     },
     "execution_count": 4,
     "metadata": {},
     "output_type": "execute_result"
    }
   ],
   "source": [
    "registro['DE']"
   ]
  },
  {
   "cell_type": "code",
   "execution_count": 5,
   "metadata": {},
   "outputs": [
    {
     "data": {
      "text/plain": [
       "['Clearing factor lipase.', 'Diacylglycerol lipase.', 'Diglyceride lipase.']"
      ]
     },
     "execution_count": 5,
     "metadata": {},
     "output_type": "execute_result"
    }
   ],
   "source": [
    "registro['AN']"
   ]
  },
  {
   "cell_type": "code",
   "execution_count": 6,
   "metadata": {},
   "outputs": [
    {
     "data": {
      "text/plain": [
       "'Triacylglycerol + H(2)O = diacylglycerol + a carboxylate.'"
      ]
     },
     "execution_count": 6,
     "metadata": {},
     "output_type": "execute_result"
    }
   ],
   "source": [
    "registro['CA']"
   ]
  },
  {
   "cell_type": "code",
   "execution_count": 7,
   "metadata": {},
   "outputs": [
    {
     "data": {
      "text/plain": [
       "['PDOC00110']"
      ]
     },
     "execution_count": 7,
     "metadata": {},
     "output_type": "execute_result"
    }
   ],
   "source": [
    "registro['PR']"
   ]
  },
  {
   "cell_type": "code",
   "execution_count": 8,
   "metadata": {},
   "outputs": [
    {
     "data": {
      "text/plain": [
       "['Hydrolyzes triacylglycerols in chylomicrons and very low-density lipoproteins (VLDL).',\n",
       " 'Also hydrolyzes diacylglycerol.']"
      ]
     },
     "execution_count": 8,
     "metadata": {},
     "output_type": "execute_result"
    }
   ],
   "source": [
    "registro['CC']"
   ]
  },
  {
   "cell_type": "code",
   "execution_count": 9,
   "metadata": {},
   "outputs": [
    {
     "data": {
      "text/plain": [
       "[['P11151', 'LIPL_BOVIN'],\n",
       " ['P11153', 'LIPL_CAVPO'],\n",
       " ['P11602', 'LIPL_CHICK'],\n",
       " ['P55031', 'LIPL_FELCA'],\n",
       " ['P06858', 'LIPL_HUMAN'],\n",
       " ['P11152', 'LIPL_MOUSE'],\n",
       " ['O46647', 'LIPL_MUSVI'],\n",
       " ['P49060', 'LIPL_PAPAN'],\n",
       " ['P49923', 'LIPL_PIG'],\n",
       " ['Q06000', 'LIPL_RAT'],\n",
       " ['Q29524', 'LIPL_SHEEP']]"
      ]
     },
     "execution_count": 9,
     "metadata": {},
     "output_type": "execute_result"
    }
   ],
   "source": [
    "registro['DR']"
   ]
  },
  {
   "cell_type": "markdown",
   "metadata": {},
   "source": [
    "O conjunto completo de registros enzimáticos pode ser baixado em um único arquivo pelo site https://ftp.expasy.org/databases/enzyme/enzyme.dat. Para analisar esses vários registros, use a função **parse** de `Bio.ExPASy.Enzyme`:"
   ]
  },
  {
   "cell_type": "code",
   "execution_count": null,
   "metadata": {},
   "outputs": [],
   "source": [
    "from Bio.ExPASy import Enzyme\n",
    "identificador = open('enzyme.dat')\n",
    "registros = Enzyme.parse(identificador)"
   ]
  },
  {
   "cell_type": "markdown",
   "metadata": {},
   "source": [
    "Agora podemos iterar sobre os registros de uma única vez. Por exemplo, podemos criar uma lista com todos os números EC para cada registro enzimático disponível:"
   ]
  },
  {
   "cell_type": "code",
   "execution_count": null,
   "metadata": {},
   "outputs": [],
   "source": [
    "numeros_ec = [registro['ID'] for registro in registro]\n",
    "print(numeros_ec[:10])"
   ]
  },
  {
   "cell_type": "markdown",
   "metadata": {},
   "source": [
    "## 10.5 Acessando o servidor ExPASy"
   ]
  },
  {
   "cell_type": "markdown",
   "metadata": {},
   "source": [
    "Os registros de Swiss-Prot, Prosite e documentação Prosite podem ser baixados do servidor ExPASy no site https://www.expasy.org/. Quatro opções de consultas estão disponíveis pelo ExPASy:\n",
    "\n",
    "- **get_prodoc_entry**: Para baixar um registro da documentação Prosite em formato HTML;\n",
    "\n",
    "- **get_prosite_entry**: Para baixar um registro Prosite em formato HTML;\n",
    "\n",
    "- **get_prosite_raw**: Para baixar um registro Prosite ou documentação Prosite no formato bruto e;\n",
    "\n",
    "- **get_sprot_raw**: Para baixar um registro Swiss-Prot no formato bruto."
   ]
  },
  {
   "cell_type": "markdown",
   "metadata": {},
   "source": [
    "### 10.5.1 Recuperando um registro Swiss-Prot"
   ]
  },
  {
   "cell_type": "markdown",
   "metadata": {},
   "source": [
    "Vamos dar uma olhada nas chalcona sintases das Orquídeas. Chalcona sintase está envolvida na biosíntese dos flavonóides em plantas e esses flavonóides fazem coisas muito legais nas plantas, como a pigmentação e proteção dos raios ultravioleta.\n",
    "\n",
    "Se você pesquisar no Swiss-Prot, você pode encontrar três proteínas para Chalcona Sintase, com os números de identificação O23729, O23730, O23731. Agora, vamos escrever um código que pega esses códigos e analisa algumas infomações interessantes.\n",
    "\n",
    "Primeiro, vamos pegar os registros usando a função **get_sprot_raw()** do módulo `Bio.ExPasy`. Essa função é muito boa, pois você pode alimentá-la com um ID e obter um identificador para o texto bruto. Podemos usar então a função **read** para mostrar o registro Swiss-Prot ou obter um objeto **SeqRecord**. O código abaixo mostra o que foi explicado:"
   ]
  },
  {
   "cell_type": "code",
   "execution_count": null,
   "metadata": {},
   "outputs": [],
   "source": [
    "from Bio import ExPASy\n",
    "from Bio import SwissProt\n",
    "acessos = ['O23729', 'O23730', 'O23731']\n",
    "registros = []\n",
    "for acesso in acessos:\n",
    "    identificador = ExPASy.get_sprot_raw(acesso)\n",
    "    registro = SwissProt.read(identificador)\n",
    "    registros.append(registro)"
   ]
  },
  {
   "cell_type": "markdown",
   "metadata": {},
   "source": [
    "Se o número de acesso que você forneceu à função **get_sprot_raw()** não existir, é retornado o erro **ValueError**. Você pode detectar esse erro usando o tratamento de exceções para detectar esses números de acessos inválidos:"
   ]
  },
  {
   "cell_type": "code",
   "execution_count": null,
   "metadata": {},
   "outputs": [],
   "source": [
    "from Bio import ExPASy\n",
    "from Bio import SwissProt\n",
    "acessos = ['O23729', 'O23730', 'O23731']\n",
    "registros = []\n",
    "for acesso in acessos:\n",
    "    identificador = ExPASy.get_sprot_raw(acesso)\n",
    "    try:\n",
    "        registro = SwissProt.read(identificador)\n",
    "    except ValueError:\n",
    "        print(f'AVISO: O número de acesso {acesso} não foi encontrado.')\n",
    "    registros.append(registro)"
   ]
  },
  {
   "cell_type": "markdown",
   "metadata": {},
   "source": [
    "### 10.5.2 Pesquisando Swiss-Prot"
   ]
  },
  {
   "cell_type": "markdown",
   "metadata": {},
   "source": [
    "Você pode estar se perguntando: \"Mas como que eu vou saber quais são os números de acesso que preciso?\". Quando você não possui esses números, você tem que visitar o site https://www.uniprot.org/ e pesquisar as proteínas manualmente, já que o Biopython não possui uma função para pesquisar esses números para você. Aqui é uma grande possibilidade de você contribuir com o Biopython!"
   ]
  },
  {
   "cell_type": "markdown",
   "metadata": {},
   "source": [
    "### 10.5.3 Recuperando registros de Prosite e documentação Prosite"
   ]
  },
  {
   "cell_type": "markdown",
   "metadata": {},
   "source": [
    "Os registros Prosite e documentação Prosite podem ser recuperadas como HTML o em seu formato bruto. Para analisar esses registros com o Biopython, você deve recperar os regstros no formato bruto. Para outros propósitos, entretanto, você deve se interessar nesses registros no formato HTML.\n",
    "\n",
    "Para recuperar os registros Prosite e documentação Prosite no formato bruto, use a função **get_prosite_raw()**. Por exemplo, para baixar o registro Prosite e mostrá-lo no formato bruto, use:"
   ]
  },
  {
   "cell_type": "code",
   "execution_count": null,
   "metadata": {},
   "outputs": [],
   "source": [
    "from Bio import ExPASy\n",
    "identificador = ExPASy.get_prosite_raw('PS00001')\n",
    "texto = identificador.read()\n",
    "print(texto)"
   ]
  },
  {
   "cell_type": "markdown",
   "metadata": {},
   "source": [
    "Para recuperar um registro Prosite e analisá-lo em um objeto `Bio.ExPASy.Prosite`, use:"
   ]
  },
  {
   "cell_type": "code",
   "execution_count": null,
   "metadata": {},
   "outputs": [],
   "source": [
    "from Bio import ExPASy\n",
    "from Bio.ExPASy import Prosite\n",
    "identificador = ExPASy.get_prosite_raw('PS00001')\n",
    "registro = Prosite.read(identificador)\n",
    "print(registro)"
   ]
  },
  {
   "cell_type": "markdown",
   "metadata": {},
   "source": [
    "A mesma função pode ser usada para recuperar um registro de documentação Prosite e analisá-lo em um objeto `Bio.ExPASy.Prodoc`, use:"
   ]
  },
  {
   "cell_type": "code",
   "execution_count": null,
   "metadata": {},
   "outputs": [],
   "source": [
    "from Bio import ExPASy\n",
    "from Bio.ExPASy import Prodoc\n",
    "identificador = ExPASy.get_prosite_raw('PS00001')\n",
    "registro = Prodoc.read(identificador)\n",
    "print(registro)"
   ]
  },
  {
   "cell_type": "markdown",
   "metadata": {},
   "source": [
    "Para números de acesso inexistentes, a função **get_prosite_raw()** retorna uma string vazia. Quando lidamos com uma string vazia, `Prosite.read` e `Prodoc.read` retornarão o erro **ValueError**. Para evitar isso, podemos fazer um tratamento de erros semelhante ao visto na **Seção 10.5.1**.\n",
    "\n",
    "As funções **get_prosite_entry()** e **get_prodoc_entry()** são usadas para baixar registros Prosite e documentação Prosite no formato HTML. Para criar uma página na web mostrando um registro Prosite, use:"
   ]
  },
  {
   "cell_type": "code",
   "execution_count": null,
   "metadata": {},
   "outputs": [],
   "source": [
    "from Bio import ExPASy\n",
    "identificador = ExPASy.get_prosite_entry('PS00001')\n",
    "html = identificador.read()\n",
    "with open('meu_registro_prosite.html', 'w') as saida:\n",
    "    saida.write(html)"
   ]
  },
  {
   "cell_type": "markdown",
   "metadata": {},
   "source": [
    "E pode ser feita a mesma coisa para o registro de documentação Prosite:"
   ]
  },
  {
   "cell_type": "code",
   "execution_count": null,
   "metadata": {},
   "outputs": [],
   "source": [
    "from Bio import ExPASy\n",
    "identificador = ExPASy.get_prodoc_entry('PS00001')\n",
    "html = identificador.read()\n",
    "with open('meu_registro_prodoc.html', 'w') as saida:\n",
    "    saida.write(html)"
   ]
  },
  {
   "cell_type": "markdown",
   "metadata": {},
   "source": [
    "Para essas funções, um número de acesso inválido retorna uma mensagem de erro no formato HTML."
   ]
  },
  {
   "cell_type": "markdown",
   "metadata": {},
   "source": [
    "## 10.6 Escaneando o banco de dados Prosite"
   ]
  },
  {
   "cell_type": "markdown",
   "metadata": {},
   "source": [
    "A ferramenta *ScanProsite* (https://prosite.expasy.org/prosite.html) permite que você escaneie sequências de proteínas online contra o banco de dados Prosite, fornecendo um identificador de sequência UniProt, ou PDB ou até mesmo a sequência em si. Para mais informações, veja a documentação online (https://prosite.expasy.org/prosite_doc.html), bem como a documentação para acessar o *ScanProsite* via programação (https://prosite.expasy.org/scanprosite/scanprosite_doc.html).\n",
    "\n",
    "Você pode usar o módulo `Bio.ExPASy.ScanProsite` para escanear o banco de dados Prosite pelo Python. Esse módulo ajuda você a acessar o *ScanProsite* via programação e analisa os resultados retornados por essa ferramenta. Para fazer uma verredura de padrões Prosite na seguinte sequência de proteínas, use:"
   ]
  },
  {
   "cell_type": "code",
   "execution_count": null,
   "metadata": {},
   "outputs": [],
   "source": [
    "from Bio.ExPASy import ScanProsite\n",
    "sequencia = 'MEHKEVVLLLLLFLKSGQGEPLDDYVNTQGASLFSVTKKQLGAGSIEECAAKCEEDEEFTCRAFQYHSKEQQCVIMAENRKSSIIIRMRDVVLFEKKVYLSECKTGNGKNYRGTMSKTKN'\n",
    "identificador = ScanProsite.scan(seq=sequencia)"
   ]
  },
  {
   "cell_type": "markdown",
   "metadata": {},
   "source": [
    "Executando o **identificador.read()**, você obtem a busca dos resultados em um XML bruto. Ao invés disso, vamos usar o `Bio.ExPASy.ScanProsite.read` para analisar o XML bruto em um objeto Python:"
   ]
  },
  {
   "cell_type": "code",
   "execution_count": null,
   "metadata": {},
   "outputs": [],
   "source": [
    "resultado = ScanProsite.read(identificador)\n",
    "type(resultado)"
   ]
  },
  {
   "cell_type": "markdown",
   "metadata": {},
   "source": [
    "Um objeto `Bio.ExPASy.ScanProsite.Record` é derivado de uma lista, onde cada elemento é uma lista que armazena um hit ScanProsite. Esse objeto também guarda o número de hits, bem xomo o número de pesquisa das sequências, como retornado pelo *ScanProsite*. Essa pesquisa de exemplo resulta em  hits:"
   ]
  },
  {
   "cell_type": "code",
   "execution_count": null,
   "metadata": {},
   "outputs": [],
   "source": [
    "resultado.n_seq"
   ]
  },
  {
   "cell_type": "code",
   "execution_count": null,
   "metadata": {},
   "outputs": [],
   "source": [
    "resultado.n_match"
   ]
  },
  {
   "cell_type": "code",
   "execution_count": null,
   "metadata": {},
   "outputs": [],
   "source": [
    "len(resultado)"
   ]
  },
  {
   "cell_type": "code",
   "execution_count": null,
   "metadata": {},
   "outputs": [],
   "source": [
    "resultado[0]"
   ]
  },
  {
   "cell_type": "code",
   "execution_count": null,
   "metadata": {},
   "outputs": [],
   "source": [
    "resultado[1]"
   ]
  },
  {
   "cell_type": "code",
   "execution_count": null,
   "metadata": {},
   "outputs": [],
   "source": [
    "resultado[2]"
   ]
  },
  {
   "cell_type": "code",
   "execution_count": null,
   "metadata": {},
   "outputs": [],
   "source": [
    "resultado[3]"
   ]
  },
  {
   "cell_type": "code",
   "execution_count": null,
   "metadata": {},
   "outputs": [],
   "source": [
    "resultado[4]"
   ]
  },
  {
   "cell_type": "code",
   "execution_count": null,
   "metadata": {},
   "outputs": [],
   "source": [
    "resultado[5]"
   ]
  },
  {
   "cell_type": "markdown",
   "metadata": {},
   "source": [
    "Outros parâmetros do *ScanProsite* podem ser passados como argumentos de palvras-chaves. Como um exemplo, passe o argumento **lowscore=1** para incluir matches com baixa pontuação, com isso temos mais um hit como resultado:"
   ]
  },
  {
   "cell_type": "code",
   "execution_count": null,
   "metadata": {},
   "outputs": [],
   "source": [
    "identificador = ScanProsite.scan(seq=sequencia, lowscore=1)\n",
    "resultado = ScanProsite.read(identificador)\n",
    "resultado.n_match"
   ]
  },
  {
   "cell_type": "markdown",
   "metadata": {},
   "source": [
    "Só isso, mais nada!"
   ]
  }
 ],
 "metadata": {
  "kernelspec": {
   "display_name": "Python 3",
   "language": "python",
   "name": "python3"
  },
  "language_info": {
   "codemirror_mode": {
    "name": "ipython",
    "version": 3
   },
   "file_extension": ".py",
   "mimetype": "text/x-python",
   "name": "python",
   "nbconvert_exporter": "python",
   "pygments_lexer": "ipython3",
   "version": "3.8.5"
  }
 },
 "nbformat": 4,
 "nbformat_minor": 4
}
