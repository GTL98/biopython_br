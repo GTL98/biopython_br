{
 "cells": [
  {
   "cell_type": "markdown",
   "metadata": {},
   "source": [
    "# Capítulo 6 - Objetos de alinhamento de sequência múltipla"
   ]
  },
  {
   "cell_type": "markdown",
   "metadata": {},
   "source": [
    "Nesse capítulo falaremos sobre Alinhamentos de Sequências Múltiplas, o que significa uma coleção de sequências múltiplas que foram alinhadas juntas (normalmente com a inserção de caracteres de gap e adição de lacunas à esquerda ou à direita) de modo que todas as strings de sequência possua o mesmo tamanho. Esse alinhamento pode ser considerado uma matriz de letras, onde cada linha pertence a um objeto **SeqRecord**.\n",
    "\n",
    "Vamos aprender a usar o objeto **MultipleSeqAlignment** que contém este tipo de dado e o módulo `Bio.AlignIO` para leitura e escrita dos vários tipos de formato de arquivo (o `Bio.AlignIO` segue o mesmo design do `Bio.SeqIO`). Observe que tanto o `Bio.SeqIO` como o `Bio.AlignIO` podem ler e escrever arquivos de alinhamento de sequências. A escolha apropriada dependerá do que você quer fazer com os dados.\n",
    "\n",
    "A parte final deste capítulo é sobre como usar a linha de comando para os alinhamentos de sequências múltiplas com as ferramentas ClustalW e MUSCLE."
   ]
  },
  {
   "cell_type": "markdown",
   "metadata": {},
   "source": [
    "## 6.1 Análise ou leitura de alinhamentos de sequência"
   ]
  },
  {
   "cell_type": "markdown",
   "metadata": {},
   "source": [
    "Assim como o `Bio.SeqIO`, o `Bio.AlignIO` possui duas funções de análise, a **read** e **parse** que funcionam da mesma maneira que o módulo do capítulo anterior (https://github.com/GTL98/biopython_br/tree/main/Cap%205%20-%20Sequ%C3%AAncias%20Input_Output).\n",
    "\n",
    "Usando o `Bio.AlignIO.parse()` será retornado um iterador com objetos **MultipleSeqAlignment**. Iteradores são normalmente usados em loops. Alguns exemplos onde você terá diferentes alinhamentos múltiplos incluem reamostragem de alinhamentos vindo de arquivos PHYLIP da ferramenta seeqboot, ou múltiplos alinhamentos de pares de arquivos EMBOSS das ferramentas water ou  needle, ou ferramentas FASTA de Bill Pearson.\n",
    "\n",
    "Entretanto, em diversas situações você trabalhará com arquivos que contêm somente um alinhamento. Nesses casos, você deverá usar a função **read** para retornar somente um objetos **MultipleSeqAlignment**.\n",
    "\n",
    "Ambas as funções (**read** e **parse**) necessitam de dois argumentos mandatórios:\n",
    "\n",
    "- O primeiro argumento é o *identificador* do arquivo que deverá ser lido, geralmente um arquivo já aberto ou o próprio nome do arquivo e;\n",
    "\n",
    "- O segundo argumento é uma string em minúsculo com o formato de arquivo. Como em `Bio.SeqIO`, não devemos adivinhar o formato de arquivo; veja https://biopython.org/wiki/AlignIO para saber quais são os formatos de arquivos suportados.\n",
    "\n",
    "Há também um terceiro argumento chamado de **seq_count** que será visto na **Seção 6.1.3** quando formos lidar com formatos de arquivos ambíguos que contém mais de um ainhamento. Fora essa situação, ele é um argumento opcional."
   ]
  },
  {
   "cell_type": "markdown",
   "metadata": {},
   "source": [
    "### 6.1.1 Alinhamentos simples"
   ]
  },
  {
   "cell_type": "markdown",
   "metadata": {},
   "source": [
    "Como exemplo, considere a anotação a seguir de alinhamento de proteína em arquivos PFAM ou Stockholm. Para baixar o arquivo, entre no site https://pfam.xfam.org/ e pesquise o número de idetificação (PF05356), depois de aberta a página com as características vá na aba *Alignments*. Na tabela *Format an alignment*, selecione *Stockholm* no campo *Format*; no campo *Gaps* selecione a opção *Gaps as \"-\" (dashes)* e deixe marcado a opção *Download*. Com tudo isso pronto, clique no botão *Generate*. Com o arquivo já no diretório de onde será rodado o código, troque a extensão **.txt** para **.sth**.\n",
    "\n",
    "Para os exemplos que faremos aqui usaremos o arquivo usado no livro original do Biopython, mas o caminho mostrado acima serve para baixar qualquer sequência que você queira:"
   ]
  },
  {
   "cell_type": "code",
   "execution_count": 1,
   "metadata": {
    "scrolled": true
   },
   "outputs": [
    {
     "name": "stdout",
     "output_type": "stream",
     "text": [
      "Alignment with 7 rows and 52 columns\n",
      "AEPNAATNYATEAMDSLKTQAIDLISQTWPVVTTVVVAGLVIRL...SKA COATB_BPIKE/30-81\n",
      "AEPNAATNYATEAMDSLKTQAIDLISQTWPVVTTVVVAGLVIKL...SRA Q9T0Q8_BPIKE/1-52\n",
      "DGTSTATSYATEAMNSLKTQATDLIDQTWPVVTSVAVAGLAIRL...SKA COATB_BPI22/32-83\n",
      "AEGDDP---AKAAFNSLQASATEYIGYAWAMVVVIVGATIGIKL...SKA COATB_BPM13/24-72\n",
      "AEGDDP---AKAAFDSLQASATEYIGYAWAMVVVIVGATIGIKL...SKA COATB_BPZJ2/1-49\n",
      "AEGDDP---AKAAFDSLQASATEYIGYAWAMVVVIVGATIGIKL...SKA Q9T0Q9_BPFD/1-49\n",
      "FAADDATSQAKAAFDSLTAQATEMSGYAWALVVLVVGATVGIKL...SRA COATB_BPIF1/22-73\n"
     ]
    }
   ],
   "source": [
    "from Bio import AlignIO\n",
    "alinhamento = AlignIO.read('PF05371_seed.sth', 'stockholm')\n",
    "print(alinhamento)"
   ]
  },
  {
   "cell_type": "markdown",
   "metadata": {},
   "source": [
    "Você notará que na saída acima as sequências estão um pouco truncadas. Para deixar mais bonito, podemos escrever o nosso próprio código para formatar isso como quisermos, iterando sobre as linhas do arquivo como objetos **SeqRecord**:"
   ]
  },
  {
   "cell_type": "code",
   "execution_count": 2,
   "metadata": {},
   "outputs": [
    {
     "name": "stdout",
     "output_type": "stream",
     "text": [
      "Tamanho do alinhamento: 52\n"
     ]
    }
   ],
   "source": [
    "from Bio import AlignIO\n",
    "alinhamento = AlignIO.read('PF05371_seed.sth', 'stockholm')\n",
    "print(f'Tamanho do alinhamento: {alinhamento.get_alignment_length()}')"
   ]
  },
  {
   "cell_type": "code",
   "execution_count": 3,
   "metadata": {
    "scrolled": true
   },
   "outputs": [
    {
     "name": "stdout",
     "output_type": "stream",
     "text": [
      "AEPNAATNYATEAMDSLKTQAIDLISQTWPVVTTVVVAGLVIRLFKKFSSKA - COATB_BPIKE/30-81\n",
      "AEPNAATNYATEAMDSLKTQAIDLISQTWPVVTTVVVAGLVIKLFKKFVSRA - Q9T0Q8_BPIKE/1-52\n",
      "DGTSTATSYATEAMNSLKTQATDLIDQTWPVVTSVAVAGLAIRLFKKFSSKA - COATB_BPI22/32-83\n",
      "AEGDDP---AKAAFNSLQASATEYIGYAWAMVVVIVGATIGIKLFKKFTSKA - COATB_BPM13/24-72\n",
      "AEGDDP---AKAAFDSLQASATEYIGYAWAMVVVIVGATIGIKLFKKFASKA - COATB_BPZJ2/1-49\n",
      "AEGDDP---AKAAFDSLQASATEYIGYAWAMVVVIVGATIGIKLFKKFTSKA - Q9T0Q9_BPFD/1-49\n",
      "FAADDATSQAKAAFDSLTAQATEMSGYAWALVVLVVGATVGIKLFKKFVSRA - COATB_BPIF1/22-73\n"
     ]
    }
   ],
   "source": [
    "for registro in alinhamento:\n",
    "    print(f'{registro.seq} - {registro.id}')"
   ]
  },
  {
   "cell_type": "markdown",
   "metadata": {},
   "source": [
    "Você pode chamar a função **format** do Python no alinhamento para mostrar um formato de arquivo particular (veja mais na **Seção 6.2.2**).\n",
    "\n",
    "Você notou nos dados brutos mostrados acima que várias sequências incluem referências cruzadas do banco de dados para o PDB e a estrutura secundária conhecida associada? Tente isso:"
   ]
  },
  {
   "cell_type": "code",
   "execution_count": 4,
   "metadata": {},
   "outputs": [
    {
     "name": "stdout",
     "output_type": "stream",
     "text": [
      "COATB_BPIKE/30-81 ['PDB; 1ifl ; 1-52;']\n",
      "COATB_BPM13/24-72 ['PDB; 2cpb ; 1-49;', 'PDB; 2cps ; 1-49;']\n",
      "Q9T0Q9_BPFD/1-49 ['PDB; 1nh4 A; 1-49;']\n",
      "COATB_BPIF1/22-73 ['PDB; 1ifk ; 1-50;']\n"
     ]
    }
   ],
   "source": [
    "for registro in alinhamento:\n",
    "    if registro.dbxrefs:\n",
    "        print(f'{registro.id} {registro.dbxrefs}')"
   ]
  },
  {
   "cell_type": "markdown",
   "metadata": {},
   "source": [
    "Se você quiser olhar as anotações da sequência:"
   ]
  },
  {
   "cell_type": "code",
   "execution_count": 5,
   "metadata": {
    "scrolled": true
   },
   "outputs": [
    {
     "name": "stdout",
     "output_type": "stream",
     "text": [
      "ID: COATB_BPIKE/30-81\n",
      "Name: COATB_BPIKE\n",
      "Description: COATB_BPIKE/30-81\n",
      "Database cross-references: PDB; 1ifl ; 1-52;\n",
      "Number of features: 0\n",
      "/accession=P03620.1\n",
      "/start=30\n",
      "/end=81\n",
      "Per letter annotation for: secondary_structure\n",
      "Seq('AEPNAATNYATEAMDSLKTQAIDLISQTWPVVTTVVVAGLVIRLFKKFSSKA')\n",
      "\n",
      "\n",
      "ID: Q9T0Q8_BPIKE/1-52\n",
      "Name: Q9T0Q8_BPIKE\n",
      "Description: Q9T0Q8_BPIKE/1-52\n",
      "Number of features: 0\n",
      "/accession=Q9T0Q8.1\n",
      "/start=1\n",
      "/end=52\n",
      "Seq('AEPNAATNYATEAMDSLKTQAIDLISQTWPVVTTVVVAGLVIKLFKKFVSRA')\n",
      "\n",
      "\n",
      "ID: COATB_BPI22/32-83\n",
      "Name: COATB_BPI22\n",
      "Description: COATB_BPI22/32-83\n",
      "Number of features: 0\n",
      "/accession=P15416.1\n",
      "/start=32\n",
      "/end=83\n",
      "Seq('DGTSTATSYATEAMNSLKTQATDLIDQTWPVVTSVAVAGLAIRLFKKFSSKA')\n",
      "\n",
      "\n",
      "ID: COATB_BPM13/24-72\n",
      "Name: COATB_BPM13\n",
      "Description: COATB_BPM13/24-72\n",
      "Database cross-references: PDB; 2cpb ; 1-49;, PDB; 2cps ; 1-49;\n",
      "Number of features: 0\n",
      "/accession=P69541.1\n",
      "/start=24\n",
      "/end=72\n",
      "Per letter annotation for: secondary_structure\n",
      "Seq('AEGDDP---AKAAFNSLQASATEYIGYAWAMVVVIVGATIGIKLFKKFTSKA')\n",
      "\n",
      "\n",
      "ID: COATB_BPZJ2/1-49\n",
      "Name: COATB_BPZJ2\n",
      "Description: COATB_BPZJ2/1-49\n",
      "Number of features: 0\n",
      "/accession=P03618.1\n",
      "/start=1\n",
      "/end=49\n",
      "Seq('AEGDDP---AKAAFDSLQASATEYIGYAWAMVVVIVGATIGIKLFKKFASKA')\n",
      "\n",
      "\n",
      "ID: Q9T0Q9_BPFD/1-49\n",
      "Name: Q9T0Q9_BPFD\n",
      "Description: Q9T0Q9_BPFD/1-49\n",
      "Database cross-references: PDB; 1nh4 A; 1-49;\n",
      "Number of features: 0\n",
      "/accession=Q9T0Q9.1\n",
      "/start=1\n",
      "/end=49\n",
      "Per letter annotation for: secondary_structure\n",
      "Seq('AEGDDP---AKAAFDSLQASATEYIGYAWAMVVVIVGATIGIKLFKKFTSKA')\n",
      "\n",
      "\n",
      "ID: COATB_BPIF1/22-73\n",
      "Name: COATB_BPIF1\n",
      "Description: COATB_BPIF1/22-73\n",
      "Database cross-references: PDB; 1ifk ; 1-50;\n",
      "Number of features: 0\n",
      "/accession=P03619.2\n",
      "/start=22\n",
      "/end=73\n",
      "Per letter annotation for: secondary_structure\n",
      "Seq('FAADDATSQAKAAFDSLTAQATEMSGYAWALVVLVVGATVGIKLFKKFVSRA')\n",
      "\n",
      "\n"
     ]
    }
   ],
   "source": [
    "for registro in alinhamento:\n",
    "    print(registro)\n",
    "    print('\\n')"
   ]
  },
  {
   "cell_type": "markdown",
   "metadata": {},
   "source": [
    "O site do PFAM provê de uma interface gráfica bacana, onde permite que você baixe as sequências em alguns tipos de arquivo; basta fazer o caminho descrito no começo da seção e no campo *Format* selecionar o tipo de arquivo desejado. Nesse exemplo usaremos um arquivo FASTA:"
   ]
  },
  {
   "cell_type": "code",
   "execution_count": 6,
   "metadata": {},
   "outputs": [
    {
     "name": "stdout",
     "output_type": "stream",
     "text": [
      "Alignment with 7 rows and 52 columns\n",
      "AEPNAATNYATEAMDSLKTQAIDLISQTWPVVTTVVVAGLVIRL...SKA COATB_BPIKE/30-81\n",
      "AEPNAATNYATEAMDSLKTQAIDLISQTWPVVTTVVVAGLVIKL...SRA Q9T0Q8_BPIKE/1-52\n",
      "DGTSTATSYATEAMNSLKTQATDLIDQTWPVVTSVAVAGLAIRL...SKA COATB_BPI22/32-83\n",
      "AEGDDP---AKAAFNSLQASATEYIGYAWAMVVVIVGATIGIKL...SKA COATB_BPM13/24-72\n",
      "AEGDDP---AKAAFDSLQASATEYIGYAWAMVVVIVGATIGIKL...SKA COATB_BPZJ2/1-49\n",
      "AEGDDP---AKAAFDSLQASATEYIGYAWAMVVVIVGATIGIKL...SKA Q9T0Q9_BPFD/1-49\n",
      "FAADDATSQAKAAFDSLTAQATEMSGYAWALVVLVVGATVGIKL...SRA COATB_BPIF1/22-73\n"
     ]
    }
   ],
   "source": [
    "from Bio import AlignIO\n",
    "alinhamento = AlignIO.read('PF05371_seed.faa', 'fasta')\n",
    "print(alinhamento)"
   ]
  },
  {
   "cell_type": "markdown",
   "metadata": {},
   "source": [
    "A única coisa que mudou nesse arquivo foi o nome e a extensão. Você deve obter a mesma saída do que quando usado a extensão Stockholm. Contudo, como você deve esperar, se você checar cada **SeqRecord** não encontrará nenhuma anotação ou referências cruzadas do banco de dados, isso porque essas informações não são incluídas no arquivo FASTA.\n",
    "\n",
    "Observe que, ao invés de você ter usado o site PFAM, você poderia ter usado o `Bio.AlignIO` para converter o arquivo de Stockholme para FASTA.\n",
    "\n",
    "Com qualquer tipo de arquivo suportado, você pode carregar qualquer alinhamanto do mesmo modo apenas trocando o argumento da extensão. Por exemplo, use 'phylip' para arquivos PHYLIP, 'nexus' para arquivos NEXUS o 'emboss' para alinhamento feitos com a ferramenta EMBOSS. Para mais informações, veja a wiki (https://biopython.org/wiki/AlignIO) e a documentação (https://biopython.org/docs/1.79/api/Bio.AlignIO.html):"
   ]
  },
  {
   "cell_type": "code",
   "execution_count": 7,
   "metadata": {
    "scrolled": true
   },
   "outputs": [
    {
     "name": "stdout",
     "output_type": "stream",
     "text": [
      "Help on package Bio.AlignIO in Bio:\n",
      "\n",
      "NAME\n",
      "    Bio.AlignIO - Multiple sequence alignment input/output as alignment objects.\n",
      "\n",
      "DESCRIPTION\n",
      "    The Bio.AlignIO interface is deliberately very similar to Bio.SeqIO, and in\n",
      "    fact the two are connected internally.  Both modules use the same set of file\n",
      "    format names (lower case strings).  From the user's perspective, you can read\n",
      "    in a PHYLIP file containing one or more alignments using Bio.AlignIO, or you\n",
      "    can read in the sequences within these alignments using Bio.SeqIO.\n",
      "    \n",
      "    Bio.AlignIO is also documented at http://biopython.org/wiki/AlignIO and by\n",
      "    a whole chapter in our tutorial:\n",
      "    \n",
      "    * `HTML Tutorial`_\n",
      "    * `PDF Tutorial`_\n",
      "    \n",
      "    .. _`HTML Tutorial`: http://biopython.org/DIST/docs/tutorial/Tutorial.html\n",
      "    .. _`PDF Tutorial`: http://biopython.org/DIST/docs/tutorial/Tutorial.pdf\n",
      "    \n",
      "    Input\n",
      "    -----\n",
      "    For the typical special case when your file or handle contains one and only\n",
      "    one alignment, use the function Bio.AlignIO.read().  This takes an input file\n",
      "    handle (or in recent versions of Biopython a filename as a string), format\n",
      "    string and optional number of sequences per alignment.  It will return a single\n",
      "    MultipleSeqAlignment object (or raise an exception if there isn't just one\n",
      "    alignment):\n",
      "    \n",
      "    >>> from Bio import AlignIO\n",
      "    >>> align = AlignIO.read(\"Phylip/interlaced.phy\", \"phylip\")\n",
      "    >>> print(align)\n",
      "    Alignment with 3 rows and 384 columns\n",
      "    -----MKVILLFVLAVFTVFVSS---------------RGIPPE...I-- CYS1_DICDI\n",
      "    MAHARVLLLALAVLATAAVAVASSSSFADSNPIRPVTDRAASTL...VAA ALEU_HORVU\n",
      "    ------MWATLPLLCAGAWLLGV--------PVCGAAELSVNSL...PLV CATH_HUMAN\n",
      "    \n",
      "    For the general case, when the handle could contain any number of alignments,\n",
      "    use the function Bio.AlignIO.parse(...) which takes the same arguments, but\n",
      "    returns an iterator giving MultipleSeqAlignment objects (typically used in a\n",
      "    for loop). If you want random access to the alignments by number, turn this\n",
      "    into a list:\n",
      "    \n",
      "    >>> from Bio import AlignIO\n",
      "    >>> alignments = list(AlignIO.parse(\"Emboss/needle.txt\", \"emboss\"))\n",
      "    >>> print(alignments[2])\n",
      "    Alignment with 2 rows and 120 columns\n",
      "    -KILIVDDQYGIRILLNEVFNKEGYQTFQAANGLQALDIVTKER...--- ref_rec\n",
      "    LHIVVVDDDPGTCVYIESVFAELGHTCKSFVRPEAAEEYILTHP...HKE gi|94967506|receiver\n",
      "    \n",
      "    Most alignment file formats can be concatenated so as to hold as many\n",
      "    different multiple sequence alignments as possible.  One common example\n",
      "    is the output of the tool seqboot in the PHLYIP suite.  Sometimes there\n",
      "    can be a file header and footer, as seen in the EMBOSS alignment output.\n",
      "    \n",
      "    Output\n",
      "    ------\n",
      "    Use the function Bio.AlignIO.write(...), which takes a complete set of\n",
      "    Alignment objects (either as a list, or an iterator), an output file handle\n",
      "    (or filename in recent versions of Biopython) and of course the file format::\n",
      "    \n",
      "        from Bio import AlignIO\n",
      "        alignments = ...\n",
      "        count = SeqIO.write(alignments, \"example.faa\", \"fasta\")\n",
      "    \n",
      "    If using a handle make sure to close it to flush the data to the disk::\n",
      "    \n",
      "        from Bio import AlignIO\n",
      "        alignments = ...\n",
      "        with open(\"example.faa\", \"w\") as handle:\n",
      "            count = SeqIO.write(alignments, handle, \"fasta\")\n",
      "    \n",
      "    In general, you are expected to call this function once (with all your\n",
      "    alignments) and then close the file handle.  However, for file formats\n",
      "    like PHYLIP where multiple alignments are stored sequentially (with no file\n",
      "    header and footer), then multiple calls to the write function should work as\n",
      "    expected when using handles.\n",
      "    \n",
      "    If you are using a filename, the repeated calls to the write functions will\n",
      "    overwrite the existing file each time.\n",
      "    \n",
      "    Conversion\n",
      "    ----------\n",
      "    The Bio.AlignIO.convert(...) function allows an easy interface for simple\n",
      "    alignment file format conversions. Additionally, it may use file format\n",
      "    specific optimisations so this should be the fastest way too.\n",
      "    \n",
      "    In general however, you can combine the Bio.AlignIO.parse(...) function with\n",
      "    the Bio.AlignIO.write(...) function for sequence file conversion. Using\n",
      "    generator expressions provides a memory efficient way to perform filtering or\n",
      "    other extra operations as part of the process.\n",
      "    \n",
      "    File Formats\n",
      "    ------------\n",
      "    When specifying the file format, use lowercase strings.  The same format\n",
      "    names are also used in Bio.SeqIO and include the following:\n",
      "    \n",
      "      - clustal -   Output from Clustal W or X, see also the module Bio.Clustalw\n",
      "        which can be used to run the command line tool from Biopython.\n",
      "      - emboss    - EMBOSS tools' \"pairs\" and \"simple\" alignment formats.\n",
      "      - fasta     - The generic sequence file format where each record starts with\n",
      "        an identifier line starting with a \">\" character, followed by\n",
      "        lines of sequence.\n",
      "      - fasta-m10 - For the pairwise alignments output by Bill Pearson's FASTA\n",
      "        tools when used with the -m 10 command line option for machine\n",
      "        readable output.\n",
      "      - ig        - The IntelliGenetics file format, apparently the same as the\n",
      "        MASE alignment format.\n",
      "      - msf       - The GCG MSF alignment format, originally from PileUp tool.\n",
      "      - nexus     - Output from NEXUS, see also the module Bio.Nexus which can also\n",
      "        read any phylogenetic trees in these files.\n",
      "      - phylip    - Interlaced PHYLIP, as used by the PHYLIP tools.\n",
      "      - phylip-sequential - Sequential PHYLIP.\n",
      "      - phylip-relaxed - PHYLIP like format allowing longer names.\n",
      "      - stockholm - A richly annotated alignment file format used by PFAM.\n",
      "      - mauve - Output from progressiveMauve/Mauve\n",
      "    \n",
      "    Note that while Bio.AlignIO can read all the above file formats, it cannot\n",
      "    write to all of them.\n",
      "    \n",
      "    You can also use any file format supported by Bio.SeqIO, such as \"fasta\" or\n",
      "    \"ig\" (which are listed above), PROVIDED the sequences in your file are all the\n",
      "    same length.\n",
      "\n",
      "PACKAGE CONTENTS\n",
      "    ClustalIO\n",
      "    EmbossIO\n",
      "    FastaIO\n",
      "    Interfaces\n",
      "    MafIO\n",
      "    MauveIO\n",
      "    MsfIO\n",
      "    NexusIO\n",
      "    PhylipIO\n",
      "    StockholmIO\n",
      "\n",
      "FUNCTIONS\n",
      "    convert(in_file, in_format, out_file, out_format, molecule_type=None)\n",
      "        Convert between two alignment files, returns number of alignments.\n",
      "        \n",
      "        Arguments:\n",
      "         - in_file - an input handle or filename\n",
      "         - in_format - input file format, lower case string\n",
      "         - output - an output handle or filename\n",
      "         - out_file - output file format, lower case string\n",
      "         - molecule_type - optional molecule type to apply, string containing\n",
      "           \"DNA\", \"RNA\" or \"protein\".\n",
      "        \n",
      "        **NOTE** - If you provide an output filename, it will be opened which will\n",
      "        overwrite any existing file without warning. This may happen if even the\n",
      "        conversion is aborted (e.g. an invalid out_format name is given).\n",
      "        \n",
      "        Some output formats require the molecule type be specified where this\n",
      "        cannot be determined by the parser. For example, converting to FASTA,\n",
      "        Clustal, or PHYLIP format to NEXUS:\n",
      "        \n",
      "        >>> from io import StringIO\n",
      "        >>> from Bio import AlignIO\n",
      "        >>> handle = StringIO()\n",
      "        >>> AlignIO.convert(\"Phylip/horses.phy\", \"phylip\", handle, \"nexus\", \"DNA\")\n",
      "        1\n",
      "        >>> print(handle.getvalue())\n",
      "        #NEXUS\n",
      "        begin data;\n",
      "        dimensions ntax=10 nchar=40;\n",
      "        format datatype=dna missing=? gap=-;\n",
      "        matrix\n",
      "        Mesohippus   AAAAAAAAAAAAAAAAAAAAAAAAAAAAAAAAAAAAAAAA\n",
      "        Hypohippus   AAACCCCCCCAAAAAAAAACAAAAAAAAAAAAAAAAAAAA\n",
      "        Archaeohip   CAAAAAAAAAAAAAAAACACAAAAAAAAAAAAAAAAAAAA\n",
      "        Parahippus   CAAACAACAACAAAAAAAACAAAAAAAAAAAAAAAAAAAA\n",
      "        Merychippu   CCAACCACCACCCCACACCCAAAAAAAAAAAAAAAAAAAA\n",
      "        'M. secundu' CCAACCACCACCCACACCCCAAAAAAAAAAAAAAAAAAAA\n",
      "        Nannipus     CCAACCACAACCCCACACCCAAAAAAAAAAAAAAAAAAAA\n",
      "        Neohippari   CCAACCCCCCCCCCACACCCAAAAAAAAAAAAAAAAAAAA\n",
      "        Calippus     CCAACCACAACCCACACCCCAAAAAAAAAAAAAAAAAAAA\n",
      "        Pliohippus   CCCACCCCCCCCCACACCCCAAAAAAAAAAAAAAAAAAAA\n",
      "        ;\n",
      "        end;\n",
      "        <BLANKLINE>\n",
      "    \n",
      "    parse(handle, format, seq_count=None)\n",
      "        Iterate over an alignment file as MultipleSeqAlignment objects.\n",
      "        \n",
      "        Arguments:\n",
      "         - handle    - handle to the file, or the filename as a string\n",
      "           (note older versions of Biopython only took a handle).\n",
      "         - format    - string describing the file format.\n",
      "         - seq_count - Optional integer, number of sequences expected in each\n",
      "           alignment.  Recommended for fasta format files.\n",
      "        \n",
      "        If you have the file name in a string 'filename', use:\n",
      "        \n",
      "        >>> from Bio import AlignIO\n",
      "        >>> filename = \"Emboss/needle.txt\"\n",
      "        >>> format = \"emboss\"\n",
      "        >>> for alignment in AlignIO.parse(filename, format):\n",
      "        ...     print(\"Alignment of length %i\" % alignment.get_alignment_length())\n",
      "        Alignment of length 124\n",
      "        Alignment of length 119\n",
      "        Alignment of length 120\n",
      "        Alignment of length 118\n",
      "        Alignment of length 125\n",
      "        \n",
      "        If you have a string 'data' containing the file contents, use::\n",
      "        \n",
      "          from Bio import AlignIO\n",
      "          from io import StringIO\n",
      "          my_iterator = AlignIO.parse(StringIO(data), format)\n",
      "        \n",
      "        Use the Bio.AlignIO.read() function when you expect a single record only.\n",
      "    \n",
      "    read(handle, format, seq_count=None)\n",
      "        Turn an alignment file into a single MultipleSeqAlignment object.\n",
      "        \n",
      "        Arguments:\n",
      "         - handle    - handle to the file, or the filename as a string\n",
      "           (note older versions of Biopython only took a handle).\n",
      "         - format    - string describing the file format.\n",
      "         - seq_count - Optional integer, number of sequences expected in each\n",
      "           alignment.  Recommended for fasta format files.\n",
      "        \n",
      "        If the handle contains no alignments, or more than one alignment,\n",
      "        an exception is raised.  For example, using a PFAM/Stockholm file\n",
      "        containing one alignment:\n",
      "        \n",
      "        >>> from Bio import AlignIO\n",
      "        >>> filename = \"Clustalw/protein.aln\"\n",
      "        >>> format = \"clustal\"\n",
      "        >>> alignment = AlignIO.read(filename, format)\n",
      "        >>> print(\"Alignment of length %i\" % alignment.get_alignment_length())\n",
      "        Alignment of length 411\n",
      "        \n",
      "        If however you want the first alignment from a file containing\n",
      "        multiple alignments this function would raise an exception.\n",
      "        \n",
      "        >>> from Bio import AlignIO\n",
      "        >>> filename = \"Emboss/needle.txt\"\n",
      "        >>> format = \"emboss\"\n",
      "        >>> alignment = AlignIO.read(filename, format)\n",
      "        Traceback (most recent call last):\n",
      "            ...\n",
      "        ValueError: More than one record found in handle\n",
      "        \n",
      "        Instead use:\n",
      "        \n",
      "        >>> from Bio import AlignIO\n",
      "        >>> filename = \"Emboss/needle.txt\"\n",
      "        >>> format = \"emboss\"\n",
      "        >>> alignment = next(AlignIO.parse(filename, format))\n",
      "        >>> print(\"First alignment has length %i\" % alignment.get_alignment_length())\n",
      "        First alignment has length 124\n",
      "        \n",
      "        You must use the Bio.AlignIO.parse() function if you want to read multiple\n",
      "        records from the handle.\n",
      "    \n",
      "    write(alignments, handle, format)\n",
      "        Write complete set of alignments to a file.\n",
      "        \n",
      "        Arguments:\n",
      "         - alignments - A list (or iterator) of MultipleSeqAlignment objects,\n",
      "           or a single alignment object.\n",
      "         - handle    - File handle object to write to, or filename as string\n",
      "           (note older versions of Biopython only took a handle).\n",
      "         - format    - lower case string describing the file format to write.\n",
      "        \n",
      "        You should close the handle after calling this function.\n",
      "        \n",
      "        Returns the number of alignments written (as an integer).\n",
      "\n",
      "FILE\n",
      "    d:\\jupyter\\lib\\site-packages\\bio\\alignio\\__init__.py\n",
      "\n",
      "\n"
     ]
    }
   ],
   "source": [
    "from Bio import AlignIO\n",
    "help(AlignIO)"
   ]
  },
  {
   "cell_type": "markdown",
   "metadata": {},
   "source": [
    "### 6.1.2 Alinhamentos Múltiplos"
   ]
  },
  {
   "attachments": {
    "image-2.png": {
     "image/png": "[encoded data removed]"
    },
    "image-3.png": {
     "image/png": "[encoded data removed]"
    }
   },
   "cell_type": "markdown",
   "metadata": {},
   "source": [
    "A seção anterior focou em ler arquivos com um único alinhamento. De modo geral, no entanto, os arquivos podem conter mais de um alinhamento e para lê-los é necessária função **parse**. Suponha que você tenha o seguinte pequeno alinhamento em formato PHYLIP:\n",
    "\n",
    "![image-2.png](attachment:image-2.png)\n",
    "\n",
    "Se você quiser iniciar uma árvore filogenética usando as ferramentas do PHYLIP, um dos primeiros passos será criar um conjunto de muitos alinhamentos reamostrados usando a ferramenta bootseq. Isso nos retornará algo parecido com isso:\n",
    "\n",
    "![image-3.png](attachment:image-3.png)\n",
    "\n",
    "Vale lembrar que como é um exemplo, são poucos os alinhamentos mostrados, em casos da vida real são inúmeros dados de alinhamento.\n",
    "\n",
    "Se você quiser ler o arquivo usando o Biopython basta fazer isso:"
   ]
  },
  {
   "cell_type": "code",
   "execution_count": 8,
   "metadata": {},
   "outputs": [
    {
     "name": "stdout",
     "output_type": "stream",
     "text": [
      "Alignment with 5 rows and 6 columns\n",
      "AAACCA Alpha\n",
      "AAACCC Beta\n",
      "ACCCCA Gamma\n",
      "CCCAAC Delta\n",
      "CCCAAA Epsilon\n",
      "\n",
      "\n",
      "Alignment with 5 rows and 6 columns\n",
      "AAACAA Alpha\n",
      "AAACCC Beta\n",
      "ACCCAA Gamma\n",
      "CCCACC Delta\n",
      "CCCAAA Epsilon\n",
      "\n",
      "\n",
      "Alignment with 5 rows and 6 columns\n",
      "AAAAAC Alpha\n",
      "AAACCC Beta\n",
      "AACAAC Gamma\n",
      "CCCCCA Delta\n",
      "CCCAAC Epsilon\n",
      "\n",
      "\n",
      "Alignment with 5 rows and 6 columns\n",
      "AAAACC Alpha\n",
      "ACCCCC Beta\n",
      "AAAACC Gamma\n",
      "CCCCAA Delta\n",
      "CAAACC Epsilon\n",
      "\n",
      "\n"
     ]
    }
   ],
   "source": [
    "from Bio import AlignIO\n",
    "alinhamentos = AlignIO.parse('resampled.phy', 'phylip')\n",
    "for alinhamento in alinhamentos:\n",
    "    print(alinhamento)\n",
    "    print('\\n')"
   ]
  },
  {
   "cell_type": "markdown",
   "metadata": {},
   "source": [
    "Assim como o `Bio.SeqIO.parse()`, usar o `Bio.AlignIO.parse()` retornará um iterador. Se você quiser manter todos os alinhamentos na memória de uma vez, que pode ser acessados em qualquer ordem, basta transformar o iterador em uma lista:"
   ]
  },
  {
   "cell_type": "code",
   "execution_count": 9,
   "metadata": {},
   "outputs": [],
   "source": [
    "from Bio import AlignIO\n",
    "alinhamentos = list(AlignIO.parse('resampled.phy', 'phylip'))"
   ]
  },
  {
   "cell_type": "code",
   "execution_count": 10,
   "metadata": {},
   "outputs": [
    {
     "data": {
      "text/plain": [
       "<<class 'Bio.Align.MultipleSeqAlignment'> instance (5 records of length 6) at 19c3a17490>"
      ]
     },
     "execution_count": 10,
     "metadata": {},
     "output_type": "execute_result"
    }
   ],
   "source": [
    "primeiro_alinhamento = alinhamentos[0]\n",
    "primeiro_alinhamento"
   ]
  },
  {
   "cell_type": "code",
   "execution_count": 11,
   "metadata": {},
   "outputs": [
    {
     "data": {
      "text/plain": [
       "<<class 'Bio.Align.MultipleSeqAlignment'> instance (5 records of length 6) at 19c52e47c0>"
      ]
     },
     "execution_count": 11,
     "metadata": {},
     "output_type": "execute_result"
    }
   ],
   "source": [
    "ultimo_alinhamento = alinhamentos[-1]\n",
    "ultimo_alinhamento"
   ]
  },
  {
   "cell_type": "markdown",
   "metadata": {},
   "source": [
    "### 6.1.3 Alinhamentos ambíguos"
   ]
  },
  {
   "attachments": {
    "image-4.png": {
     "image/png": "[encoded data removed]"
    },
    "image-5.png": {
     "image/png": "[encoded data removed]"
    },
    "image.png": {
     "image/png": "[encoded data removed]"
    }
   },
   "cell_type": "markdown",
   "metadata": {},
   "source": [
    "Muitos formatos de arquivo de alinhamento podem armazenar explicitamente mais de um alinhamento e a divisão entre eles é bem clara. Todavia, quando um formato de arquivo de sequência geral é usado, essa estrutura de bloco não existe. A situação mais comum de acontecer é quando os alinhamentos são salvos em arquivos FASTA. Cosidere a seguir como exemplo:\n",
    "\n",
    "![image.png](attachment:image.png)\n",
    "\n",
    "Este poderia ser um simples alinhamento contendo seis sequências (com os identificadores repetidos). Ou, julgando pelos identificadores, estes provavelmente são dois alinhamentos diferentes, cada um com três sequências, todos com o mesmo comprimento. Mas e com o exemplo abaixo?\n",
    "\n",
    "![image-4.png](attachment:image-4.png)\n",
    "\n",
    "Novamente, este poderia ser um simples alinhamento com seis sequências. Todavia, desta vez, com base nos identificadores, podemos supor que se trata de três alinhamentos de pares que, por acaso, possuem o mesmo comprimento. O exemplo final é similar:\n",
    "\n",
    "![image-5.png](attachment:image-5.png)\n",
    "\n",
    "Neste exemplo, não podemos tratar como um único alinhamento como seis registros por conta dos comprimentos serem distintos. Por outro lado, as sequências podem serem interpretadas como três alinhamentos de pares.\n",
    "\n",
    "Como podemos notar, armazenar mais de um alinhamento em arquivo FASTA não é o ideal. Entretanto, se você é forçado a trabalhar com eles como arquivos de entrada, o `Bio.AlignIO` pode lidar com a situação mais comum em que todos os alinhamentos possuem o mesmo número de registros. Um exemplo disso é uma coleção de alinhamentos de pares, que pode ser gerado pelas ferramentas water e needle do EMBOSS, embora nessa situação, o `Bio.AlignIO` consegue entender a saída nativa usando a string 'emboss' no segundo argumento.\n",
    "\n",
    "Para interpretar os exemplos do arquivo FASTA como vários alinhamentos separados, podemos usar o `Bio.AlignIO.parse()` com o argumento **seq_count** que especifica quantas sequências são esperadas por cada alinhamento (3, 2 e 2; respectivamente). Como exemplo de código vamos usar o terceiro exemplo (o arquivo está no mesmo repositório que este documento):"
   ]
  },
  {
   "cell_type": "code",
   "execution_count": 12,
   "metadata": {},
   "outputs": [
    {
     "name": "stdout",
     "output_type": "stream",
     "text": [
      "ACTACGACTAGCTCAG--G - Alpha\n",
      "ACTACCGCTAGCTCAGAAG - XXX\n",
      "\n",
      "\n",
      "ACTACGACTAGCTCAGG - Alpha\n",
      "ACTACGGCAAGCACAGG - YYY\n",
      "\n",
      "\n",
      "--ACTACGAC--TAGCTCAGG - Alpha\n",
      "GGACTACGACAATAGCTCAGG - ZZZ\n",
      "\n",
      "\n"
     ]
    }
   ],
   "source": [
    "from Bio import AlignIO\n",
    "for alinhamento in AlignIO.parse('handle.fasta', 'fasta', seq_count=2):\n",
    "    for registro in alinhamento:\n",
    "        print(f'{registro.seq} - {registro.id}')\n",
    "    print('\\n')"
   ]
  },
  {
   "cell_type": "markdown",
   "metadata": {},
   "source": [
    "Usar as funções **read** ou **parse** sem o argumento **seq_count** retornaria um único alinhamento contendo todos os seis registros para os primeiros exemplos. Para o terceiro exemplo, um exceção seria levantada porque os comprimentos das sequências diferem, evitando que eles sejam transformados um único alinhamento.\n",
    "\n",
    "Se o formato de arquivo tiver uma estrutura de blocos permitido pelo `Bio.AlignIO` para determinar o número de sequências em cada alinhamento, o argumento **seq_count** não é necessário. Se fornecido mas não concondar com o conteúdo do arquivo, será retornado um erro.\n",
    "\n",
    "Observe que o argumento **seq_count** é opcional e assume cada alinhamento no arquivo tem o mesmo número de sequências. Hipoteticamente você pode cair em situações estranhas, por exemplo, um arquivo FASTA contendo vários alinhamentos com cada um tendo diferentes quantidades de sequências. Supondo que você não possa obter os dados em um formato de arquivo mais adequado, não existe uma maneira direta de lidar com isso usando o `Bio.AlignIO`. Nesse caso, você pode considerar a leitura das sequências do arquivo em questão usando o `Bio.SeqIO` e agrupá-las para criar os alinhamentos conforme apropriado."
   ]
  },
  {
   "cell_type": "markdown",
   "metadata": {},
   "source": [
    "## 6.2 Escrevendo alinhamentos"
   ]
  },
  {
   "cell_type": "markdown",
   "metadata": {},
   "source": [
    "Falamos até agora sobre o `Bio.AlignIO.read()` e `Bio.AlignIO.parse()` para alinhamentos como entrada das análises (leitura dos arquivos basicamente), e agora veremos o `Bio.AlignIO.write()` para escrever os alinhamentos como saída. Essa função necessita de três argumentos: alguns objetos **MultipleSeqAlignment**, um identificador ou o nome do arquivo e o formato de saída do arquivo.\n",
    "\n",
    "Abaixo segue um exemplo onde começaremos escrevendo alguns objetos **MultipleSeqAlignment** do método *rock'n'roll racing'*, ou seja, na mão! Observe que serão construídos vários objsros **SeqRecord** em forma de alinhamento:"
   ]
  },
  {
   "cell_type": "code",
   "execution_count": 13,
   "metadata": {},
   "outputs": [],
   "source": [
    "from Bio.Seq import Seq\n",
    "from Bio.SeqRecord import SeqRecord\n",
    "from Bio.Align import MultipleSeqAlignment\n",
    "\n",
    "alinhamento_1 = MultipleSeqAlignment(\n",
    "[\n",
    "    SeqRecord(Seq('ACTGCTAGCTAG'), id='Alpha'),\n",
    "    SeqRecord(Seq('ACT-CTAGCTAG'), id='Beta'),\n",
    "    SeqRecord(Seq('ACTGCTAGDTAG'), id='Gamma')\n",
    "]\n",
    ")\n",
    "\n",
    "alinhamento_2 = MultipleSeqAlignment(\n",
    "[\n",
    "    SeqRecord(Seq('GTCAGC-AG'), id='Delta'),\n",
    "    SeqRecord(Seq('GACAGCTAG'), id='Epsilon'),\n",
    "    SeqRecord(Seq('GTCAGCTAG'), id='Zeta')\n",
    "]\n",
    ")\n",
    "\n",
    "alinhamento_3 = MultipleSeqAlignment(\n",
    "[\n",
    "    SeqRecord(Seq('ACTAGTACAGCTG'), id='Eta'),\n",
    "    SeqRecord(Seq('ACTAGTACAGCT-'), id='Theta'),\n",
    "    SeqRecord(Seq('-CTACTACAGGTG'), id='Iota')\n",
    "]\n",
    ")\n",
    "\n",
    "meus_alinhamentos = [alinhamento_1, alinhamento_2, alinhamento_3]"
   ]
  },
  {
   "cell_type": "markdown",
   "metadata": {},
   "source": [
    "Agora temos uma lista com objetos **Alignment**. Vamos escrevê-los em um arquivo PHYLIP:"
   ]
  },
  {
   "cell_type": "code",
   "execution_count": 14,
   "metadata": {},
   "outputs": [
    {
     "data": {
      "text/plain": [
       "3"
      ]
     },
     "execution_count": 14,
     "metadata": {},
     "output_type": "execute_result"
    }
   ],
   "source": [
    "from Bio import AlignIO\n",
    "AlignIO.write(meus_alinhamentos, 'meu_exemplo.phy', 'phylip')"
   ]
  },
  {
   "cell_type": "markdown",
   "metadata": {},
   "source": [
    "Se você abrir o arquivo criado, terá algo parecido com isso:"
   ]
  },
  {
   "attachments": {
    "Screenshot_1.png": {
     "image/png": "[encoded data removed]"
    }
   },
   "cell_type": "markdown",
   "metadata": {},
   "source": [
    "![Screenshot_1.png](attachment:Screenshot_1.png)"
   ]
  },
  {
   "cell_type": "markdown",
   "metadata": {},
   "source": [
    "É mais comum você querer carregar um arquivo com um alinhamento já existente e salvá-lo após uma manipulação simples, como remover certas linhas e colunas.\n",
    "\n",
    "Para saber quantos alinhamentos foram escritos no arquivo, você pode usar a função **len**, mas o Biopython já retorna automaticamente essa quantidade quando cria o arquivo. Vale lembrar que se você chamar a função **write** com um arquivo que já existe, o novo arquivo será sobrescrito no antigo."
   ]
  },
  {
   "cell_type": "markdown",
   "metadata": {},
   "source": [
    "### 6.2.1 Conversão entre formatos de arquivo de alinhamento de sequência"
   ]
  },
  {
   "cell_type": "markdown",
   "metadata": {},
   "source": [
    "Converção entre arquivos de alinhamento de sequências com `Bio.AlignIO` funciona da mesma maneira que o `Bio.SeqIO` (ver a **Seção 5.5.2** do Capítulo 5: https://github.com/GTL98/biopython_br/tree/main/Cap%205%20-%20Sequ%C3%AAncias%20Input_Output). Geralmente carregamos o(s) alinhamento(s) com a função **parse** e salvamos a análise com a função **write**, ou para ficar mais simples usamos a função **convert**.\n",
    "\n",
    "Por exemplo, vamos carregar o arquivo PFAM/Stockholm e salvar as informações em um arquivo usado pelo ClustalW:"
   ]
  },
  {
   "cell_type": "code",
   "execution_count": 15,
   "metadata": {},
   "outputs": [
    {
     "name": "stdout",
     "output_type": "stream",
     "text": [
      "Foram convertidos 1 alinhamentos.\n"
     ]
    }
   ],
   "source": [
    "from Bio import AlignIO\n",
    "conversor = AlignIO.convert('PF05371_seed.sth', 'stockholm', 'PF05371_seed.aln', 'clustal')\n",
    "print(f'Foram convertidos {conversor} alinhamentos.')"
   ]
  },
  {
   "cell_type": "markdown",
   "metadata": {},
   "source": [
    "Ou podemos usar as funções **parse** e **write**:"
   ]
  },
  {
   "cell_type": "code",
   "execution_count": 16,
   "metadata": {},
   "outputs": [
    {
     "name": "stdout",
     "output_type": "stream",
     "text": [
      "Foram convertidos 1 alinhamentos.\n"
     ]
    }
   ],
   "source": [
    "from Bio import AlignIO\n",
    "alinhamentos = AlignIO.parse('PF05371_seed.sth', 'stockholm')\n",
    "conversor = AlignIO.write(alinhamentos, 'PF05371_seed.aln', 'clustal')\n",
    "print(f'Foram convertidos {conversor} alinhamentos.')"
   ]
  },
  {
   "cell_type": "markdown",
   "metadata": {},
   "source": [
    "A função **write** espera que seja forneceido vários objetos de alinhamento. No exemplo acima, fornecemos o iterador retornado pela função **parse**.\n",
    "\n",
    "Nesse caso, sabemos que há somente um alinhamento no arquivo, então poderiamos usar a função **read**. Porém, temos que passar o alinhamento para a função **write** como um elemento de lista:"
   ]
  },
  {
   "cell_type": "code",
   "execution_count": 17,
   "metadata": {},
   "outputs": [
    {
     "data": {
      "text/plain": [
       "1"
      ]
     },
     "execution_count": 17,
     "metadata": {},
     "output_type": "execute_result"
    }
   ],
   "source": [
    "from Bio import AlignIO\n",
    "alinhamento = AlignIO.read('PF05371_seed.sth', 'stockholm')\n",
    "AlignIO.write([alinhamento], 'PF05371_seed.aln', 'clustal')"
   ]
  },
  {
   "attachments": {
    "arquivo_clustalw_conversao.png": {
     "image/png": "[encoded data removed]"
    }
   },
   "cell_type": "markdown",
   "metadata": {},
   "source": [
    "Independente do modo como você fará a conversão, você deve ter as informações do arquivo iguais a essa:\n",
    "\n",
    "![arquivo_clustalw_conversao.png](attachment:arquivo_clustalw_conversao.png)\n",
    "\n",
    "De outra maneira, você pode converter o arquivo para o formato PHYLIP:"
   ]
  },
  {
   "cell_type": "code",
   "execution_count": 18,
   "metadata": {},
   "outputs": [
    {
     "data": {
      "text/plain": [
       "1"
      ]
     },
     "execution_count": 18,
     "metadata": {},
     "output_type": "execute_result"
    }
   ],
   "source": [
    "from Bio import AlignIO\n",
    "AlignIO.convert('PF05371_seed.sth', 'stockholm', 'PF05371_seed.phy', 'phylip')"
   ]
  },
  {
   "attachments": {
    "arquivo_phylip_conversao.png": {
     "image/png": "[encoded data removed]"
    }
   },
   "cell_type": "markdown",
   "metadata": {},
   "source": [
    "O conteúdo do arquivo deverá ser assim:\n",
    "\n",
    "![arquivo_phylip_conversao.png](attachment:arquivo_phylip_conversao.png)\n",
    "\n",
    "Uma das grandes desvantagens do formato de arquivo de alinhamento PHYLIP original é qe os identificadores de sequência são limitados para 10 caracteres. Neste exemplo, você pode ver que os nomes das sequências são únicos, mas não muito legíveis. Por conta disso, há uma variante do formato PHYLIP que amplamente usado atualmente:"
   ]
  },
  {
   "cell_type": "code",
   "execution_count": 19,
   "metadata": {},
   "outputs": [
    {
     "data": {
      "text/plain": [
       "1"
      ]
     },
     "execution_count": 19,
     "metadata": {},
     "output_type": "execute_result"
    }
   ],
   "source": [
    "from Bio import AlignIO\n",
    "AlignIO.convert('PF05371_seed.sth', 'stockholm', 'PF05371_seed_phy_relaxed.phy', 'phylip-relaxed')"
   ]
  },
  {
   "attachments": {
    "arquivo_phylip_relaxed_conversao.png": {
     "image/png": "[encoded data removed]"
    }
   },
   "cell_type": "markdown",
   "metadata": {},
   "source": [
    "Agora a identificação das sequências fica completa e mais legível:\n",
    "\n",
    "![arquivo_phylip_relaxed_conversao.png](attachment:arquivo_phylip_relaxed_conversao.png)\n",
    "\n",
    "Se você tiver que trabalhar com o foramto original do PHYLIP, você precisará compactar os identificadores de alguma meneira, o atribuir seus próprios nomes ou sistema de numeração. Abaixo segue um código para manipular o registro dos identificadores antes de salvar em um arquivo:"
   ]
  },
  {
   "cell_type": "code",
   "execution_count": 20,
   "metadata": {},
   "outputs": [
    {
     "name": "stdout",
     "output_type": "stream",
     "text": [
      "{0: 'COATB_BPIKE/30-81', 1: 'Q9T0Q8_BPIKE/1-52', 2: 'COATB_BPI22/32-83', 3: 'COATB_BPM13/24-72', 4: 'COATB_BPZJ2/1-49', 5: 'Q9T0Q9_BPFD/1-49', 6: 'COATB_BPIF1/22-73'}\n"
     ]
    }
   ],
   "source": [
    "from Bio import AlignIO\n",
    "alinhamento = AlignIO.read('PF05371_seed.sth', 'stockholm')\n",
    "nome_editado = {}\n",
    "for i, registro in enumerate(alinhamento):\n",
    "    nome_editado[i] = registro.id\n",
    "    registro.id = f'seq{i}'\n",
    "print(nome_editado)"
   ]
  },
  {
   "cell_type": "code",
   "execution_count": 21,
   "metadata": {},
   "outputs": [
    {
     "data": {
      "text/plain": [
       "1"
      ]
     },
     "execution_count": 21,
     "metadata": {},
     "output_type": "execute_result"
    }
   ],
   "source": [
    "from Bio import AlignIO\n",
    "AlignIO.write([alinhamento], 'PF05371_seed_editado.phy', 'phylip')"
   ]
  },
  {
   "attachments": {
    "arquivo_phylip_editado_conversao.png": {
     "image/png": "[encoded data removed]"
    }
   },
   "cell_type": "markdown",
   "metadata": {},
   "source": [
    "Agora temos um arquivo PHYLIP com novos identificadores:\n",
    "\n",
    "![arquivo_phylip_editado_conversao.png](attachment:arquivo_phylip_editado_conversao.png)\n",
    "\n",
    "De modo geral, devido a limitação de caracteres dos identificadores, trabalhar com arquivos PHYLIP com essa formatação não deve ser a primeira escolha. Usar o formato PFAM/Stockholm, por outro lado, permite que você grave muitas anotações adicionais também."
   ]
  },
  {
   "cell_type": "markdown",
   "metadata": {},
   "source": [
    "### 6.2.2 Obter os objetos de alinhamento em formato de strings"
   ]
  },
  {
   "cell_type": "markdown",
   "metadata": {},
   "source": [
    "A interface do `Bio.AlignIO` é baseada em identificadores, que significa que se você quer o(s) alinhamento(s) em forma de string vindo de um tipo de arquivo, você terá um pouco de trabalho. Todavia, você certamente chamará a função **format** do Python para essa tarefa. Vale lembrar que o formato de saída deve ser aceito pelo `Bio.AlignIO`:"
   ]
  },
  {
   "cell_type": "code",
   "execution_count": 22,
   "metadata": {},
   "outputs": [
    {
     "name": "stdout",
     "output_type": "stream",
     "text": [
      "CLUSTAL X (1.81) multiple sequence alignment\n",
      "\n",
      "\n",
      "COATB_BPIKE/30-81                   AEPNAATNYATEAMDSLKTQAIDLISQTWPVVTTVVVAGLVIRLFKKFSS\n",
      "Q9T0Q8_BPIKE/1-52                   AEPNAATNYATEAMDSLKTQAIDLISQTWPVVTTVVVAGLVIKLFKKFVS\n",
      "COATB_BPI22/32-83                   DGTSTATSYATEAMNSLKTQATDLIDQTWPVVTSVAVAGLAIRLFKKFSS\n",
      "COATB_BPM13/24-72                   AEGDDP---AKAAFNSLQASATEYIGYAWAMVVVIVGATIGIKLFKKFTS\n",
      "COATB_BPZJ2/1-49                    AEGDDP---AKAAFDSLQASATEYIGYAWAMVVVIVGATIGIKLFKKFAS\n",
      "Q9T0Q9_BPFD/1-49                    AEGDDP---AKAAFDSLQASATEYIGYAWAMVVVIVGATIGIKLFKKFTS\n",
      "COATB_BPIF1/22-73                   FAADDATSQAKAAFDSLTAQATEMSGYAWALVVLVVGATVGIKLFKKFVS\n",
      "\n",
      "COATB_BPIKE/30-81                   KA\n",
      "Q9T0Q8_BPIKE/1-52                   RA\n",
      "COATB_BPI22/32-83                   KA\n",
      "COATB_BPM13/24-72                   KA\n",
      "COATB_BPZJ2/1-49                    KA\n",
      "Q9T0Q9_BPFD/1-49                    KA\n",
      "COATB_BPIF1/22-73                   RA\n",
      "\n",
      "\n",
      "\n"
     ]
    }
   ],
   "source": [
    "from Bio import AlignIO\n",
    "alinhamento = AlignIO.read('PF05371_seed.sth', 'stockholm')\n",
    "print(format(alinhamento, 'clustal'))"
   ]
  },
  {
   "cell_type": "markdown",
   "metadata": {},
   "source": [
    "Se não for informado o formato de saída, será retornado uma string.\n",
    "\n",
    "Como descrito na **Seção 4.6** do Capítulo 4 (https://github.com/GTL98/biopython_br/tree/main/Cap%204%20-%20Objetos%20de%20anota%C3%A7%C3%A3o%20de%20sequ%C3%AAncia), o objeto **SeqRecord** possui um método similar que usa os formatos de saída suportados pelo `Bio.SeqIO`.\n",
    "\n",
    "Internamente, a função **format** está chamando o `Bio.AlignIO.write()` com um identificador **StringIO**. Você pode fazer isso em seu código como exemplo se estiver usando versões antigas do Biopython:"
   ]
  },
  {
   "cell_type": "code",
   "execution_count": 23,
   "metadata": {},
   "outputs": [
    {
     "data": {
      "text/plain": [
       "1"
      ]
     },
     "execution_count": 23,
     "metadata": {},
     "output_type": "execute_result"
    }
   ],
   "source": [
    "from io import StringIO\n",
    "from Bio import AlignIO\n",
    "alinhamentos = AlignIO.parse('PF05371_seed.sth', 'stockholm')\n",
    "saida_identificador = StringIO()\n",
    "AlignIO.write(alinhamentos, saida_identificador, 'clustal')"
   ]
  },
  {
   "cell_type": "code",
   "execution_count": 24,
   "metadata": {},
   "outputs": [
    {
     "name": "stdout",
     "output_type": "stream",
     "text": [
      "CLUSTAL X (1.81) multiple sequence alignment\n",
      "\n",
      "\n",
      "COATB_BPIKE/30-81                   AEPNAATNYATEAMDSLKTQAIDLISQTWPVVTTVVVAGLVIRLFKKFSS\n",
      "Q9T0Q8_BPIKE/1-52                   AEPNAATNYATEAMDSLKTQAIDLISQTWPVVTTVVVAGLVIKLFKKFVS\n",
      "COATB_BPI22/32-83                   DGTSTATSYATEAMNSLKTQATDLIDQTWPVVTSVAVAGLAIRLFKKFSS\n",
      "COATB_BPM13/24-72                   AEGDDP---AKAAFNSLQASATEYIGYAWAMVVVIVGATIGIKLFKKFTS\n",
      "COATB_BPZJ2/1-49                    AEGDDP---AKAAFDSLQASATEYIGYAWAMVVVIVGATIGIKLFKKFAS\n",
      "Q9T0Q9_BPFD/1-49                    AEGDDP---AKAAFDSLQASATEYIGYAWAMVVVIVGATIGIKLFKKFTS\n",
      "COATB_BPIF1/22-73                   FAADDATSQAKAAFDSLTAQATEMSGYAWALVVLVVGATVGIKLFKKFVS\n",
      "\n",
      "COATB_BPIKE/30-81                   KA\n",
      "Q9T0Q8_BPIKE/1-52                   RA\n",
      "COATB_BPI22/32-83                   KA\n",
      "COATB_BPM13/24-72                   KA\n",
      "COATB_BPZJ2/1-49                    KA\n",
      "Q9T0Q9_BPFD/1-49                    KA\n",
      "COATB_BPIF1/22-73                   RA\n",
      "\n",
      "\n",
      "\n"
     ]
    }
   ],
   "source": [
    "dados_clustal = saida_identificador.getvalue()\n",
    "print(dados_clustal)"
   ]
  },
  {
   "cell_type": "markdown",
   "metadata": {},
   "source": [
    "## 6.3 Manipulando alinhamentos"
   ]
  },
  {
   "cell_type": "markdown",
   "metadata": {},
   "source": [
    "Agora que aprendemos a carregar e salvar os alinhamentos, vamos olhar o que mais podemos fazer com eles."
   ]
  },
  {
   "cell_type": "markdown",
   "metadata": {},
   "source": [
    "### 6.3.1 Fatiando alinhamentos"
   ]
  },
  {
   "cell_type": "markdown",
   "metadata": {},
   "source": [
    "Primeiro de tudo: em alguns momentos os objetos de alinhamento atuarão como uma lista Python de objetos **SeqRecord** (as linhas). Com isso explicado, ações de **len** (número de linhas) e iteração (cada linha é um objeto **SeqRecord**) faz mais sentido:"
   ]
  },
  {
   "cell_type": "code",
   "execution_count": 25,
   "metadata": {},
   "outputs": [
    {
     "name": "stdout",
     "output_type": "stream",
     "text": [
      "Número de linhas: 7\n"
     ]
    }
   ],
   "source": [
    "from Bio import AlignIO\n",
    "alinhamento = AlignIO.read('PF05371_seed.sth', 'stockholm')\n",
    "print(f'Número de linhas: {len(alinhamento)}')"
   ]
  },
  {
   "cell_type": "code",
   "execution_count": 26,
   "metadata": {},
   "outputs": [
    {
     "name": "stdout",
     "output_type": "stream",
     "text": [
      "AEPNAATNYATEAMDSLKTQAIDLISQTWPVVTTVVVAGLVIRLFKKFSSKA - COATB_BPIKE/30-81\n",
      "AEPNAATNYATEAMDSLKTQAIDLISQTWPVVTTVVVAGLVIKLFKKFVSRA - Q9T0Q8_BPIKE/1-52\n",
      "DGTSTATSYATEAMNSLKTQATDLIDQTWPVVTSVAVAGLAIRLFKKFSSKA - COATB_BPI22/32-83\n",
      "AEGDDP---AKAAFNSLQASATEYIGYAWAMVVVIVGATIGIKLFKKFTSKA - COATB_BPM13/24-72\n",
      "AEGDDP---AKAAFDSLQASATEYIGYAWAMVVVIVGATIGIKLFKKFASKA - COATB_BPZJ2/1-49\n",
      "AEGDDP---AKAAFDSLQASATEYIGYAWAMVVVIVGATIGIKLFKKFTSKA - Q9T0Q9_BPFD/1-49\n",
      "FAADDATSQAKAAFDSLTAQATEMSGYAWALVVLVVGATVGIKLFKKFVSRA - COATB_BPIF1/22-73\n"
     ]
    }
   ],
   "source": [
    "for registro in alinhamento:\n",
    "    print(f'{registro.seq} - {registro.id}')"
   ]
  },
  {
   "cell_type": "markdown",
   "metadata": {},
   "source": [
    "Você pode usar os métodos **append** e **extend** de listas Python aqui também. Da mesma forma que uma lista, quando você fizer o fatiamento de um alinhamento; ele devolverá as linhas selecionadas como outro objeto de alinhamento:"
   ]
  },
  {
   "cell_type": "code",
   "execution_count": 27,
   "metadata": {},
   "outputs": [
    {
     "name": "stdout",
     "output_type": "stream",
     "text": [
      "Alignment with 7 rows and 52 columns\n",
      "AEPNAATNYATEAMDSLKTQAIDLISQTWPVVTTVVVAGLVIRL...SKA COATB_BPIKE/30-81\n",
      "AEPNAATNYATEAMDSLKTQAIDLISQTWPVVTTVVVAGLVIKL...SRA Q9T0Q8_BPIKE/1-52\n",
      "DGTSTATSYATEAMNSLKTQATDLIDQTWPVVTSVAVAGLAIRL...SKA COATB_BPI22/32-83\n",
      "AEGDDP---AKAAFNSLQASATEYIGYAWAMVVVIVGATIGIKL...SKA COATB_BPM13/24-72\n",
      "AEGDDP---AKAAFDSLQASATEYIGYAWAMVVVIVGATIGIKL...SKA COATB_BPZJ2/1-49\n",
      "AEGDDP---AKAAFDSLQASATEYIGYAWAMVVVIVGATIGIKL...SKA Q9T0Q9_BPFD/1-49\n",
      "FAADDATSQAKAAFDSLTAQATEMSGYAWALVVLVVGATVGIKL...SRA COATB_BPIF1/22-73\n"
     ]
    }
   ],
   "source": [
    "print(alinhamento)"
   ]
  },
  {
   "cell_type": "code",
   "execution_count": 28,
   "metadata": {},
   "outputs": [
    {
     "name": "stdout",
     "output_type": "stream",
     "text": [
      "Alignment with 4 rows and 52 columns\n",
      "AEGDDP---AKAAFNSLQASATEYIGYAWAMVVVIVGATIGIKL...SKA COATB_BPM13/24-72\n",
      "AEGDDP---AKAAFDSLQASATEYIGYAWAMVVVIVGATIGIKL...SKA COATB_BPZJ2/1-49\n",
      "AEGDDP---AKAAFDSLQASATEYIGYAWAMVVVIVGATIGIKL...SKA Q9T0Q9_BPFD/1-49\n",
      "FAADDATSQAKAAFDSLTAQATEMSGYAWALVVLVVGATVGIKL...SRA COATB_BPIF1/22-73\n"
     ]
    }
   ],
   "source": [
    "print(alinhamento[3:7])"
   ]
  },
  {
   "cell_type": "markdown",
   "metadata": {},
   "source": [
    "Mas e se você quiser selecionar por coluna? Se você estiver familiarizado com o NumPy, funciona da mesma maneira que uma matriz ou array; você deve usar o índice duplo: o primeiro representando a linha e o segundo a coluna:"
   ]
  },
  {
   "cell_type": "code",
   "execution_count": 29,
   "metadata": {},
   "outputs": [
    {
     "name": "stdout",
     "output_type": "stream",
     "text": [
      "T\n"
     ]
    }
   ],
   "source": [
    "print(alinhamento[2, 6])"
   ]
  },
  {
   "cell_type": "markdown",
   "metadata": {},
   "source": [
    "Usar dois números inteiros é uma abreviação para isso (nesse exemplo):"
   ]
  },
  {
   "cell_type": "code",
   "execution_count": 30,
   "metadata": {},
   "outputs": [
    {
     "name": "stdout",
     "output_type": "stream",
     "text": [
      "T\n"
     ]
    }
   ],
   "source": [
    "print(alinhamento[2].seq[6])"
   ]
  },
  {
   "cell_type": "markdown",
   "metadata": {},
   "source": [
    "Você pode chamar todos os valores de uma determinada coluna:"
   ]
  },
  {
   "cell_type": "code",
   "execution_count": 31,
   "metadata": {},
   "outputs": [
    {
     "name": "stdout",
     "output_type": "stream",
     "text": [
      "TTT---T\n"
     ]
    }
   ],
   "source": [
    "print(alinhamento[:, 6])"
   ]
  },
  {
   "cell_type": "markdown",
   "metadata": {},
   "source": [
    "Você também pode selecionar o intervalo das colunas. Por exemplo, para selecionar as três primeiras linhas seleciondas anteriormente, mas pegar somente as seis primeiras colunas:"
   ]
  },
  {
   "cell_type": "code",
   "execution_count": 32,
   "metadata": {},
   "outputs": [
    {
     "name": "stdout",
     "output_type": "stream",
     "text": [
      "Alignment with 3 rows and 6 columns\n",
      "AEGDDP COATB_BPM13/24-72\n",
      "AEGDDP COATB_BPZJ2/1-49\n",
      "AEGDDP Q9T0Q9_BPFD/1-49\n"
     ]
    }
   ],
   "source": [
    "print(alinhamento[3:6, :6])"
   ]
  },
  {
   "cell_type": "markdown",
   "metadata": {},
   "source": [
    "Deixar o índice da coluna como **':'** indica que é para selecionar todas as colunas:"
   ]
  },
  {
   "cell_type": "code",
   "execution_count": 33,
   "metadata": {},
   "outputs": [
    {
     "name": "stdout",
     "output_type": "stream",
     "text": [
      "Alignment with 7 rows and 6 columns\n",
      "AEPNAA COATB_BPIKE/30-81\n",
      "AEPNAA Q9T0Q8_BPIKE/1-52\n",
      "DGTSTA COATB_BPI22/32-83\n",
      "AEGDDP COATB_BPM13/24-72\n",
      "AEGDDP COATB_BPZJ2/1-49\n",
      "AEGDDP Q9T0Q9_BPFD/1-49\n",
      "FAADDA COATB_BPIF1/22-73\n"
     ]
    }
   ],
   "source": [
    "print(alinhamento[:, :6])"
   ]
  },
  {
   "cell_type": "markdown",
   "metadata": {},
   "source": [
    "Isso nos leva a uma maneira simples de remover uma seção. Observe que as colunas 7, 8 e 9 possuem gaps em três das sete sequências:"
   ]
  },
  {
   "cell_type": "code",
   "execution_count": 34,
   "metadata": {},
   "outputs": [
    {
     "name": "stdout",
     "output_type": "stream",
     "text": [
      "Alignment with 7 rows and 3 columns\n",
      "TNY COATB_BPIKE/30-81\n",
      "TNY Q9T0Q8_BPIKE/1-52\n",
      "TSY COATB_BPI22/32-83\n",
      "--- COATB_BPM13/24-72\n",
      "--- COATB_BPZJ2/1-49\n",
      "--- Q9T0Q9_BPFD/1-49\n",
      "TSQ COATB_BPIF1/22-73\n"
     ]
    }
   ],
   "source": [
    "print(alinhamento[:, 6:9])"
   ]
  },
  {
   "cell_type": "markdown",
   "metadata": {},
   "source": [
    "Novamente, você pode selecionar as colunas que aparecerão. Nesse caso começará na coluna 9 e irá até o final:"
   ]
  },
  {
   "cell_type": "code",
   "execution_count": 35,
   "metadata": {},
   "outputs": [
    {
     "name": "stdout",
     "output_type": "stream",
     "text": [
      "Alignment with 7 rows and 43 columns\n",
      "ATEAMDSLKTQAIDLISQTWPVVTTVVVAGLVIRLFKKFSSKA COATB_BPIKE/30-81\n",
      "ATEAMDSLKTQAIDLISQTWPVVTTVVVAGLVIKLFKKFVSRA Q9T0Q8_BPIKE/1-52\n",
      "ATEAMNSLKTQATDLIDQTWPVVTSVAVAGLAIRLFKKFSSKA COATB_BPI22/32-83\n",
      "AKAAFNSLQASATEYIGYAWAMVVVIVGATIGIKLFKKFTSKA COATB_BPM13/24-72\n",
      "AKAAFDSLQASATEYIGYAWAMVVVIVGATIGIKLFKKFASKA COATB_BPZJ2/1-49\n",
      "AKAAFDSLQASATEYIGYAWAMVVVIVGATIGIKLFKKFTSKA Q9T0Q9_BPFD/1-49\n",
      "AKAAFDSLTAQATEMSGYAWALVVLVVGATVGIKLFKKFVSRA COATB_BPIF1/22-73\n"
     ]
    }
   ],
   "source": [
    "print(alinhamento[:, 9:])"
   ]
  },
  {
   "cell_type": "markdown",
   "metadata": {},
   "source": [
    "Agora mais uma coisa interessante que você pode fazer com os objetos de alinhamento. Abaixo será mostrado como você pode remover um bloco de colunas:"
   ]
  },
  {
   "cell_type": "code",
   "execution_count": 36,
   "metadata": {},
   "outputs": [
    {
     "name": "stdout",
     "output_type": "stream",
     "text": [
      "Alignment with 7 rows and 49 columns\n",
      "AEPNAAATEAMDSLKTQAIDLISQTWPVVTTVVVAGLVIRLFKKFSSKA COATB_BPIKE/30-81\n",
      "AEPNAAATEAMDSLKTQAIDLISQTWPVVTTVVVAGLVIKLFKKFVSRA Q9T0Q8_BPIKE/1-52\n",
      "DGTSTAATEAMNSLKTQATDLIDQTWPVVTSVAVAGLAIRLFKKFSSKA COATB_BPI22/32-83\n",
      "AEGDDPAKAAFNSLQASATEYIGYAWAMVVVIVGATIGIKLFKKFTSKA COATB_BPM13/24-72\n",
      "AEGDDPAKAAFDSLQASATEYIGYAWAMVVVIVGATIGIKLFKKFASKA COATB_BPZJ2/1-49\n",
      "AEGDDPAKAAFDSLQASATEYIGYAWAMVVVIVGATIGIKLFKKFTSKA Q9T0Q9_BPFD/1-49\n",
      "FAADDAAKAAFDSLTAQATEMSGYAWALVVLVVGATVGIKLFKKFVSRA COATB_BPIF1/22-73\n"
     ]
    }
   ],
   "source": [
    "editado = alinhamento[:, :6] + alinhamento[:, 9:]\n",
    "print(editado)"
   ]
  },
  {
   "cell_type": "markdown",
   "metadata": {},
   "source": [
    "Outro comum uso dessas ferramentas nos alinhamentos é combinar alinhamentos de diferentes genes em um meta-alinhamento. Mas cuidado, os identificadores devem ser iguais. Para mais informações, veja a **Seção 4.8** do Capítulo 4: (https://github.com/GTL98/biopython_br/tree/main/Cap%204%20-%20Objetos%20de%20anota%C3%A7%C3%A3o%20de%20sequ%C3%AAncia). Você pode achar útil primeiro ordenar alfebaticamente pelo **id** as sequências de alinhamento:"
   ]
  },
  {
   "cell_type": "code",
   "execution_count": 37,
   "metadata": {},
   "outputs": [
    {
     "name": "stdout",
     "output_type": "stream",
     "text": [
      "Alignment with 7 rows and 49 columns\n",
      "DGTSTAATEAMNSLKTQATDLIDQTWPVVTSVAVAGLAIRLFKKFSSKA COATB_BPI22/32-83\n",
      "FAADDAAKAAFDSLTAQATEMSGYAWALVVLVVGATVGIKLFKKFVSRA COATB_BPIF1/22-73\n",
      "AEPNAAATEAMDSLKTQAIDLISQTWPVVTTVVVAGLVIRLFKKFSSKA COATB_BPIKE/30-81\n",
      "AEGDDPAKAAFNSLQASATEYIGYAWAMVVVIVGATIGIKLFKKFTSKA COATB_BPM13/24-72\n",
      "AEGDDPAKAAFDSLQASATEYIGYAWAMVVVIVGATIGIKLFKKFASKA COATB_BPZJ2/1-49\n",
      "AEPNAAATEAMDSLKTQAIDLISQTWPVVTTVVVAGLVIKLFKKFVSRA Q9T0Q8_BPIKE/1-52\n",
      "AEGDDPAKAAFDSLQASATEYIGYAWAMVVVIVGATIGIKLFKKFTSKA Q9T0Q9_BPFD/1-49\n"
     ]
    }
   ],
   "source": [
    "editado.sort()\n",
    "print(editado)"
   ]
  },
  {
   "cell_type": "markdown",
   "metadata": {},
   "source": [
    "Note que só podemos adicionar dois alinhamentos juntos se tiverem o mesmo número de linhas."
   ]
  },
  {
   "cell_type": "markdown",
   "metadata": {},
   "source": [
    "### 6.3.2 Alinhamentos como arrays"
   ]
  },
  {
   "cell_type": "markdown",
   "metadata": {},
   "source": [
    "Dependendo do trabalho que você estiver fazendo, será mais fácil transformar os objetos de alinhamento como arrays de letras. Você pode fazer isso com a biblioteca NumPy (para mais informações, acesse: https://numpy.org/):"
   ]
  },
  {
   "cell_type": "code",
   "execution_count": 38,
   "metadata": {},
   "outputs": [
    {
     "name": "stdout",
     "output_type": "stream",
     "text": [
      "Shape do alinhamento: 7 linhas por 52 colunas.\n"
     ]
    },
    {
     "name": "stderr",
     "output_type": "stream",
     "text": [
      "<ipython-input-38-5f9a10a0b69d>:4: DeprecationWarning: Converting `np.character` to a dtype is deprecated. The current result is `np.dtype(np.str_)` which is not strictly correct. Note that `np.character` is generally deprecated and 'S1' should be used.\n",
      "  alinhamento_array = np.array([list(rec) for rec in alinhamento], np.character)\n"
     ]
    }
   ],
   "source": [
    "import numpy as np\n",
    "from Bio import AlignIO\n",
    "alinhamento = AlignIO.read('PF05371_seed.sth', 'stockholm')\n",
    "alinhamento_array = np.array([list(rec) for rec in alinhamento], np.character)\n",
    "print(f'Shape do alinhamento: {alinhamento_array.shape[0]} linhas por {alinhamento_array.shape[1]} colunas.')"
   ]
  },
  {
   "cell_type": "markdown",
   "metadata": {},
   "source": [
    "Se você estiver trabalhando intensamente com as colunas, você pode dizer ao NumPy para armazenar a matriz por coluna (como ocorre na linguagem de programação Fortran), ao contrário do padrão que é por linha (como na linguagem de programação C):"
   ]
  },
  {
   "cell_type": "code",
   "execution_count": 39,
   "metadata": {},
   "outputs": [
    {
     "name": "stdout",
     "output_type": "stream",
     "text": [
      "Shape do alinhamento: 7 linhas por 52 colunas.\n"
     ]
    },
    {
     "name": "stderr",
     "output_type": "stream",
     "text": [
      "<ipython-input-39-49d007e100ec>:1: DeprecationWarning: Converting `np.character` to a dtype is deprecated. The current result is `np.dtype(np.str_)` which is not strictly correct. Note that `np.character` is generally deprecated and 'S1' should be used.\n",
      "  alinhamento_array = np.array([list(rec) for rec in alinhamento], np.character, order='F')\n"
     ]
    }
   ],
   "source": [
    "alinhamento_array = np.array([list(rec) for rec in alinhamento], np.character, order='F')\n",
    "print(f'Shape do alinhamento: {alinhamento_array.shape[0]} linhas por {alinhamento_array.shape[1]} colunas.')"
   ]
  },
  {
   "cell_type": "markdown",
   "metadata": {},
   "source": [
    "Observe que isso deixa o objeto de alinhamento Biopython original e o array NumPy na memória como objetos separados editar um não atualizará o outro!"
   ]
  },
  {
   "cell_type": "markdown",
   "metadata": {},
   "source": [
    "## 6.4 Obtendo informações do alinhamento"
   ]
  },
  {
   "cell_type": "markdown",
   "metadata": {},
   "source": [
    "### 6.4.1 Substiuições"
   ]
  },
  {
   "cell_type": "markdown",
   "metadata": {},
   "source": [
    "O método **substitutions** do alinhamento relata com que frequência as letras de um alinhamento são substituídas por outras. Isso é calculado pegando todos os pares de linhas no alinhamento, contando o número de vezes que duas letras estão alinhadas uma com outra e somando isso em todos os pares. Por exemplo:"
   ]
  },
  {
   "cell_type": "code",
   "execution_count": 40,
   "metadata": {},
   "outputs": [
    {
     "name": "stdout",
     "output_type": "stream",
     "text": [
      "Alignment with 4 rows and 7 columns\n",
      "ACTCCTA seq1\n",
      "AAT-CTA seq2\n",
      "CCTACT- seq3\n",
      "TCTCCTC seq4\n"
     ]
    }
   ],
   "source": [
    "from Bio.Seq import Seq\n",
    "from Bio.SeqRecord import SeqRecord\n",
    "from Bio.Align import MultipleSeqAlignment\n",
    "alinhamento = MultipleSeqAlignment(\n",
    "[\n",
    "    SeqRecord(Seq('ACTCCTA'), id='seq1'),\n",
    "    SeqRecord(Seq('AAT-CTA'), id='seq2'),\n",
    "    SeqRecord(Seq('CCTACT-'), id='seq3'),\n",
    "    SeqRecord(Seq('TCTCCTC'), id='seq4')\n",
    "]\n",
    ")\n",
    "print(alinhamento)"
   ]
  },
  {
   "cell_type": "code",
   "execution_count": 41,
   "metadata": {},
   "outputs": [
    {
     "name": "stdout",
     "output_type": "stream",
     "text": [
      "    A    C    T\n",
      "A 2.0  4.5  1.0\n",
      "C 4.5 10.0  0.5\n",
      "T 1.0  0.5 12.0\n",
      "\n"
     ]
    }
   ],
   "source": [
    "substituicao = alinhamento.substitutions\n",
    "print(substituicao)"
   ]
  },
  {
   "cell_type": "markdown",
   "metadata": {},
   "source": [
    "Como a ordenação dos pares é arbitrária, as contagens são divididas igualmente acima e abaixo da diagonal. Por exemplo, os 9 alinhamentos de **A** com **C** como 4.5 na posição ['A', 'C] e 4.5 na posição ['C', 'A']. Esse arranjo ajuda a facilitar o cálculo da matriz de substituição a partir dessas contagens, como descrito na **Seção 20.4.2** do Capítulo 20 (***link do capítulo 20***).\n",
    "\n",
    "Observe que o método **substitutions** contém entrada para as letras que aparecem apenas no alinhamento. Você pode usar o método **select** para adicionar as letras faltantes, por exemplo:"
   ]
  },
  {
   "cell_type": "code",
   "execution_count": 42,
   "metadata": {},
   "outputs": [
    {
     "name": "stdout",
     "output_type": "stream",
     "text": [
      "    A    T    C   G\n",
      "A 2.0  1.0  4.5 0.0\n",
      "T 1.0 12.0  0.5 0.0\n",
      "C 4.5  0.5 10.0 0.0\n",
      "G 0.0  0.0  0.0 0.0\n",
      "\n"
     ]
    }
   ],
   "source": [
    "m = substituicao.select('ATCG')\n",
    "print(m)"
   ]
  },
  {
   "cell_type": "markdown",
   "metadata": {},
   "source": [
    "Isso também permite que você altere a ordem alfebética das letras."
   ]
  },
  {
   "cell_type": "markdown",
   "metadata": {},
   "source": [
    "## 6.5 Ferramentas de alinhamento"
   ]
  },
  {
   "cell_type": "markdown",
   "metadata": {},
   "source": [
    "Existem *vários* algoritmos para fazer os alinhamentos de sequência, tanto para alinhamento de pares e alinhamentos múltiplos de sequência. Os cálculos envolvidos nesses algoritmos são relativamente lentos, e acredito que você não quer escrever um algoritmo completo em Python para essa tarefa. Sabendo disso, o Biopython possui os módulo `Bio.pairwise2` escrito em C para melhorar a velocidade de desempenho, e a nova função **PairwiseAligner** do módulo `Bio.Align` (veja a **Seção 6.6.** para mais informações). Além disso, você pode chamar o Biopython para invocar uma ferramenta de linha de comando. Normalmente você faria:\n",
    "\n",
    "1. Preparar um arquivo de entrada com as sequências desalinhadas, geralmente isso será feito em um arquivo FASTA que pode ser criado com o `Bio.SeqIO` (veja o Capítulo 5 para mais informações: https://github.com/GTL98/biopython_br/tree/main/Cap%205%20-%20Sequ%C3%AAncias%20Input_Output);\n",
    "\n",
    "2. Chame a ferramenta de linha de comando para processar o arquivo de entrada, geralmente via linha de comando Biopython (será discutido nessa seção) e;\n",
    "\n",
    "3. Ler a saída da ferramenta, isto é, a sequência alinhada, normalmente usando o módulo `Bio.AlignIO` (será visto mais tarde nesse capítulo).\n",
    "\n",
    "Todas a linhas de comando que faremos nesse capítulo seguirão o mesmo estilo.\n",
    "\n",
    "A maioria dos *wrappers* são definidos pelo módulo `Bio.Align.Applications`:"
   ]
  },
  {
   "cell_type": "code",
   "execution_count": 43,
   "metadata": {},
   "outputs": [
    {
     "data": {
      "text/plain": [
       "['ClustalOmegaCommandline',\n",
       " 'ClustalwCommandline',\n",
       " 'DialignCommandline',\n",
       " 'MSAProbsCommandline',\n",
       " 'MafftCommandline',\n",
       " 'MuscleCommandline',\n",
       " 'PrankCommandline',\n",
       " 'ProbconsCommandline',\n",
       " 'TCoffeeCommandline',\n",
       " '_ClustalOmega',\n",
       " '_Clustalw',\n",
       " '_Dialign',\n",
       " '_MSAProbs',\n",
       " '_Mafft',\n",
       " '_Muscle',\n",
       " '_Prank',\n",
       " '_Probcons',\n",
       " '_TCoffee',\n",
       " '__all__',\n",
       " '__builtins__',\n",
       " '__cached__',\n",
       " '__doc__',\n",
       " '__file__',\n",
       " '__loader__',\n",
       " '__name__',\n",
       " '__package__',\n",
       " '__path__',\n",
       " '__spec__']"
      ]
     },
     "execution_count": 43,
     "metadata": {},
     "output_type": "execute_result"
    }
   ],
   "source": [
    "import Bio.Align.Applications\n",
    "dir(Bio.Align.Applications)"
   ]
  },
  {
   "cell_type": "markdown",
   "metadata": {},
   "source": [
    "Ignore as entradas que começam com o *underline* (_), pois possuem um significado especial em Python. O módulo `Bio.Emboss.Applications` possui muitos *wrappers* para o pacote EMBOSS (http://emboss.sourceforge.net/), incluindo o **needle** e **water**, que serão descritos na **Seção 6.5.5**, e os *wrappers* para versões empacotadas EMBOSS para ferramentas PHYLIP (EMBOSS referencia esses pacotes como EMBOSSY, são ferramentas de terceiros com uma interface no mesmo estilo EMBOSS). Não vamos explorar todos esses alinhamentos nessa seção, apenas um exemplo, mas os mesmos princípios aplicam-se a todos eles."
   ]
  },
  {
   "cell_type": "markdown",
   "metadata": {},
   "source": [
    "### 6.5.1 ClustalW"
   ]
  },
  {
   "cell_type": "markdown",
   "metadata": {},
   "source": [
    "ClustalW é uma ferramenta de linha de comando popular usada para alinhamentos múltiplos de sequência (há também uma interface gráfica chamada ClustalX). O módulo `Bio.Align.Applications` possui um *wrapper* para essa ferramenta de alinhamento (e muitas outras).\n",
    "\n",
    "Antes de usar o ClustalW pelo Python, vamos ver quais são as possibilidades do ClustalW, além de você familiarizar-se com essa ferramenta. Você verá que o *wrapper* do Biopython é bem fiel a API da linha de comando:"
   ]
  },
  {
   "cell_type": "code",
   "execution_count": 44,
   "metadata": {},
   "outputs": [
    {
     "name": "stdout",
     "output_type": "stream",
     "text": [
      "Help on class ClustalwCommandline in module Bio.Align.Applications._Clustalw:\n",
      "\n",
      "class ClustalwCommandline(Bio.Application.AbstractCommandline)\n",
      " |  ClustalwCommandline(cmd='clustalw', **kwargs)\n",
      " |  \n",
      " |  Command line wrapper for clustalw (version one or two).\n",
      " |  \n",
      " |  http://www.clustal.org/\n",
      " |  \n",
      " |  Notes\n",
      " |  -----\n",
      " |  Last checked against versions: 1.83 and 2.1\n",
      " |  \n",
      " |  References\n",
      " |  ----------\n",
      " |  Larkin MA, Blackshields G, Brown NP, Chenna R, McGettigan PA,\n",
      " |  McWilliam H, Valentin F, Wallace IM, Wilm A, Lopez R, Thompson JD,\n",
      " |  Gibson TJ, Higgins DG. (2007). Clustal W and Clustal X version 2.0.\n",
      " |  Bioinformatics, 23, 2947-2948.\n",
      " |  \n",
      " |  Examples\n",
      " |  --------\n",
      " |  >>> from Bio.Align.Applications import ClustalwCommandline\n",
      " |  >>> in_file = \"unaligned.fasta\"\n",
      " |  >>> clustalw_cline = ClustalwCommandline(\"clustalw2\", infile=in_file)\n",
      " |  >>> print(clustalw_cline)\n",
      " |  clustalw2 -infile=unaligned.fasta\n",
      " |  \n",
      " |  You would typically run the command line with clustalw_cline() or via\n",
      " |  the Python subprocess module, as described in the Biopython tutorial.\n",
      " |  \n",
      " |  Method resolution order:\n",
      " |      ClustalwCommandline\n",
      " |      Bio.Application.AbstractCommandline\n",
      " |      builtins.object\n",
      " |  \n",
      " |  Methods defined here:\n",
      " |  \n",
      " |  __init__(self, cmd='clustalw', **kwargs)\n",
      " |      Initialize the class.\n",
      " |  \n",
      " |  ----------------------------------------------------------------------\n",
      " |  Methods inherited from Bio.Application.AbstractCommandline:\n",
      " |  \n",
      " |  __call__(self, stdin=None, stdout=True, stderr=True, cwd=None, env=None)\n",
      " |      Execute command, wait for it to finish, return (stdout, stderr).\n",
      " |      \n",
      " |      Runs the command line tool and waits for it to finish. If it returns\n",
      " |      a non-zero error level, an exception is raised. Otherwise two strings\n",
      " |      are returned containing stdout and stderr.\n",
      " |      \n",
      " |      The optional stdin argument should be a string of data which will be\n",
      " |      passed to the tool as standard input.\n",
      " |      \n",
      " |      The optional stdout and stderr argument may be filenames (string),\n",
      " |      but otherwise are treated as a booleans, and control if the output\n",
      " |      should be captured as strings (True, default), or ignored by sending\n",
      " |      it to /dev/null to avoid wasting memory (False). If sent to a file\n",
      " |      or ignored, then empty string(s) are returned.\n",
      " |      \n",
      " |      The optional cwd argument is a string giving the working directory\n",
      " |      to run the command from. See Python's subprocess module documentation\n",
      " |      for more details.\n",
      " |      \n",
      " |      The optional env argument is a dictionary setting the environment\n",
      " |      variables to be used in the new process. By default the current\n",
      " |      process' environment variables are used. See Python's subprocess\n",
      " |      module documentation for more details.\n",
      " |      \n",
      " |      Default example usage::\n",
      " |      \n",
      " |          from Bio.Emboss.Applications import WaterCommandline\n",
      " |          water_cmd = WaterCommandline(gapopen=10, gapextend=0.5,\n",
      " |                                       stdout=True, auto=True,\n",
      " |                                       asequence=\"a.fasta\", bsequence=\"b.fasta\")\n",
      " |          print(\"About to run: %s\" % water_cmd)\n",
      " |          std_output, err_output = water_cmd()\n",
      " |      \n",
      " |      This functionality is similar to subprocess.check_output(). In general\n",
      " |      if you require more control over running the command, use subprocess\n",
      " |      directly.\n",
      " |      \n",
      " |      When the program called returns a non-zero error level, a custom\n",
      " |      ApplicationError exception is raised. This includes any stdout and\n",
      " |      stderr strings captured as attributes of the exception object, since\n",
      " |      they may be useful for diagnosing what went wrong.\n",
      " |  \n",
      " |  __repr__(self)\n",
      " |      Return a representation of the command line object for debugging.\n",
      " |      \n",
      " |      e.g.\n",
      " |      \n",
      " |      >>> from Bio.Emboss.Applications import WaterCommandline\n",
      " |      >>> cline = WaterCommandline(gapopen=10, gapextend=0.5)\n",
      " |      >>> cline.asequence = \"asis:ACCCGGGCGCGGT\"\n",
      " |      >>> cline.bsequence = \"asis:ACCCGAGCGCGGT\"\n",
      " |      >>> cline.outfile = \"temp_water.txt\"\n",
      " |      >>> print(cline)\n",
      " |      water -outfile=temp_water.txt -asequence=asis:ACCCGGGCGCGGT -bsequence=asis:ACCCGAGCGCGGT -gapopen=10 -gapextend=0.5\n",
      " |      >>> cline\n",
      " |      WaterCommandline(cmd='water', outfile='temp_water.txt', asequence='asis:ACCCGGGCGCGGT', bsequence='asis:ACCCGAGCGCGGT', gapopen=10, gapextend=0.5)\n",
      " |  \n",
      " |  __setattr__(self, name, value)\n",
      " |      Set attribute name to value (PRIVATE).\n",
      " |      \n",
      " |      This code implements a workaround for a user interface issue.\n",
      " |      Without this __setattr__ attribute-based assignment of parameters\n",
      " |      will silently accept invalid parameters, leading to known instances\n",
      " |      of the user assuming that parameters for the application are set,\n",
      " |      when they are not.\n",
      " |      \n",
      " |      >>> from Bio.Emboss.Applications import WaterCommandline\n",
      " |      >>> cline = WaterCommandline(gapopen=10, gapextend=0.5, stdout=True)\n",
      " |      >>> cline.asequence = \"a.fasta\"\n",
      " |      >>> cline.bsequence = \"b.fasta\"\n",
      " |      >>> cline.csequence = \"c.fasta\"\n",
      " |      Traceback (most recent call last):\n",
      " |      ...\n",
      " |      ValueError: Option name csequence was not found.\n",
      " |      >>> print(cline)\n",
      " |      water -stdout -asequence=a.fasta -bsequence=b.fasta -gapopen=10 -gapextend=0.5\n",
      " |      \n",
      " |      This workaround uses a whitelist of object attributes, and sets the\n",
      " |      object attribute list as normal, for these.  Other attributes are\n",
      " |      assumed to be parameters, and passed to the self.set_parameter method\n",
      " |      for validation and assignment.\n",
      " |  \n",
      " |  __str__(self)\n",
      " |      Make the commandline string with the currently set options.\n",
      " |      \n",
      " |      e.g.\n",
      " |      \n",
      " |      >>> from Bio.Emboss.Applications import WaterCommandline\n",
      " |      >>> cline = WaterCommandline(gapopen=10, gapextend=0.5)\n",
      " |      >>> cline.asequence = \"asis:ACCCGGGCGCGGT\"\n",
      " |      >>> cline.bsequence = \"asis:ACCCGAGCGCGGT\"\n",
      " |      >>> cline.outfile = \"temp_water.txt\"\n",
      " |      >>> print(cline)\n",
      " |      water -outfile=temp_water.txt -asequence=asis:ACCCGGGCGCGGT -bsequence=asis:ACCCGAGCGCGGT -gapopen=10 -gapextend=0.5\n",
      " |      >>> str(cline)\n",
      " |      'water -outfile=temp_water.txt -asequence=asis:ACCCGGGCGCGGT -bsequence=asis:ACCCGAGCGCGGT -gapopen=10 -gapextend=0.5'\n",
      " |  \n",
      " |  set_parameter(self, name, value=None)\n",
      " |      Set a commandline option for a program (OBSOLETE).\n",
      " |      \n",
      " |      Every parameter is available via a property and as a named\n",
      " |      keyword when creating the instance. Using either of these is\n",
      " |      preferred to this legacy set_parameter method which is now\n",
      " |      OBSOLETE, and likely to be DEPRECATED and later REMOVED in\n",
      " |      future releases.\n",
      " |  \n",
      " |  ----------------------------------------------------------------------\n",
      " |  Data descriptors inherited from Bio.Application.AbstractCommandline:\n",
      " |  \n",
      " |  __dict__\n",
      " |      dictionary for instance variables (if defined)\n",
      " |  \n",
      " |  __weakref__\n",
      " |      list of weak references to the object (if defined)\n",
      " |  \n",
      " |  ----------------------------------------------------------------------\n",
      " |  Data and other attributes inherited from Bio.Application.AbstractCommandline:\n",
      " |  \n",
      " |  parameters = None\n",
      "\n"
     ]
    }
   ],
   "source": [
    "from Bio.Align.Applications import ClustalwCommandline\n",
    "help(ClustalwCommandline)"
   ]
  },
  {
   "cell_type": "markdown",
   "metadata": {},
   "source": [
    "Para o uso mais básico desta ferramenta, tudo o que você precisará é um arquivo FASTA de entrada (como o opuntia.fasta, que está no mesmo repositório desse arquivo). Esse é um pequeno arquivo FASTA que contém sete sequências de DNA do Figo da Índia (cacto da família *Opuntia*).\n",
    "\n",
    "Por padrão, o ClustalW gerará um alinhamento e uma árvore filogenética com os nomes de identificação das sequências do arquivo FASTA, opuntia.aln e opuntia.dnd nesse caso, mas você pode substituir ou torná-lo explícito:"
   ]
  },
  {
   "cell_type": "code",
   "execution_count": 45,
   "metadata": {},
   "outputs": [
    {
     "name": "stdout",
     "output_type": "stream",
     "text": [
      "clustalw2 -infile=opuntia.fasta\n"
     ]
    }
   ],
   "source": [
    "from Bio.Align.Applications import ClustalwCommandline\n",
    "cline = ClustalwCommandline('clustalw2', infile='opuntia.fasta')\n",
    "print(cline)"
   ]
  },
  {
   "cell_type": "markdown",
   "metadata": {},
   "source": [
    "Note que fornecemos o nome do executável como **clustalw2**, indicando que queremos usar a versão 2.X dois dos ClustalW, se você quiser usar a versão 1.X, use o valor padrão **clustalw**. Felizmente, ambas a versões são suportadas como os mesmos argumentos na linha de comando, e consequentemente, as mesmas funções.\n",
    "\n",
    "Você pode achar que baixando instalando o Biopython em seu computador o ClustalW já venha instalado, mas ele é um programa que deve ser baixado separado. Você pode chamar essa ferramenta de duas formas, pelo PATH ou indicando o caminho no código. Por motivos didáticos faremos da segunda maneira, mas lembre-se que sempre que usar o ClustalW você deve informar o caminho do executável (pelo PATH não precisa indidcar o caminho sempre que chamar no código):"
   ]
  },
  {
   "cell_type": "code",
   "execution_count": 46,
   "metadata": {},
   "outputs": [],
   "source": [
    "import os\n",
    "from Bio.Align.Applications import ClustalwCommandline\n",
    "clustalw_exe = r'D:\\ClustalW\\clustalw2.exe'\n",
    "clustalw_cline = ClustalwCommandline(clustalw_exe, infile='opuntia.fasta')\n",
    "assert os.path.isfile(clustalw_exe), 'ClustalW não foi econtrado.'\n",
    "stdout, stderr = clustalw_cline()"
   ]
  },
  {
   "cell_type": "markdown",
   "metadata": {},
   "source": [
    "Mostrar o **stdout** mostra a análise dos alinhamentos. O **stderr** mostra os erros que foram encontrados, nesse caso não teve:"
   ]
  },
  {
   "cell_type": "code",
   "execution_count": 47,
   "metadata": {},
   "outputs": [
    {
     "name": "stdout",
     "output_type": "stream",
     "text": [
      "\n",
      "\n",
      "\n",
      " CLUSTAL 2.1 Multiple Sequence Alignments\n",
      "\n",
      "\n",
      "Sequence format is Pearson\n",
      "Sequence 1: gi|6273291|gb|AF191665.1|AF191665   902 bp\n",
      "Sequence 2: gi|6273290|gb|AF191664.1|AF191664   899 bp\n",
      "Sequence 3: gi|6273289|gb|AF191663.1|AF191663   899 bp\n",
      "Sequence 4: gi|6273287|gb|AF191661.1|AF191661   895 bp\n",
      "Sequence 5: gi|6273286|gb|AF191660.1|AF191660   893 bp\n",
      "Sequence 6: gi|6273285|gb|AF191659.1|AF191659   894 bp\n",
      "Sequence 7: gi|6273284|gb|AF191658.1|AF191658   896 bp\n",
      "Start of Pairwise alignments\n",
      "Aligning...\n",
      "\n",
      "Sequences (1:2) Aligned. Score:  99\n",
      "Sequences (1:3) Aligned. Score:  99\n",
      "Sequences (1:4) Aligned. Score:  98\n",
      "Sequences (1:5) Aligned. Score:  98\n",
      "Sequences (1:6) Aligned. Score:  98\n",
      "Sequences (1:7) Aligned. Score:  98\n",
      "Sequences (2:3) Aligned. Score:  99\n",
      "Sequences (2:4) Aligned. Score:  98\n",
      "Sequences (2:5) Aligned. Score:  98\n",
      "Sequences (2:6) Aligned. Score:  98\n",
      "Sequences (2:7) Aligned. Score:  98\n",
      "Sequences (3:4) Aligned. Score:  98\n",
      "Sequences (3:5) Aligned. Score:  98\n",
      "Sequences (3:6) Aligned. Score:  98\n",
      "Sequences (3:7) Aligned. Score:  98\n",
      "Sequences (4:5) Aligned. Score:  99\n",
      "Sequences (4:6) Aligned. Score:  99\n",
      "Sequences (4:7) Aligned. Score:  99\n",
      "Sequences (5:6) Aligned. Score:  99\n",
      "Sequences (5:7) Aligned. Score:  99\n",
      "Sequences (6:7) Aligned. Score:  99\n",
      "Guide tree file created:   [opuntia.dnd]\n",
      "\n",
      "There are 6 groups\n",
      "Start of Multiple Alignment\n",
      "\n",
      "Aligning...\n",
      "Group 1: Sequences:   2      Score:16933\n",
      "Group 2: Sequences:   2      Score:16703\n",
      "Group 3: Sequences:   4      Score:16812\n",
      "Group 4: Sequences:   2      Score:17071\n",
      "Group 5: Sequences:   3      Score:16845\n",
      "Group 6: Sequences:   7      Score:16678\n",
      "Alignment Score 114256\n",
      "\n",
      "CLUSTAL-Alignment file created  [opuntia.aln]\n",
      "\n",
      "\n"
     ]
    }
   ],
   "source": [
    "print(stdout)"
   ]
  },
  {
   "cell_type": "markdown",
   "metadata": {},
   "source": [
    "Lembre-se que o Python reconhece alguns caracteres na string como caracteres especial (\\n para pular linha e \\t para tabulação são os mais conhecidos). Usar uma r-string indica ao Python para ler a string fornecida como realmente é, sem ler como caracteres especiais.\n",
    "\n",
    "Agora, a patir desse ponto ajudará muito a saber como essa ferramenta de linha de comando \"trabalha\". Quando você usa uma ferramenta pela linha de comando, é mostrado diretamente na tela um texto de saída. Esse texto pode ser capturado ou redirecionado por dois \"caminhos\": um conhecido como *standard output* (os resultados normais) e o outro conhecido como *standard error* (usado para mensagens de erros e debugs). Também há um *standard input* que é qualquer texto inserido na ferramenta. Esses nomes são abreviados como **stdout**, **stderr** e **stdin**, respectivamente. Quando a ferramenta termina o seu trabalho, é retornado um código (uma variável inteiro para ser mais preciso), que por conveção é 0 para sucesso.\n",
    "\n",
    "Quando você usar a ferramenta de linha de comando via *wrapper* do Biopython, ele espera terminar e verifica o código de retorno. Se retornar algo diferente de 0 (indicnado um erro), uma exceção é chamada. O *wrapper* retorna duas strings, **stdout** e **stderr**.\n",
    "\n",
    "No caso do ClustalW, quando usamos a linha de comando todas as informações importantes são escritas nos arquivos de saída. Durante a análise, tudo é mostrado na tela enquanto você aguarda (via **stdout** e **stderr**), como é um processo chato; pode ser ignorado (assumindo que correu tudo bem na análise).\n",
    "\n",
    "O que realmente nos interessa aqui são os arquivos de saída: o alinhamento e a árvore filogenética. Nós não informamos ao ClstalW qual o nome de arquivo usar, por padrão ele usa o nome do arquivo de entrada. Nesse caso, para o arquivo de alinhamento o arquivo será **opuntia.aln** e para a árvore filogenética, **opuntia.dnd**. Para o arquivo de alinhamento usremos o nosso conhecido `Bio.AlignIO`:"
   ]
  },
  {
   "cell_type": "code",
   "execution_count": 48,
   "metadata": {},
   "outputs": [
    {
     "name": "stdout",
     "output_type": "stream",
     "text": [
      "Alignment with 7 rows and 906 columns\n",
      "TATACATTAAAGAAGGGGGATGCGGATAAATGGAAAGGCGAAAG...AGA gi|6273285|gb|AF191659.1|AF191\n",
      "TATACATTAAAGAAGGGGGATGCGGATAAATGGAAAGGCGAAAG...AGA gi|6273284|gb|AF191658.1|AF191\n",
      "TATACATTAAAGAAGGGGGATGCGGATAAATGGAAAGGCGAAAG...AGA gi|6273287|gb|AF191661.1|AF191\n",
      "TATACATAAAAGAAGGGGGATGCGGATAAATGGAAAGGCGAAAG...AGA gi|6273286|gb|AF191660.1|AF191\n",
      "TATACATTAAAGGAGGGGGATGCGGATAAATGGAAAGGCGAAAG...AGA gi|6273290|gb|AF191664.1|AF191\n",
      "TATACATTAAAGGAGGGGGATGCGGATAAATGGAAAGGCGAAAG...AGA gi|6273289|gb|AF191663.1|AF191\n",
      "TATACATTAAAGGAGGGGGATGCGGATAAATGGAAAGGCGAAAG...AGA gi|6273291|gb|AF191665.1|AF191\n"
     ]
    }
   ],
   "source": [
    "from Bio import AlignIO\n",
    "alinhamento = AlignIO.read('opuntia.aln', 'clustal')\n",
    "print(alinhamento)"
   ]
  },
  {
   "cell_type": "markdown",
   "metadata": {},
   "source": [
    "Se você tiver interesse (assim como eu) em saber o parentesco entre as sequências, basta usar o arquivo **opuntia.dnd** para criar uma árvore filogenética em formato Newick com o `Bio.Phylo`:"
   ]
  },
  {
   "cell_type": "code",
   "execution_count": 49,
   "metadata": {},
   "outputs": [
    {
     "name": "stdout",
     "output_type": "stream",
     "text": [
      "                             _______________ gi|6273291|gb|AF191665.1|AF191665\n",
      "  __________________________|\n",
      " |                          |   ______ gi|6273290|gb|AF191664.1|AF191664\n",
      " |                          |__|\n",
      " |                             |_____ gi|6273289|gb|AF191663.1|AF191663\n",
      " |\n",
      "_|_________________ gi|6273287|gb|AF191661.1|AF191661\n",
      " |\n",
      " |__________ gi|6273286|gb|AF191660.1|AF191660\n",
      " |\n",
      " |    __ gi|6273285|gb|AF191659.1|AF191659\n",
      " |___|\n",
      "     | gi|6273284|gb|AF191658.1|AF191658\n",
      "\n"
     ]
    }
   ],
   "source": [
    "from Bio import Phylo\n",
    "arvore = Phylo.read('opuntia.dnd', 'newick')\n",
    "Phylo.draw_ascii(arvore)"
   ]
  },
  {
   "cell_type": "markdown",
   "metadata": {},
   "source": [
    "Veremos com mais detalhes as árvores filogenéticas no Capítulo 13 (***link do capítulo 13***)"
   ]
  },
  {
   "cell_type": "markdown",
   "metadata": {},
   "source": [
    "### 6.5.2 MUSCLE"
   ]
  },
  {
   "cell_type": "markdown",
   "metadata": {},
   "source": [
    "MUSCLE (**MU**ltiple **S**equence **C**omparison by **L**og-**E**xpectation) é a ferramenta de alinhamento múltiplos de sequência mais recente que o ClustalW, e o Biopython possui um *wrapper* com o módulo `Bio.Align.Applications`. Como feito antes, recomento você usar o MUSCLE com a linha de comando antes de tentar com o Python. Como o ClustalW, o MUSCLE também possui um menu ajuda no Biopython:"
   ]
  },
  {
   "cell_type": "code",
   "execution_count": 50,
   "metadata": {},
   "outputs": [
    {
     "name": "stdout",
     "output_type": "stream",
     "text": [
      "Help on class MuscleCommandline in module Bio.Align.Applications._Muscle:\n",
      "\n",
      "class MuscleCommandline(Bio.Application.AbstractCommandline)\n",
      " |  MuscleCommandline(cmd='muscle', **kwargs)\n",
      " |  \n",
      " |  Command line wrapper for the multiple alignment program MUSCLE.\n",
      " |  \n",
      " |  http://www.drive5.com/muscle/\n",
      " |  \n",
      " |  Notes\n",
      " |  -----\n",
      " |  Last checked against version: 3.7, briefly against 3.8\n",
      " |  \n",
      " |  References\n",
      " |  ----------\n",
      " |  Edgar, Robert C. (2004), MUSCLE: multiple sequence alignment with high\n",
      " |  accuracy and high throughput, Nucleic Acids Research 32(5), 1792-97.\n",
      " |  \n",
      " |  Edgar, R.C. (2004) MUSCLE: a multiple sequence alignment method with\n",
      " |  reduced time and space complexity. BMC Bioinformatics 5(1): 113.\n",
      " |  \n",
      " |  Examples\n",
      " |  --------\n",
      " |  >>> from Bio.Align.Applications import MuscleCommandline\n",
      " |  >>> muscle_exe = r\"C:\\Program Files\\Alignments\\muscle3.8.31_i86win32.exe\"\n",
      " |  >>> in_file = r\"C:\\My Documents\\unaligned.fasta\"\n",
      " |  >>> out_file = r\"C:\\My Documents\\aligned.fasta\"\n",
      " |  >>> muscle_cline = MuscleCommandline(muscle_exe, input=in_file, out=out_file)\n",
      " |  >>> print(muscle_cline)\n",
      " |  \"C:\\Program Files\\Alignments\\muscle3.8.31_i86win32.exe\" -in \"C:\\My Documents\\unaligned.fasta\" -out \"C:\\My Documents\\aligned.fasta\"\n",
      " |  \n",
      " |  You would typically run the command line with muscle_cline() or via\n",
      " |  the Python subprocess module, as described in the Biopython tutorial.\n",
      " |  \n",
      " |  Method resolution order:\n",
      " |      MuscleCommandline\n",
      " |      Bio.Application.AbstractCommandline\n",
      " |      builtins.object\n",
      " |  \n",
      " |  Methods defined here:\n",
      " |  \n",
      " |  __init__(self, cmd='muscle', **kwargs)\n",
      " |      Initialize the class.\n",
      " |  \n",
      " |  ----------------------------------------------------------------------\n",
      " |  Methods inherited from Bio.Application.AbstractCommandline:\n",
      " |  \n",
      " |  __call__(self, stdin=None, stdout=True, stderr=True, cwd=None, env=None)\n",
      " |      Execute command, wait for it to finish, return (stdout, stderr).\n",
      " |      \n",
      " |      Runs the command line tool and waits for it to finish. If it returns\n",
      " |      a non-zero error level, an exception is raised. Otherwise two strings\n",
      " |      are returned containing stdout and stderr.\n",
      " |      \n",
      " |      The optional stdin argument should be a string of data which will be\n",
      " |      passed to the tool as standard input.\n",
      " |      \n",
      " |      The optional stdout and stderr argument may be filenames (string),\n",
      " |      but otherwise are treated as a booleans, and control if the output\n",
      " |      should be captured as strings (True, default), or ignored by sending\n",
      " |      it to /dev/null to avoid wasting memory (False). If sent to a file\n",
      " |      or ignored, then empty string(s) are returned.\n",
      " |      \n",
      " |      The optional cwd argument is a string giving the working directory\n",
      " |      to run the command from. See Python's subprocess module documentation\n",
      " |      for more details.\n",
      " |      \n",
      " |      The optional env argument is a dictionary setting the environment\n",
      " |      variables to be used in the new process. By default the current\n",
      " |      process' environment variables are used. See Python's subprocess\n",
      " |      module documentation for more details.\n",
      " |      \n",
      " |      Default example usage::\n",
      " |      \n",
      " |          from Bio.Emboss.Applications import WaterCommandline\n",
      " |          water_cmd = WaterCommandline(gapopen=10, gapextend=0.5,\n",
      " |                                       stdout=True, auto=True,\n",
      " |                                       asequence=\"a.fasta\", bsequence=\"b.fasta\")\n",
      " |          print(\"About to run: %s\" % water_cmd)\n",
      " |          std_output, err_output = water_cmd()\n",
      " |      \n",
      " |      This functionality is similar to subprocess.check_output(). In general\n",
      " |      if you require more control over running the command, use subprocess\n",
      " |      directly.\n",
      " |      \n",
      " |      When the program called returns a non-zero error level, a custom\n",
      " |      ApplicationError exception is raised. This includes any stdout and\n",
      " |      stderr strings captured as attributes of the exception object, since\n",
      " |      they may be useful for diagnosing what went wrong.\n",
      " |  \n",
      " |  __repr__(self)\n",
      " |      Return a representation of the command line object for debugging.\n",
      " |      \n",
      " |      e.g.\n",
      " |      \n",
      " |      >>> from Bio.Emboss.Applications import WaterCommandline\n",
      " |      >>> cline = WaterCommandline(gapopen=10, gapextend=0.5)\n",
      " |      >>> cline.asequence = \"asis:ACCCGGGCGCGGT\"\n",
      " |      >>> cline.bsequence = \"asis:ACCCGAGCGCGGT\"\n",
      " |      >>> cline.outfile = \"temp_water.txt\"\n",
      " |      >>> print(cline)\n",
      " |      water -outfile=temp_water.txt -asequence=asis:ACCCGGGCGCGGT -bsequence=asis:ACCCGAGCGCGGT -gapopen=10 -gapextend=0.5\n",
      " |      >>> cline\n",
      " |      WaterCommandline(cmd='water', outfile='temp_water.txt', asequence='asis:ACCCGGGCGCGGT', bsequence='asis:ACCCGAGCGCGGT', gapopen=10, gapextend=0.5)\n",
      " |  \n",
      " |  __setattr__(self, name, value)\n",
      " |      Set attribute name to value (PRIVATE).\n",
      " |      \n",
      " |      This code implements a workaround for a user interface issue.\n",
      " |      Without this __setattr__ attribute-based assignment of parameters\n",
      " |      will silently accept invalid parameters, leading to known instances\n",
      " |      of the user assuming that parameters for the application are set,\n",
      " |      when they are not.\n",
      " |      \n",
      " |      >>> from Bio.Emboss.Applications import WaterCommandline\n",
      " |      >>> cline = WaterCommandline(gapopen=10, gapextend=0.5, stdout=True)\n",
      " |      >>> cline.asequence = \"a.fasta\"\n",
      " |      >>> cline.bsequence = \"b.fasta\"\n",
      " |      >>> cline.csequence = \"c.fasta\"\n",
      " |      Traceback (most recent call last):\n",
      " |      ...\n",
      " |      ValueError: Option name csequence was not found.\n",
      " |      >>> print(cline)\n",
      " |      water -stdout -asequence=a.fasta -bsequence=b.fasta -gapopen=10 -gapextend=0.5\n",
      " |      \n",
      " |      This workaround uses a whitelist of object attributes, and sets the\n",
      " |      object attribute list as normal, for these.  Other attributes are\n",
      " |      assumed to be parameters, and passed to the self.set_parameter method\n",
      " |      for validation and assignment.\n",
      " |  \n",
      " |  __str__(self)\n",
      " |      Make the commandline string with the currently set options.\n",
      " |      \n",
      " |      e.g.\n",
      " |      \n",
      " |      >>> from Bio.Emboss.Applications import WaterCommandline\n",
      " |      >>> cline = WaterCommandline(gapopen=10, gapextend=0.5)\n",
      " |      >>> cline.asequence = \"asis:ACCCGGGCGCGGT\"\n",
      " |      >>> cline.bsequence = \"asis:ACCCGAGCGCGGT\"\n",
      " |      >>> cline.outfile = \"temp_water.txt\"\n",
      " |      >>> print(cline)\n",
      " |      water -outfile=temp_water.txt -asequence=asis:ACCCGGGCGCGGT -bsequence=asis:ACCCGAGCGCGGT -gapopen=10 -gapextend=0.5\n",
      " |      >>> str(cline)\n",
      " |      'water -outfile=temp_water.txt -asequence=asis:ACCCGGGCGCGGT -bsequence=asis:ACCCGAGCGCGGT -gapopen=10 -gapextend=0.5'\n",
      " |  \n",
      " |  set_parameter(self, name, value=None)\n",
      " |      Set a commandline option for a program (OBSOLETE).\n",
      " |      \n",
      " |      Every parameter is available via a property and as a named\n",
      " |      keyword when creating the instance. Using either of these is\n",
      " |      preferred to this legacy set_parameter method which is now\n",
      " |      OBSOLETE, and likely to be DEPRECATED and later REMOVED in\n",
      " |      future releases.\n",
      " |  \n",
      " |  ----------------------------------------------------------------------\n",
      " |  Data descriptors inherited from Bio.Application.AbstractCommandline:\n",
      " |  \n",
      " |  __dict__\n",
      " |      dictionary for instance variables (if defined)\n",
      " |  \n",
      " |  __weakref__\n",
      " |      list of weak references to the object (if defined)\n",
      " |  \n",
      " |  ----------------------------------------------------------------------\n",
      " |  Data and other attributes inherited from Bio.Application.AbstractCommandline:\n",
      " |  \n",
      " |  parameters = None\n",
      "\n"
     ]
    }
   ],
   "source": [
    "from Bio.Align.Applications import MuscleCommandline\n",
    "help(MuscleCommandline)"
   ]
  },
  {
   "cell_type": "markdown",
   "metadata": {},
   "source": [
    "Para esse exemplo, usaremos o arquivo FASTA usado na seção anterior. Você informar ao MUSCLE o arquivo FASTA de entrada e o arquivo de saída com o alinhamento:"
   ]
  },
  {
   "cell_type": "code",
   "execution_count": 51,
   "metadata": {},
   "outputs": [
    {
     "name": "stdout",
     "output_type": "stream",
     "text": [
      "muscle -in opuntia.fasta -out opuntia.txt\n"
     ]
    }
   ],
   "source": [
    "from Bio.Align.Applications import MuscleCommandline\n",
    "cline = MuscleCommandline(input='opuntia.fasta', out='opuntia.txt')\n",
    "print(cline)"
   ]
  },
  {
   "cell_type": "markdown",
   "metadata": {},
   "source": [
    "Observe que o MUSCLE usa **-in** e **-out**, mas o Biopython usa **input** e **out** como palavras chaves para os argumentos. Isso ocorre porque **in** é uma palavra reservada Python.\n",
    "\n",
    "Por padrão, o MUSCLE retorna os arquivos de saída no padrão FASTA. O módulo `Bio.AlignIO` deve conseguir ler o arquivo FASTA usando argumento **format='fasta'**. Você pode pedir que o arquivo de saída seja no padrão ClustalW:"
   ]
  },
  {
   "cell_type": "code",
   "execution_count": 52,
   "metadata": {},
   "outputs": [
    {
     "name": "stdout",
     "output_type": "stream",
     "text": [
      "muscle -in opuntia.fasta -out opuntia.aln -clw\n"
     ]
    }
   ],
   "source": [
    "from Bio.Align.Applications import MuscleCommandline\n",
    "cline = MuscleCommandline(input='opuntia.fasta', out='opuntia.aln', clw=True)\n",
    "print(cline)"
   ]
  },
  {
   "cell_type": "markdown",
   "metadata": {},
   "source": [
    "Ou a saída do ClustalW estrita em que a linha do cabeçalho ClustalW original é usada para compatibilidade máxima:"
   ]
  },
  {
   "cell_type": "code",
   "execution_count": 53,
   "metadata": {},
   "outputs": [
    {
     "name": "stdout",
     "output_type": "stream",
     "text": [
      "muscle -in opuntia.fasta -out opuntia.aln -clwstrict\n"
     ]
    }
   ],
   "source": [
    "from Bio.Align.Applications import MuscleCommandline\n",
    "cline = MuscleCommandline(input='opuntia.fasta', out='opuntia.aln', clwstrict=True)\n",
    "print(cline)"
   ]
  },
  {
   "cell_type": "markdown",
   "metadata": {},
   "source": [
    "O módulo `Bio.AlignIO` consegue ler esses alinhamentos usando o argumento **format='clustal'**.\n",
    "\n",
    "O MUSCLE pode gerar arquivo de saída GCG e MSF, mas o Bipython não possui suporte para essas extensões de arquivo. Pode ser retornado também um arquivo HTML para ser lido na internet, mas não é recomendado para análise.\n",
    "\n",
    "Você pode fornecer outros parâmetros opcionais, por exemplo o número máximos de iterações. Veja a função **help** desta seção para mais detalhes.\n",
    "\n",
    "Você pode usar o MUSCLE como o ClustalW na seção anterior, e analisar o arquivo de saída com o `Bio.AlignIO`."
   ]
  },
  {
   "cell_type": "markdown",
   "metadata": {},
   "source": [
    "### 6.5.3 MUSCLE usando stdout"
   ]
  },
  {
   "cell_type": "markdown",
   "metadata": {},
   "source": [
    "Usar a linha de comando do MUSCLE como nos exemplos acima, retornará em um arquivo de alinhamento. Isso indica que não haverá nenhuma informação importante gravada nos identificadores **stdout** e **stderr**. Todavia, por padrão, o MUSCLE escreverá o alinhamento no **stdout**. Podemos tirar vantagem disso para não gerar um arquivo de alinhamento temporário! Por exemplo:"
   ]
  },
  {
   "cell_type": "code",
   "execution_count": 54,
   "metadata": {},
   "outputs": [
    {
     "name": "stdout",
     "output_type": "stream",
     "text": [
      "muscle -in opuntia.fasta\n"
     ]
    }
   ],
   "source": [
    "from Bio.Align.Applications import MuscleCommandline\n",
    "muscle_cline = MuscleCommandline(input='opuntia.fasta')\n",
    "print(muscle_cline)"
   ]
  },
  {
   "cell_type": "markdown",
   "metadata": {},
   "source": [
    "Se usarmos o *wrapper*, teremos como retorno a saída como uma string. Para analisar isso, podemos usar **StringIO** para transformar em um identificador. Vale lembrar que o MUSCLE usa como padrão o formato FASTA para saída:"
   ]
  },
  {
   "cell_type": "code",
   "execution_count": 55,
   "metadata": {},
   "outputs": [],
   "source": [
    "from Bio.Align.Applications import MuscleCommandline\n",
    "muscle_exe = r'D:\\MUSCLE\\muscle3.8.31_i86win32.exe'\n",
    "muscle_cline = MuscleCommandline(muscle_exe, input='opuntia.fasta')\n",
    "stdout, stderr = muscle_cline()"
   ]
  },
  {
   "cell_type": "code",
   "execution_count": 56,
   "metadata": {},
   "outputs": [
    {
     "name": "stdout",
     "output_type": "stream",
     "text": [
      "Alignment with 7 rows and 906 columns\n",
      "TATACATTAAAGGAGGGGGATGCGGATAAATGGAAAGGCGAAAG...AGA gi|6273289|gb|AF191663.1|AF191663\n",
      "TATACATTAAAGGAGGGGGATGCGGATAAATGGAAAGGCGAAAG...AGA gi|6273291|gb|AF191665.1|AF191665\n",
      "TATACATTAAAGGAGGGGGATGCGGATAAATGGAAAGGCGAAAG...AGA gi|6273290|gb|AF191664.1|AF191664\n",
      "TATACATTAAAGAAGGGGGATGCGGATAAATGGAAAGGCGAAAG...AGA gi|6273287|gb|AF191661.1|AF191661\n",
      "TATACATAAAAGAAGGGGGATGCGGATAAATGGAAAGGCGAAAG...AGA gi|6273286|gb|AF191660.1|AF191660\n",
      "TATACATTAAAGAAGGGGGATGCGGATAAATGGAAAGGCGAAAG...AGA gi|6273285|gb|AF191659.1|AF191659\n",
      "TATACATTAAAGAAGGGGGATGCGGATAAATGGAAAGGCGAAAG...AGA gi|6273284|gb|AF191658.1|AF191658\n"
     ]
    }
   ],
   "source": [
    "from io import StringIO\n",
    "from Bio import AlignIO\n",
    "alinhamento = AlignIO.read(StringIO(stdout), 'fasta')\n",
    "print(alinhamento)"
   ]
  },
  {
   "cell_type": "markdown",
   "metadata": {},
   "source": [
    "O exemplo acima é bem simples, mas se você estiver trabalhando com uma saída de texto enorme, todas as informações de **stdout** e **stderr** estarão armazenadas na memória como uma string, o que deixará computador mais lento e até travar em um ponto onde você perdeu a sua análise. Usando o módulo `subprocess` do Python, podemos trabalhar diretamente com os indicadores:"
   ]
  },
  {
   "cell_type": "code",
   "execution_count": 57,
   "metadata": {},
   "outputs": [],
   "source": [
    "import sys\n",
    "import subprocess\n",
    "from Bio.Align.Applications import MuscleCommandline\n",
    "muscle_exe = r'D:\\MUSCLE\\muscle3.8.31_i86win32.exe'\n",
    "muscle_cline = MuscleCommandline(muscle_exe, input='opuntia.fasta')\n",
    "child = subprocess.Popen(str(muscle_cline),\n",
    "                        stdout=subprocess.PIPE,\n",
    "                        stderr=subprocess.PIPE,\n",
    "                        universal_newlines=True,\n",
    "                        shell=(sys.platform!='win32'))"
   ]
  },
  {
   "cell_type": "code",
   "execution_count": 58,
   "metadata": {},
   "outputs": [
    {
     "name": "stdout",
     "output_type": "stream",
     "text": [
      "Alignment with 7 rows and 906 columns\n",
      "TATACATTAAAGGAGGGGGATGCGGATAAATGGAAAGGCGAAAG...AGA gi|6273289|gb|AF191663.1|AF191663\n",
      "TATACATTAAAGGAGGGGGATGCGGATAAATGGAAAGGCGAAAG...AGA gi|6273291|gb|AF191665.1|AF191665\n",
      "TATACATTAAAGGAGGGGGATGCGGATAAATGGAAAGGCGAAAG...AGA gi|6273290|gb|AF191664.1|AF191664\n",
      "TATACATTAAAGAAGGGGGATGCGGATAAATGGAAAGGCGAAAG...AGA gi|6273287|gb|AF191661.1|AF191661\n",
      "TATACATAAAAGAAGGGGGATGCGGATAAATGGAAAGGCGAAAG...AGA gi|6273286|gb|AF191660.1|AF191660\n",
      "TATACATTAAAGAAGGGGGATGCGGATAAATGGAAAGGCGAAAG...AGA gi|6273285|gb|AF191659.1|AF191659\n",
      "TATACATTAAAGAAGGGGGATGCGGATAAATGGAAAGGCGAAAG...AGA gi|6273284|gb|AF191658.1|AF191658\n"
     ]
    }
   ],
   "source": [
    "from Bio import AlignIO\n",
    "alinhamento = AlignIO.read(child.stdout, 'fasta')\n",
    "print(alinhamento)"
   ]
  },
  {
   "cell_type": "markdown",
   "metadata": {},
   "source": [
    "### 6.5.4 MUSCLE usando stdin e stdout"
   ]
  },
  {
   "cell_type": "markdown",
   "metadata": {},
   "source": [
    "Não precisamos realmente ter preparado o arquivo FASTA, uma vez que o MUSCLE por padrão lê a sequência de entrada como um **stdin**! Observe que isso é um pouco mais avançado e complicado, mas não se incomde com essa técnica, a menos que você precise dela.\n",
    "\n",
    "Primeiramente, precisamos de algumas sequências desalinhadas na memória como objetos **SeqRecord**. Como demonstração, usaremos uma versão filtrada do arquivo FASTA usado nos exemplos anteriores, onde conterá 6 das 7 sequências:"
   ]
  },
  {
   "cell_type": "code",
   "execution_count": 59,
   "metadata": {},
   "outputs": [],
   "source": [
    "from Bio import SeqIO\n",
    "registros = (r for r in SeqIO.parse('opuntia.fasta', 'fasta') if len(r) < 900)"
   ]
  },
  {
   "cell_type": "markdown",
   "metadata": {},
   "source": [
    "Agora criaremos uma linha de comando MUSCLE, deixando a entrada e saída com os padrões estabelecidos (**stdin** e **stdout**). Usaremos o formato estrito do ClustalW como saída:"
   ]
  },
  {
   "cell_type": "code",
   "execution_count": 60,
   "metadata": {},
   "outputs": [
    {
     "name": "stdout",
     "output_type": "stream",
     "text": [
      "D:\\MUSCLE\\muscle3.8.31_i86win32.exe -clwstrict\n"
     ]
    }
   ],
   "source": [
    "from Bio.Align.Applications import MuscleCommandline\n",
    "muscle_exe = r'D:\\MUSCLE\\muscle3.8.31_i86win32.exe'\n",
    "muscle_cline = MuscleCommandline(muscle_exe, clwstrict=True)\n",
    "print(muscle_cline)"
   ]
  },
  {
   "cell_type": "markdown",
   "metadata": {},
   "source": [
    "Em seguida, a parte complicada usando o módulo `subprocess`, **stdin** e **stdout**:"
   ]
  },
  {
   "cell_type": "code",
   "execution_count": 61,
   "metadata": {},
   "outputs": [],
   "source": [
    "import sys\n",
    "import subprocess\n",
    "child = subprocess.Popen(str(muscle_cline),\n",
    "                        stdin=subprocess.PIPE,\n",
    "                        stdout=subprocess.PIPE,\n",
    "                        stderr=subprocess.PIPE,\n",
    "                        universal_newlines=True,\n",
    "                        shell=(sys.platform!='win32'))"
   ]
  },
  {
   "cell_type": "markdown",
   "metadata": {},
   "source": [
    "Isto deve iniciar o MUSCLE, mas se você ficará esperando pela sequências de entrada FASTA, que devemos fornecer pelo identificador **stdin**:"
   ]
  },
  {
   "cell_type": "code",
   "execution_count": 62,
   "metadata": {},
   "outputs": [
    {
     "data": {
      "text/plain": [
       "6"
      ]
     },
     "execution_count": 62,
     "metadata": {},
     "output_type": "execute_result"
    }
   ],
   "source": [
    "from Bio import SeqIO\n",
    "SeqIO.write(registros, child.stdin, 'fasta')"
   ]
  },
  {
   "cell_type": "code",
   "execution_count": 63,
   "metadata": {},
   "outputs": [],
   "source": [
    "child.stdin.close()"
   ]
  },
  {
   "cell_type": "markdown",
   "metadata": {},
   "source": [
    "Depois de escrever as 6 sequências para o identificador, o MUSCLE esperará para ver se são somente essas sequências de FASTA ou não, por isso chamamos o método **close** para o identificador. A partir desse ponto, o MUSCLE deve estar inicializado e podemos solicitar que ele nos mostre a saída:"
   ]
  },
  {
   "cell_type": "code",
   "execution_count": 64,
   "metadata": {},
   "outputs": [
    {
     "name": "stdout",
     "output_type": "stream",
     "text": [
      "Alignment with 6 rows and 900 columns\n",
      "TATACATTAAAGGAGGGGGATGCGGATAAATGGAAAGGCGAAAG...AGA gi|6273290|gb|AF191664.1|AF19166\n",
      "TATACATTAAAGGAGGGGGATGCGGATAAATGGAAAGGCGAAAG...AGA gi|6273289|gb|AF191663.1|AF19166\n",
      "TATACATTAAAGAAGGGGGATGCGGATAAATGGAAAGGCGAAAG...AGA gi|6273287|gb|AF191661.1|AF19166\n",
      "TATACATAAAAGAAGGGGGATGCGGATAAATGGAAAGGCGAAAG...AGA gi|6273286|gb|AF191660.1|AF19166\n",
      "TATACATTAAAGAAGGGGGATGCGGATAAATGGAAAGGCGAAAG...AGA gi|6273285|gb|AF191659.1|AF19165\n",
      "TATACATTAAAGAAGGGGGATGCGGATAAATGGAAAGGCGAAAG...AGA gi|6273284|gb|AF191658.1|AF19165\n"
     ]
    }
   ],
   "source": [
    "from Bio import AlignIO\n",
    "alinhamento = AlignIO.read(child.stdout, 'clustal')\n",
    "print(alinhamento)"
   ]
  },
  {
   "cell_type": "markdown",
   "metadata": {},
   "source": [
    "Uau! Temos um novo alinhamento com apenas 6 registros, sem criar um arquivo FASTA temporário de entrada ou um arquivo de alinhamento como saída. Contudo, um aviso: Lidar com erros com esse estilo de chamar programas externos é bem mais complicado. Também torna-se muito mais difícil para diagnosticar probelmas, porque você não pode usar o MUSCLE manualmente que não seja com o Biopython, uma vez que você não tem um arquivo de entrada. Também pode haver problemas sutis de plataforma cruzada (e.g. Windows x Linux) e como o código será usado pode tem impacto (e.g. direto da linha de comando, de uma IDLE ou IDE, de um script GUI). Esses são problemas genéricos do Python, não são exclusivos do Biopython.\n",
    "\n",
    "Se você achar que trabalhar diretamente com o `subprocess` como esse é assustador, existe uma alternativa. Se você executar essas ferramente com **muscle_cline()**, você pode fornecer qualquer entrada padrão como uma grande string, **muscle_cline(stdin=...)**. Portanto, se os seus dados não forem enormes, você pode preparar a entrada FASTA na memória como uma string usando o **StringIO**. Para mais detalhes, veja a **Seção 24.1** do Capítulo 24 (***link do capítulo 24***):"
   ]
  },
  {
   "cell_type": "code",
   "execution_count": 65,
   "metadata": {},
   "outputs": [
    {
     "data": {
      "text/plain": [
       "6"
      ]
     },
     "execution_count": 65,
     "metadata": {},
     "output_type": "execute_result"
    }
   ],
   "source": [
    "from Bio import SeqIO\n",
    "from io import StringIO\n",
    "registros = (r for r in SeqIO.parse('opuntia.fasta', 'fasta') if len(r) < 900)\n",
    "identificador = StringIO()\n",
    "SeqIO.write(registros, identificador, 'fasta')"
   ]
  },
  {
   "cell_type": "code",
   "execution_count": 66,
   "metadata": {},
   "outputs": [],
   "source": [
    "dados = identificador.getvalue()"
   ]
  },
  {
   "cell_type": "markdown",
   "metadata": {},
   "source": [
    "Você pode usar a ferramenta e analisar o alinhamento da seguite maneira:"
   ]
  },
  {
   "cell_type": "code",
   "execution_count": 67,
   "metadata": {},
   "outputs": [
    {
     "name": "stdout",
     "output_type": "stream",
     "text": [
      "Alignment with 6 rows and 900 columns\n",
      "TATACATTAAAGGAGGGGGATGCGGATAAATGGAAAGGCGAAAG...AGA gi|6273290|gb|AF191664.1|AF19166\n",
      "TATACATTAAAGGAGGGGGATGCGGATAAATGGAAAGGCGAAAG...AGA gi|6273289|gb|AF191663.1|AF19166\n",
      "TATACATTAAAGAAGGGGGATGCGGATAAATGGAAAGGCGAAAG...AGA gi|6273287|gb|AF191661.1|AF19166\n",
      "TATACATAAAAGAAGGGGGATGCGGATAAATGGAAAGGCGAAAG...AGA gi|6273286|gb|AF191660.1|AF19166\n",
      "TATACATTAAAGAAGGGGGATGCGGATAAATGGAAAGGCGAAAG...AGA gi|6273285|gb|AF191659.1|AF19165\n",
      "TATACATTAAAGAAGGGGGATGCGGATAAATGGAAAGGCGAAAG...AGA gi|6273284|gb|AF191658.1|AF19165\n"
     ]
    }
   ],
   "source": [
    "from Bio import AlignIO\n",
    "from Bio.Align.Applications import MuscleCommandline\n",
    "muscle_exe = r'D:\\MUSCLE\\muscle3.8.31_i86win32.exe'\n",
    "muscle_cline = MuscleCommandline(muscle_exe, clwstrict=True)\n",
    "stdout, stderr = muscle_cline(stdin=dados)\n",
    "alinhamento = AlignIO.read(StringIO(stdout), 'clustal')\n",
    "print(alinhamento)"
   ]
  },
  {
   "cell_type": "markdown",
   "metadata": {},
   "source": [
    "Você pode achar esse caminho mais fácil, mas necessita de mais memória RAM para as strings FASTA usadas como entrada e a saída como Clustal."
   ]
  },
  {
   "cell_type": "markdown",
   "metadata": {},
   "source": [
    "### 6.5.5 EMBOSS needle e water"
   ]
  },
  {
   "cell_type": "markdown",
   "metadata": {},
   "source": [
    "O pacote EMBOSS inclui as ferramentas **needle** e **water** do algoritmo Needleman-Wunsch de alinhamento global e o algoritmo Smith-Waterman de alinhamento local. As ferramentas compartilham da mesma interface, então alternar entre as duas é algo comum.\n",
    "\n",
    "Suponha que você queira fazer um alinhamento de pares global entre duas sequências no formato FASTA. Os arquivos **alpha.faa** e **beta.faa** estão no mesmo repositório desde arquivo.\n",
    "\n",
    "Como não está mais disponível o programa para download, deixarei o link para essa ferramenta online; funciona igualmente se a linha de comando fosse rodada em sua máquina.\n",
    "\n",
    "Link do EMBOSS online: https://www.ebi.ac.uk/Tools/emboss/"
   ]
  },
  {
   "cell_type": "markdown",
   "metadata": {},
   "source": [
    "## 6.6 Alinhamento de sequência em pares"
   ]
  },
  {
   "cell_type": "markdown",
   "metadata": {},
   "source": [
    "Alinhamento de sequência em pares é um processo de alinhamento de duas sequências onde cada uma é pareada a fim de otimizar a pontuação de similaridade entre cada uma. O Biopython possui duas funções de alinhamento em pares: a \"antiga\" `Bio.pairwise2` e a \"nova\" `Bio.Align.PairwiseAligner`, essa última adicioanda na versão 1.72 do Biopython. Ambos podem ser usados para alinhamento local e global, com uma gama de opções para mudar os parâmetros de alinhamento. Mesmo o **pairwise2** ganhando melhorias em sua velocidade e memória, o **PairwiseAligner** é muito mais rápido; portanto, se você precisar realizar vários alinhamentos com sequências realmente grandes, a segunda ferramenta é a mais adequada. Caso contrário, o **pairwise2** também consegue alinhar listas, o que pode ser útil se as sequências em análise não consistirem somente em caracteres únicos.\n",
    "\n",
    "Informado os mesmos parâmetros e as mesmas sequências, ambos os alinhadores retornarão os mesmos alinhamentos e pontuações. Se o número de alinhamentos é muito alto, pode ser retornado diferentes sbsets para todo alinhamento válido."
   ]
  },
  {
   "cell_type": "markdown",
   "metadata": {},
   "source": [
    "### 6.6.1 pairwise2"
   ]
  },
  {
   "cell_type": "markdown",
   "metadata": {},
   "source": [
    "`Bio.pairwise2` contém essencialmente os mesmo algoritmos do **water** (local) e **needle** (global) do pacote EMBOSS e devem retornar os mesmos resultados. A função **pairwise2** sofreu algumas optimizações em sua velocidade e consumo de memória (a partir da versão 1.67 do Biopython) para sequências curtas (alinhamento global: ~2000 resíduos, alinhamento local: ~600 resíduos) é mais rápido (ou igualmente rápido) usar o **pairwise2** do que usar o EMBOSS **water** ou **needle** via online.\n",
    "\n",
    "Suponha que você queira fazar um alinhamento global de pares entre duas sequências de hemoglobina humana (HBA_HUMAN, HBB_HUMAN). Ambos os arquivos estão no mesmo repositório que este documento:"
   ]
  },
  {
   "cell_type": "code",
   "execution_count": 68,
   "metadata": {},
   "outputs": [],
   "source": [
    "from Bio import SeqIO\n",
    "from Bio import pairwise2\n",
    "seq1 = SeqIO.read('alpha.faa', 'fasta')\n",
    "seq2 = SeqIO.read('beta.faa', 'fasta')\n",
    "alinhamentos = pairwise2.align.globalxx(seq1.seq, seq2.seq)"
   ]
  },
  {
   "cell_type": "markdown",
   "metadata": {},
   "source": [
    "Como você pode ver, chamamos a função de alinhamento com **align.globalxx**. O truque aqui está nas duas últimas letras da função (nesse caso, **xx**), que são usadas para decodificar as pontuações e penalidades por pareamento (*matches*), despareamentos (*mismatches*) e lacunas (*gaps*). A primeira letra da função decodifica a pontuação de match, e.g. **x** indica que a cada match conta 1 e mismatch não conta. A segunda letra decodifica a pontuação para os gaps; **x** indica que gaps não serão pontuados. Para mais informações sobre as letras e todas as possibilidades da função **pairwise2**, acesse: https://biopython.org/docs/1.79/api/Bio.pairwise2.html. Logo, **globalxx** diz que apenas matches entre as sequências serão pontuadas.\n",
    "\n",
    "A variável **alinhamentos** contém agora uma lista de alinhamentos que possui a mesma pontuação ideal para as condições fornecidas. Em nosso exemplo, temos 80 diferentes alinhamentos com um score de 72 (`Bio.pairwise2` pode retornar até 1000 alinhamentos). Vamos dar uma olhada em um desses alinhamentos:"
   ]
  },
  {
   "cell_type": "code",
   "execution_count": 69,
   "metadata": {},
   "outputs": [
    {
     "data": {
      "text/plain": [
       "80"
      ]
     },
     "execution_count": 69,
     "metadata": {},
     "output_type": "execute_result"
    }
   ],
   "source": [
    "len(alinhamentos)"
   ]
  },
  {
   "cell_type": "code",
   "execution_count": 70,
   "metadata": {},
   "outputs": [
    {
     "name": "stdout",
     "output_type": "stream",
     "text": [
      "Alignment(seqA='MV-LSPADKTNV---K-A--A-WGKVGAHAG---EY-GA-EALE-RMFLSF----PTTK-TY--FPHFDL-SH-G--S---AQVK-G------HGKKV--A--DA-LTNAVAHVD-DMPNALS----A-LSD-LHAH--KLR-VDPV-NFKL-LSHCL---LVT--LAAHLPA----EFTPA-VH-ASLDKFLAS---VSTV------LTS--KYR-', seqB='MVHL-----T--PEEKSAVTALWGKV-----NVDE-VG-GEAL-GR--L--LVVYP---WT-QRF--F--ES-FGDLSTPDA-V-MGNPKVKAHGKKVLGAFSD-GL----AH--LD--N-L-KGTFATLS-EL--HCDKL-HVDP-ENF--RL---LGNVLV-CVL-AH---HFGKEFTP-PV-QA------A-YQKV--VAGVANAL--AHKY-H', score=72.0, start=0, end=217)\n"
     ]
    }
   ],
   "source": [
    "print(alinhamentos[0])"
   ]
  },
  {
   "cell_type": "markdown",
   "metadata": {},
   "source": [
    "Cada alinhamento é uma tupla que consiste de duas sequências alinhadas, a pontuação e a posição inicial e final dos alinhamentos (em alinhamento global, o começo é sempre no 0 e o final é o comprimento do alinhamento). `Bio.pairwise2` possui a função **format_alignment** para uma saída mais didática:"
   ]
  },
  {
   "cell_type": "code",
   "execution_count": 71,
   "metadata": {},
   "outputs": [
    {
     "name": "stdout",
     "output_type": "stream",
     "text": [
      "MV-LSPADKTNV---K-A--A-WGKVGAHAG---EY-GA-EALE-RMFLSF----PTTK-TY--FPHFDL-SH-G--S---AQVK-G------HGKKV--A--DA-LTNAVAHVD-DMPNALS----A-LSD-LHAH--KLR-VDPV-NFKL-LSHCL---LVT--LAAHLPA----EFTPA-VH-ASLDKFLAS---VSTV------LTS--KYR-\n",
      "|| |     |     | |  | ||||        |  |  |||  |  |      |    |   |  |   |  |  |   | |  |      |||||  |  |  |    ||   |  | |     | ||  |  |  ||  |||  ||   |   |   ||   | ||       ||||  |  |      |    |  |      |    ||  \n",
      "MVHL-----T--PEEKSAVTALWGKV-----NVDE-VG-GEAL-GR--L--LVVYP---WT-QRF--F--ES-FGDLSTPDA-V-MGNPKVKAHGKKVLGAFSD-GL----AH--LD--N-L-KGTFATLS-EL--HCDKL-HVDP-ENF--RL---LGNVLV-CVL-AH---HFGKEFTP-PV-QA------A-YQKV--VAGVANAL--AHKY-H\n",
      "  Score=72\n",
      "\n"
     ]
    }
   ],
   "source": [
    "from Bio import pairwise2\n",
    "print(pairwise2.format_alignment(*alinhamentos[0]))"
   ]
  },
  {
   "cell_type": "markdown",
   "metadata": {},
   "source": [
    "Desde a versão 1.77 do Biopython, os parâmetros podem ser usados com palavras chaves. O exemplo acima ficaria assim:"
   ]
  },
  {
   "cell_type": "code",
   "execution_count": 72,
   "metadata": {},
   "outputs": [],
   "source": [
    "alinhamentos = pairwise2.align.globalxx(sequenceA=seq1.seq, sequenceB=seq2.seq)"
   ]
  },
  {
   "cell_type": "markdown",
   "metadata": {},
   "source": [
    "Melhores alinhamentos são obtidos quando os gaps são penalizados: altas penalizações para lacunas sozinhas (*gap open*) e penalizações mais baixas para lacunas em sequência (*gap extension*). Para pontuações de match de aminoácidos, geralmente são usadas matrizes como **PAM** ou **BLOSUM**. Desse modo, um alinhamento mais significativo para o nosso exemplo pode ser obtdo usando a matriz BLOSUM62, junto com uma penalização de gap open em 10 e gap extension em 0.5 (usando a função **globalds**):"
   ]
  },
  {
   "cell_type": "code",
   "execution_count": 73,
   "metadata": {},
   "outputs": [
    {
     "data": {
      "text/plain": [
       "2"
      ]
     },
     "execution_count": 73,
     "metadata": {},
     "output_type": "execute_result"
    }
   ],
   "source": [
    "from Bio import SeqIO\n",
    "from Bio import pairwise2\n",
    "from Bio.Align import substitution_matrices\n",
    "blosum62 = substitution_matrices.load('BLOSUM62')\n",
    "seq1 = SeqIO.read('alpha.faa', 'fasta')\n",
    "seq2 = SeqIO.read('beta.faa', 'fasta')\n",
    "alinhamentos = pairwise2.align.globalds(seq1.seq, seq2.seq,blosum62, -10, -0.5)\n",
    "len(alinhamentos)"
   ]
  },
  {
   "cell_type": "code",
   "execution_count": 74,
   "metadata": {},
   "outputs": [
    {
     "name": "stdout",
     "output_type": "stream",
     "text": [
      "MV-LSPADKTNVKAAWGKVGAHAGEYGAEALERMFLSFPTTKTYFPHF-DLS-----HGSAQVKGHGKKVADALTNAVAHVDDMPNALSALSDLHAHKLRVDPVNFKLLSHCLLVTLAAHLPAEFTPAVHASLDKFLASVSTVLTSKYR\n",
      "|| |.|..|..|.|.||||  ...|.|.|||.|.....|.|...|..| |||     .|...||.|||||..|.....||.|........||.||..||.|||.||.||...|...||.|...||||.|.|...|..|.|...|..||.\n",
      "MVHLTPEEKSAVTALWGKV--NVDEVGGEALGRLLVVYPWTQRFFESFGDLSTPDAVMGNPKVKAHGKKVLGAFSDGLAHLDNLKGTFATLSELHCDKLHVDPENFRLLGNVLVCVLAHHFGKEFTPPVQAAYQKVVAGVANALAHKYH\n",
      "  Score=292.5\n",
      "\n"
     ]
    }
   ],
   "source": [
    "print(pairwise2.format_alignment(*alinhamentos[0]))"
   ]
  },
  {
   "cell_type": "markdown",
   "metadata": {},
   "source": [
    "O alinhamento acima tem a mesma pontuação que o **needle** do EMBOSS com as mesmas sequêcias e mesmos parâmetros.\n",
    "\n",
    "Os alinhamentos locais são chamados da mesma maneira que os globais, mas a função é trocada por **local**. As letras funcionam da mesma maneira:"
   ]
  },
  {
   "cell_type": "code",
   "execution_count": 75,
   "metadata": {},
   "outputs": [
    {
     "name": "stdout",
     "output_type": "stream",
     "text": [
      "3 PADKTNV\n",
      "  |..|..|\n",
      "1 PEEKSAV\n",
      "  Score=16\n",
      "\n"
     ]
    }
   ],
   "source": [
    "from Bio import pairwise2\n",
    "from Bio.Align import substitution_matrices\n",
    "blosum62 = substitution_matrices.load('BLOSUM62')\n",
    "alinhamentos = pairwise2.align.localds('LSPADKTNVKAA', 'PEEKSAV', blosum62, -10, -1)\n",
    "print(pairwise2.format_alignment(*alinhamentos[0]))"
   ]
  },
  {
   "cell_type": "markdown",
   "metadata": {},
   "source": [
    "Se você usar as mesmas sequências e os mesmos parâmetros no site que está hospedado o algoritmo **water** do EMBOSS, você terá a mesma pontuação.\n",
    "\n",
    "Nas versões recentes do Biopython, o método **format_alignment** mostra somente uma parte do alinhamento (começando na posição 1 como visto no exemplo acima). Se você estiver interessado na parte não alinhada das sequências, basta passar *True* para o parâmetro **full_sequences**:"
   ]
  },
  {
   "cell_type": "code",
   "execution_count": 76,
   "metadata": {},
   "outputs": [
    {
     "name": "stdout",
     "output_type": "stream",
     "text": [
      "LSPADKTNVKAA\n",
      "  |..|..|   \n",
      "--PEEKSAV---\n",
      "  Score=16\n",
      "\n"
     ]
    }
   ],
   "source": [
    "from Bio import pairwise2\n",
    "from Bio.Align import substitution_matrices\n",
    "blosum62 = substitution_matrices.load('BLOSUM62')\n",
    "alinhamentos = pairwise2.align.localds('LSPADKTNVKAA', 'PEEKSAV', blosum62, -10, -1)\n",
    "print(pairwise2.format_alignment(*alinhamentos[0], full_sequences=True))"
   ]
  },
  {
   "cell_type": "markdown",
   "metadata": {},
   "source": [
    "Observe que os alinhamentos locais devem, como foram definidos por Smith & Waterman, ter uma pontuação positiva (>0). Desse modo, **pairwise2** pode retornar nenhum alinhamento se nenhuma posição maior que 0 for obtida. Além diso, **pairwise2** não relatará alinhamentos que são o resultado da adição de extensões de pontuação zero em qualquer um dos sítios. No exemplo a seguir, os pares de serina/ácido aspártico (S/D) e lisina/asparagina (K/N) possuem a pontuação de match igual a 0. E como você pode adivinhar, essas partes do alinhamento não serão mostradas (a menos que você passe *True* para o parâmetro **full_sequences**):"
   ]
  },
  {
   "cell_type": "code",
   "execution_count": 77,
   "metadata": {},
   "outputs": [
    {
     "name": "stdout",
     "output_type": "stream",
     "text": [
      "4 PADKTNV\n",
      "  |..|..|\n",
      "3 PEEKSAV\n",
      "  Score=16\n",
      "\n"
     ]
    }
   ],
   "source": [
    "from Bio import pairwise2\n",
    "from Bio.Align import substitution_matrices\n",
    "blosum62 = substitution_matrices.load('BLOSUM62')\n",
    "alinhamentos = pairwise2.align.localds('LSSPADKTNVKKAA', 'DDPEEKSAVNN', blosum62, -10, -1)\n",
    "print(pairwise2.format_alignment(*alinhamentos[0]))"
   ]
  },
  {
   "cell_type": "markdown",
   "metadata": {},
   "source": [
    "Ao invés de fornecer uma matriz completa de match/mismatch, a opção **m** permite definir manualmente os valores de match/mismatch. O próximo exemplo usará os valores 5/-4 para match/mismatch e as penalidades de gap open/gap extend em 2/0.5, com a função **localms**:"
   ]
  },
  {
   "cell_type": "code",
   "execution_count": 78,
   "metadata": {
    "scrolled": true
   },
   "outputs": [
    {
     "name": "stdout",
     "output_type": "stream",
     "text": [
      "2 GAAC\n",
      "  | ||\n",
      "1 G-AC\n",
      "  Score=13\n",
      "\n"
     ]
    }
   ],
   "source": [
    "from Bio import pairwise2\n",
    "alinhamentos = pairwise2.align.localms('AGAACT', 'GAC', 5, -4, -2, -0.5)\n",
    "print(pairwise2.format_alignment(*alinhamentos[0]))"
   ]
  },
  {
   "cell_type": "markdown",
   "metadata": {},
   "source": [
    "Um argumento \"mão na roda\" do `Bio.pairwise2.align` é o **score_only**. Quando fornecido *True* para ele, retornará somente o valor da pontuação do(s) melhor(es) alinhamento(s), mas em um tempo significativamente menor. Também permitirá o alinhamento de sequências mais longas antes que um erro de memória seja gerado. Outro argumento \"mão na roda\" é o **one_alignment_only=True** que resulta e maior ganho de velocidade.\n",
    "\n",
    "Infelizmente, `Bio.pairwise2` não trabalha com objetos Biopython de alinhamento múltiplo de sequências (por enquanto). Entretanto, o módulo possui diversos recursos avançados interessantes: você pode definir a sua própria função de match e gap, penalidade de gap e penalidade de gaps finais podem ser diferentes para ambas as sequências, as sequências podem ser fornecidas como listas (útil se você tiver resíduos que são codificados por mais de uma caracter), e muito mais. Esses recursos são difíceis (se é que são) de usar com outras ferramentas de alinhamento. Para mais detalhes, veja a documentação dos módulos em: https://biopython.org/docs/1.79/api/Bio.pairwise2.html."
   ]
  },
  {
   "cell_type": "markdown",
   "metadata": {},
   "source": [
    "### 6.6.2 PairwiseAligner"
   ]
  },
  {
   "cell_type": "markdown",
   "metadata": {},
   "source": [
    "O novo `Bio.Align.PairwiseAligner` implementa os algoritmos de alinhamento global e local Needleman-Wunsch, Smith-Waterman, Gotoh e Waterman-Smith-Beyer."
   ]
  },
  {
   "cell_type": "markdown",
   "metadata": {},
   "source": [
    "#### 6.6.2.1 Uso básico"
   ]
  },
  {
   "cell_type": "markdown",
   "metadata": {},
   "source": [
    "Para parear os alinhamentos, criamos primeiro o objeto **PairwiseAligner**:"
   ]
  },
  {
   "cell_type": "code",
   "execution_count": 79,
   "metadata": {},
   "outputs": [],
   "source": [
    "from Bio import Align\n",
    "alinhador = Align.PairwiseAligner()"
   ]
  },
  {
   "cell_type": "markdown",
   "metadata": {},
   "source": [
    "O objeto **alinhador** de **PairwiseAligner** (veja a **Seçao 6.6.2.2**) armazena os parâmetros do alinhamento que serão usados para o alinhamento de pares.\n",
    "\n",
    "Esses atribtos podem ser definidos no construtor do objeto ou depois que objeto é criado:"
   ]
  },
  {
   "cell_type": "code",
   "execution_count": 80,
   "metadata": {},
   "outputs": [],
   "source": [
    "alinhador = Align.PairwiseAligner(match_score=1.0)"
   ]
  },
  {
   "cell_type": "markdown",
   "metadata": {},
   "source": [
    "Ou de modo equivalente:"
   ]
  },
  {
   "cell_type": "code",
   "execution_count": 81,
   "metadata": {},
   "outputs": [],
   "source": [
    "alinhador.match_score = 1.0"
   ]
  },
  {
   "cell_type": "markdown",
   "metadata": {},
   "source": [
    "Usar o método **alinhador.score** para calcular a pontuação do alinhamento entre as duas sequências:"
   ]
  },
  {
   "cell_type": "code",
   "execution_count": 82,
   "metadata": {},
   "outputs": [
    {
     "data": {
      "text/plain": [
       "3.0"
      ]
     },
     "execution_count": 82,
     "metadata": {},
     "output_type": "execute_result"
    }
   ],
   "source": [
    "seq1 = 'GAACT'\n",
    "seq2 = 'GAT'\n",
    "pontuacao = alinhador.score(seq1, seq2)\n",
    "pontuacao"
   ]
  },
  {
   "cell_type": "markdown",
   "metadata": {},
   "source": [
    "Para ver o atual alinhamento, use o método **alinhador.align** e itere sobre os objetos retornados de **PairwiseAlignment**: "
   ]
  },
  {
   "cell_type": "code",
   "execution_count": 83,
   "metadata": {},
   "outputs": [
    {
     "name": "stdout",
     "output_type": "stream",
     "text": [
      "GAACT\n",
      "||--|\n",
      "GA--T\n",
      "\n",
      "GAACT\n",
      "|-|-|\n",
      "G-A-T\n",
      "\n"
     ]
    }
   ],
   "source": [
    "alinhamentos = alinhador.align(seq1, seq2)\n",
    "for alinhamento in alinhamentos:\n",
    "    print(alinhamento)"
   ]
  },
  {
   "cell_type": "markdown",
   "metadata": {},
   "source": [
    "Por padrão, um alinhamento global pareado é realizado, que encontra o alinhamento ótimo sobre todo o tamanho de **seq1** e **seq2**. Em vez disso, um alinhamento local encontrará uma subsequência de **seq1** e **seq2** com a maior pontução de alinhamento. Alinhamentos locais podem ser gerados configurando o método **alinhador.mode** com o valor *local*:"
   ]
  },
  {
   "cell_type": "code",
   "execution_count": 84,
   "metadata": {},
   "outputs": [
    {
     "data": {
      "text/plain": [
       "5.0"
      ]
     },
     "execution_count": 84,
     "metadata": {},
     "output_type": "execute_result"
    }
   ],
   "source": [
    "alinhador.mode = 'local'\n",
    "seq1 = 'AGAACTC'\n",
    "seq2 = 'GAACT'\n",
    "pontuacao = alinhador.score(seq1, seq2)\n",
    "pontuacao"
   ]
  },
  {
   "cell_type": "code",
   "execution_count": 85,
   "metadata": {},
   "outputs": [
    {
     "name": "stdout",
     "output_type": "stream",
     "text": [
      "AGAACTC\n",
      " |||||\n",
      " GAACT\n",
      "\n"
     ]
    }
   ],
   "source": [
    "alinhamentos = alinhador.align(seq1, seq2)\n",
    "for alinhamento in alinhamentos:\n",
    "    print(alinhamento)"
   ]
  },
  {
   "cell_type": "markdown",
   "metadata": {},
   "source": [
    "Observe que existe alguma ambiguidade na definição dos melhores alinhamentos locais se os segmentos com pontuação igual a 0 pudere ser adicionados ao alinhamento."
   ]
  },
  {
   "cell_type": "markdown",
   "metadata": {},
   "source": [
    "#### 6.6.2.2 O objeto alinhador de pares"
   ]
  },
  {
   "cell_type": "markdown",
   "metadata": {},
   "source": [
    "O objeto **PairwiseAligner** armazena todos os parâmetros de alinhamento para serem usados nos alinhamentos de pares. Para ver todos os valores dos parâmetros, use:"
   ]
  },
  {
   "cell_type": "code",
   "execution_count": 86,
   "metadata": {},
   "outputs": [
    {
     "name": "stdout",
     "output_type": "stream",
     "text": [
      "Pairwise sequence aligner with parameters\n",
      "  wildcard: None\n",
      "  match_score: 1.000000\n",
      "  mismatch_score: 0.000000\n",
      "  target_internal_open_gap_score: 0.000000\n",
      "  target_internal_extend_gap_score: 0.000000\n",
      "  target_left_open_gap_score: 0.000000\n",
      "  target_left_extend_gap_score: 0.000000\n",
      "  target_right_open_gap_score: 0.000000\n",
      "  target_right_extend_gap_score: 0.000000\n",
      "  query_internal_open_gap_score: 0.000000\n",
      "  query_internal_extend_gap_score: 0.000000\n",
      "  query_left_open_gap_score: 0.000000\n",
      "  query_left_extend_gap_score: 0.000000\n",
      "  query_right_open_gap_score: 0.000000\n",
      "  query_right_extend_gap_score: 0.000000\n",
      "  mode: local\n",
      "\n"
     ]
    }
   ],
   "source": [
    "print(alinhador)"
   ]
  },
  {
   "cell_type": "markdown",
   "metadata": {},
   "source": [
    "Veja as seções **6.6.2.3**, **6.6.2.4** e **6.6.2.8** para a definição desses parâmetros. O atributo **mode** visto na **Seção 6.6.2.1** pode ser configurado como *global* ou *local* para especificar o tipo de alinhamento.\n",
    "\n",
    "Dependendo dos parâmetros de pontação do gap (veja as seções **6.6.2.4** e **6.6.2.8**) e o modo, o objeto **PairwiseAligner** escolher automaticamente o algoritmo a ser usado no alinhamento de pares. Para verificar essa informação, use:"
   ]
  },
  {
   "cell_type": "code",
   "execution_count": 87,
   "metadata": {},
   "outputs": [
    {
     "data": {
      "text/plain": [
       "'Smith-Waterman'"
      ]
     },
     "execution_count": 87,
     "metadata": {},
     "output_type": "execute_result"
    }
   ],
   "source": [
    "alinhador.algorithm"
   ]
  },
  {
   "cell_type": "markdown",
   "metadata": {},
   "source": [
    "Esse atributo é somente para leitura.\n",
    "\n",
    "Um objeto **PairwiseAligner** consegue armazenar o valor de precisão ε usado durante o alinhamento. O valor de ε está armazenado no atributo **alinhador.epsilon**, e por padrão o seu valor é 1e-6:"
   ]
  },
  {
   "cell_type": "code",
   "execution_count": 88,
   "metadata": {},
   "outputs": [
    {
     "data": {
      "text/plain": [
       "1e-06"
      ]
     },
     "execution_count": 88,
     "metadata": {},
     "output_type": "execute_result"
    }
   ],
   "source": [
    "alinhador.epsilon"
   ]
  },
  {
   "cell_type": "markdown",
   "metadata": {},
   "source": [
    "Duas pontuações são consideradas iguais entre si para efeito de alinhamento se a diferença absoluta entre elas for menor que ε."
   ]
  },
  {
   "cell_type": "markdown",
   "metadata": {},
   "source": [
    "#### 6.6.2.3 Pontuação de substituição"
   ]
  },
  {
   "cell_type": "markdown",
   "metadata": {},
   "source": [
    "Pontuação de substituição define o valor a ser adicionado à pontuação total quando duas letras (nucleotídeos ou aminoácidos) estão alinhados um com o outro. A pontuação de substituição usada em **PairwiseAligner** pode ser especificada de duas maneiras:"
   ]
  },
  {
   "cell_type": "markdown",
   "metadata": {},
   "source": [
    "1. Especificando o valor de match para letras idênticas e mismatch para letras diferentes. Alinhamentos de sequências nucleicas são geralmente baseadas na pontuação de match e mismatch. Por exemplo, por padrão o BLAST usa a pontuação de match igual a 1 e mismatch igual a -2 para nucleotídeos alinhados pelo **megablast**, com a penalidade de gap em 2.5 (veja a **Seção 6.6.2.4** para mais informações na pontuação de gap). As pontações de match e mismatch podem ser especificadas usando os atributos **match_score** e **mismatch_score** no objeto **PairwiseAligner**:"
   ]
  },
  {
   "cell_type": "code",
   "execution_count": 89,
   "metadata": {},
   "outputs": [],
   "source": [
    "from Bio import Align\n",
    "alinhador = Align.PairwiseAligner()"
   ]
  },
  {
   "cell_type": "code",
   "execution_count": 90,
   "metadata": {},
   "outputs": [
    {
     "data": {
      "text/plain": [
       "1.0"
      ]
     },
     "execution_count": 90,
     "metadata": {},
     "output_type": "execute_result"
    }
   ],
   "source": [
    "alinhador.match_score"
   ]
  },
  {
   "cell_type": "code",
   "execution_count": 91,
   "metadata": {},
   "outputs": [
    {
     "data": {
      "text/plain": [
       "0.0"
      ]
     },
     "execution_count": 91,
     "metadata": {},
     "output_type": "execute_result"
    }
   ],
   "source": [
    "alinhador.mismatch_score"
   ]
  },
  {
   "cell_type": "code",
   "execution_count": 92,
   "metadata": {},
   "outputs": [
    {
     "name": "stdout",
     "output_type": "stream",
     "text": [
      "3.0\n"
     ]
    }
   ],
   "source": [
    "pontuacao = alinhador.score('ACGT', 'ACAT')\n",
    "print(pontuacao)"
   ]
  },
  {
   "cell_type": "code",
   "execution_count": 93,
   "metadata": {},
   "outputs": [
    {
     "name": "stdout",
     "output_type": "stream",
     "text": [
      "1.0\n"
     ]
    }
   ],
   "source": [
    "alinhador.match_score = 1.0\n",
    "alinhador.mismatch_score = -2.0\n",
    "alinhador.gap_score = -2.5\n",
    "pontuacao = alinhador.score('ACGT', 'ACAT')\n",
    "print(pontuacao)"
   ]
  },
  {
   "cell_type": "markdown",
   "metadata": {},
   "source": [
    "- Quando usamos a pontuação de match e mismatch, você pode especificar um caractere curinga (*None* por padrão) para letras desconhecidas. Isso gera a pontuação 0 nos alinhamentos, independente da pontuação de match e mismatch:"
   ]
  },
  {
   "cell_type": "code",
   "execution_count": 94,
   "metadata": {},
   "outputs": [
    {
     "name": "stdout",
     "output_type": "stream",
     "text": [
      "3.0\n"
     ]
    }
   ],
   "source": [
    "alinhador.wildcard = '?'\n",
    "pontuacao = alinhador.score('ACGT', 'AC?T')\n",
    "print(pontuacao)"
   ]
  },
  {
   "cell_type": "markdown",
   "metadata": {},
   "source": [
    "2. De modo alternativo, você pode usar o atributo **substitution_matrix** do objeto **PairwiseAligner** para especificar a matriz de substituição. Isso permite que você aplique diferentes pontuações para diferentes pares de match e mismatch de letras. Isso é geralmente usado em alinhamento de aminoácidos. Por exemplo, por padrão o BLAST usa a matriz de substituição BLOSUM62 para os alinhamentos de proteínas feito pelo **blastp**. Essa matriz de susbstituição está disponível para o Biopython:"
   ]
  },
  {
   "cell_type": "code",
   "execution_count": 95,
   "metadata": {},
   "outputs": [
    {
     "data": {
      "text/plain": [
       "['BENNER22',\n",
       " 'BENNER6',\n",
       " 'BENNER74',\n",
       " 'BLOSUM45',\n",
       " 'BLOSUM50',\n",
       " 'BLOSUM62',\n",
       " 'BLOSUM80',\n",
       " 'BLOSUM90',\n",
       " 'DAYHOFF',\n",
       " 'FENG',\n",
       " 'GENETIC',\n",
       " 'GONNET1992',\n",
       " 'HOXD70',\n",
       " 'JOHNSON',\n",
       " 'JONES',\n",
       " 'LEVIN',\n",
       " 'MCLACHLAN',\n",
       " 'MDM78',\n",
       " 'NUC.4.4',\n",
       " 'PAM250',\n",
       " 'PAM30',\n",
       " 'PAM70',\n",
       " 'RAO',\n",
       " 'RISLER',\n",
       " 'SCHNEIDER',\n",
       " 'STR',\n",
       " 'TRANS']"
      ]
     },
     "execution_count": 95,
     "metadata": {},
     "output_type": "execute_result"
    }
   ],
   "source": [
    "from Bio.Align import substitution_matrices\n",
    "substitution_matrices.load()"
   ]
  },
  {
   "cell_type": "code",
   "execution_count": 96,
   "metadata": {},
   "outputs": [
    {
     "name": "stdout",
     "output_type": "stream",
     "text": [
      "#  Matrix made by matblas from blosum62.iij\n",
      "#  * column uses minimum score\n",
      "#  BLOSUM Clustered Scoring Matrix in 1/2 Bit Units\n",
      "#  Blocks Database = /data/blocks_5.0/blocks.dat\n",
      "#  Cluster Percentage: >= 62\n",
      "#  Entropy =   0.6979, Expected =  -0.5209\n",
      "     A    R    N    D    C    Q    E    G    H    I    L    K    M    F    P    S    T    W    Y    V    B    Z    X    *\n",
      "A  4.0 -1.0 -2.0 -2.0  0.0 -1.0 -1.0  0.0 -2.0 -1.0 -1.0 -1.0 -1.0 -2.0 -1.0  1.0  0.0 -3.0 -2.0  0.0 -2.0 -1.0  0.0 -4.0\n",
      "R -1.0  5.0  0.0 -2.0 -3.0  1.0  0.0 -2.0  0.0 -3.0 -2.0  2.0 -1.0 -3.0 -2.0 -1.0 -1.0 -3.0 -2.0 -3.0 -1.0  0.0 -1.0 -4.0\n",
      "N -2.0  0.0  6.0  1.0 -3.0  0.0  0.0  0.0  1.0 -3.0 -3.0  0.0 -2.0 -3.0 -2.0  1.0  0.0 -4.0 -2.0 -3.0  3.0  0.0 -1.0 -4.0\n",
      "D -2.0 -2.0  1.0  6.0 -3.0  0.0  2.0 -1.0 -1.0 -3.0 -4.0 -1.0 -3.0 -3.0 -1.0  0.0 -1.0 -4.0 -3.0 -3.0  4.0  1.0 -1.0 -4.0\n",
      "C  0.0 -3.0 -3.0 -3.0  9.0 -3.0 -4.0 -3.0 -3.0 -1.0 -1.0 -3.0 -1.0 -2.0 -3.0 -1.0 -1.0 -2.0 -2.0 -1.0 -3.0 -3.0 -2.0 -4.0\n",
      "Q -1.0  1.0  0.0  0.0 -3.0  5.0  2.0 -2.0  0.0 -3.0 -2.0  1.0  0.0 -3.0 -1.0  0.0 -1.0 -2.0 -1.0 -2.0  0.0  3.0 -1.0 -4.0\n",
      "E -1.0  0.0  0.0  2.0 -4.0  2.0  5.0 -2.0  0.0 -3.0 -3.0  1.0 -2.0 -3.0 -1.0  0.0 -1.0 -3.0 -2.0 -2.0  1.0  4.0 -1.0 -4.0\n",
      "G  0.0 -2.0  0.0 -1.0 -3.0 -2.0 -2.0  6.0 -2.0 -4.0 -4.0 -2.0 -3.0 -3.0 -2.0  0.0 -2.0 -2.0 -3.0 -3.0 -1.0 -2.0 -1.0 -4.0\n",
      "H -2.0  0.0  1.0 -1.0 -3.0  0.0  0.0 -2.0  8.0 -3.0 -3.0 -1.0 -2.0 -1.0 -2.0 -1.0 -2.0 -2.0  2.0 -3.0  0.0  0.0 -1.0 -4.0\n",
      "I -1.0 -3.0 -3.0 -3.0 -1.0 -3.0 -3.0 -4.0 -3.0  4.0  2.0 -3.0  1.0  0.0 -3.0 -2.0 -1.0 -3.0 -1.0  3.0 -3.0 -3.0 -1.0 -4.0\n",
      "L -1.0 -2.0 -3.0 -4.0 -1.0 -2.0 -3.0 -4.0 -3.0  2.0  4.0 -2.0  2.0  0.0 -3.0 -2.0 -1.0 -2.0 -1.0  1.0 -4.0 -3.0 -1.0 -4.0\n",
      "K -1.0  2.0  0.0 -1.0 -3.0  1.0  1.0 -2.0 -1.0 -3.0 -2.0  5.0 -1.0 -3.0 -1.0  0.0 -1.0 -3.0 -2.0 -2.0  0.0  1.0 -1.0 -4.0\n",
      "M -1.0 -1.0 -2.0 -3.0 -1.0  0.0 -2.0 -3.0 -2.0  1.0  2.0 -1.0  5.0  0.0 -2.0 -1.0 -1.0 -1.0 -1.0  1.0 -3.0 -1.0 -1.0 -4.0\n",
      "F -2.0 -3.0 -3.0 -3.0 -2.0 -3.0 -3.0 -3.0 -1.0  0.0  0.0 -3.0  0.0  6.0 -4.0 -2.0 -2.0  1.0  3.0 -1.0 -3.0 -3.0 -1.0 -4.0\n",
      "P -1.0 -2.0 -2.0 -1.0 -3.0 -1.0 -1.0 -2.0 -2.0 -3.0 -3.0 -1.0 -2.0 -4.0  7.0 -1.0 -1.0 -4.0 -3.0 -2.0 -2.0 -1.0 -2.0 -4.0\n",
      "S  1.0 -1.0  1.0  0.0 -1.0  0.0  0.0  0.0 -1.0 -2.0 -2.0  0.0 -1.0 -2.0 -1.0  4.0  1.0 -3.0 -2.0 -2.0  0.0  0.0  0.0 -4.0\n",
      "T  0.0 -1.0  0.0 -1.0 -1.0 -1.0 -1.0 -2.0 -2.0 -1.0 -1.0 -1.0 -1.0 -2.0 -1.0  1.0  5.0 -2.0 -2.0  0.0 -1.0 -1.0  0.0 -4.0\n",
      "W -3.0 -3.0 -4.0 -4.0 -2.0 -2.0 -3.0 -2.0 -2.0 -3.0 -2.0 -3.0 -1.0  1.0 -4.0 -3.0 -2.0 11.0  2.0 -3.0 -4.0 -3.0 -2.0 -4.0\n",
      "Y -2.0 -2.0 -2.0 -3.0 -2.0 -1.0 -2.0 -3.0  2.0 -1.0 -1.0 -2.0 -1.0  3.0 -3.0 -2.0 -2.0  2.0  7.0 -1.0 -3.0 -2.0 -1.0 -4.0\n",
      "V  0.0 -3.0 -3.0 -3.0 -1.0 -2.0 -2.0 -3.0 -3.0  3.0  1.0 -2.0  1.0 -1.0 -2.0 -2.0  0.0 -3.0 -1.0  4.0 -3.0 -2.0 -1.0 -4.0\n",
      "B -2.0 -1.0  3.0  4.0 -3.0  0.0  1.0 -1.0  0.0 -3.0 -4.0  0.0 -3.0 -3.0 -2.0  0.0 -1.0 -4.0 -3.0 -3.0  4.0  1.0 -1.0 -4.0\n",
      "Z -1.0  0.0  0.0  1.0 -3.0  3.0  4.0 -2.0  0.0 -3.0 -3.0  1.0 -1.0 -3.0 -1.0  0.0 -1.0 -3.0 -2.0 -2.0  1.0  4.0 -1.0 -4.0\n",
      "X  0.0 -1.0 -1.0 -1.0 -2.0 -1.0 -1.0 -1.0 -1.0 -1.0 -1.0 -1.0 -1.0 -1.0 -2.0  0.0  0.0 -2.0 -1.0 -1.0 -1.0 -1.0 -1.0 -4.0\n",
      "* -4.0 -4.0 -4.0 -4.0 -4.0 -4.0 -4.0 -4.0 -4.0 -4.0 -4.0 -4.0 -4.0 -4.0 -4.0 -4.0 -4.0 -4.0 -4.0 -4.0 -4.0 -4.0 -4.0  1.0\n",
      "\n"
     ]
    }
   ],
   "source": [
    "matriz = substitution_matrices.load('BLOSUM62')\n",
    "print(matriz)"
   ]
  },
  {
   "cell_type": "code",
   "execution_count": 97,
   "metadata": {},
   "outputs": [
    {
     "data": {
      "text/plain": [
       "24.0"
      ]
     },
     "execution_count": 97,
     "metadata": {},
     "output_type": "execute_result"
    }
   ],
   "source": [
    "alinhador.substitution_matrix = matriz\n",
    "pontuacao = alinhador.score('ACDQ', 'ACDQ')\n",
    "pontuacao"
   ]
  },
  {
   "cell_type": "code",
   "execution_count": 98,
   "metadata": {},
   "outputs": [
    {
     "data": {
      "text/plain": [
       "19.0"
      ]
     },
     "execution_count": 98,
     "metadata": {},
     "output_type": "execute_result"
    }
   ],
   "source": [
    "pontuacao = alinhador.score('ACDQ', 'ACNQ')\n",
    "pontuacao"
   ]
  },
  {
   "cell_type": "markdown",
   "metadata": {},
   "source": [
    "- Quando usamos a matriz de substituição, **X** não é interpretado como um caractere desconhecido. Ao invés disso, a pontuação provida pela matriz de substiruição será usada:"
   ]
  },
  {
   "cell_type": "code",
   "execution_count": 99,
   "metadata": {},
   "outputs": [
    {
     "data": {
      "text/plain": [
       "-1.0"
      ]
     },
     "execution_count": 99,
     "metadata": {},
     "output_type": "execute_result"
    }
   ],
   "source": [
    "matriz['D', 'X']"
   ]
  },
  {
   "cell_type": "code",
   "execution_count": 100,
   "metadata": {},
   "outputs": [
    {
     "data": {
      "text/plain": [
       "17.0"
      ]
     },
     "execution_count": 100,
     "metadata": {},
     "output_type": "execute_result"
    }
   ],
   "source": [
    "pontuacao = alinhador.score('ACDQ', 'ACXQ')\n",
    "pontuacao"
   ]
  },
  {
   "cell_type": "markdown",
   "metadata": {},
   "source": [
    "- Por padrão, o valor de **alinhador.substitution_matrix** é *None*. Os atributos **match_score** e **mismatch_score** são ignorados se **substitution_matrix** for *None*. Configurar os valores de **match_score** ou **mismatch_score** para valores válidos, reseta **substitution_matrix** para *None*."
   ]
  },
  {
   "cell_type": "markdown",
   "metadata": {},
   "source": [
    "#### 6.6.2.4 Pontuações de gap afim"
   ]
  },
  {
   "attachments": {
    "tabela_pontuacao_gap-2.png": {
     "image/png": "[encoded data removed]"
    }
   },
   "cell_type": "markdown",
   "metadata": {},
   "source": [
    "Pontuações de gap afim são definidos pela pontuação do open gap e a pontuação do extend gap:\n",
    "\n",
    "- pontuação gap = pontuação open gap + (*n* - 1) * pontuação extend gap\n",
    "\n",
    "Onde *n* iforma o tamanho do gap. O alinhador de pares do Biopython permite um controle refinado sobre o esquema de pontação de gap, especificando os seguintes 12 atributos de um objeto **PairwiselAligner**:\n",
    "\n",
    "![tabela_pontuacao_gap-2.png](attachment:tabela_pontuacao_gap-2.png)\n",
    "\n",
    "Esses atributos permitem diferentes pontuações de lacunas internas e em qualquer uma das extremidades da sequência, como mostrado no exemplo a seguir:\n",
    "\n"
   ]
  },
  {
   "attachments": {
    "tabela_pontuacao_gap_exemplo.png": {
     "image/png": "[encoded data removed]"
    }
   },
   "cell_type": "markdown",
   "metadata": {},
   "source": [
    "![tabela_pontuacao_gap_exemplo.png](attachment:tabela_pontuacao_gap_exemplo.png)"
   ]
  },
  {
   "cell_type": "markdown",
   "metadata": {},
   "source": [
    "Por convesão, objetos **PairwiseAligner** possuem atributos adicionais que se referem a uma série desses valores coletivamente, conforme mostrado (hierarquicamente) na **Tabela 6.1**."
   ]
  },
  {
   "cell_type": "markdown",
   "metadata": {},
   "source": [
    "#### 6.6.2.5 Pontuações gap gerais"
   ]
  },
  {
   "cell_type": "markdown",
   "metadata": {},
   "source": [
    "Para um controle mais refinado sobre as pontuações gap, você pode especificar uma função de pontuação gap. Por exemplo, a função de pontação de gap abaixo não permite um gap após dois nucleotídeos na sequência query:"
   ]
  },
  {
   "cell_type": "code",
   "execution_count": 101,
   "metadata": {},
   "outputs": [],
   "source": [
    "from Bio import Align\n",
    "alinhador = Align.PairwiseAligner()\n",
    "\n",
    "def minha_funcao_pontuacao_gap(comeco, comprimento):\n",
    "    if comeco == 2:\n",
    "        return -1000\n",
    "    else:\n",
    "        return -1 * comprimento"
   ]
  },
  {
   "cell_type": "code",
   "execution_count": 102,
   "metadata": {},
   "outputs": [
    {
     "name": "stdout",
     "output_type": "stream",
     "text": [
      "AACTT\n",
      "-|.||\n",
      "-AATT\n",
      "\n",
      "AACTT\n",
      "|-.||\n",
      "A-ATT\n",
      "\n",
      "AACTT\n",
      "||.-|\n",
      "AAT-T\n",
      "\n",
      "AACTT\n",
      "||.|-\n",
      "AATT-\n",
      "\n"
     ]
    }
   ],
   "source": [
    "alinhador.query_gap_score = minha_funcao_pontuacao_gap\n",
    "alinhamentos = alinhador.align('AACTT', 'AATT')\n",
    "for alinhamento in alinhamentos:\n",
    "    print(alinhamento)"
   ]
  },
  {
   "cell_type": "markdown",
   "metadata": {},
   "source": [
    "#### 6.6.2.6 Iterando sobre os alinhamentos"
   ]
  },
  {
   "attachments": {
    "tabela_meta_atributos.png": {
     "image/png": "[encoded data removed]"
    }
   },
   "cell_type": "markdown",
   "metadata": {},
   "source": [
    "Os **alinhamentos** retornados pelo **alinhador.align** são um tipo de objetos iteráveis imutáveis (semelhante ao **range**). Embora eles aparentem similaridade com **tuplas** ou **listas** de objetos **PairwiseAlignment**, eles são diferentes no sentido de que cada objeto **PairwiseAlignment** é criado dinamicamente quando necessário. Essa abordagem foi escolhida porque o número de alinhamentos pode ser extremamente grande, em particular para alinhamentos pobres (veja a **Seção 6.6.2.9** para um exemplo).\n",
    "\n",
    "Você pode realizar as seguintes operações em alinhamentos:\n",
    "\n",
    "- **len(alinhamentos)** retorna a quantidade de alinhamentos armazenados. Essa função retorna rapidamente, mesmo que a quantidade de alinhamentos seja grande. Se o número de alinhamentos for extremamente grande (geralmente maior do que 9.223.372.036.854.775.807, que é o maior inteiro que pode ser armazenado com **long int** em sistemas 64 bit), **len(alinhamentos)** pode gerar um **OverflowError**. Um grande número de alinhamentos sugere que a qualidade do alinhamento é baixa.\n",
    "\n",
    "![tabela_meta_atributos.png](attachment:tabela_meta_atributos.png)\n",
    "\n",
    "***Tabela 6.1: Meta atributos os objetos de alinhamento de pares.***"
   ]
  },
  {
   "cell_type": "code",
   "execution_count": 103,
   "metadata": {},
   "outputs": [
    {
     "data": {
      "text/plain": [
       "3"
      ]
     },
     "execution_count": 103,
     "metadata": {},
     "output_type": "execute_result"
    }
   ],
   "source": [
    "from Bio import Align\n",
    "alinhador = Align.PairwiseAligner()\n",
    "alinhamentos = alinhador.align('AAA', 'AA')\n",
    "len(alinhamentos)"
   ]
  },
  {
   "cell_type": "markdown",
   "metadata": {},
   "source": [
    "- Você pode extrair um alinhamento específico pelo índice:"
   ]
  },
  {
   "cell_type": "code",
   "execution_count": 104,
   "metadata": {},
   "outputs": [
    {
     "name": "stdout",
     "output_type": "stream",
     "text": [
      "AAA\n",
      "-||\n",
      "-AA\n",
      "\n"
     ]
    }
   ],
   "source": [
    "from Bio import Align\n",
    "alinhador = Align.PairwiseAligner()\n",
    "alinhamentos = alinhador.align('AAA', 'AA')\n",
    "print(alinhamentos[2])"
   ]
  },
  {
   "cell_type": "code",
   "execution_count": 105,
   "metadata": {},
   "outputs": [
    {
     "name": "stdout",
     "output_type": "stream",
     "text": [
      "AAA\n",
      "||-\n",
      "AA-\n",
      "\n"
     ]
    }
   ],
   "source": [
    "print(alinhamentos[0])"
   ]
  },
  {
   "cell_type": "markdown",
   "metadata": {},
   "source": [
    "- Você pode iterar sobre os alinhamentos dessa maneira:"
   ]
  },
  {
   "cell_type": "code",
   "execution_count": 106,
   "metadata": {},
   "outputs": [
    {
     "name": "stdout",
     "output_type": "stream",
     "text": [
      "AAA\n",
      "||-\n",
      "AA-\n",
      "\n",
      "AAA\n",
      "|-|\n",
      "A-A\n",
      "\n",
      "AAA\n",
      "-||\n",
      "-AA\n",
      "\n"
     ]
    }
   ],
   "source": [
    "for alinhamento in alinhamentos:\n",
    "    print(alinhamento)"
   ]
  },
  {
   "cell_type": "markdown",
   "metadata": {},
   "source": [
    "- Observe que **alinhamentos** pode ser reutilizado, i.e. você pode iterar sobre os alinhamentos diversas vezes:"
   ]
  },
  {
   "cell_type": "code",
   "execution_count": 107,
   "metadata": {},
   "outputs": [
    {
     "name": "stdout",
     "output_type": "stream",
     "text": [
      "AAA\n",
      "||-\n",
      "AA-\n",
      "\n",
      "AAA\n",
      "|-|\n",
      "A-A\n",
      "\n",
      "AAA\n",
      "-||\n",
      "-AA\n",
      "\n"
     ]
    }
   ],
   "source": [
    "from Bio import Align\n",
    "alinhador = Align.PairwiseAligner()\n",
    "alinhamentos = alinhador.align('AAA', 'AA')\n",
    "for alinhamento in alinhamentos:\n",
    "    print(alinhamento)"
   ]
  },
  {
   "cell_type": "code",
   "execution_count": 108,
   "metadata": {},
   "outputs": [
    {
     "name": "stdout",
     "output_type": "stream",
     "text": [
      "AAA\n",
      "||-\n",
      "AA-\n",
      "\n",
      "AAA\n",
      "|-|\n",
      "A-A\n",
      "\n",
      "AAA\n",
      "-||\n",
      "-AA\n",
      "\n"
     ]
    }
   ],
   "source": [
    "for alinhamento in alinhamentos:\n",
    "    print(alinhamento)"
   ]
  },
  {
   "cell_type": "markdown",
   "metadata": {},
   "source": [
    "- Você também pode converter o iterador de alinhamentos em uma lista ou tupla:"
   ]
  },
  {
   "cell_type": "code",
   "execution_count": 109,
   "metadata": {},
   "outputs": [
    {
     "name": "stdout",
     "output_type": "stream",
     "text": [
      "[<Bio.Align.PairwiseAlignment object at 0x00000019C5517BB0>, <Bio.Align.PairwiseAlignment object at 0x00000019C5517A90>, <Bio.Align.PairwiseAlignment object at 0x00000019C5517400>]\n"
     ]
    }
   ],
   "source": [
    "alinhamentos = list(alinhamentos)\n",
    "print(alinhamentos)"
   ]
  },
  {
   "cell_type": "markdown",
   "metadata": {},
   "source": [
    "- É recomendável verificar o número de alinhamentos chamando **len(alinhamentos)** antes de chamar **list(alinhamentos)** para salvar os alinhamentos em uma lista."
   ]
  },
  {
   "cell_type": "markdown",
   "metadata": {},
   "source": [
    "- A pontuação do alinhamento (que contém o mesmo valor para cada alinhamento em **alinhamentos**) está armazenada como um atributo. Isso permite você checar a pontuação do alinhamento antes de prosseguir com a extração dos alinhamentos:"
   ]
  },
  {
   "cell_type": "code",
   "execution_count": 110,
   "metadata": {},
   "outputs": [
    {
     "name": "stdout",
     "output_type": "stream",
     "text": [
      "2.0\n"
     ]
    }
   ],
   "source": [
    "from Bio import Align\n",
    "alinhador = Align.PairwiseAligner()\n",
    "alinhamentos = alinhador.align('AAA', 'AA')\n",
    "print(alinhamentos.score)"
   ]
  },
  {
   "cell_type": "markdown",
   "metadata": {},
   "source": [
    "#### 6.6.2.7 Objetos de alinhamento"
   ]
  },
  {
   "cell_type": "markdown",
   "metadata": {},
   "source": [
    "O método **alinhador.align** retorna objetos **PairwiseAligner**, cada um representando um alinhamento entre duas sequências:"
   ]
  },
  {
   "cell_type": "code",
   "execution_count": 111,
   "metadata": {},
   "outputs": [
    {
     "data": {
      "text/plain": [
       "<Bio.Align.PairwiseAlignment at 0x19c5517e80>"
      ]
     },
     "execution_count": 111,
     "metadata": {},
     "output_type": "execute_result"
    }
   ],
   "source": [
    "from Bio import Align\n",
    "alinhador = Align.PairwiseAligner()\n",
    "seq1 = 'GAACT'\n",
    "seq2 = 'GAT'\n",
    "alinhamentos = alinhador.align(seq1, seq2)\n",
    "alinhamento = alinhamentos[0]\n",
    "alinhamento"
   ]
  },
  {
   "cell_type": "markdown",
   "metadata": {},
   "source": [
    "Cada alinhamento armazena a pontuação de alinhamento:"
   ]
  },
  {
   "cell_type": "code",
   "execution_count": 112,
   "metadata": {},
   "outputs": [
    {
     "data": {
      "text/plain": [
       "3.0"
      ]
     },
     "execution_count": 112,
     "metadata": {},
     "output_type": "execute_result"
    }
   ],
   "source": [
    "alinhamento.score"
   ]
  },
  {
   "cell_type": "markdown",
   "metadata": {},
   "source": [
    "Bem como os ponteiros para as sequências que foram alinhadas:"
   ]
  },
  {
   "cell_type": "code",
   "execution_count": 113,
   "metadata": {},
   "outputs": [
    {
     "data": {
      "text/plain": [
       "'GAACT'"
      ]
     },
     "execution_count": 113,
     "metadata": {},
     "output_type": "execute_result"
    }
   ],
   "source": [
    "alinhamento.target"
   ]
  },
  {
   "cell_type": "code",
   "execution_count": 114,
   "metadata": {},
   "outputs": [
    {
     "data": {
      "text/plain": [
       "'GAT'"
      ]
     },
     "execution_count": 114,
     "metadata": {},
     "output_type": "execute_result"
    }
   ],
   "source": [
    "alinhamento.query"
   ]
  },
  {
   "cell_type": "markdown",
   "metadata": {},
   "source": [
    "Você pode mostrar de modo explícito o alinhamento do objeto **PairwiseAlignment**:"
   ]
  },
  {
   "cell_type": "code",
   "execution_count": 115,
   "metadata": {},
   "outputs": [
    {
     "name": "stdout",
     "output_type": "stream",
     "text": [
      "GAACT\n",
      "||--|\n",
      "GA--T\n",
      "\n"
     ]
    }
   ],
   "source": [
    "print(alinhamento)"
   ]
  },
  {
   "cell_type": "markdown",
   "metadata": {},
   "source": [
    "O comprimento do alinhamento é definifo como o número de sequências alinhadas, então sempre será retornado o valor de 2:"
   ]
  },
  {
   "cell_type": "code",
   "execution_count": 116,
   "metadata": {},
   "outputs": [
    {
     "data": {
      "text/plain": [
       "2"
      ]
     },
     "execution_count": 116,
     "metadata": {},
     "output_type": "execute_result"
    }
   ],
   "source": [
    "len(alinhamento)"
   ]
  },
  {
   "cell_type": "markdown",
   "metadata": {},
   "source": [
    "A propriedade **shape** retorna uma tupla que consiste no comprimento do alinhamento e o número de colunas no alinhamento:"
   ]
  },
  {
   "cell_type": "code",
   "execution_count": 117,
   "metadata": {},
   "outputs": [
    {
     "data": {
      "text/plain": [
       "(2, 5)"
      ]
     },
     "execution_count": 117,
     "metadata": {},
     "output_type": "execute_result"
    }
   ],
   "source": [
    "alinhamento.shape"
   ]
  },
  {
   "cell_type": "markdown",
   "metadata": {},
   "source": [
    "Para alinhamentos locais, as seções que não estão alinhadas não são incluídas no número de colunas:"
   ]
  },
  {
   "cell_type": "code",
   "execution_count": 118,
   "metadata": {},
   "outputs": [
    {
     "name": "stdout",
     "output_type": "stream",
     "text": [
      "TGAACT\n",
      " ||-|\n",
      " GA-C\n",
      "\n"
     ]
    }
   ],
   "source": [
    "alinhador.mode = 'local'\n",
    "alinhamentos_locais = alinhador.align('TGAACT', 'GAC')\n",
    "alinhamento_local = alinhamentos_locais[0]\n",
    "print(alinhamento_local)"
   ]
  },
  {
   "cell_type": "code",
   "execution_count": 119,
   "metadata": {},
   "outputs": [
    {
     "data": {
      "text/plain": [
       "(2, 4)"
      ]
     },
     "execution_count": 119,
     "metadata": {},
     "output_type": "execute_result"
    }
   ],
   "source": [
    "alinhamento_local.shape"
   ]
  },
  {
   "cell_type": "markdown",
   "metadata": {},
   "source": [
    "Usar a propriedade **aligned** para encontrar os índices de começo e final das subsequências nas sequências **target** e **query** que estão alinhadas entre si. Geralmente, se o alinhamento entre **target** (t) e **query** (q) consiste em *N* pedaços, você tem duas tuplas de tamanho *N*:\n",
    "\n",
    "(\n",
    "\n",
    "    ((t_comeco1, t_final1), (t_comeco2, t_final2), ..., (t_comecoN, t_finalN)),\n",
    "    ((q_comeco1, q_final1), (q_comeco2, q_final2), ..., (q_comcecoN, q_finalN)),\n",
    ")\n",
    "\n",
    "No exemplo atual, **alinhamento.aligned** retorna uma tupla de tamanho 2:"
   ]
  },
  {
   "cell_type": "code",
   "execution_count": 120,
   "metadata": {},
   "outputs": [
    {
     "data": {
      "text/plain": [
       "(((0, 2), (4, 5)), ((0, 2), (2, 3)))"
      ]
     },
     "execution_count": 120,
     "metadata": {},
     "output_type": "execute_result"
    }
   ],
   "source": [
    "alinhamento.aligned"
   ]
  },
  {
   "cell_type": "markdown",
   "metadata": {},
   "source": [
    "Enquanto para o alinhamento alternativo, duas tuplas de tamanho 3 são retornadas:"
   ]
  },
  {
   "cell_type": "code",
   "execution_count": 121,
   "metadata": {},
   "outputs": [
    {
     "name": "stdout",
     "output_type": "stream",
     "text": [
      "GAACT\n",
      "|-|-|\n",
      "G-A-T\n",
      "\n"
     ]
    }
   ],
   "source": [
    "alinhamento = alinhamentos[1]\n",
    "print(alinhamento)"
   ]
  },
  {
   "cell_type": "code",
   "execution_count": 122,
   "metadata": {},
   "outputs": [
    {
     "data": {
      "text/plain": [
       "(((0, 1), (2, 3), (4, 5)), ((0, 1), (1, 2), (2, 3)))"
      ]
     },
     "execution_count": 122,
     "metadata": {},
     "output_type": "execute_result"
    }
   ],
   "source": [
    "alinhamento.aligned"
   ]
  },
  {
   "cell_type": "markdown",
   "metadata": {},
   "source": [
    "Observe que diferentes alinhamentos podem ter as mesmas subsequências alinhadas entre si. Em particular, isso pode ocorrer se os alinhamentos diferem uns dos outros em termos da colocação dos gaps apenas:"
   ]
  },
  {
   "cell_type": "code",
   "execution_count": 123,
   "metadata": {},
   "outputs": [
    {
     "data": {
      "text/plain": [
       "2"
      ]
     },
     "execution_count": 123,
     "metadata": {},
     "output_type": "execute_result"
    }
   ],
   "source": [
    "alinhador.mode = 'global'\n",
    "alinhador.mismatch_score = -10\n",
    "alinhamentos = alinhador.align('AAACAAA', 'AAAGAAA')\n",
    "len(alinhamentos)"
   ]
  },
  {
   "cell_type": "code",
   "execution_count": 124,
   "metadata": {},
   "outputs": [
    {
     "name": "stdout",
     "output_type": "stream",
     "text": [
      "AAAC-AAA\n",
      "|||--|||\n",
      "AAA-GAAA\n",
      "\n"
     ]
    }
   ],
   "source": [
    "print(alinhamentos[0])"
   ]
  },
  {
   "cell_type": "code",
   "execution_count": 125,
   "metadata": {},
   "outputs": [
    {
     "data": {
      "text/plain": [
       "(((0, 3), (4, 7)), ((0, 3), (4, 7)))"
      ]
     },
     "execution_count": 125,
     "metadata": {},
     "output_type": "execute_result"
    }
   ],
   "source": [
    "alinhamentos[0].aligned"
   ]
  },
  {
   "cell_type": "code",
   "execution_count": 126,
   "metadata": {},
   "outputs": [
    {
     "name": "stdout",
     "output_type": "stream",
     "text": [
      "AAA-CAAA\n",
      "|||--|||\n",
      "AAAG-AAA\n",
      "\n"
     ]
    }
   ],
   "source": [
    "print(alinhamentos[1])"
   ]
  },
  {
   "cell_type": "code",
   "execution_count": 127,
   "metadata": {},
   "outputs": [
    {
     "data": {
      "text/plain": [
       "(((0, 3), (4, 7)), ((0, 3), (4, 7)))"
      ]
     },
     "execution_count": 127,
     "metadata": {},
     "output_type": "execute_result"
    }
   ],
   "source": [
    "alinhamentos[1].aligned"
   ]
  },
  {
   "cell_type": "markdown",
   "metadata": {},
   "source": [
    "A propriedade **aligned** pode ser usada para identificar alinhamentos que são idênticos entre si em termos de suas seqências alinhadas.\n",
    "\n",
    "O método **sort** ordena os alinhamentos das sequências. Por padrão, a ordenação é feita com base no atributo **id** de cada sequêcia, se disponível, ou no conteúdo da sequência, caso contrário:"
   ]
  },
  {
   "cell_type": "code",
   "execution_count": 128,
   "metadata": {},
   "outputs": [
    {
     "name": "stdout",
     "output_type": "stream",
     "text": [
      "TGAACT\n",
      " ||-|\n",
      " GA-C\n",
      "\n"
     ]
    }
   ],
   "source": [
    "print(alinhamento_local)"
   ]
  },
  {
   "cell_type": "code",
   "execution_count": 129,
   "metadata": {},
   "outputs": [
    {
     "name": "stdout",
     "output_type": "stream",
     "text": [
      " GA-C\n",
      " ||-|\n",
      "TGAACT\n",
      "\n"
     ]
    }
   ],
   "source": [
    "alinhamento_local.sort()\n",
    "print(alinhamento_local)"
   ]
  },
  {
   "cell_type": "markdown",
   "metadata": {},
   "source": [
    "De modo alternativo, você pode fornever uma função chave para determinar a ordem dos alinhamentos. Por exemplo, você pode ordenar as sequências pelo valor do conteúdo GC:"
   ]
  },
  {
   "cell_type": "code",
   "execution_count": 130,
   "metadata": {},
   "outputs": [
    {
     "name": "stdout",
     "output_type": "stream",
     "text": [
      "TGAACT\n",
      " ||-|\n",
      " GA-C\n",
      "\n"
     ]
    }
   ],
   "source": [
    "from Bio.SeqUtils import GC\n",
    "alinhamento_local.sort(key=GC)\n",
    "print(alinhamento_local)"
   ]
  },
  {
   "cell_type": "markdown",
   "metadata": {},
   "source": [
    "O argmento **reverse** permite que você obtenha a ordem de modo contrário, nesse caso, com o valor de GC maior sendo a primeira sequência mostrada:"
   ]
  },
  {
   "cell_type": "code",
   "execution_count": 131,
   "metadata": {},
   "outputs": [
    {
     "name": "stdout",
     "output_type": "stream",
     "text": [
      " GA-C\n",
      " ||-|\n",
      "TGAACT\n",
      "\n"
     ]
    }
   ],
   "source": [
    "alinhamento_local.sort(key=GC, reverse=True)\n",
    "print(alinhamento_local)"
   ]
  },
  {
   "cell_type": "markdown",
   "metadata": {},
   "source": [
    "Use o método **substitutions** para encontrar o número de substituições entre cada par de nucleotídeos:"
   ]
  },
  {
   "cell_type": "code",
   "execution_count": 132,
   "metadata": {},
   "outputs": [
    {
     "data": {
      "text/plain": [
       "8"
      ]
     },
     "execution_count": 132,
     "metadata": {},
     "output_type": "execute_result"
    }
   ],
   "source": [
    "target = 'AAAAAAAACCCCCCCCGGGGGGGGTTTTTTTT'\n",
    "query = 'AAAAAAACCCTCCCCGGCCGGGGTTTAGTTT'\n",
    "alinhador.mismatch_score = -1\n",
    "alinhador.gap_score = -1\n",
    "alinhamentos = alinhador.align(target, query)\n",
    "len(alinhamentos)"
   ]
  },
  {
   "cell_type": "code",
   "execution_count": 133,
   "metadata": {},
   "outputs": [
    {
     "name": "stdout",
     "output_type": "stream",
     "text": [
      "AAAAAAAACCCCCCCCGGGGGGGGTTTTTTTT\n",
      "|||||||-|||.||||||..|||||||..|||\n",
      "AAAAAAA-CCCTCCCCGGCCGGGGTTTAGTTT\n",
      "\n"
     ]
    }
   ],
   "source": [
    "print(alinhamentos[0])"
   ]
  },
  {
   "cell_type": "code",
   "execution_count": 134,
   "metadata": {},
   "outputs": [
    {
     "name": "stdout",
     "output_type": "stream",
     "text": [
      "    A   C   G   T\n",
      "A 7.0 0.0 0.0 0.0\n",
      "C 0.0 7.0 0.0 1.0\n",
      "G 0.0 2.0 6.0 0.0\n",
      "T 1.0 0.0 1.0 6.0\n",
      "\n"
     ]
    }
   ],
   "source": [
    "m = alinhamentos[0].substitutions\n",
    "print(m)"
   ]
  },
  {
   "cell_type": "markdown",
   "metadata": {},
   "source": [
    "Observe que a matriz não é simétrica: as linhas correspondem à sequência **target** e as colunas à sequência **query**. Por exemplo, o quantidade de G na sequência **target** que está alinhada com C na sequência **query** é de:"
   ]
  },
  {
   "cell_type": "code",
   "execution_count": 135,
   "metadata": {},
   "outputs": [
    {
     "data": {
      "text/plain": [
       "2.0"
      ]
     },
     "execution_count": 135,
     "metadata": {},
     "output_type": "execute_result"
    }
   ],
   "source": [
    "m['G', 'C']"
   ]
  },
  {
   "cell_type": "markdown",
   "metadata": {},
   "source": [
    "E o número de C na sequência **target** que alinha com G na sequência **query** é de:"
   ]
  },
  {
   "cell_type": "code",
   "execution_count": 136,
   "metadata": {},
   "outputs": [
    {
     "data": {
      "text/plain": [
       "0.0"
      ]
     },
     "execution_count": 136,
     "metadata": {},
     "output_type": "execute_result"
    }
   ],
   "source": [
    "m['C', 'G']"
   ]
  },
  {
   "cell_type": "markdown",
   "metadata": {},
   "source": [
    "Para obter uma matriz simétrica basta fazer:"
   ]
  },
  {
   "cell_type": "code",
   "execution_count": 137,
   "metadata": {},
   "outputs": [
    {
     "name": "stdout",
     "output_type": "stream",
     "text": [
      "    A   C   G   T\n",
      "A 7.0 0.0 0.0 0.5\n",
      "C 0.0 7.0 1.0 0.5\n",
      "G 0.0 1.0 6.0 0.5\n",
      "T 0.5 0.5 0.5 6.0\n",
      "\n"
     ]
    }
   ],
   "source": [
    "m += m.transpose()\n",
    "m /= 2.0\n",
    "print(m)"
   ]
  },
  {
   "cell_type": "code",
   "execution_count": 138,
   "metadata": {},
   "outputs": [
    {
     "data": {
      "text/plain": [
       "1.0"
      ]
     },
     "execution_count": 138,
     "metadata": {},
     "output_type": "execute_result"
    }
   ],
   "source": [
    "m['G', 'C']"
   ]
  },
  {
   "cell_type": "code",
   "execution_count": 139,
   "metadata": {},
   "outputs": [
    {
     "data": {
      "text/plain": [
       "1.0"
      ]
     },
     "execution_count": 139,
     "metadata": {},
     "output_type": "execute_result"
    }
   ],
   "source": [
    "m['C', 'G']"
   ]
  },
  {
   "cell_type": "markdown",
   "metadata": {},
   "source": [
    "O número total de substituições entre G e C no alinhamento é de 1 + 1 = 2\n",
    "\n",
    "O método **map** pode ser aplicado no alinhamento **alinhamento_1** para encontrar o alinhamento do **query** do **alinhamento_2** no **target** do **alinhamento_1**, onde o **target** do **alinhamento_2** e o **query** do **alinhamento_1** são idênticos. Um exemplo típico é quando o **alinhamento_1** é o alinhamento de pares entre um cromossomo e um transcrito, o **alinhamento_2** é o alinhamento de pares entre a transcrição e uma sequência (e.g., uma leitura de sequência de RNA) e queremos encontrar o alinhamento da sequência com o cromossomo:"
   ]
  },
  {
   "cell_type": "code",
   "execution_count": 140,
   "metadata": {},
   "outputs": [
    {
     "data": {
      "text/plain": [
       "1"
      ]
     },
     "execution_count": 140,
     "metadata": {},
     "output_type": "execute_result"
    }
   ],
   "source": [
    "alinhador.mode = 'local'\n",
    "alinhador.open_gap_score = -1\n",
    "alinhador.extend_gap_score = 0\n",
    "cromossomo = 'AAAAAAAACCCCCCCAAAAAAAAAAAGGGGGGAAAAAAAA'\n",
    "transcrito = 'CCCCCCCGGGGGG'\n",
    "alinhamentos_1 = alinhador.align(cromossomo, transcrito)\n",
    "len(alinhamentos_1)"
   ]
  },
  {
   "cell_type": "code",
   "execution_count": 141,
   "metadata": {},
   "outputs": [
    {
     "name": "stdout",
     "output_type": "stream",
     "text": [
      "AAAAAAAACCCCCCCAAAAAAAAAAAGGGGGGAAAAAAAA\n",
      "        |||||||-----------||||||\n",
      "        CCCCCCC-----------GGGGGG\n",
      "\n"
     ]
    }
   ],
   "source": [
    "alinhamento_1 = alinhamentos_1[0]\n",
    "print(alinhamento_1)"
   ]
  },
  {
   "cell_type": "code",
   "execution_count": 142,
   "metadata": {},
   "outputs": [
    {
     "data": {
      "text/plain": [
       "1"
      ]
     },
     "execution_count": 142,
     "metadata": {},
     "output_type": "execute_result"
    }
   ],
   "source": [
    "sequencia = 'CCCCGGGG'\n",
    "alinhamentos_2 = alinhador.align(transcrito, sequencia)\n",
    "len(alinhamentos_2)"
   ]
  },
  {
   "cell_type": "code",
   "execution_count": 143,
   "metadata": {},
   "outputs": [
    {
     "name": "stdout",
     "output_type": "stream",
     "text": [
      "CCCCCCCGGGGGG\n",
      "   ||||||||\n",
      "   CCCCGGGG\n",
      "\n"
     ]
    }
   ],
   "source": [
    "alinhamento_2 = alinhamentos_2[0]\n",
    "print(alinhamento_2)"
   ]
  },
  {
   "cell_type": "code",
   "execution_count": 144,
   "metadata": {},
   "outputs": [
    {
     "name": "stdout",
     "output_type": "stream",
     "text": [
      "AAAAAAAACCCCCCCAAAAAAAAAAAGGGGGGAAAAAAAA\n",
      "           ||||-----------||||\n",
      "           CCCC-----------GGGG\n",
      "\n"
     ]
    }
   ],
   "source": [
    "alinhamento_map = alinhamento_1.map(alinhamento_2)\n",
    "print(alinhamento_map)"
   ]
  },
  {
   "cell_type": "code",
   "execution_count": 145,
   "metadata": {},
   "outputs": [
    {
     "data": {
      "text/plain": [
       "'8\\t0\\t0\\t0\\t0\\t0\\t1\\t11\\t+\\tquery\\t8\\t0\\t8\\ttarget\\t40\\t11\\t30\\t2\\t4,4,\\t0,4,\\t11,26,\\n'"
      ]
     },
     "execution_count": 145,
     "metadata": {},
     "output_type": "execute_result"
    }
   ],
   "source": [
    "format(alinhamento_map, 'psl')"
   ]
  },
  {
   "cell_type": "markdown",
   "metadata": {},
   "source": [
    "Fazer o *map* do alinhamento não depende do conteúdo da sequência. Se deletarmos o conteúdo da sequência, o mesmo alinhamento pode ser encontrar no formato PSL, embora, obviamente, percamos a capacidade de mostrar na tela o alinhamento da sequência:"
   ]
  },
  {
   "cell_type": "code",
   "execution_count": 146,
   "metadata": {},
   "outputs": [
    {
     "data": {
      "text/plain": [
       "'8\\t0\\t0\\t0\\t0\\t0\\t1\\t11\\t+\\tquery\\t8\\t0\\t8\\ttarget\\t40\\t11\\t30\\t2\\t4,4,\\t0,4,\\t11,26,\\n'"
      ]
     },
     "execution_count": 146,
     "metadata": {},
     "output_type": "execute_result"
    }
   ],
   "source": [
    "from Bio.Seq import Seq\n",
    "alinhamento_1.target = Seq(None, len(alinhamento_1.target))\n",
    "alinhamento_1.query = Seq(None, len(alinhamento_1.query))\n",
    "alinhamento_2.target = Seq(None, len(alinhamento_2.target))\n",
    "alinhamento_2.query = Seq(None, len(alinhamento_2.query))\n",
    "alinhamento_map = alinhamento_1.map(alinhamento_2)\n",
    "format(alinhamento_map, 'psl')"
   ]
  },
  {
   "cell_type": "markdown",
   "metadata": {},
   "source": [
    "##### Fatiando e indexando um alinhamento de pares"
   ]
  },
  {
   "cell_type": "markdown",
   "metadata": {},
   "source": [
    "Atualmente, apenas as fatias no formato **alinhamento[:, i:j]** são implementadas, onde **i** e **j** são inteiros ou estão ausentes. Isso retorna um novo objeto **PairwiseAlignment** que inclui apenas as clunas **i** a **j** no alinhamento mostrado. Para ilustrar, o exemplo a seguir mostra um alinhamento com 5 colunas:"
   ]
  },
  {
   "cell_type": "code",
   "execution_count": 147,
   "metadata": {},
   "outputs": [
    {
     "name": "stdout",
     "output_type": "stream",
     "text": [
      "GAACT\n",
      "|-|-|\n",
      "G-A-T\n",
      "\n"
     ]
    }
   ],
   "source": [
    "print(alinhamento)"
   ]
  },
  {
   "cell_type": "markdown",
   "metadata": {},
   "source": [
    "Extraindo as primeiras 4 colunas:"
   ]
  },
  {
   "cell_type": "code",
   "execution_count": 148,
   "metadata": {},
   "outputs": [
    {
     "data": {
      "text/plain": [
       "<Bio.Align.PairwiseAlignment at 0x19c568daf0>"
      ]
     },
     "execution_count": 148,
     "metadata": {},
     "output_type": "execute_result"
    }
   ],
   "source": [
    "alinhamento[:, :4]"
   ]
  },
  {
   "cell_type": "code",
   "execution_count": 149,
   "metadata": {},
   "outputs": [
    {
     "name": "stdout",
     "output_type": "stream",
     "text": [
      "GAACT\n",
      "|-|-\n",
      "G-A-T\n",
      "\n"
     ]
    }
   ],
   "source": [
    "print(alinhamento[:, :4])"
   ]
  },
  {
   "cell_type": "markdown",
   "metadata": {},
   "source": [
    "Aqui, o último nucleotídeo (T) ainda é mostrado, mas não está alinhado com o outro (|). Note que **alinhamento** é um alinhamento global, mas **alinhamento[:, :4]** é um alinhamento local.\n",
    "\n",
    "De modo semelhante, vamos extrair as últimas 3 colunas:"
   ]
  },
  {
   "cell_type": "code",
   "execution_count": 150,
   "metadata": {},
   "outputs": [
    {
     "data": {
      "text/plain": [
       "<Bio.Align.PairwiseAlignment at 0x19c568d910>"
      ]
     },
     "execution_count": 150,
     "metadata": {},
     "output_type": "execute_result"
    }
   ],
   "source": [
    "alinhamento[:, -3:]"
   ]
  },
  {
   "cell_type": "code",
   "execution_count": 151,
   "metadata": {},
   "outputs": [
    {
     "name": "stdout",
     "output_type": "stream",
     "text": [
      "GAACT\n",
      "  |-|\n",
      " GA-T\n",
      "\n"
     ]
    }
   ],
   "source": [
    "print(alinhamento[:, -3:])"
   ]
  },
  {
   "cell_type": "markdown",
   "metadata": {},
   "source": [
    "Aqui também temos um alinhamento local, com os nucleotídeos iniciais GA na sequência **target** e o núcleotídeo G na sequência **query** não alinhada com a outra."
   ]
  },
  {
   "cell_type": "markdown",
   "metadata": {},
   "source": [
    "##### Exportanto alinhamentos"
   ]
  },
  {
   "cell_type": "markdown",
   "metadata": {},
   "source": [
    "Use o método **format** para criar uma representação de string do alinhamento em diversos formatos. Esse método recebe um argumento **fmt** especificando o formato do arquivo e pode receber argumentos de palavra chave adicionais dependendo do tipo de arquivo. Os seguintes valores para **fmt** são suportados:"
   ]
  },
  {
   "cell_type": "markdown",
   "metadata": {},
   "source": [
    "- \"\" (string vazia, padrão): Cria uma representação do alinhamento que o humano possa ler (mesma coisa quando você usa o **print** com o alinhamento):"
   ]
  },
  {
   "cell_type": "code",
   "execution_count": 152,
   "metadata": {},
   "outputs": [
    {
     "data": {
      "text/plain": [
       "'GAACT\\n|-|-|\\nG-A-T\\n'"
      ]
     },
     "execution_count": 152,
     "metadata": {},
     "output_type": "execute_result"
    }
   ],
   "source": [
    "alinhamento.format()"
   ]
  },
  {
   "cell_type": "markdown",
   "metadata": {},
   "source": [
    "- \"sam\": Cria uma linha de representação do alinhamento no formato Sequence Alignment/Map (SAM):"
   ]
  },
  {
   "cell_type": "code",
   "execution_count": 153,
   "metadata": {},
   "outputs": [
    {
     "data": {
      "text/plain": [
       "'query\\t0\\ttarget\\t1\\t255\\t1M1D1M1D1M\\t*\\t0\\t0\\tGAT\\t*\\tAS:i:3\\n'"
      ]
     },
     "execution_count": 153,
     "metadata": {},
     "output_type": "execute_result"
    }
   ],
   "source": [
    "alinhamento.format('sam')"
   ]
  },
  {
   "cell_type": "markdown",
   "metadata": {},
   "source": [
    "- \"bed\": Cria uma linha de representação do alinhamento no formato Browser Extensible Data (BED):"
   ]
  },
  {
   "cell_type": "code",
   "execution_count": 154,
   "metadata": {},
   "outputs": [
    {
     "data": {
      "text/plain": [
       "'target\\t0\\t5\\tquery\\t3.0\\t+\\t0\\t5\\t0\\t3\\t1,1,1,\\t0,2,4,\\n'"
      ]
     },
     "execution_count": 154,
     "metadata": {},
     "output_type": "execute_result"
    }
   ],
   "source": [
    "alinhamento.format('bed')"
   ]
  },
  {
   "cell_type": "markdown",
   "metadata": {},
   "source": [
    "- \"psl\": Cria uma linha de representação do alinhamento no formato Pattern Space Layout (PSL), como gerado pelo BLAT:"
   ]
  },
  {
   "cell_type": "code",
   "execution_count": 155,
   "metadata": {},
   "outputs": [
    {
     "data": {
      "text/plain": [
       "'3\\t0\\t0\\t0\\t0\\t0\\t2\\t2\\t+\\tquery\\t3\\t0\\t3\\ttarget\\t5\\t0\\t5\\t3\\t1,1,1,\\t0,1,2,\\t0,2,4,\\n'"
      ]
     },
     "execution_count": 155,
     "metadata": {},
     "output_type": "execute_result"
    }
   ],
   "source": [
    "alinhamento.format('psl')"
   ]
  },
  {
   "cell_type": "markdown",
   "metadata": {},
   "source": [
    "As quatro primeiras colunas da saída PSL contêm os números de matches e mismatches, o número de matchesde regiões repetidas e o número de matches de nucleotídeos desconhecidos. Regiões repetidas na sequência **target** são indicadas por letras minúsculas ou maiúsculas definidas por valores no argumento **mask**:\n",
    "\n",
    "- **False** (padrão): Não conta correspondências para sequências mascaradas separadamente;\n",
    "\n",
    "- **lower**: Conta e relata as correspondências com caracteres minúsculos como correspondências com regiões repetidas e;\n",
    "\n",
    "- **upper**: Conta e relata as correspondências com caracteres maiúsculos como correspondências com regiões repetidas.\n",
    "\n",
    "O caractere usado para indicar nucleotídeos desconhecidos é definido pelo argumento **wildcard**. Para consistência com o BLAT, o caractere curinga será **N**. Use **wildcard=None** se você não quer contar os matches para nenhum nucleotídeo desconhecido separadamente."
   ]
  },
  {
   "cell_type": "code",
   "execution_count": 156,
   "metadata": {},
   "outputs": [
    {
     "data": {
      "text/plain": [
       "1"
      ]
     },
     "execution_count": 156,
     "metadata": {},
     "output_type": "execute_result"
    }
   ],
   "source": [
    "from Bio import Align\n",
    "alinhador = Align.PairwiseAligner()\n",
    "alinhador.mismatch_score = -1\n",
    "alinhador.internal_gap_score = -5\n",
    "alinhador.wildcard = 'N'\n",
    "target = 'AAAAAAAggggGGNGAAAAA'\n",
    "query = 'GGTGGGGG'\n",
    "alinhamentos = alinhador.align(target.upper(), query)\n",
    "len(alinhamentos)"
   ]
  },
  {
   "cell_type": "code",
   "execution_count": 157,
   "metadata": {},
   "outputs": [
    {
     "name": "stdout",
     "output_type": "stream",
     "text": [
      "AAAAAAAGGGGGGNGAAAAA\n",
      "-------||.|||.|-----\n",
      "-------GGTGGGGG-----\n",
      "\n"
     ]
    }
   ],
   "source": [
    "alinhamento = alinhamentos[0]\n",
    "print(alinhamento)"
   ]
  },
  {
   "cell_type": "code",
   "execution_count": 158,
   "metadata": {},
   "outputs": [
    {
     "data": {
      "text/plain": [
       "5.0"
      ]
     },
     "execution_count": 158,
     "metadata": {},
     "output_type": "execute_result"
    }
   ],
   "source": [
    "alinhamento.score"
   ]
  },
  {
   "cell_type": "code",
   "execution_count": 159,
   "metadata": {},
   "outputs": [
    {
     "data": {
      "text/plain": [
       "'AAAAAAAGGGGGGNGAAAAA'"
      ]
     },
     "execution_count": 159,
     "metadata": {},
     "output_type": "execute_result"
    }
   ],
   "source": [
    "alinhamento.target"
   ]
  },
  {
   "cell_type": "code",
   "execution_count": 160,
   "metadata": {},
   "outputs": [
    {
     "data": {
      "text/plain": [
       "'AAAAAAAggggGGNGAAAAA'"
      ]
     },
     "execution_count": 160,
     "metadata": {},
     "output_type": "execute_result"
    }
   ],
   "source": [
    "alinhamento.target = target\n",
    "alinhamento.target"
   ]
  },
  {
   "cell_type": "code",
   "execution_count": 161,
   "metadata": {},
   "outputs": [
    {
     "name": "stdout",
     "output_type": "stream",
     "text": [
      "AAAAAAAggggGGNGAAAAA\n",
      "-------....||.|-----\n",
      "-------GGTGGGGG-----\n",
      "\n"
     ]
    }
   ],
   "source": [
    "print(alinhamento)"
   ]
  },
  {
   "cell_type": "code",
   "execution_count": 162,
   "metadata": {},
   "outputs": [
    {
     "name": "stdout",
     "output_type": "stream",
     "text": [
      "6\t1\t0\t1\t0\t0\t0\t0\t+\tquery\t8\t0\t8\ttarget\t20\t7\t15\t1\t8,\t0,\t7,\n",
      "\n"
     ]
    }
   ],
   "source": [
    "print(alinhamento.format('psl'))"
   ]
  },
  {
   "cell_type": "code",
   "execution_count": 163,
   "metadata": {},
   "outputs": [
    {
     "name": "stdout",
     "output_type": "stream",
     "text": [
      "3\t1\t3\t1\t0\t0\t0\t0\t+\tquery\t8\t0\t8\ttarget\t20\t7\t15\t1\t8,\t0,\t7,\n",
      "\n"
     ]
    }
   ],
   "source": [
    "print(alinhamento.format('psl', mask='lower'))"
   ]
  },
  {
   "cell_type": "code",
   "execution_count": 164,
   "metadata": {},
   "outputs": [
    {
     "name": "stdout",
     "output_type": "stream",
     "text": [
      "3\t2\t3\t0\t0\t0\t0\t0\t+\tquery\t8\t0\t8\ttarget\t20\t7\t15\t1\t8,\t0,\t7,\n",
      "\n"
     ]
    }
   ],
   "source": [
    "print(alinhamento.format('psl', mask='lower', wildcard=None))"
   ]
  },
  {
   "cell_type": "markdown",
   "metadata": {},
   "source": [
    "De modo adicional, você pode usar o método **format** do Python:"
   ]
  },
  {
   "cell_type": "code",
   "execution_count": 165,
   "metadata": {},
   "outputs": [
    {
     "name": "stdout",
     "output_type": "stream",
     "text": [
      "6\t1\t0\t1\t0\t0\t0\t0\t+\tquery\t8\t0\t8\ttarget\t20\t7\t15\t1\t8,\t0,\t7,\n",
      "\n"
     ]
    }
   ],
   "source": [
    "print(format(alinhamento, 'psl'))"
   ]
  },
  {
   "cell_type": "markdown",
   "metadata": {},
   "source": [
    "Também é permitido que objetos **PairwiseAlignment** sejam usados com *f-string*:"
   ]
  },
  {
   "cell_type": "code",
   "execution_count": 166,
   "metadata": {},
   "outputs": [
    {
     "name": "stdout",
     "output_type": "stream",
     "text": [
      "O alinhamento no formato PSL é: 6\t1\t0\t1\t0\t0\t0\t0\t+\tquery\t8\t0\t8\ttarget\t20\t7\t15\t1\t8,\t0,\t7,\n",
      ".\n"
     ]
    }
   ],
   "source": [
    "print(f'O alinhamento no formato PSL é: {alinhamento:psl}.')"
   ]
  },
  {
   "cell_type": "markdown",
   "metadata": {},
   "source": [
    "Observe que os argumentos opcionais de palavra chave não podem ser usados com a função de formatação ou com strings formatadas."
   ]
  },
  {
   "cell_type": "markdown",
   "metadata": {},
   "source": [
    "#### 6.6.2.8 Alinhando com a fita reversa"
   ]
  },
  {
   "cell_type": "markdown",
   "metadata": {},
   "source": [
    "**pag 111**"
   ]
  }
 ],
 "metadata": {
  "kernelspec": {
   "display_name": "Python 3",
   "language": "python",
   "name": "python3"
  },
  "language_info": {
   "codemirror_mode": {
    "name": "ipython",
    "version": 3
   },
   "file_extension": ".py",
   "mimetype": "text/x-python",
   "name": "python",
   "nbconvert_exporter": "python",
   "pygments_lexer": "ipython3",
   "version": "3.8.5"
  }
 },
 "nbformat": 4,
 "nbformat_minor": 4
}
