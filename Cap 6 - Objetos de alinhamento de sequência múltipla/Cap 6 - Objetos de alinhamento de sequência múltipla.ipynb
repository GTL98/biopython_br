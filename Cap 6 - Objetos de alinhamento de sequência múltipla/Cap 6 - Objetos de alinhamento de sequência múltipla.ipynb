{
 "cells": [
  {
   "cell_type": "markdown",
   "metadata": {},
   "source": [
    "# Capítulo 6 - Objetos de alinhamento de sequência múltipla"
   ]
  },
  {
   "cell_type": "markdown",
   "metadata": {},
   "source": [
    "Nesse capítulo falaremos sobre Alinhamentos de Sequências Múltiplas, o que significa uma coleção de sequências múltiplas que foram alinhadas juntas (normalmente com a inserção de caracteres de gap e adição de lacunas à esquerda ou à direita) de modo que todas as strings de sequência possua o mesmo tamanho. Esse alinhamento pode ser considerado uma matriz de letras, onde cada linha pertence a um objeto **SeqRecord**.\n",
    "\n",
    "Vamos aprender a usar o objeto **MultipleSeqAlignment** que contém este tipo de dado e o módulo `Bio.AlignIO` para leitura e escrita dos vários tipos de formato de arquivo (o `Bio.AlignIO` segue o mesmo design do `Bio.SeqIO`). Observe que tanto o `Bio.SeqIO` como o `Bio.AlignIO` podem ler e escrever arquivos de alinhamento de sequências. A escolha apropriada dependerá do que você quer fazer com os dados.\n",
    "\n",
    "A parte final deste capítulo é sobre como usar a linha de comando para os alinhamentos de sequências múltiplas com as ferramentas ClustalW e MUSCLE."
   ]
  },
  {
   "cell_type": "markdown",
   "metadata": {},
   "source": [
    "## 6.1 Análise ou leitura de alinhamentos de sequência"
   ]
  },
  {
   "cell_type": "markdown",
   "metadata": {},
   "source": [
    "Assim como o `Bio.SeqIO`, o `Bio.AlignIO` possui duas funções de análise, a **read** e **parse** que funcionam da mesma maneira que o módulo do capítulo anterior (https://github.com/GTL98/biopython_br/tree/main/Cap%205%20-%20Sequ%C3%AAncias%20Input_Output).\n",
    "\n",
    "Usando o `Bio.AlignIO.parse()` será retornado um iterador com objetos **MultipleSeqAlignment**. Iteradores são normalmente usados em loops. Alguns exemplos onde você terá diferentes alinhamentos múltiplos incluem reamostragem de alinhamentos vindo de arquivos PHYLIP da ferramenta seeqboot, ou múltiplos alinhamentos de pares de arquivos EMBOSS das ferramentas water ou  needle, ou ferramentas FASTA de Bill Pearson.\n",
    "\n",
    "Entretanto, em diversas situações você trabalhará com arquivos que contêm somente um alinhamento. Nesses casos, você deverá usar a função **read** para retornar somente um objetos **MultipleSeqAlignment**.\n",
    "\n",
    "Ambas as funções (**read** e **parse**) necessitam de dois argumentos mandatórios:\n",
    "\n",
    "- O primeiro argumento é o *identificador* do arquivo que deverá ser lido, geralmente um arquivo já aberto ou o próprio nome do arquivo e;\n",
    "\n",
    "- O segundo argumento é uma string em minúsculo com o formato de arquivo. Como em `Bio.SeqIO`, não devemos adivinhar o formato de arquivo; veja https://biopython.org/wiki/AlignIO para saber quais são os formatos de arquivos suportados.\n",
    "\n",
    "Há também um terceiro argumento chamado de **seq_count** que será visto na **Seção 6.1.3** quando formos lidar com formatos de arquivos ambíguos que contém mais de um ainhamento. Fora essa situação, ele é um argumento opcional."
   ]
  },
  {
   "cell_type": "markdown",
   "metadata": {},
   "source": [
    "### 6.1.1 Alinhamentos simples"
   ]
  },
  {
   "cell_type": "markdown",
   "metadata": {},
   "source": [
    "Como exemplo, considere a anotação a seguir de alinhamento de proteína em arquivos PFAM ou Stockholm. Para baixar o arquivo, entre no site https://pfam.xfam.org/ e pesquise o número de idetificação (PF05356), depois de aberta a página com as características vá na aba *Alignments*. Na tabela *Format an alignment*, selecione *Stockholm* no campo *Format*; no campo *Gaps* selecione a opção *Gaps as \"-\" (dashes)* e deixe marcado a opção *Download*. Com tudo isso pronto, clique no botão *Generate*. Com o arquivo já no diretório de onde será rodado o código, troque a extensão **.txt** para **.sth**.\n",
    "\n",
    "Para os exemplos que faremos aqui usaremos o arquivo usado no livro original do Biopython, mas o caminho mostrado acima serve para baixar qualquer sequência que você queira:"
   ]
  },
  {
   "cell_type": "code",
   "execution_count": 1,
   "metadata": {
    "scrolled": true
   },
   "outputs": [
    {
     "name": "stdout",
     "output_type": "stream",
     "text": [
      "Alignment with 7 rows and 52 columns\n",
      "AEPNAATNYATEAMDSLKTQAIDLISQTWPVVTTVVVAGLVIRL...SKA COATB_BPIKE/30-81\n",
      "AEPNAATNYATEAMDSLKTQAIDLISQTWPVVTTVVVAGLVIKL...SRA Q9T0Q8_BPIKE/1-52\n",
      "DGTSTATSYATEAMNSLKTQATDLIDQTWPVVTSVAVAGLAIRL...SKA COATB_BPI22/32-83\n",
      "AEGDDP---AKAAFNSLQASATEYIGYAWAMVVVIVGATIGIKL...SKA COATB_BPM13/24-72\n",
      "AEGDDP---AKAAFDSLQASATEYIGYAWAMVVVIVGATIGIKL...SKA COATB_BPZJ2/1-49\n",
      "AEGDDP---AKAAFDSLQASATEYIGYAWAMVVVIVGATIGIKL...SKA Q9T0Q9_BPFD/1-49\n",
      "FAADDATSQAKAAFDSLTAQATEMSGYAWALVVLVVGATVGIKL...SRA COATB_BPIF1/22-73\n"
     ]
    }
   ],
   "source": [
    "from Bio import AlignIO\n",
    "alinhamento = AlignIO.read('PF05371_seed.sth', 'stockholm')\n",
    "print(alinhamento)"
   ]
  },
  {
   "cell_type": "markdown",
   "metadata": {},
   "source": [
    "Você notará que na saída acima as sequências estão um pouco truncadas. Para deixar mais bonito, podemos escrever o nosso próprio código para formatar isso como quisermos, iterando sobre as linhas do arquivo como objetos **SeqRecord**:"
   ]
  },
  {
   "cell_type": "code",
   "execution_count": 2,
   "metadata": {},
   "outputs": [
    {
     "name": "stdout",
     "output_type": "stream",
     "text": [
      "Tamanho do alinhamento: 52\n"
     ]
    }
   ],
   "source": [
    "from Bio import AlignIO\n",
    "alinhamento = AlignIO.read('PF05371_seed.sth', 'stockholm')\n",
    "print(f'Tamanho do alinhamento: {alinhamento.get_alignment_length()}')"
   ]
  },
  {
   "cell_type": "code",
   "execution_count": 3,
   "metadata": {
    "scrolled": true
   },
   "outputs": [
    {
     "name": "stdout",
     "output_type": "stream",
     "text": [
      "AEPNAATNYATEAMDSLKTQAIDLISQTWPVVTTVVVAGLVIRLFKKFSSKA - COATB_BPIKE/30-81\n",
      "AEPNAATNYATEAMDSLKTQAIDLISQTWPVVTTVVVAGLVIKLFKKFVSRA - Q9T0Q8_BPIKE/1-52\n",
      "DGTSTATSYATEAMNSLKTQATDLIDQTWPVVTSVAVAGLAIRLFKKFSSKA - COATB_BPI22/32-83\n",
      "AEGDDP---AKAAFNSLQASATEYIGYAWAMVVVIVGATIGIKLFKKFTSKA - COATB_BPM13/24-72\n",
      "AEGDDP---AKAAFDSLQASATEYIGYAWAMVVVIVGATIGIKLFKKFASKA - COATB_BPZJ2/1-49\n",
      "AEGDDP---AKAAFDSLQASATEYIGYAWAMVVVIVGATIGIKLFKKFTSKA - Q9T0Q9_BPFD/1-49\n",
      "FAADDATSQAKAAFDSLTAQATEMSGYAWALVVLVVGATVGIKLFKKFVSRA - COATB_BPIF1/22-73\n"
     ]
    }
   ],
   "source": [
    "for registro in alinhamento:\n",
    "    print(f'{registro.seq} - {registro.id}')"
   ]
  },
  {
   "cell_type": "markdown",
   "metadata": {},
   "source": [
    "Você pode chamar a função **format** do Python no alinhamento para mostrar um formato de arquivo particular (veja mais na **Seção 6.2.2**).\n",
    "\n",
    "Você notou nos dados brutos mostrados acima que várias sequências incluem referências cruzadas do banco de dados para o PDB e a estrutura secundária conhecida associada? Tente isso:"
   ]
  },
  {
   "cell_type": "code",
   "execution_count": 4,
   "metadata": {},
   "outputs": [
    {
     "name": "stdout",
     "output_type": "stream",
     "text": [
      "COATB_BPIKE/30-81 ['PDB; 1ifl ; 1-52;']\n",
      "COATB_BPM13/24-72 ['PDB; 2cpb ; 1-49;', 'PDB; 2cps ; 1-49;']\n",
      "Q9T0Q9_BPFD/1-49 ['PDB; 1nh4 A; 1-49;']\n",
      "COATB_BPIF1/22-73 ['PDB; 1ifk ; 1-50;']\n"
     ]
    }
   ],
   "source": [
    "for registro in alinhamento:\n",
    "    if registro.dbxrefs:\n",
    "        print(f'{registro.id} {registro.dbxrefs}')"
   ]
  },
  {
   "cell_type": "markdown",
   "metadata": {},
   "source": [
    "Se você quiser olhar as anotações da sequência:"
   ]
  },
  {
   "cell_type": "code",
   "execution_count": 5,
   "metadata": {
    "scrolled": true
   },
   "outputs": [
    {
     "name": "stdout",
     "output_type": "stream",
     "text": [
      "ID: COATB_BPIKE/30-81\n",
      "Name: COATB_BPIKE\n",
      "Description: COATB_BPIKE/30-81\n",
      "Database cross-references: PDB; 1ifl ; 1-52;\n",
      "Number of features: 0\n",
      "/accession=P03620.1\n",
      "/start=30\n",
      "/end=81\n",
      "Per letter annotation for: secondary_structure\n",
      "Seq('AEPNAATNYATEAMDSLKTQAIDLISQTWPVVTTVVVAGLVIRLFKKFSSKA')\n",
      "\n",
      "\n",
      "ID: Q9T0Q8_BPIKE/1-52\n",
      "Name: Q9T0Q8_BPIKE\n",
      "Description: Q9T0Q8_BPIKE/1-52\n",
      "Number of features: 0\n",
      "/accession=Q9T0Q8.1\n",
      "/start=1\n",
      "/end=52\n",
      "Seq('AEPNAATNYATEAMDSLKTQAIDLISQTWPVVTTVVVAGLVIKLFKKFVSRA')\n",
      "\n",
      "\n",
      "ID: COATB_BPI22/32-83\n",
      "Name: COATB_BPI22\n",
      "Description: COATB_BPI22/32-83\n",
      "Number of features: 0\n",
      "/accession=P15416.1\n",
      "/start=32\n",
      "/end=83\n",
      "Seq('DGTSTATSYATEAMNSLKTQATDLIDQTWPVVTSVAVAGLAIRLFKKFSSKA')\n",
      "\n",
      "\n",
      "ID: COATB_BPM13/24-72\n",
      "Name: COATB_BPM13\n",
      "Description: COATB_BPM13/24-72\n",
      "Database cross-references: PDB; 2cpb ; 1-49;, PDB; 2cps ; 1-49;\n",
      "Number of features: 0\n",
      "/accession=P69541.1\n",
      "/start=24\n",
      "/end=72\n",
      "Per letter annotation for: secondary_structure\n",
      "Seq('AEGDDP---AKAAFNSLQASATEYIGYAWAMVVVIVGATIGIKLFKKFTSKA')\n",
      "\n",
      "\n",
      "ID: COATB_BPZJ2/1-49\n",
      "Name: COATB_BPZJ2\n",
      "Description: COATB_BPZJ2/1-49\n",
      "Number of features: 0\n",
      "/accession=P03618.1\n",
      "/start=1\n",
      "/end=49\n",
      "Seq('AEGDDP---AKAAFDSLQASATEYIGYAWAMVVVIVGATIGIKLFKKFASKA')\n",
      "\n",
      "\n",
      "ID: Q9T0Q9_BPFD/1-49\n",
      "Name: Q9T0Q9_BPFD\n",
      "Description: Q9T0Q9_BPFD/1-49\n",
      "Database cross-references: PDB; 1nh4 A; 1-49;\n",
      "Number of features: 0\n",
      "/accession=Q9T0Q9.1\n",
      "/start=1\n",
      "/end=49\n",
      "Per letter annotation for: secondary_structure\n",
      "Seq('AEGDDP---AKAAFDSLQASATEYIGYAWAMVVVIVGATIGIKLFKKFTSKA')\n",
      "\n",
      "\n",
      "ID: COATB_BPIF1/22-73\n",
      "Name: COATB_BPIF1\n",
      "Description: COATB_BPIF1/22-73\n",
      "Database cross-references: PDB; 1ifk ; 1-50;\n",
      "Number of features: 0\n",
      "/accession=P03619.2\n",
      "/start=22\n",
      "/end=73\n",
      "Per letter annotation for: secondary_structure\n",
      "Seq('FAADDATSQAKAAFDSLTAQATEMSGYAWALVVLVVGATVGIKLFKKFVSRA')\n",
      "\n",
      "\n"
     ]
    }
   ],
   "source": [
    "for registro in alinhamento:\n",
    "    print(registro)\n",
    "    print('\\n')"
   ]
  },
  {
   "cell_type": "markdown",
   "metadata": {},
   "source": [
    "O site do PFAM provê de uma interface gráfica bacana, onde permite que você baixe as sequências em alguns tipos de arquivo; basta fazer o caminho descrito no começo da seção e no campo *Format* selecionar o tipo de arquivo desejado. Nesse exemplo usaremos um arquivo FASTA:"
   ]
  },
  {
   "cell_type": "code",
   "execution_count": 6,
   "metadata": {},
   "outputs": [
    {
     "name": "stdout",
     "output_type": "stream",
     "text": [
      "Alignment with 7 rows and 52 columns\n",
      "AEPNAATNYATEAMDSLKTQAIDLISQTWPVVTTVVVAGLVIRL...SKA COATB_BPIKE/30-81\n",
      "AEPNAATNYATEAMDSLKTQAIDLISQTWPVVTTVVVAGLVIKL...SRA Q9T0Q8_BPIKE/1-52\n",
      "DGTSTATSYATEAMNSLKTQATDLIDQTWPVVTSVAVAGLAIRL...SKA COATB_BPI22/32-83\n",
      "AEGDDP---AKAAFNSLQASATEYIGYAWAMVVVIVGATIGIKL...SKA COATB_BPM13/24-72\n",
      "AEGDDP---AKAAFDSLQASATEYIGYAWAMVVVIVGATIGIKL...SKA COATB_BPZJ2/1-49\n",
      "AEGDDP---AKAAFDSLQASATEYIGYAWAMVVVIVGATIGIKL...SKA Q9T0Q9_BPFD/1-49\n",
      "FAADDATSQAKAAFDSLTAQATEMSGYAWALVVLVVGATVGIKL...SRA COATB_BPIF1/22-73\n"
     ]
    }
   ],
   "source": [
    "from Bio import AlignIO\n",
    "alinhamento = AlignIO.read('PF05371_seed.faa', 'fasta')\n",
    "print(alinhamento)"
   ]
  },
  {
   "cell_type": "markdown",
   "metadata": {},
   "source": [
    "A única coisa que mudou nesse arquivo foi o nome e a extensão. Você deve obter a mesma saída do que quando usado a extensão Stockholm. Contudo, como você deve esperar, se você checar cada **SeqRecord** não encontrará nenhuma anotação ou referências cruzadas do banco de dados, isso porque essas informações não são incluídas no arquivo FASTA.\n",
    "\n",
    "Observe que, ao invés de você ter usado o site PFAM, você poderia ter usado o `Bio.AlignIO` para converter o arquivo de Stockholme para FASTA.\n",
    "\n",
    "Com qualquer tipo de arquivo suportado, você pode carregar qualquer alinhamanto do mesmo modo apenas trocando o argumento da extensão. Por exemplo, use 'phylip' para arquivos PHYLIP, 'nexus' para arquivos NEXUS o 'emboss' para alinhamento feitos com a ferramenta EMBOSS. Para mais informações, veja a wiki (https://biopython.org/wiki/AlignIO) e a documentação (https://biopython.org/docs/1.79/api/Bio.AlignIO.html):"
   ]
  },
  {
   "cell_type": "code",
   "execution_count": 7,
   "metadata": {
    "scrolled": true
   },
   "outputs": [
    {
     "name": "stdout",
     "output_type": "stream",
     "text": [
      "Help on package Bio.AlignIO in Bio:\n",
      "\n",
      "NAME\n",
      "    Bio.AlignIO - Multiple sequence alignment input/output as alignment objects.\n",
      "\n",
      "DESCRIPTION\n",
      "    The Bio.AlignIO interface is deliberately very similar to Bio.SeqIO, and in\n",
      "    fact the two are connected internally.  Both modules use the same set of file\n",
      "    format names (lower case strings).  From the user's perspective, you can read\n",
      "    in a PHYLIP file containing one or more alignments using Bio.AlignIO, or you\n",
      "    can read in the sequences within these alignments using Bio.SeqIO.\n",
      "    \n",
      "    Bio.AlignIO is also documented at http://biopython.org/wiki/AlignIO and by\n",
      "    a whole chapter in our tutorial:\n",
      "    \n",
      "    * `HTML Tutorial`_\n",
      "    * `PDF Tutorial`_\n",
      "    \n",
      "    .. _`HTML Tutorial`: http://biopython.org/DIST/docs/tutorial/Tutorial.html\n",
      "    .. _`PDF Tutorial`: http://biopython.org/DIST/docs/tutorial/Tutorial.pdf\n",
      "    \n",
      "    Input\n",
      "    -----\n",
      "    For the typical special case when your file or handle contains one and only\n",
      "    one alignment, use the function Bio.AlignIO.read().  This takes an input file\n",
      "    handle (or in recent versions of Biopython a filename as a string), format\n",
      "    string and optional number of sequences per alignment.  It will return a single\n",
      "    MultipleSeqAlignment object (or raise an exception if there isn't just one\n",
      "    alignment):\n",
      "    \n",
      "    >>> from Bio import AlignIO\n",
      "    >>> align = AlignIO.read(\"Phylip/interlaced.phy\", \"phylip\")\n",
      "    >>> print(align)\n",
      "    Alignment with 3 rows and 384 columns\n",
      "    -----MKVILLFVLAVFTVFVSS---------------RGIPPE...I-- CYS1_DICDI\n",
      "    MAHARVLLLALAVLATAAVAVASSSSFADSNPIRPVTDRAASTL...VAA ALEU_HORVU\n",
      "    ------MWATLPLLCAGAWLLGV--------PVCGAAELSVNSL...PLV CATH_HUMAN\n",
      "    \n",
      "    For the general case, when the handle could contain any number of alignments,\n",
      "    use the function Bio.AlignIO.parse(...) which takes the same arguments, but\n",
      "    returns an iterator giving MultipleSeqAlignment objects (typically used in a\n",
      "    for loop). If you want random access to the alignments by number, turn this\n",
      "    into a list:\n",
      "    \n",
      "    >>> from Bio import AlignIO\n",
      "    >>> alignments = list(AlignIO.parse(\"Emboss/needle.txt\", \"emboss\"))\n",
      "    >>> print(alignments[2])\n",
      "    Alignment with 2 rows and 120 columns\n",
      "    -KILIVDDQYGIRILLNEVFNKEGYQTFQAANGLQALDIVTKER...--- ref_rec\n",
      "    LHIVVVDDDPGTCVYIESVFAELGHTCKSFVRPEAAEEYILTHP...HKE gi|94967506|receiver\n",
      "    \n",
      "    Most alignment file formats can be concatenated so as to hold as many\n",
      "    different multiple sequence alignments as possible.  One common example\n",
      "    is the output of the tool seqboot in the PHLYIP suite.  Sometimes there\n",
      "    can be a file header and footer, as seen in the EMBOSS alignment output.\n",
      "    \n",
      "    Output\n",
      "    ------\n",
      "    Use the function Bio.AlignIO.write(...), which takes a complete set of\n",
      "    Alignment objects (either as a list, or an iterator), an output file handle\n",
      "    (or filename in recent versions of Biopython) and of course the file format::\n",
      "    \n",
      "        from Bio import AlignIO\n",
      "        alignments = ...\n",
      "        count = SeqIO.write(alignments, \"example.faa\", \"fasta\")\n",
      "    \n",
      "    If using a handle make sure to close it to flush the data to the disk::\n",
      "    \n",
      "        from Bio import AlignIO\n",
      "        alignments = ...\n",
      "        with open(\"example.faa\", \"w\") as handle:\n",
      "            count = SeqIO.write(alignments, handle, \"fasta\")\n",
      "    \n",
      "    In general, you are expected to call this function once (with all your\n",
      "    alignments) and then close the file handle.  However, for file formats\n",
      "    like PHYLIP where multiple alignments are stored sequentially (with no file\n",
      "    header and footer), then multiple calls to the write function should work as\n",
      "    expected when using handles.\n",
      "    \n",
      "    If you are using a filename, the repeated calls to the write functions will\n",
      "    overwrite the existing file each time.\n",
      "    \n",
      "    Conversion\n",
      "    ----------\n",
      "    The Bio.AlignIO.convert(...) function allows an easy interface for simple\n",
      "    alignment file format conversions. Additionally, it may use file format\n",
      "    specific optimisations so this should be the fastest way too.\n",
      "    \n",
      "    In general however, you can combine the Bio.AlignIO.parse(...) function with\n",
      "    the Bio.AlignIO.write(...) function for sequence file conversion. Using\n",
      "    generator expressions provides a memory efficient way to perform filtering or\n",
      "    other extra operations as part of the process.\n",
      "    \n",
      "    File Formats\n",
      "    ------------\n",
      "    When specifying the file format, use lowercase strings.  The same format\n",
      "    names are also used in Bio.SeqIO and include the following:\n",
      "    \n",
      "      - clustal -   Output from Clustal W or X, see also the module Bio.Clustalw\n",
      "        which can be used to run the command line tool from Biopython.\n",
      "      - emboss    - EMBOSS tools' \"pairs\" and \"simple\" alignment formats.\n",
      "      - fasta     - The generic sequence file format where each record starts with\n",
      "        an identifier line starting with a \">\" character, followed by\n",
      "        lines of sequence.\n",
      "      - fasta-m10 - For the pairwise alignments output by Bill Pearson's FASTA\n",
      "        tools when used with the -m 10 command line option for machine\n",
      "        readable output.\n",
      "      - ig        - The IntelliGenetics file format, apparently the same as the\n",
      "        MASE alignment format.\n",
      "      - msf       - The GCG MSF alignment format, originally from PileUp tool.\n",
      "      - nexus     - Output from NEXUS, see also the module Bio.Nexus which can also\n",
      "        read any phylogenetic trees in these files.\n",
      "      - phylip    - Interlaced PHYLIP, as used by the PHYLIP tools.\n",
      "      - phylip-sequential - Sequential PHYLIP.\n",
      "      - phylip-relaxed - PHYLIP like format allowing longer names.\n",
      "      - stockholm - A richly annotated alignment file format used by PFAM.\n",
      "      - mauve - Output from progressiveMauve/Mauve\n",
      "    \n",
      "    Note that while Bio.AlignIO can read all the above file formats, it cannot\n",
      "    write to all of them.\n",
      "    \n",
      "    You can also use any file format supported by Bio.SeqIO, such as \"fasta\" or\n",
      "    \"ig\" (which are listed above), PROVIDED the sequences in your file are all the\n",
      "    same length.\n",
      "\n",
      "PACKAGE CONTENTS\n",
      "    ClustalIO\n",
      "    EmbossIO\n",
      "    FastaIO\n",
      "    Interfaces\n",
      "    MafIO\n",
      "    MauveIO\n",
      "    MsfIO\n",
      "    NexusIO\n",
      "    PhylipIO\n",
      "    StockholmIO\n",
      "\n",
      "FUNCTIONS\n",
      "    convert(in_file, in_format, out_file, out_format, molecule_type=None)\n",
      "        Convert between two alignment files, returns number of alignments.\n",
      "        \n",
      "        Arguments:\n",
      "         - in_file - an input handle or filename\n",
      "         - in_format - input file format, lower case string\n",
      "         - output - an output handle or filename\n",
      "         - out_file - output file format, lower case string\n",
      "         - molecule_type - optional molecule type to apply, string containing\n",
      "           \"DNA\", \"RNA\" or \"protein\".\n",
      "        \n",
      "        **NOTE** - If you provide an output filename, it will be opened which will\n",
      "        overwrite any existing file without warning. This may happen if even the\n",
      "        conversion is aborted (e.g. an invalid out_format name is given).\n",
      "        \n",
      "        Some output formats require the molecule type be specified where this\n",
      "        cannot be determined by the parser. For example, converting to FASTA,\n",
      "        Clustal, or PHYLIP format to NEXUS:\n",
      "        \n",
      "        >>> from io import StringIO\n",
      "        >>> from Bio import AlignIO\n",
      "        >>> handle = StringIO()\n",
      "        >>> AlignIO.convert(\"Phylip/horses.phy\", \"phylip\", handle, \"nexus\", \"DNA\")\n",
      "        1\n",
      "        >>> print(handle.getvalue())\n",
      "        #NEXUS\n",
      "        begin data;\n",
      "        dimensions ntax=10 nchar=40;\n",
      "        format datatype=dna missing=? gap=-;\n",
      "        matrix\n",
      "        Mesohippus   AAAAAAAAAAAAAAAAAAAAAAAAAAAAAAAAAAAAAAAA\n",
      "        Hypohippus   AAACCCCCCCAAAAAAAAACAAAAAAAAAAAAAAAAAAAA\n",
      "        Archaeohip   CAAAAAAAAAAAAAAAACACAAAAAAAAAAAAAAAAAAAA\n",
      "        Parahippus   CAAACAACAACAAAAAAAACAAAAAAAAAAAAAAAAAAAA\n",
      "        Merychippu   CCAACCACCACCCCACACCCAAAAAAAAAAAAAAAAAAAA\n",
      "        'M. secundu' CCAACCACCACCCACACCCCAAAAAAAAAAAAAAAAAAAA\n",
      "        Nannipus     CCAACCACAACCCCACACCCAAAAAAAAAAAAAAAAAAAA\n",
      "        Neohippari   CCAACCCCCCCCCCACACCCAAAAAAAAAAAAAAAAAAAA\n",
      "        Calippus     CCAACCACAACCCACACCCCAAAAAAAAAAAAAAAAAAAA\n",
      "        Pliohippus   CCCACCCCCCCCCACACCCCAAAAAAAAAAAAAAAAAAAA\n",
      "        ;\n",
      "        end;\n",
      "        <BLANKLINE>\n",
      "    \n",
      "    parse(handle, format, seq_count=None)\n",
      "        Iterate over an alignment file as MultipleSeqAlignment objects.\n",
      "        \n",
      "        Arguments:\n",
      "         - handle    - handle to the file, or the filename as a string\n",
      "           (note older versions of Biopython only took a handle).\n",
      "         - format    - string describing the file format.\n",
      "         - seq_count - Optional integer, number of sequences expected in each\n",
      "           alignment.  Recommended for fasta format files.\n",
      "        \n",
      "        If you have the file name in a string 'filename', use:\n",
      "        \n",
      "        >>> from Bio import AlignIO\n",
      "        >>> filename = \"Emboss/needle.txt\"\n",
      "        >>> format = \"emboss\"\n",
      "        >>> for alignment in AlignIO.parse(filename, format):\n",
      "        ...     print(\"Alignment of length %i\" % alignment.get_alignment_length())\n",
      "        Alignment of length 124\n",
      "        Alignment of length 119\n",
      "        Alignment of length 120\n",
      "        Alignment of length 118\n",
      "        Alignment of length 125\n",
      "        \n",
      "        If you have a string 'data' containing the file contents, use::\n",
      "        \n",
      "          from Bio import AlignIO\n",
      "          from io import StringIO\n",
      "          my_iterator = AlignIO.parse(StringIO(data), format)\n",
      "        \n",
      "        Use the Bio.AlignIO.read() function when you expect a single record only.\n",
      "    \n",
      "    read(handle, format, seq_count=None)\n",
      "        Turn an alignment file into a single MultipleSeqAlignment object.\n",
      "        \n",
      "        Arguments:\n",
      "         - handle    - handle to the file, or the filename as a string\n",
      "           (note older versions of Biopython only took a handle).\n",
      "         - format    - string describing the file format.\n",
      "         - seq_count - Optional integer, number of sequences expected in each\n",
      "           alignment.  Recommended for fasta format files.\n",
      "        \n",
      "        If the handle contains no alignments, or more than one alignment,\n",
      "        an exception is raised.  For example, using a PFAM/Stockholm file\n",
      "        containing one alignment:\n",
      "        \n",
      "        >>> from Bio import AlignIO\n",
      "        >>> filename = \"Clustalw/protein.aln\"\n",
      "        >>> format = \"clustal\"\n",
      "        >>> alignment = AlignIO.read(filename, format)\n",
      "        >>> print(\"Alignment of length %i\" % alignment.get_alignment_length())\n",
      "        Alignment of length 411\n",
      "        \n",
      "        If however you want the first alignment from a file containing\n",
      "        multiple alignments this function would raise an exception.\n",
      "        \n",
      "        >>> from Bio import AlignIO\n",
      "        >>> filename = \"Emboss/needle.txt\"\n",
      "        >>> format = \"emboss\"\n",
      "        >>> alignment = AlignIO.read(filename, format)\n",
      "        Traceback (most recent call last):\n",
      "            ...\n",
      "        ValueError: More than one record found in handle\n",
      "        \n",
      "        Instead use:\n",
      "        \n",
      "        >>> from Bio import AlignIO\n",
      "        >>> filename = \"Emboss/needle.txt\"\n",
      "        >>> format = \"emboss\"\n",
      "        >>> alignment = next(AlignIO.parse(filename, format))\n",
      "        >>> print(\"First alignment has length %i\" % alignment.get_alignment_length())\n",
      "        First alignment has length 124\n",
      "        \n",
      "        You must use the Bio.AlignIO.parse() function if you want to read multiple\n",
      "        records from the handle.\n",
      "    \n",
      "    write(alignments, handle, format)\n",
      "        Write complete set of alignments to a file.\n",
      "        \n",
      "        Arguments:\n",
      "         - alignments - A list (or iterator) of MultipleSeqAlignment objects,\n",
      "           or a single alignment object.\n",
      "         - handle    - File handle object to write to, or filename as string\n",
      "           (note older versions of Biopython only took a handle).\n",
      "         - format    - lower case string describing the file format to write.\n",
      "        \n",
      "        You should close the handle after calling this function.\n",
      "        \n",
      "        Returns the number of alignments written (as an integer).\n",
      "\n",
      "FILE\n",
      "    d:\\jupyter\\lib\\site-packages\\bio\\alignio\\__init__.py\n",
      "\n",
      "\n"
     ]
    }
   ],
   "source": [
    "from Bio import AlignIO\n",
    "help(AlignIO)"
   ]
  },
  {
   "cell_type": "markdown",
   "metadata": {},
   "source": [
    "### 6.1.2 Alinhamentos Múltiplos"
   ]
  },
  {
   "attachments": {
    "image-2.png": {
     "image/png": "[encoded data removed]"
    },
    "image-3.png": {
     "image/png": "[encoded data removed]"
    }
   },
   "cell_type": "markdown",
   "metadata": {},
   "source": [
    "A seção anterior focou em ler arquivos com um único alinhamento. De modo geral, no entanto, os arquivos podem conter mais de um alinhamento e para lê-los é necessária função **parse**. Suponha que você tenha o seguinte pequeno alinhamento em formato PHYLIP:\n",
    "\n",
    "![image-2.png](attachment:image-2.png)\n",
    "\n",
    "Se você quiser iniciar uma árvore filogenética usando as ferramentas do PHYLIP, um dos primeiros passos será criar um conjunto de muitos alinhamentos reamostrados usando a ferramenta bootseq. Isso nos retornará algo parecido com isso:\n",
    "\n",
    "![image-3.png](attachment:image-3.png)\n",
    "\n",
    "Vale lembrar que como é um exemplo, são poucos os alinhamentos mostrados, em casos da vida real são inúmeros dados de alinhamento.\n",
    "\n",
    "Se você quiser ler o arquivo usando o Biopython basta fazer isso:"
   ]
  },
  {
   "cell_type": "code",
   "execution_count": 8,
   "metadata": {},
   "outputs": [
    {
     "name": "stdout",
     "output_type": "stream",
     "text": [
      "Alignment with 5 rows and 6 columns\n",
      "AAACCA Alpha\n",
      "AAACCC Beta\n",
      "ACCCCA Gamma\n",
      "CCCAAC Delta\n",
      "CCCAAA Epsilon\n",
      "\n",
      "\n",
      "Alignment with 5 rows and 6 columns\n",
      "AAACAA Alpha\n",
      "AAACCC Beta\n",
      "ACCCAA Gamma\n",
      "CCCACC Delta\n",
      "CCCAAA Epsilon\n",
      "\n",
      "\n",
      "Alignment with 5 rows and 6 columns\n",
      "AAAAAC Alpha\n",
      "AAACCC Beta\n",
      "AACAAC Gamma\n",
      "CCCCCA Delta\n",
      "CCCAAC Epsilon\n",
      "\n",
      "\n",
      "Alignment with 5 rows and 6 columns\n",
      "AAAACC Alpha\n",
      "ACCCCC Beta\n",
      "AAAACC Gamma\n",
      "CCCCAA Delta\n",
      "CAAACC Epsilon\n",
      "\n",
      "\n"
     ]
    }
   ],
   "source": [
    "from Bio import AlignIO\n",
    "alinhamentos = AlignIO.parse('resampled.phy', 'phylip')\n",
    "for alinhamento in alinhamentos:\n",
    "    print(alinhamento)\n",
    "    print('\\n')"
   ]
  },
  {
   "cell_type": "markdown",
   "metadata": {},
   "source": [
    "Assim como o `Bio.SeqIO.parse()`, usar o `Bio.AlignIO.parse()` retornará um iterador. Se você quiser manter todos os alinhamentos na memória de uma vez, que pode ser acessados em qualquer ordem, basta transformar o iterador em uma lista:"
   ]
  },
  {
   "cell_type": "code",
   "execution_count": 9,
   "metadata": {},
   "outputs": [],
   "source": [
    "from Bio import AlignIO\n",
    "alinhamentos = list(AlignIO.parse('resampled.phy', 'phylip'))"
   ]
  },
  {
   "cell_type": "code",
   "execution_count": 10,
   "metadata": {},
   "outputs": [
    {
     "data": {
      "text/plain": [
       "<<class 'Bio.Align.MultipleSeqAlignment'> instance (5 records of length 6) at 6b78e15af0>"
      ]
     },
     "execution_count": 10,
     "metadata": {},
     "output_type": "execute_result"
    }
   ],
   "source": [
    "primeiro_alinhamento = alinhamentos[0]\n",
    "primeiro_alinhamento"
   ]
  },
  {
   "cell_type": "code",
   "execution_count": 11,
   "metadata": {},
   "outputs": [
    {
     "data": {
      "text/plain": [
       "<<class 'Bio.Align.MultipleSeqAlignment'> instance (5 records of length 6) at 6b78ce44c0>"
      ]
     },
     "execution_count": 11,
     "metadata": {},
     "output_type": "execute_result"
    }
   ],
   "source": [
    "ultimo_alinhamento = alinhamentos[-1]\n",
    "ultimo_alinhamento"
   ]
  },
  {
   "cell_type": "markdown",
   "metadata": {},
   "source": [
    "### 6.1.3 Alinhamentos ambíguos"
   ]
  },
  {
   "attachments": {
    "image-2.png": {
     "image/png": "[encoded data removed]"
    },
    "image-3.png": {
     "image/png": "[encoded data removed]"
    },
    "image.png": {
     "image/png": "[encoded data removed]"
    }
   },
   "cell_type": "markdown",
   "metadata": {},
   "source": [
    "Muitos formatos de arquivo de alinhamento podem armazenar explicitamente mais de um alinhamento e a divisão entre eles é bem clara. Todavia, quando um formato de arquivo de sequência geral é usado, essa estrutura de bloco não existe. A situação mais comum de acontecer é quando os alinhamentos são salvos em arquivos FASTA. Cosidere a seguir como exemplo:\n",
    "\n",
    "![image.png](attachment:image.png)\n",
    "\n",
    "Este poderia ser um simples alinhamento contendo seis sequências (com os identificadores repetidos). Ou, julgando pelos identificadores, estes provavelmente são dois alinhamentos diferentes, cada um com três sequências, todos com o mesmo comprimento. Mas e com o exemplo abaixo?\n",
    "\n",
    "![image-2.png](attachment:image-2.png)\n",
    "\n",
    "Novamente, este poderia ser um simples alinhamento com seis sequências. Todavia, desta vez, com base nos identificadores, podemos supor que se trata de três alinhamentos de pares que, por acaso, possuem o mesmo comprimento. O exemplo final é similar:\n",
    "\n",
    "![image-3.png](attachment:image-3.png)\n",
    "\n",
    "Neste exemplo, não podemos tratar como um único alinhamento como seis registros por conta dos comprimentos serem distintos. Por outro lado, as sequências podem serem interpretadas como três alinhamentos de pares.\n",
    "\n",
    "Como podemos notar, armazenar mais de um alinhamento em arquivo FASTA não é o ideal. Entretanto, se você é forçado a trabalhar com eles como arquivos de entrada, o `Bio.AlignIO` pode lidar com a situação mais comum em que todos os alinhamentos possuem o mesmo número de registros. Um exemplo disso é uma coleção de alinhamentos de pares, que pode ser gerado pelas ferramentas water e needle do EMBOSS, embora nessa situação, o `Bio.AlignIO` consegue entender a saída nativa usando a string 'emboss' no segundo argumento.\n",
    "\n",
    "Para interpretar os exemplos do arquivo FASTA como vários alinhamentos separados, podemos usar o `Bio.AlignIO.parse()` com o argumento **seq_count** que especifica quantas sequências são esperadas por cada alinhamento (3, 2 e 2; respectivamente). Como exemplo de código vamos usar o terceiro exemplo (o arquivo está no mesmo repositório que este documento):"
   ]
  },
  {
   "cell_type": "code",
   "execution_count": 12,
   "metadata": {},
   "outputs": [
    {
     "name": "stdout",
     "output_type": "stream",
     "text": [
      "ACTACGACTAGCTCAG--G - Alpha\n",
      "ACTACCGCTAGCTCAGAAG - XXX\n",
      "\n",
      "\n",
      "ACTACGACTAGCTCAGG - Alpha\n",
      "ACTACGGCAAGCACAGG - YYY\n",
      "\n",
      "\n",
      "--ACTACGAC--TAGCTCAGG - Alpha\n",
      "GGACTACGACAATAGCTCAGG - ZZZ\n",
      "\n",
      "\n"
     ]
    }
   ],
   "source": [
    "from Bio import AlignIO\n",
    "for alinhamento in AlignIO.parse('handle.fasta', 'fasta', seq_count=2):\n",
    "    for registro in alinhamento:\n",
    "        print(f'{registro.seq} - {registro.id}')\n",
    "    print('\\n')"
   ]
  },
  {
   "cell_type": "markdown",
   "metadata": {},
   "source": [
    "Usar as funções **read** ou **parse** sem o argumento **seq_count** retornaria um único alinhamento contendo todos os seis registros para os primeiros exemplos. Para o terceiro exemplo, um exceção seria levantada porque os comprimentos das sequências diferem, evitando que eles sejam transformados um único alinhamento.\n",
    "\n",
    "Se o formato de arquivo tiver uma estrutura de blocos permitido pelo `Bio.AlignIO` para determinar o número de sequências em cada alinhamento, o argumento **seq_count** não é necessário. Se fornecido mas não concondar com o conteúdo do arquivo, será retornado um erro.\n",
    "\n",
    "Observe que o argumento **seq_count** é opcional e assume cada alinhamento no arquivo tem o mesmo número de sequências. Hipoteticamente você pode cair em situações estranhas, por exemplo, um arquivo FASTA contendo vários alinhamentos com cada um tendo diferentes quantidades de sequências. Supondo que você não possa obter os dados em um formato de arquivo mais adequado, não existe uma maneira direta de lidar com isso usando o `Bio.AlignIO`. Nesse caso, você pode considerar a leitura das sequências do arquivo em questão usando o `Bio.SeqIO` e agrupá-las para criar os alinhamentos conforme apropriado."
   ]
  },
  {
   "cell_type": "markdown",
   "metadata": {},
   "source": [
    "## 6.2 Escrevendo alinhamentos"
   ]
  },
  {
   "cell_type": "markdown",
   "metadata": {},
   "source": [
    "**pag 77**"
   ]
  }
 ],
 "metadata": {
  "kernelspec": {
   "display_name": "Python 3",
   "language": "python",
   "name": "python3"
  },
  "language_info": {
   "codemirror_mode": {
    "name": "ipython",
    "version": 3
   },
   "file_extension": ".py",
   "mimetype": "text/x-python",
   "name": "python",
   "nbconvert_exporter": "python",
   "pygments_lexer": "ipython3",
   "version": "3.8.5"
  }
 },
 "nbformat": 4,
 "nbformat_minor": 4
}
